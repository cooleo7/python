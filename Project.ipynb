{
 "cells": [
  {
   "cell_type": "markdown",
   "metadata": {
    "deletable": false,
    "editable": false,
    "nbgrader": {
     "cell_type": "markdown",
     "checksum": "eef1c310f114deeb93ebfa2befdf5319",
     "grade": false,
     "grade_id": "cell-a22c1043439f8e4c",
     "locked": true,
     "schema_version": 3,
     "solution": false,
     "task": false
    }
   },
   "source":{ [
    "#  Programming in Python\n",
    "\n",
    "\n"
   ]
  },
  {
   "cell_type": "markdown",
   "metadata": {
    "deletable": false,
    "editable": false,
    "nbgrader": {
     "cell_type": "markdown",
     "checksum": "477096ed25af90caadb9e1c40e709939",
     "grade": false,
     "grade_id": "cell-321923307a4b97fa",
     "locked": true,
     "schema_version": 3,
     "solution": false,
     "task": false
    }
   },
   "source":{ [
  
    "\n",
    
    "\n",
    
  },
  {
   "cell_type": "markdown",
   "metadata": {
    "deletable": false,
    "editable": false,
    "nbgrader": {
     "cell_type": "markdown",
     "checksum": "1c34959cb9d974f4e6fc1d608afa1be3",
     "grade": false,
     "grade_id": "cell-104200fbf1e5784f",
     "locked": true,
     "schema_version": 3,
     "solution": false,
     "task": false
    }
   },
   "source": [
    "## Introduction: The Morse Code\n",
    "-----\n",
    "\n",
    "The [Morse Code](https://en.wikipedia.org/wiki/Morse_code) is a method of encoding text messages, invented by [Samuel Morse](https://en.wikipedia.org/wiki/Samuel_Morse) and perfected by his assistant [Alfred Vail](https://en.wikipedia.org/wiki/Alfred_Vail), that represents letters, digits, and punctuation symbols as sequences of short and long pulses, also called \"dits\" and \"dahs\". The system was initially integral to the invention of the [Electrical Telegraph](https://en.wikipedia.org/wiki/Electrical_telegraph), which allowed for the first time to pass information across very large distances (from a few to several thousands kilometers) using electric wires. The original telegraph was very simple: you have an electric wire strung between points A and B, as in the figure below:\n",
    "\n",
    "<img src=\"telegraph.png\" width=\"600px\"/>\n",
    "\n",
    "If the operator at location A wants to send a message to the operator at location B, they just have to \"tap\" the message on the wire, using an appropriate \"telegraphic key\". Obviously, the message must be in a form amenable to be \"tapped\" on the wire, and here is where the Morse/Vail Code comes into play. The operator at A needs to translate her message in a sequence of pulses, according to the Morse Code, and then they will \"tap\" the resulting sequence of short and long pulses on the wire, using a [telegraphic key](https://en.wikipedia.org/wiki/Telegraph_key). You see below a picture of one of the earliest models of telegraphic key:\n",
    "\n",
    "<img src=\"Vail_key.jpg\" width=\"600px\"/>\n",
    "\n",
    "The operator at B will \"receive\" the sequence of short and long pulses through an appropriate machinery connected to the telegraphic wire, and will translate them back to characters and puctuation symbols, to recover the original message. The table below shows the International Morse Code for each letter, digit, and for some commonly-used punctuation symbols.\n",
    "\n",
    "\n",
    "|Char| Code  |Char|Code   | Char| Code    |\n",
    "|--- |-------|----|-------|-----|---------|\n",
    "| A  | .-    | T  | -     | . (period) | .-.-.- |\n",
    "| B  | -...  | U  | ..-   | , (comma)  | --..-- |\n",
    "| C  | -.-.  | V  | ...-  | ? (question mark) | ..--.. |\n",
    "| D  | -..   | W  | .--   | - (hyphen) | -....- |\n",
    "| E  | .     | X  | -..-  | / (slash)  | -..-.  |\n",
    "| F  | ..-.  | Y  | -.--  | ; (semicolon) | -.-.-. |\n",
    "| G  | --.   | Z  | --..  | : (colon)  | ---... |\n",
    "| H  | ....  | 0  | ----- | \" (double-quote)  | .-..-. |\n",
    "| I  | ..    | 1  | .---- | ' (single-quote)  | -....- |\n",
    "| J  | .---  | 2  | ..--- |\n",
    "| K  | -.-   | 3  | ...-- |\n",
    "| L  | .-..  | 4  | ....- |\n",
    "| M  | --    | 5  | ..... |\n",
    "| N  | -.    | 6  | -.... |\n",
    "| O  | ---   | 7  | --... |\n",
    "| P  | .--.  | 8  | ---.. |\n",
    "| Q  | --.-  | 9  | ----. |\n",
    "| R  | .-.   |    |    |\n",
    "| S  | ...   |    |    |\n",
    "\n",
    "By looking at the table above we realise that the word \"PYTHON\" would correspond to the sequence of symbols: \n",
    "\n",
    "        .--.  -.--  -  ....  ---  -.\n",
    "         P     Y    T    H    O   N\n",
    "\n",
    "where we have used a \".\" to represent a short pulse (dit) and a \"-\" to represent a long pulse (dah). Dits and dahs are called *elements*, so the code associated to each character can be composed by one or more *elements*, being dits or dahs. Notice that the Morse code makes no distinction between lowercase and uppercase letters. \n",
    "\n",
    "Alfred Vail had the brilliant idea to assign letters to their code according to the corresponding frequency of that letter in English texts, so that the most common letters (i.e., those sent most frequently) would be associated to shorter codes. For instance, the five most common letters in English are \"E\", \"T\", \"A\", \"O\", \"I\", \"N\", and they are all associated to codes consisting of one or two elements (with the notable exception of \"O\", which has three elements!). Numbers are all associated to 5 elements, while all the codes for puntuation symbols consist of 5 or 6 elements. By doing so, the total time needed to transmit a message can be reduced substantially.\n",
    "\n",
    "With the invention of the [Radio](https://en.wikipedia.org/wiki/Invention_of_radio) at the beginning of the 20th century, by the Italian inventor and enginner [Guglielmo Marconi](https://en.wikipedia.org/wiki/Guglielmo_Marconi), the Morse Code became (and remained, for almost a century) the most widely-used mean of communication for long-range transmission, which soon enough included transoceanic transmissions on Low-, Medium- and High-Frequency radio waves. As such, the Morse Code was used for decades to exchange messages of commercial, military, and personal nature, as well as an efficient communication channel for boats and ships in distress. \n",
    "\n",
    "You can get an idea of of how Morse Code \"sounds\" by listening to the recording below:\n",
    "\n",
    "<audio width=\" \" height=\" \"\n",
    "       src=\"prinsendam_sos.mp3\"  \n",
    "       controls>\n",
    "</audio>\n",
    "\n",
    "The audio track above reproduces the beginning of the distress message (SOS) sent by the ship Prinsendam on October 4th 1980. You will hear two long tones and then the Morse Code for \"SOS SOS SOS DE PJTA PJTA PJTA = PASSENGI I I PASSENGER SHIP PRINSENDAM/PJTA POSI\". Here \"SOS\" is the international distress signal, indicating a major incident, while \"PJTA\" is the unique identifier assigned to the ship for radio communications. The operator actually made a mistake while sending the \"R\" in \"PASSENGER\", so he sent two \"I\" to signal an error, and then repeated the word \"PASSENGER\". The whole message lasted for a few minutes, and the operator sent the position and the reason of the distress call, but we stopped the recording at the point when the operator was sending the word \"POSITION\". Luckily, the full message was heard by several other ships and coastal radio stations, rescue ships and boats were sent promptly, and all the passengers and crew of the Prinsendam were eventually saved.\n",
    "\n",
    "Although naval communications eventually ceased to use Morse Code and switched to a digital satellite system in the late 1990s, the Morse Code is still in wide use among Amateur Radio operators, as well as by military forces around the world.\n",
    "\n",
    "In this Independent Project you will implement Python code to encode and decode text messages in/from Morse Code, and to derive some interesting statistics about the efficiency of Morse Code.\n",
    "\n",
    "No worries: you do not need to know or learn the Morse Code, or to be able to decode it, as you will just deal with text messages and the textual representations of \"dits\" and \"dahs\"! The skills you have acquired in this module will be more than enough to successfully answer each of the following questions.\n",
    "\n",
    "**N.B.: the main aim of this assessment is for you to show that you can produce original Python programs to solve a given task. You are expected to produce original Python code, on your own. Whenever you have the choice between writing your own code or using some fancy function in a fancy module, prefer the former to the latter. In general, you can use any of the Python modules we have seen in the module, including but not limited to all the standard library modules (math, string, os, sys, re, etc...), numpy, scipy, matplotlib, pandas, but you really need just a few of them to finish this assignment.**"
   ]
  },
  {
   "cell_type": "markdown",
   "metadata": {
    "deletable": false,
    "editable": false,
    "nbgrader": {
     "cell_type": "markdown",
     "checksum": "cfef7070e61c8e2a9aae3e01e9a9b55c",
     "grade": false,
     "grade_id": "cell-3fa3c96f5ba68622",
     "locked": true,
     "schema_version": 3,
     "solution": false,
     "task": false
    }
   },
   "source": [
    "## Question 1 (35 marks)\n",
    "\n",
    "In this question you will produce Python code to encode plain text in Morse Code and vice-versa, i.e., decoding a representation of Morse Code characters back into plain text. Morse Code was actually meant to be an \"aural\" language, i.e., a language whose words are made of sounds, and in particular, of combinations of just two distinct sounds, namely a short pulse (dit) and a long pulse (dah). However, since producing sounds in Python in a portable way is not immediate, here we will use text to represent the Morse Code of characters. In particular, each \"dit\" element will be represented by a \".\" (period), and each \"dah\" element will be represented by a \"-\" (hyphen). The elements constituting a single character will be written without any space between them, so that the Morse Code representation of the letter `A` is `.-` (without any space between `.` and `-`).\n"
   ]
  },
  {
   "cell_type": "markdown",
   "metadata": {
    "deletable": false,
    "editable": false,
    "nbgrader": {
     "cell_type": "markdown",
     "checksum": "36c6e1682396ea5600472fff13d4b8ab",
     "grade": false,
     "grade_id": "cell-8aa8906cbbdc8699",
     "locked": true,
     "schema_version": 3,
     "solution": false,
     "task": false
    }
   },
   "source": [
    "(a) (5 marks) The text file `MorseCode.txt` contains the Morse Code associated to each of the letters, digits and punctuation symbols reported in the table above (see **Introduction**). The file consists of one row for each character, in the form\n",
    "\n",
    "        char code\n",
    "        \n",
    "where `char` is each character and `code` is the corresponding Morse Code, where each _dit_ is represented by a \".\" (pediod) and each _dah_ is represented by a \"-\" (hyphen). \n",
    "Write some Python code that loads the file `MorseCode.txt` into the dictionary `Morse`, whose keys are characters and whose values are the corresponding Morse Code representation, as read from the file."
   ]
  },
  {
   "cell_type": "code",
   "execution_count": 55,
   "metadata": {
    "deletable": false,
    "nbgrader": {
     "cell_type": "code",
     "checksum": "89925b008958087de7112d9f8e58b7ba",
     "grade": true,
     "grade_id": "cell-3e417f6752476d76",
     "locked": false,
     "points": 5,
     "schema_version": 3,
     "solution": true,
     "task": false
    }
   },
   "outputs": [],
   "source": [
    "# YOUR CODE HERE\n",
    "\n",
    "# open file MorseCode.txt\n",
    "f = open(\"MorseCode.txt\")\n",
    "Morse = {}\n",
    "keys = []\n",
    "values = []\n",
    "# iterate each line of file MorseCode.txt\n",
    "for c in f.readlines():\n",
    "    # replace '\\n' to ''\n",
    "    sep = c.replace('\\n','')\n",
    "    # split a character and a morse code of each line\n",
    "    dic = sep.split(' ') \n",
    "    # add a character to list keys \n",
    "    keys.append(dic[0])\n",
    "    # add a morse code to list values \n",
    "    values.append(dic[1])\n",
    "\n",
    "# create dictionary Morse consisting list keys and list values\n",
    "Morse = dict(zip(keys, values))\n",
    "\n",
    "#raise NotImplementedError()"
   ]
  },
  {
   "cell_type": "markdown",
   "metadata": {
    "deletable": false,
    "editable": false,
    "nbgrader": {
     "cell_type": "markdown",
     "checksum": "71f4df55bb23ce28fd5f82e7a2d3e8a2",
     "grade": false,
     "grade_id": "cell-6a21e6f668bcf8f3",
     "locked": true,
     "schema_version": 3,
     "solution": false,
     "task": false
    }
   },
   "source": [
    "(b) (7 marks) Create a function `text2Morse()` that takes as input a string `s`, and uses the dictionary `Morse` obtained at point (a) above to return a string that contains the Morse Code representation of the input string. The function will add a single space after each charcater/symbol, and will add three spaces between words. For instance, if the function `text2Morse()` gets as input the string \"Take care, my friend\", it should return the string \n",
    "\n",
    "        \"- .- -.- .    -.-. .- .-. . --..--    -- -.--    ..-. .-. .. . -. -..    \"\n",
    "\n",
    "Notice that the effective number of spaces between subsequent words, as well as the number of spaces at the end of the result string, is equal to **four**, i.e., one space after the last letter of the first word plus three more spaces to signal the separation between two words, or the end of the string. Notice also that a punctuation symbol is normally attached to the word it follows. Additionally, any character in the input string that is not present in the dictionary `Morse` should be represented on output with a sequence of **three spaces**."
   ]
  },
  {
   "cell_type": "code",
   "execution_count": 56,
   "metadata": {
    "deletable": false,
    "nbgrader": {
     "cell_type": "code",
     "checksum": "4d42bfecc7f0de7fdf80bbda54e3b800",
     "grade": true,
     "grade_id": "cell-aa432ef0d9a8b968",
     "locked": false,
     "points": 7,
     "schema_version": 3,
     "solution": true,
     "task": false
    }
   },
   "outputs": [],
   "source": [
    "# YOUR CODE HERE\n",
    "\n",
    "def text2Morse(s):\n",
    "    mc = ''\n",
    "    # change dictionary Morse to list M\n",
    "    M = list(Morse.items())\n",
    "    # change input stiring s to uppercase, as there are only uppercase alphabets in Morse\n",
    "    S = s.upper()\n",
    "    # remove spaces of stiring S\n",
    "    S = S.strip()\n",
    "    # initialise word which assign a word\n",
    "    word = \"\"\n",
    "\n",
    "    # iterate each character of S\n",
    "    for c in S:\n",
    "        cnt = 0\n",
    "        # iterate all Morse codes\n",
    "        for i in range(len(M)):\n",
    "            # if there are 2 or more spaces between words, this should be ignored\n",
    "            # e.g. 'my  friend' (2 spaces between 'my' and 'friend')\n",
    "            if word == \"\" and c == ' ':\n",
    "                cnt += 1\n",
    "                break\n",
    "            # if a input character is equal to a single space, then assign 3 spaces to mc and\n",
    "            # initialise word and exit\n",
    "            if c == ' ':\n",
    "                mc += '   '\n",
    "                word = \"\"\n",
    "                cnt += 1\n",
    "                break\n",
    "            # if a input character is equal to a character in Morse, then assign a morse code to mc and exit \n",
    "            if c == M[i][0]:\n",
    "                mc += M[i][1]\n",
    "                mc += ' '\n",
    "                word += c\n",
    "                cnt += 1\n",
    "                break\n",
    "                \n",
    "        # if a input character is not included in Morse, also it's not one or more spaces, then assign 3 spaces to mc\n",
    "        if cnt == 0:\n",
    "            mc += '   '\n",
    "            \n",
    "    # add 3 spaces to mc, as the result of morse codes must end 3 spaces \n",
    "    mc += '   '\n",
    "    return mc\n",
    "\n",
    "#raise NotImplementedError()"
   ]
  },
  {
   "cell_type": "markdown",
   "metadata": {
    "deletable": false,
    "editable": false,
    "nbgrader": {
     "cell_type": "markdown",
     "checksum": "e4d58f39a96f025cdfa7d2474600bddb",
     "grade": false,
     "grade_id": "cell-b9fcafacd47f1d45",
     "locked": true,
     "schema_version": 3,
     "solution": false,
     "task": false
    }
   },
   "source": [
    "(c) (6 marks) The folder `\"textfiles\"` contains several text files, in English. Write a piece of Python code that scans the folder, opens each of the text files it finds, reads all the lines, and encodes them in Morse Code using the function `text2Morse()` you obtained at point (b) above. The encoded Morse Code text of each text file in the folder `\"textfiles\"` must be saved in another text file `NAME_Morse.txt` in the folder `\"morsefiles\"`, where `NAME.txt` is the name of the original text file. For instance, the encoded Morse Code text corresponding to a file called `file_1.txt` must be saved in the file `file_1_Morse.txt` in the folder `\"morsefiles\"`."
   ]
  },
  {
   "cell_type": "code",
   "execution_count": 57,
   "metadata": {
    "deletable": false,
    "nbgrader": {
     "cell_type": "code",
     "checksum": "86a85e028c42bf56e61c3294f74250c2",
     "grade": true,
     "grade_id": "cell-6abc26d755a9051c",
     "locked": false,
     "points": 6,
     "schema_version": 3,
     "solution": true,
     "task": false
    }
   },
   "outputs": [],
   "source": [
    "# YOUR CODE HERE\n",
    "\n",
    "import os\n",
    "# assign variables for source folder path and destination folder path\n",
    "source_dir = \"./textfiles/\"\n",
    "des_dir = \"./morsefiles/\"\n",
    "# assign names of files of source directory\n",
    "files = os.listdir(source_dir)\n",
    "\n",
    "# iterate all files in the directory \"./textfiles/\"\n",
    "for f in files:\n",
    "    # open the file\n",
    "    f1 = open(source_dir+f)\n",
    "    # create tmp_f for naming of file for writing\n",
    "    tmp_f = f.replace(\".txt\", \"\")\n",
    "    # create file for writing\n",
    "    f2 = open(des_dir+tmp_f+\"_Morse.txt\", \"w\")\n",
    "    # assign whole strig in textfile to lines1 \n",
    "    lines1 = f1.readlines()\n",
    "    # transform lines1 (type list) to string\n",
    "    text = \"\".join(lines1)\n",
    "    # write the result of text2Morse() function to NAME_Morse.txt\n",
    "    f2.write(text2Morse(text))\n",
    "    \n",
    "#raise NotImplementedError()"
   ]
  },
  {
   "cell_type": "markdown",
   "metadata": {},
   "source": [
    "(d) (6 marks) Create a function `Morse2text()` that takes as input a string `s`, that contains a sequence of Morse Code characters, and returns the plain text associated to that string. For instance, if the string `s` is: \n",
    "\n",
    "    \"- .- -.- .    -.-. .- .-. . --..--    -- -.--    ..-. .-. .. . -. -.. \"\n",
    "    \n",
    "the value returned by `Morse2text(s)` will be \"take care, my friend\". The function `Morse2text()` must consider a single space as a separator between letters, and a sequence of two or more spaces as a separator between words, to be decoded as a single space."
   ]
  },
  {
   "cell_type": "code",
   "execution_count": 58,
   "metadata": {
    "deletable": false,
    "nbgrader": {
     "cell_type": "code",
     "checksum": "2480483d508264980a9d2cb74f17f0cf",
     "grade": true,
     "grade_id": "cell-1207d1ad64f2b3dc",
     "locked": false,
     "points": 6,
     "schema_version": 3,
     "solution": true,
     "task": false
    }
   },
   "outputs": [],
   "source": [
    "# YOUR CODE HERE\n",
    "\n",
    "def Morse2text(s):\n",
    "    text = ''\n",
    "    cnt = 0\n",
    "    # seperate each morse code with a space from input string s, as there is a single space between each morse code\n",
    "    code = s.split(' ')\n",
    "    \n",
    "    # iterate all morse codes and spaces \n",
    "    for c in code:\n",
    "        # iterate all Morse\n",
    "        for k in Morse:\n",
    "            # if a morse code of input string s is included in Morse \n",
    "            if Morse[k] == c:\n",
    "                # if the plain text is alphbet, then change to lowercase\n",
    "                if k.isalpha():\n",
    "                    text += k.lower()\n",
    "                else:\n",
    "                    text += k\n",
    "        # if c=='', then count spaces\n",
    "        if c == '':\n",
    "            cnt += 1\n",
    "        # if there are 3 spaces in input string s, add a single space to text\n",
    "        if cnt >= 3:\n",
    "            text += ' '\n",
    "            cnt = 0\n",
    "    text = text.strip()\n",
    "\n",
    "    return text\n",
    "\n",
    "#raise NotImplementedError()"
   ]
  },
  {
   "cell_type": "markdown",
   "metadata": {
    "deletable": false,
    "editable": false,
    "nbgrader": {
     "cell_type": "markdown",
     "checksum": "c3f69627610283ff7116ef3cfa69f543",
     "grade": false,
     "grade_id": "cell-a06a1dea07a065f3",
     "locked": true,
     "schema_version": 3,
     "solution": false,
     "task": false
    }
   },
   "source": [
    "(e) (4 marks) Test your function `Morse2text()` on the file \"simple_story_Morse.txt\" present in the folder `\"morsefiles\"`, and print on output the plain text obtained as a result."
   ]
  },
  {
   "cell_type": "code",
   "execution_count": 59,
   "metadata": {
    "deletable": false,
    "nbgrader": {
     "cell_type": "code",
     "checksum": "a1a7a7fa28bdfbeeebd1fb9c951d7490",
     "grade": true,
     "grade_id": "cell-3af5ab49fdfb53c9",
     "locked": false,
     "points": 4,
     "schema_version": 3,
     "solution": true,
     "task": false
    }
   },
   "outputs": [
    {
     "data": {
      "text/plain": [
       "'there was once a sweet little maid who lived with her father and mother in a pretty little cottage at the edge of the village. at the further end of the wood was another pretty cottage and in it lived her grandmother. everybody loved this little girl, her grandmother perhaps loved her most of all and gave her a great many pretty things. once she gave her a red cloak with a hood which she always wore, so people called her little red riding hood.'"
      ]
     },
     "execution_count": 59,
     "metadata": {},
     "output_type": "execute_result"
    }
   ],
   "source": [
    "# YOUR CODE HERE\n",
    "\n",
    "# open the file simple_story_Morse.txt\n",
    "f = open(\"morsefiles/simple_story_Morse.txt\")\n",
    "# assign whole strig in textfile to lines \n",
    "lines = f.readlines()\n",
    "# transform lines (list) to string \n",
    "text = \"\".join(lines)\n",
    "# call function Morse2text()\n",
    "Morse2text(text)\n",
    "\n",
    "#raise NotImplementedError()"
   ]
  },
  {
   "cell_type": "markdown",
   "metadata": {
    "deletable": false,
    "editable": false,
    "nbgrader": {
     "cell_type": "markdown",
     "checksum": "4135f5f97ca9dbe55cc452e296f540af",
     "grade": false,
     "grade_id": "cell-05175bcc79e9685d",
     "locked": true,
     "schema_version": 3,
     "solution": false,
     "task": false
    }
   },
   "source": [
    "(f) (7 marks) You are asked to show that the pair of functions `text2Morse()` and `Morse2text()` that you have created above are indeed working as expected, i.e., that if `plain` is a string of plain english text, you have that:\n",
    "\n",
    "        Morse2text( text2Morse(plain) ) == plain\n",
    "        \n",
    "and, at the same time, if `morse` is a string containing Morse Code characters, you also have that:\n",
    "\n",
    "        text2Morse( Morse2text(morse) ) == morse\n",
    "        \n",
    "Write a piece of Python code that shows this is the case, and test your code on all the plain text files in the folder \"textfiles\""
   ]
  },
  {
   "cell_type": "code",
   "execution_count": 60,
   "metadata": {
    "deletable": false,
    "nbgrader": {
     "cell_type": "code",
     "checksum": "7e18f53b1ee1824cb634c8098eaec740",
     "grade": true,
     "grade_id": "cell-c9b943085184d2b0",
     "locked": false,
     "points": 7,
     "schema_version": 3,
     "solution": true,
     "task": false
    }
   },
   "outputs": [
    {
     "name": "stdout",
     "output_type": "stream",
     "text": [
      "True\n",
      "True\n",
      "True\n",
      "True\n"
     ]
    }
   ],
   "source": [
    "# YOUR CODE HERE\n",
    "\n",
    "import os\n",
    "# assign variables for source folder path \n",
    "source_dir = \"./textfiles/\"\n",
    "# assign names of files of source directory\n",
    "files = os.listdir(source_dir)\n",
    "\n",
    "# iterate all files in the directory \"./textfiles/\"\n",
    "for f in files:\n",
    "    # open the file\n",
    "    f1 = open(source_dir+f)\n",
    "    # assign whole strig in textfile to lines1\n",
    "    lines1 = f1.readlines()\n",
    "    # transform list to string \n",
    "    text = \"\".join(lines1)\n",
    "    # if there are spaces at the beginning and end of string, then remove spaces\n",
    "    # also string need to be changed to lowercase\n",
    "    text = text.strip().lower()\n",
    "    plain = text\n",
    "    morse = text2Morse(plain)\n",
    "\n",
    "    # In result, I can get \"true\"\n",
    "    # Hence, Morse2text() and text2Morse() are correct\n",
    "    print(Morse2text(text2Morse(plain)) == plain)\n",
    "    print(text2Morse(Morse2text(morse)) == morse)\n",
    "    \n",
    "#raise NotImplementedError()"
   ]
  },
  {
   "cell_type": "markdown",
   "metadata": {
    "deletable": false,
    "editable": false,
    "nbgrader": {
     "cell_type": "markdown",
     "checksum": "9e0011a2386b8e54f91aeb09505c9d55",
     "grade": false,
     "grade_id": "cell-fd75e4bfc6090c59",
     "locked": true,
     "schema_version": 3,
     "solution": false,
     "task": false
    }
   },
   "source": [
    "## Question 2 (35 marks)\n",
    "\n",
    "The most important contribution of Alfred Vail to the Morse Code was to arrange the association of characters to codes in such a way that more frequent letters would require a smaller number of Morse Code elements (dits and dahs) to be sent over the wire, thus improving the efficiency of transmissions. In this Question we will explore this property of the International Morse Code.\n"
   ]
  },
  {
   "cell_type": "markdown",
   "metadata": {
    "deletable": false,
    "editable": false,
    "nbgrader": {
     "cell_type": "markdown",
     "checksum": "d724a54e61310328d09ce04b8cb2a2d3",
     "grade": false,
     "grade_id": "cell-db8a40b4410ae4ee",
     "locked": true,
     "schema_version": 3,
     "solution": false,
     "task": false
    }
   },
   "source": [
    "(a) (7 marks) Create a function `charStats()` that takes as input a string `fname`, which contains the name of a file. The function reads the text contained in the file `fname` and returns a dictionary whose keys are all the distinct characters read from the file `fname` (excluding spaces!) and whose corresponding values are the frequencies of those characters, expressed as a fraction of the total number of characters in the file (excluding spaces!). For instance, if the file `fname` consists of the 26 letters od of the English alphabet and no digit or punctuation symbol, the dictionary returned by `charStats()` will contain one key for each of the 26 letters, and the value associated to each letter will be equal to the number of times that letter appears in the file, divided by the total number of letters present in the file. The function `charStats()` will not distinguish uppercase and lowercase letters, to that all the occurrences of `A` and `a` will be counted under the same dictionary key `\"a\"` (lowercase). Moreover, the function should ignore any character that is not a key of the `Morse` dictionary you obtained in point 1(a) above."
   ]
  },
  {
   "cell_type": "code",
   "execution_count": 61,
   "metadata": {
    "deletable": false,
    "nbgrader": {
     "cell_type": "code",
     "checksum": "91103d08f8f481d3b140a881073c092f",
     "grade": true,
     "grade_id": "cell-6f8e064e626124ca",
     "locked": false,
     "points": 7,
     "schema_version": 3,
     "solution": true,
     "task": false
    }
   },
   "outputs": [],
   "source": [
    "# YOUR CODE HERE\n",
    "\n",
    "def charStats(fname):\n",
    "    # open the file fname\n",
    "    f = open(fname)\n",
    "    # assign strings of file to text \n",
    "    text = \"\".join(f.readlines())\n",
    "    # assign keys of Morse code to list mkey\n",
    "    mkey = list(Morse.keys())\n",
    "    # define dictionary dic (dic is return value of this function)\n",
    "    dic = {}\n",
    "   \n",
    "    # iterate keys of Morse\n",
    "    # if a character is same as a key of Morse, then initialise values of dic[k.lower()] to 0\n",
    "    # This is for only characters including in file. \n",
    "    # e.g. if '?' character is not is file, then there is no key '?' in dictionary\n",
    "    for k in mkey:\n",
    "        for c in text:\n",
    "            if c.lower() == k.lower():\n",
    "                dic[k.lower()] = 0\n",
    "                break\n",
    "\n",
    "    # initialise cnt to 0 (cnt is to assign total number of characters) \n",
    "    cnt = 0\n",
    "    # iterate strings of file\n",
    "    for c in text:\n",
    "        # iterate all Morse codes\n",
    "        for k in mkey:\n",
    "            # if a character of file is equal to a key of Morse code,\n",
    "            # (a character of file and a key of Morse code must transform to lowercase)\n",
    "            # then add 1 to cnt (total number of characters)\n",
    "            # also add 1 to the value of dic \n",
    "            if c.lower() == k.lower():\n",
    "                cnt += 1\n",
    "                dic[c.lower()] += 1\n",
    "                continue\n",
    "    # to get fraction, a value of dic which get above has to be divided by cnt\n",
    "    for key in dic:\n",
    "        dic[key] /= cnt\n",
    "    \n",
    "    return dic\n",
    "\n",
    "#raise NotImplementedError()"
   ]
  },
  {
   "cell_type": "markdown",
   "metadata": {},
   "source": [
    "(b) (5 marks) Use the function `charStats()` developed at point (a) above to compute the character statistics of the file `\"EnglishWords.txt\"`. Save the results in a variable called `EnglishFreqs`."
   ]
  },
  {
   "cell_type": "code",
   "execution_count": 62,
   "metadata": {
    "deletable": false,
    "nbgrader": {
     "cell_type": "code",
     "checksum": "10218680c164a5cdb180436e6153122e",
     "grade": true,
     "grade_id": "cell-7732584cfec2afa7",
     "locked": false,
     "points": 5,
     "schema_version": 3,
     "solution": true,
     "task": false
    }
   },
   "outputs": [],
   "source": [
    "# YOUR CODE HERE\n",
    "\n",
    "EnglishFreqs = charStats(\"EnglishWords.txt\")\n",
    "#EnglishFreqs\n",
    "#raise NotImplementedError()"
   ]
  },
  {
   "cell_type": "markdown",
   "metadata": {},
   "source": [
    "(c) (8 marks) Given a list of numerical values $L=\\{x_1, x_2, x_3, ....\\}$ the **rank** of an element $x_i$, indicated as $r(x_i)$ is the position of the element $x_i$ when the list $L$ is sorted in increasing order of values. For instance, in the list $L=\\{10, 27, 4.5, 31, 1, 10\\}$ the rank of the value $27$ is written $r(27)$ and is equal to $5$. Indeed, if we sort the list $L$ in decreasing order of values, the resulting sequence is $\\{1, 4.5, 10, 10, 27,31\\}$, and $27$ is the fifth element from the beginning. If the list $L$ contains two or more identical values, the rank of that value is the average of the ranks of its occurrences. For instance, the value $10$ in the list $L$ has rank $r(10)=(3+4)/2 = 3.5$, as its occurrences appear in 3rd and 4th position when the list $L$ is sorted in increasing order.\n",
    "\n",
    "Create a function `rankStats()` that takes as input a dictionary `d` of character statistics as obtained by `charStats()` and returns another dictionary whose keys are the same keys as the input dictionary `d`, and whose values are the ranks of the corresponding keys, so that the key of `d` associated with the smallest percentage overall will be associated to the rank $1$. Test your function with the dictionary: `D={\"w\": 10, \"x\": 27, \"y\": 4.5, \"z\": 31, \"t\":1, \"v\": 10}`. **N.B.: YOU CANNOT USE ANY EXISTING FUNCTION THAT COMPUTES THE RANKS OF A LIST OR COLLECTION OT ELEMENTS**."
   ]
  },
  {
   "cell_type": "code",
   "execution_count": 63,
   "metadata": {
    "deletable": false,
    "nbgrader": {
     "cell_type": "code",
     "checksum": "25090b33bfbcf75758ca4ea6a1dc3f09",
     "grade": true,
     "grade_id": "cell-2989e85ed6230a0c",
     "locked": false,
     "points": 8,
     "schema_version": 3,
     "solution": true,
     "task": false
    }
   },
   "outputs": [
    {
     "data": {
      "text/plain": [
       "{'w': 3.5, 'x': 5, 'y': 2, 'z': 6, 't': 1, 'v': 3.5}"
      ]
     },
     "execution_count": 63,
     "metadata": {},
     "output_type": "execute_result"
    }
   ],
   "source": [
    "# YOUR CODE HERE\n",
    "\n",
    "def rankStats(d):\n",
    "    # assign keys and values of input dictionary d\n",
    "    keys = list(d.keys())\n",
    "    values = list(d.values())\n",
    "    # sort values of input d\n",
    "    rnk_idx = values.sort()\n",
    "    \n",
    "    # create dictionary val_rnk which key is a rank of values\n",
    "    # e.g. d = {\"w\": 10, \"x\": 27, \"y\": 4.5, \"z\": 31, \"t\":1, \"v\": 10} \n",
    "    # val_rnk = {1: 1, 2: 4.5, 3: 10, 4: 10, 5: 27, 6: 31}\n",
    "    val_rnk = {}\n",
    "    for i in range(len(values)):\n",
    "        val_rnk[i+1] = values[i]\n",
    "    \n",
    "    # create dictionaey rernk which key is value and values are 1\n",
    "    # this is for initial dictionaey to caculate rank for redundant values\n",
    "    # e.g. rernk = {1: 1, 4.5: 1, 10: 1, 27: 1, 31: 1}\n",
    "    ini_rnk = [1 for i in range(len(val_rnk))]\n",
    "    rernk = dict(zip(values, ini_rnk))\n",
    "\n",
    "    # count for redundant values\n",
    "    # re-create rernk which key is value and values are count of values\n",
    "    # e.g. rernk = {1: 1, 4.5: 1, 10: 2, 27: 1, 31: 1}\n",
    "    cnt = 1\n",
    "    for j in range(len(values)-1): \n",
    "        if values[j] == values[j+1]:\n",
    "            cnt += 1\n",
    "            rernk[values[j]] = cnt\n",
    "            continue \n",
    "        else:\n",
    "            cnt = 1\n",
    "    \n",
    "    # recreate rernk which key is value and values are the result of \n",
    "    # caculating e.g.𝑟(10)=(3+4)/2=3.5\n",
    "    # create dictionary rerank which keys are only redundant values and \n",
    "    # values are caculated ranks\n",
    "    # e.g. rerank = {10: 3.5}\n",
    "    # e.g. rernk = {1: 1, 4.5: 1, 10: 3.5, 27: 1, 31: 1}\n",
    "    rerank = {}\n",
    "    for r in rernk:\n",
    "        cal_rnk = 0\n",
    "        final_rnk = 0\n",
    "        if rernk[r] > 1:\n",
    "            for k in val_rnk:\n",
    "                if val_rnk[k] == r:\n",
    "                    cal_rnk += k\n",
    "                    final_rnk = cal_rnk / rernk[r]\n",
    "            rerank[r] = final_rnk\n",
    "            rernk[r] = final_rnk\n",
    "    \n",
    "    # create keys which include the caculated keys above\n",
    "    # e.g. f_keys = [1, 2, 3.5, 3.5, 5, 6]\n",
    "    f_keys = list(val_rnk) \n",
    "    p = 0\n",
    "    for l in val_rnk:\n",
    "        for m in rerank:\n",
    "            if val_rnk[l] == m:\n",
    "                f_keys[p] = rerank[m]\n",
    "                break\n",
    "        p += 1\n",
    "            \n",
    "    # create dictionary val_rnk_final which keys are final rank and\n",
    "    # values are original values\n",
    "    # e.g. val_rnk_final = {1: 1, 2: 4.5, 3.5: 10, 5: 27, 6: 31}\n",
    "    val_rnk_final = dict(zip(f_keys, values))     \n",
    "    \n",
    "    # to get answer this question, answer has to be a dictionry\n",
    "    # which keys are orginal keys and values are the final rank\n",
    "    # create list val_final which is the final rank above\n",
    "    # e.g. val_final = [3.5, 5, 2, 6, 1, 3.5]\n",
    "    val_final = []\n",
    "    for n in d:\n",
    "        for o in val_rnk_final:\n",
    "            if d[n] == val_rnk_final[o]:\n",
    "                val_final.append(o)\n",
    "                break\n",
    "           \n",
    "    # create dictionary ans_d which is the answer\n",
    "    # e.g. val_final = {'w': 3.5, 'x': 5, 'y': 2, 'z': 6, 't': 1, 'v': 3.5}\n",
    "    ans_d = dict(zip(keys, val_final))\n",
    "    return ans_d\n",
    "\n",
    "D={\"w\": 10, \"x\": 27, \"y\": 4.5, \"z\": 31, \"t\":1, \"v\": 10}\n",
    "rankStats(D)\n",
    "    \n",
    "#raise NotImplementedError()"
   ]
  },
  {
   "cell_type": "markdown",
   "metadata": {},
   "source": [
    "(d) (5 marks) In the International Morse Code the length of a \"dah\" element is defined to be equal to 3 times the length of a \"dit\", and the space between two elements in the same character is defiend to be equal to the length of a \"dit\". So the Morse Code `\".-\"` that corresponds to the letter `A`, has a total length of 1+1+3=5  dits, e.g.:\n",
    "\n",
    "- 1 dit for the first dit\n",
    "- 1 dit for the space between the dit and the dah\n",
    "- 3 dits for the final dah.\n",
    "\n",
    "Create a function `MorseLength()` that takes as input two arguments, `s` and `M`. The first argument `s` is a character (letter, digit or punctuation symbol) while the second argument `M` is a dictionary of Morse Code characters like the dictionary `Morse` you created in Question 1(a) above. The function returns an integer `L` corresponding to the length of the charcater `s` in dits, according to the Morse Code characters defined in `M`. This means that `MorseLength(\"c\")` will return `11`."
   ]
  },
  {
   "cell_type": "code",
   "execution_count": 64,
   "metadata": {
    "deletable": false,
    "nbgrader": {
     "cell_type": "code",
     "checksum": "c6b1e840377c0af75c26ebd9f681bc7a",
     "grade": true,
     "grade_id": "cell-f31c6e4fb5e42d05",
     "locked": false,
     "points": 5,
     "schema_version": 3,
     "solution": true,
     "task": false
    }
   },
   "outputs": [],
   "source": [
    "# YOUR CODE HERE\n",
    "\n",
    "def MorseLength(s, M):\n",
    "    # initialise return value len\n",
    "    len = 0\n",
    "    \n",
    "    # iterate Morse \n",
    "    for k in M:\n",
    "        # if a key of Morse M equals to uppercase of input character s\n",
    "        # upper() function doesen't affect a character except alphbet\n",
    "        # so that result of upper() function is same for digit or punctuation symbol\n",
    "        if k == s.upper():\n",
    "            # to caculate the length between dit and dah, add a space\n",
    "            m = \" \".join(M[k])\n",
    "            # iterate m\n",
    "            for c in m:\n",
    "                # if a character is dit or space, then add 1 to len\n",
    "                if c == '.' or c == ' ':\n",
    "                    len += 1\n",
    "                # if a character is dah, then add 3 to len\n",
    "                elif c == '-':\n",
    "                    len += 3\n",
    "                    \n",
    "    return len\n",
    "\n",
    "#MorseLength(\"c\", Morse)\n",
    "#raise NotImplementedError()"
   ]
  },
  {
   "cell_type": "markdown",
   "metadata": {
    "deletable": false,
    "editable": false,
    "nbgrader": {
     "cell_type": "markdown",
     "checksum": "84f81f0f82ec3d75cc150d805c87be5e",
     "grade": false,
     "grade_id": "cell-c7b81578e524f251",
     "locked": true,
     "schema_version": 3,
     "solution": false,
     "task": false
    }
   },
   "source": [
    "(e) (5 marks) Use the function `MorseLength()` defined in point (d) above to create a dictionary `CharLengths` whose keys are the keys of the dictionary `Morse` defined in Question 1(a), and whose values are the lengths of the corresponding Morse Code representations, as obtained through `MorseLength()`. Use the function `rankStats()` you defined in point (c) above to compute the ranks of those characters by their Morse Code length."
   ]
  },
  {
   "cell_type": "code",
   "execution_count": 65,
   "metadata": {
    "deletable": false,
    "nbgrader": {
     "cell_type": "code",
     "checksum": "a6fbe3deed7ad4c56b48c92cb40d67b2",
     "grade": true,
     "grade_id": "cell-758303249abe8846",
     "locked": false,
     "points": 5,
     "schema_version": 3,
     "solution": true,
     "task": false
    }
   },
   "outputs": [
    {
     "data": {
      "text/plain": [
       "{'A': 5.0,\n",
       " 'B': 15.5,\n",
       " 'C': 23.0,\n",
       " 'D': 9.0,\n",
       " 'E': 1,\n",
       " 'F': 15.5,\n",
       " 'G': 15.5,\n",
       " 'H': 9.0,\n",
       " 'I': 2.5,\n",
       " 'J': 29.5,\n",
       " 'K': 15.5,\n",
       " 'L': 15.5,\n",
       " 'M': 9.0,\n",
       " 'N': 5.0,\n",
       " 'O': 23.0,\n",
       " 'P': 23.0,\n",
       " 'Q': 29.5,\n",
       " 'R': 9.0,\n",
       " 'S': 5.0,\n",
       " 'T': 2.5,\n",
       " 'U': 9.0,\n",
       " 'V': 15.5,\n",
       " 'W': 15.5,\n",
       " 'X': 23.0,\n",
       " 'Y': 29.5,\n",
       " 'Z': 23.0,\n",
       " '0': 44.0,\n",
       " '1': 40.0,\n",
       " '2': 35.0,\n",
       " '3': 29.5,\n",
       " '4': 23.0,\n",
       " '5': 15.5,\n",
       " '6': 23.0,\n",
       " '7': 29.5,\n",
       " '8': 35.0,\n",
       " '9': 40.0,\n",
       " '.': 40.0,\n",
       " ',': 44.0,\n",
       " '?': 35.0,\n",
       " '-': 35.0,\n",
       " '/': 29.5,\n",
       " ';': 40.0,\n",
       " ':': 40.0,\n",
       " '\"': 35.0,\n",
       " \"'\": 44.0}"
      ]
     },
     "execution_count": 65,
     "metadata": {},
     "output_type": "execute_result"
    }
   ],
   "source": [
    "# YOUR CODE HERE\n",
    "\n",
    "# define dictinary CharLengths\n",
    "CharLengths = {}\n",
    "# iterate Morse\n",
    "for k in Morse:\n",
    "    # create CharLengths which keys are keys of Morse and \n",
    "    # values are the length of Morse code which is return value of function MorseLength above\n",
    "    CharLengths[k] = MorseLength(k, Morse)\n",
    "\n",
    "# call the function rankStats with argument dictionary CharLengths\n",
    "rankStats(CharLengths)\n",
    "\n",
    "#raise NotImplementedError()"
   ]
  },
  {
   "cell_type": "markdown",
   "metadata": {
    "deletable": false,
    "editable": false,
    "nbgrader": {
     "cell_type": "markdown",
     "checksum": "74d5dd1f50ce05cdb19426f73d6b5cf1",
     "grade": false,
     "grade_id": "cell-ca6ce8c1af4980eb",
     "locked": true,
     "schema_version": 3,
     "solution": false,
     "task": false
    }
   },
   "source": [
    "(f) (5 marks) We want to check if the choice of Morse Code symbols made by Alfred Vail is indeed the one that offers the most efficient communication in English. Use the function `kendalltau()` made available by the module `scipy.stats` to compute the kendall Tau rank correlation between the ranks of characters by length and by frequency, as obtained in the points above. Make sure to have read and understood the documentation of the function `kendalltau()` before using it and interpreting its results. Discuss your results and provide an explanation of their meaning."
   ]
  },
  {
   "cell_type": "code",
   "execution_count": 66,
   "metadata": {
    "deletable": false,
    "nbgrader": {
     "cell_type": "code",
     "checksum": "302e3fd46f1b8f25824a721407c572b4",
     "grade": true,
     "grade_id": "cell-c2c8df7413584674",
     "locked": false,
     "points": 5,
     "schema_version": 3,
     "solution": true,
     "task": false
    }
   },
   "outputs": [],
   "source": [
    "# YOUR CODE HERE\n",
    "\n",
    "import scipy.stats \n",
    "\n",
    "# if frequency is equal to 0, then it should be added to EnglishFreqs\n",
    "# e.g. '?' is not in \"EnglishWords.txt\", hence there is no '?' key in dictionary EnglishFreqs\n",
    "# To calculate kendalltau between the ranks of frequency and length, the count of elements sholud be same\n",
    "# Therefore, I add keys which their frequency is 0 to dictionary \n",
    "cnt = 0\n",
    "for rk in CharLengths:\n",
    "    cnt = 0\n",
    "    for k in EnglishFreqs:\n",
    "        if k.upper() == rk:\n",
    "            cnt += 1\n",
    "            break\n",
    "    if cnt == 0:\n",
    "        EnglishFreqs[rk.lower()] = 0\n",
    "\n",
    "# calculate the rank\n",
    "x = rankStats(CharLengths)\n",
    "y = rankStats(EnglishFreqs)\n",
    "\n",
    "# create new dictionary\n",
    "sorted_fre = dict()\n",
    "# create sorted_fre which the order of keys is same as x \n",
    "# e.g. '?' key in y is located 44th, but to calculate kendalltau exactly, '?' key should be located 39th position\n",
    "for rk in x:\n",
    "    for fk in y:\n",
    "        if rk == fk.upper():\n",
    "            sorted_fre[rk] = y[fk]\n",
    "            \n",
    "\n",
    "# The correlation (the tau statistic) between the rank of length and the rank of frequency is\n",
    "# -0.5851398646770128 \n",
    "# As values close to -1, it indicates strong disagreement\n",
    "# (The larger the length is, the less frequent)\n",
    "# Also, p-value is 6.526358644989435e-08, this means there is an evidence to reject hypothesis \n",
    "# within critical value 0.05 (H0: an absence of association, tau = 0, H1: no absence of association, tau != 0)\n",
    "cor, pv = scipy.stats.kendalltau(list(x.values()), list(sorted_fre.values()))\n",
    "#print(cor, pv)\n",
    "\n",
    "#raise NotImplementedError()"
   ]
  },
  {
   "cell_type": "markdown",
   "metadata": {
    "deletable": false,
    "editable": false,
    "nbgrader": {
     "cell_type": "markdown",
     "checksum": "cd5d8f69e1743683a26062003a40d343",
     "grade": false,
     "grade_id": "cell-25ef287cff80d36d",
     "locked": true,
     "schema_version": 3,
     "solution": false,
     "task": false
    }
   },
   "source": [
    "\n",
    "\n",
    "## Question 3 (30 marks)\n",
    "\n",
    "The amount of time needed to transmit a message in Morse Code depends on the actual speed at which the message is being sent. As a matter of fact, the total duration of a Morse Code message is determined by the length of a single \"dit\", as the lengths of all the other elements, including \"dahs\" and spaces between elements, characters, and words, are defined as multiples of a single \"dit\". A commonly-used standard to define the speed of a Morse Code transmission uses the word \"PARIS\" as a reference. If we take into account also the trailing space at the end, the length of the word \"PARIS\" in Morse Code is equal of 50 dits. In this system, the speed of a Morse Code transmission is expressed in \"Words Per Minute\" (abbreviated \"wpm\" or \"WPM\") and is equal to the number of times the word \"PARIS\" can be transmitted in a minute, at that speed. So if a Morse Code operator transmitting at a certain speed can send the word \"PARIS\" with the correct spacing exactly 10 times in a minute, then they are transmitting at a speed of 10 words per minute, or 10wpm.\n",
    "\n",
    "The duration of a \"dit\" when the speed is equal to `S` words per minute is equal to:\n",
    "\n",
    "$t_{dit} = \\frac{1.2}{S}$ seconds\n",
    "\n",
    "So at a speed of 10wpm, a single dit has a duration of $t_{dit} = 1.2/10$ seconds, which is $120$ milliseconds, while transmitting the word \"tea\" at the same speed of 10wpm will require exactly $120\\times 11 = 1320$ milliseconds, or $1.32$ seconds (without considering the trailing space of 7 dits after the word \"tea\" itself!).\n",
    "\n",
    "In this question we will explore the duration of Morse Code messages, using a combination of functions developed in the previous points and a good measure of new Python code.\n"
   ]
  },
  {
   "cell_type": "markdown",
   "metadata": {
    "deletable": false,
    "editable": false,
    "nbgrader": {
     "cell_type": "markdown",
     "checksum": "fe62bbbb3f080cfc4b9eaa6de68f896b",
     "grade": false,
     "grade_id": "cell-662fb8f1eb8dbdb4",
     "locked": true,
     "schema_version": 3,
     "solution": false,
     "task": false
    }
   },
   "source": [
    "(a) (10 marks) It is possible to define the \"length\" of a sequence of Morse Code characters, by associating specific lengths to each of the five basic elements used in Morse Code, namely: \n",
    "\n",
    "1. the \"dit\" (short pulse)\n",
    "2. the \"dah\" (long pulse)\n",
    "3. the space between two consecutive elements of a character\n",
    "4. the space between two characters in the same word\n",
    "5. the space between two words\n",
    "\n",
    "All these lengths are defined in the International Morse Code in terms of the length of the \"dit\", which is considered the \"unit\" of measurement of Morse Code. We have seen already in Question 2(d) that 1) the length of each \"dit\" is equal to 1 dit, 2) the length of each \"dah\" is 3 dits, 3) the length of the space between elements in a character is equal to 1 dit. The remaining spaces are defined as follows: 4) the space between two characters in the same word is equal to 3 dits, 5) the space between two words is equal to 7 dits. So if we consider the string \"my tea\", the total length of its Morse Code representation `\"-- -.--    - . .-    \"`, which includes space between words and after the last word, is equal to 52 dits. The details of the computation are as follows: \n",
    "\n",
    "- `--` (m): 7 dits\n",
    "- space after \"m\": 3 dits\n",
    "- `-.--` (y): 13 dits\n",
    "- space after \"my\": 7 dits\n",
    "- `-` (t): 3 dits\n",
    "- space after \"t\": 3 dits\n",
    "- `.` (e): 1 dit\n",
    "- space after \"e\": 3 dits\n",
    "- `.-` (a): 5 dits\n",
    "- space after \"tea\": 7 dits\n",
    "\n",
    "Notice that the length of a character **alone** does not include the space after the character itself, so that the length of the character `-.-.` (the letter \"C\"), is equal to 11 dits, i.e., 3+1+1+1+3+1+1.\n",
    "\n",
    "Create a function `MorseStringLength()` that takes as input a plain text string `s`, and returns an integer corresponding to the length of the string `s` expressed in \"dits\", according to the length of the Morse Code characters defined in the dictionary `Morse` obtained in Question 1(a) and the convention stated above about the length of each element. The length of `s` **does not take into account any leading space at the beginning of `s` or any trailing space at the end of `s`**. This means that `MorseStringLength(\"c\")` will return `11`, and both `MorseStringLength(\"my tea\")` and `MorseStringLength(\"my tea  \")` will return `45`. (_Hint: The function MorseStringLength() can make use of the function MorseLength() defined in Question 2(d) above_)"
   ]
  },
  {
   "cell_type": "code",
   "execution_count": 67,
   "metadata": {
    "deletable": false,
    "nbgrader": {
     "cell_type": "code",
     "checksum": "14186beda487f1ddf57580d2ddb596a6",
     "grade": true,
     "grade_id": "cell-991298f96b6ee5b7",
     "locked": false,
     "points": 10,
     "schema_version": 3,
     "solution": true,
     "task": false
    }
   },
   "outputs": [],
   "source": [
    "# YOUR CODE HERE\n",
    "\n",
    "def MorseStringLength(s):\n",
    "    # initialise return value len\n",
    "    len = 0\n",
    "    # add space to string s \n",
    "    # to count the space between two characters in the same word \n",
    "    s = \" \".join(s)\n",
    "    # remove spaces at the end of string s\n",
    "    # not to count spaces at the end of s\n",
    "    s = s.strip()\n",
    "    # transform uppercase of string s to match the keys of Morse code\n",
    "    s = s.upper()\n",
    "    \n",
    "    # initialise cnt which is count of spaces\n",
    "    cnt = 0\n",
    "    # iterate string s\n",
    "    for c in s:\n",
    "        # iterate Morse code\n",
    "        for m in Morse:\n",
    "            # if the character of string s equals to a key of Morse code\n",
    "            # then add the length of Morse code to return value len\n",
    "            # the length of Morse code get from the function MorseLength() above\n",
    "            if c == m:\n",
    "                len += MorseLength(c, Morse)\n",
    "                # if the count of space equals to 1 \n",
    "                # it means a space between two characters in the same word\n",
    "                # then add 3 to return value len\n",
    "                # initialise cnt to 0, as the next character is not space\n",
    "                if cnt == 1:\n",
    "                    len += 3\n",
    "                    cnt = 0\n",
    "                # if the count of space is greater than 1 \n",
    "                # it means the space between two words\n",
    "                # then add 7 to return value len\n",
    "                # initialise cnt to 0, as the next character is not space\n",
    "                if cnt > 1:\n",
    "                    len += 7\n",
    "                    cnt = 0\n",
    "                # not anymore iterate Morse code\n",
    "                # as the character of string s equals to a key of Morse code\n",
    "                break\n",
    "        # if the character of string s equals to space\n",
    "        # then add 1 to cnt which means count of spaces\n",
    "        if c == \" \":\n",
    "            cnt += 1\n",
    "            continue\n",
    "            \n",
    "    return len \n",
    "\n",
    "#MorseStringLength(\"my tea  \")\n",
    "#MorseStringLength(\"my tea\")\n",
    "#raise NotImplementedError()"
   ]
  },
  {
   "cell_type": "markdown",
   "metadata": {
    "deletable": false,
    "editable": false,
    "nbgrader": {
     "cell_type": "markdown",
     "checksum": "2b2d7e32034efe44d2e79f10149a6c23",
     "grade": false,
     "grade_id": "cell-b256f59086385206",
     "locked": true,
     "schema_version": 3,
     "solution": false,
     "task": false
    }
   },
   "source": [
    "(b) (5 marks) Create a function `MorseTime()` that takes as input a string `s` and an integer `S`, and returns a floating point number representing the total time (in seconds) needed to transmit the message in the string `s` in Morse Code at a speed of `S` words per minute. The function will assume that any sequence of one or more blank characters (including spaces, carriage return, tabulation, etc.) will represent a single space between words, and thus corresponds to 7 dits. The function will **not** include in the count the Morse Code representing the trailing space(s) at the end of the last word, or any leading space present before the first word of `s`. Test your function using the string `s=\"Welcome to Ireland\"`, the dictionary `M` equal to the dictionary `Morse` defined in point 1(a), and the speed `S=20` wpm."
   ]
  },
  {
   "cell_type": "code",
   "execution_count": 68,
   "metadata": {
    "deletable": false,
    "nbgrader": {
     "cell_type": "code",
     "checksum": "bc16925c4e3f8865ef2f10f534f9273f",
     "grade": true,
     "grade_id": "cell-a3056d7a14dd5b37",
     "locked": false,
     "points": 5,
     "schema_version": 3,
     "solution": true,
     "task": false
    }
   },
   "outputs": [],
   "source": [
    "# YOUR CODE HERE\n",
    "\n",
    "def MorseTime(s, S):\n",
    "    # define t_dit following fomula above (S is wpm)\n",
    "    t_dit = 1.2/S\n",
    "    # define secs which is the total time transmitting the message in string s\n",
    "    # the total time is following the fomula above\n",
    "    # Also, MorseStringLength() function is already considered about  spaces, carriage return, tabulation, etc\n",
    "    secs = MorseStringLength(s) * t_dit\n",
    "\n",
    "    return secs\n",
    "\n",
    "#MorseTime(\"Welcome to Ireland\", 20)\n",
    "#raise NotImplementedError()"
   ]
  },
  {
   "cell_type": "markdown",
   "metadata": {},
   "source": [
    "(c) (5 marks) Construct a function `WordTime()` that takes as input a string `s`  and an integer `S`, and returns a list of time duration of each of the words in `s` when they are sent in Morse Code at speed `S`, using the function `MorseTime()` developed in point (a) above. For instance, if the string `s` is equal to \"Welcome to Ireland\" and `S=15`, the function `WordTime()` will return a list with 3 elements, each corresponding, respectively, to the duration in Morse Code at 15wpm of \"Welcome\", \"to\", and \"Ireland\".\n",
    "For this exercise, a word is defined as a **sequence of letters, irrespective of their case**, so any sequence of one or more characters that are **not** letters is to be considered as a separator."
   ]
  },
  {
   "cell_type": "code",
   "execution_count": 69,
   "metadata": {
    "deletable": false,
    "nbgrader": {
     "cell_type": "code",
     "checksum": "5cadc9ddf016042c5cff6361e38ff65b",
     "grade": true,
     "grade_id": "cell-587c24a5019f76f4",
     "locked": false,
     "points": 5,
     "schema_version": 3,
     "solution": true,
     "task": false
    }
   },
   "outputs": [],
   "source": [
    "# YOUR CODE HERE\n",
    "\n",
    "def WordTime(s, S):\n",
    "    # initialise list secs which is return value\n",
    "    secs = []\n",
    "    # initialise string word which is word\n",
    "    word = \"\"\n",
    "    # iterate input string s\n",
    "    for c in s:\n",
    "        # if a character of input string s is alphabet,\n",
    "        # (as a word is defined as a sequence of letters)\n",
    "        # then add the character to word\n",
    "        if c.isalpha():\n",
    "            word += c\n",
    "            continue\n",
    "        # if the length of a word is greater than or equal to 1\n",
    "        # add the return value to list sec of the function MorseTime() which define above\n",
    "        # MorseTime(s,S) returns the total time transmitting input string s witn S wpm\n",
    "        if len(word) >= 1:\n",
    "            secs.append(MorseTime(word, S))\n",
    "            word = \"\"\n",
    "    # to add the total time transmitting the end word of input string s\n",
    "    if len(word) >= 1:\n",
    "            secs.append(MorseTime(word, S))\n",
    "            word = \"\"\n",
    "            \n",
    "    return secs\n",
    "\n",
    "#WordTime(\"Welcome to Ireland\", 20)\n",
    "#raise NotImplementedError()"
   ]
  },
  {
   "cell_type": "markdown",
   "metadata": {
    "deletable": false,
    "editable": false,
    "nbgrader": {
     "cell_type": "markdown",
     "checksum": "068f815fb14187ee20a34829e627b817",
     "grade": false,
     "grade_id": "cell-9f8f3c5c0cf3c378",
     "locked": true,
     "schema_version": 3,
     "solution": false,
     "task": false
    }
   },
   "source": [
    "(d) (5 marks) Create a function `MorseFileStats()` that takes as input a file name `fname`, a speed `S`, and an integer `N`. The function open and reads the file `fname`, computes the Morse Code length of each of the words in the file at a speed of `S` words per minute, where a word is defined as a sequence of letters and digits **excluding spaced and punctuation symbols**. The function returns a tuple `(H, B)`, where `B` is the list of bin edges, and `H` is the list of counts for each bin. _(Hint: you can obtain the bins either by using any of the functions to construct a histogram that we have seen in the module, or by implementing your own histogram algorithm instead)_."
   ]
  },
  {
   "cell_type": "code",
   "execution_count": 70,
   "metadata": {
    "deletable": false,
    "nbgrader": {
     "cell_type": "code",
     "checksum": "b2ef6dda492cd8ff9aabaf859acf9901",
     "grade": true,
     "grade_id": "cell-eb3bdbc6a573c181",
     "locked": false,
     "points": 5,
     "schema_version": 3,
     "solution": true,
     "task": false
    }
   },
   "outputs": [],
   "source": [
    "# YOUR CODE HERE\n",
    "\n",
    "import numpy as np\n",
    "import pandas as pd\n",
    "\n",
    "def MorseFileStats(fname, S, N):\n",
    "    # open file\n",
    "    f = open(fname)\n",
    "    # assign whole strig in f to l\n",
    "    l = f.readlines()\n",
    "    # transform list to string and then assign strings of file to text \n",
    "    text = \"\".join(l)\n",
    "    # remove spaces at the end of string text\n",
    "    # not to count spaces at the end of text\n",
    "    text = text.strip()\n",
    "    \n",
    "    # initialise list secs which is return value\n",
    "    secs = []\n",
    "    # initialise string word which is word\n",
    "    word = \"\"\n",
    "    # iterate input string s\n",
    "    for c in text:\n",
    "        # if a character of input string s is alphabet or digits,\n",
    "        # (as a word is defined as a sequence of letters or digits)\n",
    "        # then add the character to word\n",
    "        if c.isalpha() or c.isdigit():\n",
    "            word += c\n",
    "            continue\n",
    "        # if the length of a word is greater than or equal to 1\n",
    "        # add the return value to list sec of the function MorseTime() which define above\n",
    "        # MorseTime(s,S) returns the total time transmitting input string s witn S wpm\n",
    "        if len(word) >= 1:\n",
    "            #print(word)\n",
    "            secs.append(MorseTime(word, S))\n",
    "            word = \"\"\n",
    "    # to add the total time transmitting the end word of input string s\n",
    "    if len(word) >= 1:\n",
    "            #print(word)\n",
    "            secs.append(MorseTime(word, S))\n",
    "            word = \"\"\n",
    "        \n",
    "    bins = pd.DataFrame()\n",
    "    # assign secs which is duration of each word to bin['sec']\n",
    "    bins['sec'] = secs\n",
    "    # divide bin['sec'] by N and then assign to bins['bin']\n",
    "    bins['bin'] = pd.cut(bins['sec'], bins = N)\n",
    "\n",
    "    # caculate counts for each bin and then assign to d\n",
    "    d = bins.groupby(\"bin\").count()\n",
    "    # initialise index of d\n",
    "    d = d.reset_index()\n",
    "    \n",
    "    # assign list of counts for each bin to H\n",
    "    # assign list of bin edges to B\n",
    "    H = list(d['sec'])\n",
    "    B = [str(d['bin'][i]) for i in range(len(d['bin']))]\n",
    "    # assign return value tup_BH which the type is tuple\n",
    "    tup_BH = (H, B)\n",
    "\n",
    "    return tup_BH\n",
    "\n",
    "#MorseFileStats(\"textfiles/The_Call_of_The_Wild.txt\", 15, 15)\n",
    "#raise NotImplementedError()"
   ]
  },
  {
   "cell_type": "markdown",
   "metadata": {
    "deletable": false,
    "editable": false,
    "nbgrader": {
     "cell_type": "markdown",
     "checksum": "c2398b0fbd67774c58d759eb41a1c8d8",
     "grade": false,
     "grade_id": "cell-33210ea32b7126ca",
     "locked": true,
     "schema_version": 3,
     "solution": false,
     "task": false
    }
   },
   "source": [
    "(e) (5 marks) Use the function `MorseFileStats()` developed in point (c) above to compute the histograms of Morse Code word lengths in each of the files you find in the folder `\"textfiles\"`. You should produce a plot with a sufficient number of sub-panels (axes), to show the distribution of word lengths (in seconds) in each of those files for  `S=15`wpm, `S=20`wpm and `S=25`wpm.  For each histogram plot, use at least `N=15` bins."
   ]
  },
  {
   "cell_type": "code",
   "execution_count": 71,
   "metadata": {
    "deletable": false,
    "nbgrader": {
     "cell_type": "code",
     "checksum": "a859c25ac4fb55a9e20fe939db9aff18",
     "grade": true,
     "grade_id": "cell-fc42c1a53f3d2992",
     "locked": false,
     "points": 5,
     "schema_version": 3,
     "solution": true,
     "task": false
    }
   },
   "outputs": [
    {
     "data": {
      "image/png": "iVBORw0KGgoAAAANSUhEUgAABlkAAAlZCAYAAAAoJgc/AAAAOXRFWHRTb2Z0d2FyZQBNYXRwbG90bGliIHZlcnNpb24zLjUuMiwgaHR0cHM6Ly9tYXRwbG90bGliLm9yZy8qNh9FAAAACXBIWXMAAA9hAAAPYQGoP6dpAAEAAElEQVR4nOzdd3gUVfv/8c8mhPSEFkJClyogICIIiAm9g2IBK1hRQeVRH+wSEIOiIj4iioqAiiKCHYx0LKDSIlIEKUFAIghSpIQQ7t8f/rLfbLJJNpOERH2/rmuviz1zdubM3nPmbOZmzrjMzAQAAAAAAAAAAIAC8SvpBgAAAAAAAAAAAPwdkWQBAAAAAAAAAABwgCQLAAAAAAAAAACAAyRZAAAAAAAAAAAAHCDJAgAAAAAAAAAA4ABJFgAAAAAAAAAAAAdIsgAAAAAAAAAAADhAkgUAAAAAAAAAAMABkiwAAAAAAAAAAAAOkGQBAABAkejfv7/69esnSZo3b54SEhKKfZvHjx9XQkKCli5d6nX5e++9p8aNGys4OFgul0vJyclKSEiQy+XyqBcfH6/4+Phib++9996rZs2ayeVy+fRaunSpli5dKpfLpdmzZxdLm6ZNm+ZTW2rVqiVJGjx4sMLCwoqlLcWhVq1a6t27d551Bg8e7N6/TImJifroo49y1N24caMSEhKUkpLi03oKK/N4zXyVLVtWtWvX1j333KNDhw65652tYzirwvbz/PovvJswYYL69++v2rVry+Vy5Rr3vPp2amrq2W00AADAP1iZkm4AAAAA/v6OHTumpKQkvfLKK5L+uvj60ksvFXui5fjx4xo1apQk5bjQuH//fl1//fXq3r27Jk2apMDAQNWvX1+33HKLunfvXqztys0HH3ygm266SZMnT/Yof+KJJ7RkyRItXrzYo7xRo0Zas2ZNsbapV69eWrFihUdZmzZtdMUVV+i+++5zlwUGBhZrO0rSY489pnvuucejLDExUVdccYUuvfRSj/KNGzdq1KhRio+PL/KESl6SkpIUGRmpo0ePat68eXrhhRf0/fffa/ny5XK5XJo0adJZa0umwvbzvPovcvfKK68oNDRUHTt21Keffppv/alTp6phw4YeZRUrViyu5gEAAPzrkGQBAABAoc2bN0+nT59Wnz59Sropblu2bFF6erquu+46xcXFuctDQkJUrVq1s96elStXaufOnbr88svVuHFjj2VRUVHy8/PTRRdddNbbFRUVpaioqBzl0dHRRd6ejIwMnT59utQlbOrUqVPSTcjXBRdcoEqVKkmSunTpogMHDuitt97S8uXL1a5dOzVq1KiEW4izZePGjfLz+2tSiiZNmuRbv0mTJmrZsmVxNwsAAOBfi+nCAAAAUGhz5sxRx44dVb58eQ0ePFgvvfSSJHlMT5M5vZKZadKkSWrevLmCg4NVvnx5XXHFFdq+fbt7fTNnzpTL5dLEiRM9tjNy5Ej5+/trwYIFSklJcScHRo0a5d7O4MGDNXjwYF188cWSpAEDBnhMqeNtujBvTp06pTFjxqhhw4YKDAxUVFSUbrzxRu3fv9+j3uLFixUfH6+KFSsqODhYNWrU0OWXX67jx4/n+I4aNGiQI8Hiq/T0dD3yyCOKjY1VRESEOnfurM2bN+eot3DhQnXq1EkREREKCQlRu3bttGjRIkfbzMvWrVvVs2dPhYWFqXr16rrvvvuUlpbmXp6SkiKXy6Vx48ZpzJgxql27tgIDA7VkyRJJ0qpVq9S3b19VqFBBQUFBOv/88zVr1qwc20lNTdWQIUNUrVo191RZo0aN0unTp4tsX7JP8+VyuXTs2DFNnz7dfVzFx8dr2rRpuvLKKyVJHTp0cC+bNm1aruv25Xh3IjMBtnPnTknepwvbvXu3rrjiCoWHh6tcuXK69tprtXLlyhxt3r59uwYOHKjY2FgFBgYqOjpanTp1UnJycq7bz6ufF7b/FtbcuXPlcrm0cuVKd9mcOXPkcrnUq1cvj7pNmzbV5Zdf7n7vcrk0bNgwTZ48WfXr11dgYKAaNWqkmTNnenwucyquxYsX69Zbb1XFihUVERGhG264QceOHVNqaqquuuoqlStXTjExMbr//vuVnp5e6H2T5E6wAAAAoHTgThYAAAAUysmTJzV37lyNHz9e0l9TLx07dkyzZ8/2mIYqJiZGkjRkyBBNmzZNd999t55++mkdPHhQo0ePVtu2bfXDDz8oOjpaAwcO1LJly3TffffpoosuUsuWLbV48WKNGTNGDz/8sLp06aK0tDQlJSWpe/fuuvnmm3XLLbdIkvvCbatWrTR06FAlJiaqQ4cOioiI8Hmfzpw5o379+umrr77SiBEj1LZtW+3cuVMjR45UfHy8Vq1apeDgYKWkpKhXr15q37693njjDZUrV0579uxRUlKSTp06pZCQEPc658yZo6uuusrx9/zwww+rXbt2ev3113XkyBE98MAD6tOnjzZt2iR/f39J0ttvv60bbrhB/fr10/Tp0xUQEKDJkyerW7du+uKLL9SpUyfH288qPT1dffv21c0336z77rtPX375pZ544glFRkbq8ccf96j7v//9T/Xr19ezzz6riIgI1atXT0uWLFH37t3VunVrvfLKK4qMjNTMmTM1YMAAHT9+3H2hPTU1Va1atZKfn58ef/xx1alTRytWrNCYMWOUkpKiqVOnFsn+ZLdixQp17NhRHTp00GOPPSZJioiIUFRUlBITE/Xwww/rpZdeUosWLSTlfSeML8e7E1u3bpUkr3chSX9N4dehQwcdPHhQTz/9tOrWraukpCQNGDAgR92ePXsqIyND48aNU40aNfT7779r+fLlHs98yS6vfl4U/bcw4uLiFBAQoIULF+rCCy+U9FfyMTg4WMuWLVN6eroCAgK0b98+rV+/XnfccYfH5z/55BMtWbJEo0ePVmhoqCZNmqSrr75aZcqU0RVXXOFR95ZbblH//v01c+ZMrV27Vg8//LBOnz6tzZs3q3///rrtttu0cOFCPf3004qNjdW9997r/mxGRobMLN/98fPzK1RipXfv3tq/f78iIyMVHx+v0aNH+3QHDAAAAHxkAAAAQCF89NFH5u/vb/v27XOXDR061Lz91FyxYoVJsueee86jfNeuXRYcHGwjRoxwl508edLOP/98q127tm3cuNGio6MtLi7OTp8+7a6zf/9+k2QjR47Msa0lS5aYJHv//fc9ykeOHJmjbXFxcRYXF+d+/+6775okmzNnjke9lStXmiSbNGmSmZnNnj3bJFlycnIu385fkpOTTZKtXr3a6/JBgwZZaGio12WZ+9GzZ0+P8lmzZpkkW7FihZmZHTt2zCpUqGB9+vTxqJeRkWHNmjWzVq1a5dnGrCTZ0KFDc22rJJs1a5ZHec+ePa1Bgwbu9zt27DBJVqdOHTt16pRH3YYNG9r5559v6enpHuW9e/e2mJgYy8jIMDOzIUOGWFhYmO3cudOj3rPPPmuSbMOGDfnuS82aNa1Xr1551hk0aJDVrFnToyw0NNQGDRqUo+77779vkmzJkiX5rqcgx3tuMo/X1NRUS09Ptz/++MPefvttCw4OturVq9uJEyfMLOcx/NJLL5kk+/zzzz3WN2TIEJNkU6dONTOz33//3STZhAkT8m1Ldrn1c7PC99/Cuvjii61jx47u93Xr1rX//ve/5ufnZ8uWLTMzsxkzZpgk27Jli7ueJAsODrbU1FR32enTp61hw4ZWt25dd9nUqVNNkt11110e27300ktNko0fP96jvHnz5taiRQuPspo1a5qkfF95fT+NGzf2iHtWn3/+uT3yyCP26aef2rJly2zixIlWrVo1Cw0NzfecBQAAAN9xnzEAAAAKZc6cOWrfvr1P/wP9s88+k8vl0nXXXafTp0+7X1WqVFGzZs20dOlSd93AwEDNmjVLBw4cUIsWLWRmevfdd913bRSnzz77TOXKlVOfPn082tm8eXNVqVLF3c7mzZurbNmyuu222zR9+vRcp4CaM2eOatWq5b7zwYm+fft6vG/atKmk/5suavny5Tp48KAGDRrk0eYzZ86oe/fuWrlypY4dOyZJHstPnz7t0/+mz8rlcuV4/k7Tpk3dbcne7oCAAPf7rVu36qefftK1116boy09e/bU3r173dOgffbZZ+rQoYNiY2M96vXo0UOStGzZMkn/96yXrPtcGvh6vJtZjphkV6VKFQUEBKh8+fK67rrr1KJFCyUlJSkoKMjrtpctW6bw8HB1797do/zqq6/2eF+hQgXVqVNHzzzzjMaPH6+1a9cWyfdXkv1Xkjp16qRvvvlGJ06c0M6dO7V161YNHDhQzZs314IFCyT9dXdLjRo1VK9evRyfzXqHkb+/vwYMGKCtW7dq9+7dHnV79+7t8f7cc8+VpBzTkp177rk5+senn36qlStX5vu67bbbHH0H3bt315gxY9S7d29dcsklGjp0qL766iu5XK4cd5wBAADAOZIsAAAAcCw9PV2ffvqpxzMN8vLbb7/JzBQdHa2AgACP17fffqvff//do37dunXVvn17nTx5Utdee617yrHi9ttvv+nQoUMqW7Zsjnampqa621mnTh0tXLhQlStX1tChQ1WnTh3VqVNHL7zwgsf6Zs+e7fN3lJuKFSt6vM98ePyJEyfcbZakK664Ikebn376aZmZDh48qJSUlBzLM5MVvgoJCclxcT8wMFAnT57MUTd7zDLbef/99+dox5133ilJ7u/3t99+06effpqjXuZzbTLrderUyWP5TTfdVKD9KS6+Hu+ZU7tlfWW3cOFCrVy5UsnJyfr999/19ddf5/mw+wMHDnidiix7mcvl0qJFi9StWzeNGzdOLVq0UFRUlO6++24dPXq0UPtfUv1Xkjp37qy0tDR9/fXXWrBggSpVqqTzzz9fnTt31sKFCyVJixYtUufOnXN8tkqVKrmWHThwwKO8QoUKHu/Lli2ba3n2/tGoUSM1b94835e39jhVq1YtXXzxxfr222+LbJ0AAAD/djyTBQAAAI4tXLhQhw8f1mWXXeZT/UqVKsnlcumrr75yJwmyyl72+uuva+7cuWrVqpUmTpyoAQMGqHXr1kXS9vzaWbFiRSUlJXldHh4e7v53+/bt1b59e2VkZGjVqlV68cUXNXz4cPezZTZt2qRNmzZpypQpxd5mSXrxxRfdD0XPLvMCe9YHgktSgwYNiq1dLpfL431mOx966CH179/f62cy21OpUiU1bdpUTz75pNd6sbGxkqTJkyd7JAQyt1HSfD3e+/TpkyMm2TVr1qxA+1WxYkV9//33OcpTU1NzlNWsWdN9fG7ZskWzZs1SQkKCTp06pVdeecXnbWZXUv1Xklq3bq2wsDAtXLhQKSkp6tSpk1wulzp16qTnnntOK1eu1C+//OI1yeLtO8osy57sLIw6dep4vfsru5EjRyohIaHItmtmhXrGCwAAADyRZAEAAIBjc+bM0UUXXaSqVat6lGe9yyI4ONhd3rt3bz311FPas2dPvg+B//HHH3X33Xfrhhtu0Guvvaa2bdtqwIABWrt2rcqXL59jO0Wpd+/emjlzpjIyMny+KOzv76/WrVurYcOGmjFjhtasWaOBAwdqzpw5io2NzTXxUVTatWuncuXKaePGjRo2bFiedVu2bFmsbclLgwYNVK9ePf3www9KTEzMs27v3r01b9481alTxx3z3NZZ1AIDA70eVwU55nw93itWrFikF++lvx7+PmvWLH3++efu6dUkaebMmXl+rn79+nr00Uc1Z84crVmzJs+6ufVzqWT7ryQFBATokksu0YIFC7Rr1y499dRTkv5KipYpU0aPPvqoO+mS3aJFi/Tbb7+5k5IZGRl67733VKdOHVWrVq3I2vjpp58qLS0t33qZycSisGPHDn3zzTdek0sAAABwhiQLAAAAfLJs2TJ16tRJjz/+uB5//HFlZGTo448/1oMPPpij7nnnnSdJevrpp9WjRw/5+/uradOmateunW677TbdeOONWrVqlS655BKFhoZq7969+vrrr3Xeeefpjjvu0LFjx3TVVVepdu3amjRpksqWLatZs2apRYsWuvHGG/XRRx9J+uuOkpo1a+rjjz9Wp06dVKFCBVWqVEm1atUq1L4OHDhQM2bMUM+ePXXPPfeoVatWCggI0O7du7VkyRL169dPl112mV555RUtXrxYvXr1Uo0aNXTy5Em98cYbkuS+iDl79mz1798/xx0dRS0sLEwvvviiBg0apIMHD+qKK65Q5cqVtX//fv3www/av3+/Xn755WJtg68mT56sHj16qFu3bho8eLCqVq2qgwcPatOmTVqzZo3ef/99SdLo0aO1YMECtW3bVnfffbcaNGigkydPKiUlRfPmzdMrr7zi00Xv1NRUzZ49O0d5rVq1ck04nXfeeVq6dKk+/fRTxcTEKDw8XA0aNFCTJk0kSa+++qrCw8MVFBSk2rVre02S+Hq8F4dBgwbp+eef13XXXacxY8aobt26+vzzz/XFF19IkvtOhnXr1mnYsGG68sorVa9ePZUtW1aLFy/WunXrPPr2zTffrOnTp2vbtm2qWbOm+zuScvbz9PT0s9p/ExISNGrUKC1ZskTx8fHu8k6dOum+++6T9H/9MTg4WG3bttX8+fPVtGlTVa5cOcf6KlWqpI4dO+qxxx5TaGioJk2apJ9++infBFVBZX5/BbVq1SqlpKRIko4cOSIzcx/fF154oTs+nTt31iWXXKKmTZsqIiJCP/74o8aNGyeXy6UnnniiSPYBAAAAJFkAAADgIzNTRkaG+6HYS5cu1e+//+51yqdrrrlG33zzjSZNmqTRo0fLzLRjxw7VqlVLkydP1kUXXaTJkydr0qRJOnPmjGJjY9WuXTu1atVKknT77bfrl19+0cqVKxUaGipJOuecc/T666/ryiuv1IQJEzR8+HBJ0pQpU/Tf//5Xffv2VVpamgYNGqRp06YVal/9/f31ySef6IUXXtBbb72lsWPHqkyZMqpWrZri4uLcF0ebN2+u+fPna+TIkUpNTVVYWJiaNGmiTz75RF27dtW2bdv0ww8/aMKECYVqj6+uu+461ahRQ+PGjdOQIUN09OhRVa5cWc2bN9fgwYPPSht80aFDB33//fd68sknNXz4cP3xxx+qWLGiGjVq5HHHR0xMjFatWqUnnnhCzzzzjHbv3q3w8HDVrl1b3bt3z/PulqxWr16tK6+8Mkd5XsfKCy+8oKFDh2rgwIE6fvy44uLitHTpUtWuXVsTJkzQCy+8oPj4eGVkZGjq1Km5fr++HO/FITQ0VIsXL9bw4cM1YsQIuVwude3aVZMmTVLPnj1Vrlw5SX89a6ROnTqaNGmSdu3aJZfLpXPOOUfPPfec7rrrLvf6MjIylJGRITNzl+XWzx977LGz2n///PNPuVyuHM8uyUys1KtXz514yCxfsmRJrndz9O3bV40bN9ajjz6qX375RXXq1NGMGTM0YMCAArWruEycOFHTp0/3KMs8vrMei+edd57ee+89Pfvsszpx4oQqV67sTh7Vr1//bDcbAADgH8tlWX8lAwAAAD6688479d1332n16tUl3ZRSa9y4cXr22We1d+9e+fv7l3RzACUmJrqTB0U59VVJatWqlWrWrOm+A6owXC6Xhg4dqokTJxZBywAAAPBvQJIFAAAAAP6BMhMFDRs2VHp6uhYvXqz//e9/GjBggN58880Sbl3ROHLkiKKiopScnKxzzz230OsjyQIAAICCYrowAAAAAPgHCgkJ0fPPP6+UlBSlpaWpRo0aeuCBB/Too4+WdNOKTEREhE8PjwcAAACKC3eyAAAAAAAAAAAAOOBX0g0AAAAAAAAAAAD4OyLJAgAAAAAAAAAA4ABJFgAAAAAAAAAAAAd48L2kM2fO6Ndff1V4eLhcLldJNwcAAAAAAAAAAJQgM9PRo0cVGxsrP7/c71chySLp119/VfXq1Uu6GQAAAAAAAAAAoBTZtWuXqlWrlutykiySwsPDJf31ZUVERJRwawAAAAAAAAAAQEk6cuSIqlev7s4f5IYki+SeIiwiIoIkCwAAAAAAAAAAkKR8HzHCg+8BAAAAAAAAAAAcIMkCAAAAAAAAAADgAEkWAAAAAAAAAAAAB0iyAAAAAAAAAAAAOECSBQAAAAAAAAAAwAGSLAAAAAAAAAAAAA6QZAEAAAAAAAAAAHCAJAsAAAAAAAAAAIADJFkAAAAAAAAAAAAcIMkCAAAAAAAAAADgAEkWAAAAAAAAAAAAB0iyAAAAAAAAAAAAOFCmpBsAAADOvloPzi3pJvwrpTzVq6SbAAAAAAAAihB3sgAAAAAAAAAAADhAkgUAAAAAAAAAAMCBUp1kSUhIkMvl8nhVqVLFvdzMlJCQoNjYWAUHBys+Pl4bNmwowRYDAAAAAAAAAIB/i1KdZJGkxo0ba+/eve7Xjz/+6F42btw4jR8/XhMnTtTKlStVpUoVdenSRUePHi3BFgMAAAAAAAAAgH+DUp9kKVOmjKpUqeJ+RUVFSfrrLpYJEybokUceUf/+/dWkSRNNnz5dx48f1zvvvFPCrQYAAAAAAAAAAP90pT7J8vPPPys2Nla1a9fWwIEDtX37dknSjh07lJqaqq5du7rrBgYGKi4uTsuXL89znWlpaTpy5IjHCwAAAAAAAAAAoCBKdZKldevWevPNN/XFF1/otddeU2pqqtq2basDBw4oNTVVkhQdHe3xmejoaPey3IwdO1aRkZHuV/Xq1YttHwAAAAAAAAAAwD9TqU6y9OjRQ5dffrnOO+88de7cWXPnzpUkTZ8+3V3H5XJ5fMbMcpRl99BDD+nw4cPu165du4q+8QAAAAAAAAAA4B+tVCdZsgsNDdV5552nn3/+WVWqVJGkHHet7Nu3L8fdLdkFBgYqIiLC4wUAAAAAAAAAAFAQf6skS1pamjZt2qSYmBjVrl1bVapU0YIFC9zLT506pWXLlqlt27Yl2EoAAAAAAAAAAPBvUKakG5CX+++/X3369FGNGjW0b98+jRkzRkeOHNGgQYPkcrk0fPhwJSYmql69eqpXr54SExMVEhKia665pqSbDgAAAAAAAAAA/uFKdZJl9+7duvrqq/X7778rKipKF110kb799lvVrFlTkjRixAidOHFCd955p/744w+1bt1a8+fPV3h4eAm3HAAAAAAAAAAA/NO5zMxKuhEl7ciRI4qMjNThw4d5PgsA4F+h1oNzS7oJ/0opT/Uq6SYAAAAAAAAf+Jo3+Fs9kwUAAAAAAAAAAKC0IMkCAAAAAAAAAADgAEkWAAAAAAAAAAAAB0iyAAAAAAAAAAAAOECSBQAAAAAAAAAAwAGSLAAAAAAAAAAAAA6QZAEAAAAAAAAAAHCAJAsAAAAAAAAAAIADJFkAAAAAAAAAAAAcIMkCAAAAAAAAAADgAEkWAAAAAAAAAAAAB0iyAAAAAAAAAAAAOECSBQAAAAAAAAAAwAGSLAAAAAAAAAAAAA6QZAEAAAAAAAAAAHCAJAsAAAAAAAAAAIADJFkAAAAAAAAAAAAcIMkCAAAAAAAAAADgAEkWAAAAAAAAAAAAB0iyAAAAAAAAAAAAOECSBQAAAAAAAAAAwAGSLAAAAAAAAAAAAA6QZAEAAAAAAAAAAHCAJAsAAAAAAAAAAIADJFkAAAAAAAAAAAAcIMkCAAAAAAAAAADgAEkWAAAAAAAAAAAAB0iyAAAAAAAAAAAAOECSBQAAAAAAAAAAwAGSLAAAAAAAAAAAAA6UKekGAAAAAACKRq0H55Z0E/6VUp7qVdJNAAAAQAnhThYAAAAAAAAAAAAHSLIAAAAAAAAAAAA4QJIFAAAAAAAAAADAAZIsAAAAAAAAAAAADpBkAQAAAAAAAAAAcIAkCwAAAAAAAAAAgAMkWQAAAAAAAAAAABwgyQIAAAAAAAAAAOAASRYAAAAAAAAAAAAHSLIAAAAAAAAAAAA4QJIFAAAAAAAAAADAAZIsAAAAAAAAAAAADpBkAQAAAAAAAAAAcIAkCwAAAAAAAAAAgAMkWQAAAAAAAAAAABwgyQIAAAAAAAAAAOAASRYAAAAAAAAAAAAHSLIAAAAAAAAAAAA4QJIFAAAAAAAAAADAgb9VkmXs2LFyuVwaPny4u8zMlJCQoNjYWAUHBys+Pl4bNmwouUYCAAAAAAAAAIB/hb9NkmXlypV69dVX1bRpU4/ycePGafz48Zo4caJWrlypKlWqqEuXLjp69GgJtRQAAAAAAAAAAPwb/C2SLH/++aeuvfZavfbaaypfvry73Mw0YcIEPfLII+rfv7+aNGmi6dOn6/jx43rnnXdKsMUAAAAAAAAAAOCf7m+RZBk6dKh69eqlzp07e5Tv2LFDqamp6tq1q7ssMDBQcXFxWr58ea7rS0tL05EjRzxeAAAAAAAAAAAABVGmpBuQn5kzZ2rNmjVauXJljmWpqamSpOjoaI/y6Oho7dy5M9d1jh07VqNGjSrahgIAAAAAAAAAgH+VUn0ny65du3TPPffo7bffVlBQUK71XC6Xx3szy1GW1UMPPaTDhw+7X7t27SqyNgMAAAAAAAAAgH+HUn0ny+rVq7Vv3z5dcMEF7rKMjAx9+eWXmjhxojZv3izprztaYmJi3HX27duX4+6WrAIDAxUYGFh8DQcAAAAAAAAAAP94pfpOlk6dOunHH39UcnKy+9WyZUtde+21Sk5O1jnnnKMqVapowYIF7s+cOnVKy5YtU9u2bUuw5QAAAAAAAAAA4J+uVN/JEh4eriZNmniUhYaGqmLFiu7y4cOHKzExUfXq1VO9evWUmJiokJAQXXPNNSXRZAAAAAAAAAAA8C9RqpMsvhgxYoROnDihO++8U3/88Ydat26t+fPnKzw8vKSbBgAAAAAAAAAA/sH+dkmWpUuXerx3uVxKSEhQQkJCibQHAAAAAAAAAAD8O5XqZ7IAAAAAAAAAAACUViRZAAAAAAAAAAAAHCDJAgAAAAAAAAAA4ABJFgAAAAAAAAAAAAdIsgAAAAAAAAAAADhAkgUAAAAAAAAAAMABkiwAAAAAAAAAAAAOkGQBAAAAAAAAAABwgCQLAAAAAAAAAACAAyRZAAAAAAAAAAAAHCDJAgAAAAAAAAAA4ABJFgAAAAAAAAAAAAdIsgAAAAAAAAAAADhAkgUAAAAAAAAAAMABkiwAAAAAAAAAAAAOkGQBAAAAAAAAAABwgCQLAAAAAAAAAACAAyRZAAAAAAAAAAAAHCDJAgAAAAAAAAAA4ABJFgAAAAAAAAAAAAdIsgAAAAAAAAAAADhAkgUAAAAAAAAAAMABkiwAAAAAAAAAAAAOkGQBAAAAAAAAAABwgCQLAAAAAAAAAACAAyRZAAAAAAAAAAAAHCDJAgAAAAAAAAAA4ABJFgAAAAAAAAAAAAdIsgAAAAAAAAAAADhAkgUAAAAAAAAAAMABkiwAAAAAAAAAAAAOkGQBAAAAAAAAAABwgCQLAAAAAAAAAACAAyRZAAAAAAAAAAAAHCDJAgAAAAAAAAAA4ABJFgAAAAAAAAAAAAdIsgAAAAAAAAAAADhAkgUAAAAAAAAAAMABkiwAAAAAAAAAAAAOkGQBAAAAAAAAAABwgCQLAAAAAAAAAACAAyRZAAAAAAAAAAAAHCDJAgAAAAAAAAAA4ABJFgAAAAAAAAAAAAdIsgAAAAAAAAAAADhAkgUAAAAAAAAAAMABkiwAAAAAAAAAAAAOkGQBAAAAAAAAAABwgCQLAAAAAAAAAACAA2VKugEAUFrUenBuSTfhXynlqV4l3QQAAAAAAADAEe5kAQAAAAAAAAAAcKBUJ1lefvllNW3aVBEREYqIiFCbNm30+eefu5ebmRISEhQbG6vg4GDFx8drw4YNJdhiAAAAAAAAAADwb1GqkyzVqlXTU089pVWrVmnVqlXq2LGj+vXr506kjBs3TuPHj9fEiRO1cuVKValSRV26dNHRo0dLuOUAAAAAAAAAAOCfrlQnWfr06aOePXuqfv36ql+/vp588kmFhYXp22+/lZlpwoQJeuSRR9S/f381adJE06dP1/Hjx/XOO++UdNMBAAAAAAAAAMA/XKlOsmSVkZGhmTNn6tixY2rTpo127Nih1NRUde3a1V0nMDBQcXFxWr58eZ7rSktL05EjRzxeAAAAAAAAAAAABVGmpBuQnx9//FFt2rTRyZMnFRYWpg8//FCNGjVyJ1Kio6M96kdHR2vnzp15rnPs2LEaNWpUsbUZAAAA+Ler9eDckm4CAAAAABS7Un8nS4MGDZScnKxvv/1Wd9xxhwYNGqSNGze6l7tcLo/6ZpajLLuHHnpIhw8fdr927dpVLG0HAAAAAAAAAAD/XKX+TpayZcuqbt26kqSWLVtq5cqVeuGFF/TAAw9IklJTUxUTE+Ouv2/fvhx3t2QXGBiowMDA4ms0AAAAAAAAAAD4xyu2O1k6duyoQ4cO5Sg/cuSIOnbs6Hi9Zqa0tDTVrl1bVapU0YIFC9zLTp06pWXLlqlt27aO1w8AAAAAAAAAAOCLYruTZenSpTp16lSO8pMnT+qrr77yaR0PP/ywevTooerVq+vo0aOaOXOmli5dqqSkJLlcLg0fPlyJiYmqV6+e6tWrp8TERIWEhOiaa64p6t0BAAAAAAAAAADwUORJlnXr1rn/vXHjRqWmprrfZ2RkKCkpSVWrVvVpXb/99puuv/567d27V5GRkWratKmSkpLUpUsXSdKIESN04sQJ3Xnnnfrjjz/UunVrzZ8/X+Hh4UW7UwAAAAAAAAAAANkUeZKlefPmcrlccrlcXqcFCw4O1osvvujTuqZMmZLncpfLpYSEBCUkJDhpKgAAAAAAAAAAgGNFnmTZsWOHzEznnHOOvv/+e0VFRbmXlS1bVpUrV5a/v39RbxYAAAAAAAAAAOCsKvIkS82aNSVJZ86cKepVAwAAAAAAAAAAlBrF9uB7SdqyZYuWLl2qffv25Ui6PP7448W5aQAAAAAAAAAAgGJVbEmW1157TXfccYcqVaqkKlWqyOVyuZe5XC6SLAAAAAAAAAAA4G+t2JIsY8aM0ZNPPqkHHniguDYBAAAAAAAAAABQYvyKa8V//PGHrrzyyuJaPQAAAAAAAAAAQIkqtiTLlVdeqfnz5xfX6gEAAAAAAAAAAEpUsU0XVrduXT322GP69ttvdd555ykgIMBj+d13311cmwYAAAAAAAAAACh2xZZkefXVVxUWFqZly5Zp2bJlHstcLhdJFgAAAAAAAAAA8LdWbEmWHTt2FNeqAQAAAAAAAAAASlyxPZMFAAAAAAAAAADgn6zY7mS56aab8lz+xhtvFNemAQAAAAAAAAAAil2xJVn++OMPj/fp6elav369Dh06pI4dOxbXZgEAAAAAAAAAAM6KYkuyfPjhhznKzpw5ozvvvFPnnHNOcW0WAAAAAAAAAADgrDirz2Tx8/PTf/7zHz3//PNnc7MAAAAAAAAAAABF7qw/+H7btm06ffr02d4sAAAAAAAAAABAkSq26cLuvfdej/dmpr1792ru3LkaNGhQcW0WAAAAAAAAAADgrCi2JMvatWs93vv5+SkqKkrPPfecbrrppuLaLAAAAAAAAAAAwFlRbEmWJUuWFNeqAQAAAAAAAAAASlyxJVky7d+/X5s3b5bL5VL9+vUVFRVV3JsEAAAAAAAAAAAodsX24Ptjx47ppptuUkxMjC655BK1b99esbGxuvnmm3X8+PHi2iwAAAAAAAAAAMBZUWxJlnvvvVfLli3Tp59+qkOHDunQoUP6+OOPtWzZMt13333FtVkAAAAAAAAAAICzotimC5szZ45mz56t+Ph4d1nPnj0VHBysq666Si+//HJxbRoAAAAAAAAAAKDYFdudLMePH1d0dHSO8sqVKzNdGAAAAAAAAAAA+NsrtiRLmzZtNHLkSJ08edJdduLECY0aNUpt2rQprs0CAAAAAAAAAACcFcU2XdiECRPUo0cPVatWTc2aNZPL5VJycrICAwM1f/784tosAAAAAAAAAADAWVFsSZbzzjtPP//8s95++2399NNPMjMNHDhQ1157rYKDg4trswAAAAAAAAAAAGdFsSVZxo4dq+joaN16660e5W+88Yb279+vBx54oLg2DQAAAAAAAAAAUOyK7ZkskydPVsOGDXOUN27cWK+88kpxbRYAAAAAAAAAAOCsKLYkS2pqqmJiYnKUR0VFae/evcW1WQAAAAAAAAAAgLOi2KYLq169ur755hvVrl3bo/ybb75RbGxscW0WAACg1Kr14NySbgIAAAAAAChCxZZkueWWWzR8+HClp6erY8eOkqRFixZpxIgRuu+++4prswAAAAAAAAAAAGdFsSVZRowYoYMHD+rOO+/UqVOnJElBQUF64IEH9NBDDxXXZgEAAAAAAAAAAM6KYkuyuFwuPf3003rssce0adMmBQcHq169egoMDCyuTQIAAAAAAAAAAJw1xZZkyRQWFqYLL7ywuDcDAAAAAAAAAABwVvmVdAMAAAAAAAAAAAD+jor9ThYABVfrwbkl3QQAAAAAAAAAQD64kwUAAAAAAAAAAMABkiwAAAAAAAAAAAAOkGQBAAAAAAAAAABwgCQLAAAAAAAAAACAAyRZAAAAAAAAAAAAHCDJAgAAAAAAAAAA4ABJFgAAAAAAAAAAAAdIsgAAAAAAAAAAADhAkgUAAAAAAAAAAMABkiwAAAAAAAAAAAAOkGQBAAAAAAAAAABwgCQLAAAAAAAAAACAAyRZAAAAAAAAAAAAHCDJAgAAAAAAAAAA4ECpTrKMHTtWF154ocLDw1W5cmVdeuml2rx5s0cdM1NCQoJiY2MVHBys+Ph4bdiwoYRaDAAAAAAAAAAA/i1KdZJl2bJlGjp0qL799lstWLBAp0+fVteuXXXs2DF3nXHjxmn8+PGaOHGiVq5cqSpVqqhLly46evRoCbYcAAAAAAAAAAD805Up6QbkJSkpyeP91KlTVblyZa1evVqXXHKJzEwTJkzQI488ov79+0uSpk+frujoaL3zzjsaMmSI1/WmpaUpLS3N/f7IkSPFtxMAAAAAAAAAAOAfqVQnWbI7fPiwJKlChQqSpB07dig1NVVdu3Z11wkMDFRcXJyWL1+ea5Jl7NixGjVqVPE3GACQr1oPzi3pJgAAAAAAAACOlOrpwrIyM9177726+OKL1aRJE0lSamqqJCk6OtqjbnR0tHuZNw899JAOHz7sfu3atav4Gg4AAAAAAAAAAP6R/jZ3sgwbNkzr1q3T119/nWOZy+XyeG9mOcqyCgwMVGBgYJG3EQAAAAAAAAAA/Hv8Le5kueuuu/TJJ59oyZIlqlatmru8SpUqkpTjrpV9+/bluLsFAAAAAAAAAACgKJXqJIuZadiwYfrggw+0ePFi1a5d22N57dq1VaVKFS1YsMBddurUKS1btkxt27Y9280FAAAAAAAAAAD/IqV6urChQ4fqnXfe0ccff6zw8HD3HSuRkZEKDg6Wy+XS8OHDlZiYqHr16qlevXpKTExUSEiIrrnmmhJuPQAAAAAAAAAA+Ccr1UmWl19+WZIUHx/vUT516lQNHjxYkjRixAidOHFCd955p/744w+1bt1a8+fPV3h4+FluLQAAAAAAAAAA+Dcp1UkWM8u3jsvlUkJCghISEoq/QQAAAAAAAAAAAP9fqX4mCwAAAAAAAAAAQGlFkgUAAAAAAAAAAMABkiwAAAAAAAAAAAAOkGQBAAAAAAAAAABwgCQLAAAAAAAAAACAAyRZAAAAAAAAAAAAHCDJAgAAAAAAAAAA4ABJFgAAAAAAAAAAAAdIsgAAAAAAAAAAADhAkgUAAAAAAAAAAMABkiwAAAAAAAAAAAAOkGQBAAAAAAAAAABwgCQLAAAAAAAAAACAAyRZAAAAAAAAAAAAHCDJAgAAAAAAAAAA4ABJFgAAAAAAAAAAAAdIsgAAAAAAAAAAADhAkgUAAAAAAAAAAMABkiwAAAAAAAAAAAAOkGQBAAAAAAAAAABwgCQLAAAAAAAAAACAAyRZAAAAAAAAAAAAHCDJAgAAAAAAAAAA4ECZkm4ASrdaD84t6SYAAAAAAAAAAFAqcScLAAAAAAAAAACAAyRZAAAAAAAAAAAAHCDJAgAAAAAAAAAA4ABJFgAAAAAAAAAAAAdIsgAAAAAAAAAAADhAkgUAAAAAAAAAAMABkiwAAAAAAAAAAAAOkGQBAAAAAAAAAABwgCQLAAAAAAAAAACAAyRZAAAAAAAAAAAAHCDJAgAAAAAAAAAA4ABJFgAAAAAAAAAAAAdIsgAAAAAAAAAAADhAkgUAAAAAAAAAAMABkiwAAAAAAAAAAAAOkGQBAAAAAAAAAABwgCQLAAAAAAAAAACAAyRZAAAAAAAAAAAAHCDJAgAAAAAAAAAA4ABJFgAAAAAAAAAAAAdIsgAAAAAAAAAAADhAkgUAAAAAAAAAAMABkiwAAAAAAAAAAAAOkGQBAAAAAAAAAABwgCQLAAAAAAAAAACAAyRZAAAAAAAAAAAAHCj1SZYvv/xSffr0UWxsrFwulz766COP5WamhIQExcbGKjg4WPHx8dqwYUPJNBYAAAAAAAAAAPxrlPoky7Fjx9SsWTNNnDjR6/Jx48Zp/PjxmjhxolauXKkqVaqoS5cuOnr06FluKQAAAAAAAAAA+DcpU9INyE+PHj3Uo0cPr8vMTBMmTNAjjzyi/v37S5KmT5+u6OhovfPOOxoyZMjZbCoAAAAAAAAAAPgXKfV3suRlx44dSk1NVdeuXd1lgYGBiouL0/Lly3P9XFpamo4cOeLxAgAAAAAAAAAAKIi/dZIlNTVVkhQdHe1RHh0d7V7mzdixYxUZGel+Va9evVjbCQAAAAAAAAAA/nn+1kmWTC6Xy+O9meUoy+qhhx7S4cOH3a9du3YVdxMBAAAAAAAAAMA/TKl/JkteqlSpIumvO1piYmLc5fv27ctxd0tWgYGBCgwMLPb2AQAAAAAAAACAf66/9Z0stWvXVpUqVbRgwQJ32alTp7Rs2TK1bdu2BFsGAAAAAAAAAAD+6Ur9nSx//vmntm7d6n6/Y8cOJScnq0KFCqpRo4aGDx+uxMRE1atXT/Xq1VNiYqJCQkJ0zTXXlGCrAQAAAAAAAADAP12pT7KsWrVKHTp0cL+/9957JUmDBg3StGnTNGLECJ04cUJ33nmn/vjjD7Vu3Vrz589XeHh4STUZAAAAAAAAAAD8C7jMzEq6ESXtyJEjioyM1OHDhxUREVHSzSlVaj04t6SbAAAAAAClWspTvUq6Cf9K/L1aMjjeAQD/Fr7mDf7Wz2QBAAAAAAAAAAAoKSRZAAAAAAAAAAAAHCDJAgAAAAAAAAAA4ABJFgAAAAAAAAAAAAdIsgAAAAAAAAAAADhAkgUAAAAAAAAAAMABkiwAAAAAAAAAAAAOkGQBAAAAAAAAAABwgCQLAAAAAAAAAACAAyRZAAAAAAAAAAAAHCDJAgAAAAAAAAAA4ABJFgAAAAAAAAAAAAfKlHQDAAAAAAAA8PdQ68G5Jd2Ef6WUp3qVdBMAALngThYAAAAAAAAAAAAHSLIAAAAAAAAAAAA4QJIFAAAAAAAAAADAAZIsAAAAAAAAAAAADpBkAQAAAAAAAAAAcIAkCwAAAAAAAAAAgAMkWQAAAAAAAAAAABwgyQIAAAAAAAAAAOAASRYAAAAAAAAAAAAHSLIAAAAAAAAAAAA4QJIFAAAAAAAAAADAAZIsAAAAAAAAAAAADpBkAQAAAAAAAAAAcIAkCwAAAAAAAAAAgAMkWQAAAAAAAAAAABwgyQIAAAAAAAAAAOAASRYAAAAAAAAAAAAHSLIAAAAAAAAAAAA4QJIFAAAAAAAAAADAAZIsAAAAAAAAAAAADpBkAQAAAAAAAAAAcIAkCwAAAAAAAAAAgAMkWQAAAAAAAAAAABwoU9INAAAAAADg76zWg3NLugkAgGLA+b1kpDzVq6SbABQId7IAAAAAAAAAAAA4QJIFAAAAAAAAAADAAZIsAAAAAAAAAAAADpBkAQAAAAAAAAAAcIAkCwAAAAAAAAAAgANlSroBAAAAAAAAAHJX68G5Jd0EAEAuuJMFAAAAAAAAAADAAZIsAAAAAAAAAAAADpBkAQAAAAAAAAAAcIAkCwAAAAAAAAAAgAMkWQAAAAAAAAAAABwgyQIAAAAAAAAAAOBAmZJuAAAAAAAAAAAAklTrwbkl3YR/nZSnepV0E/7WuJMFAAAAAAAAAADAgX9MkmXSpEmqXbu2goKCdMEFF+irr74q6SYBAAAAAAAAAIB/sH9EkuW9997T8OHD9cgjj2jt2rVq3769evTooV9++aWkmwYAAAAAAAAAAP6h/hFJlvHjx+vmm2/WLbfconPPPVcTJkxQ9erV9fLLL5d00wAAAAAAAAAAwD/U3/7B96dOndLq1av14IMPepR37dpVy5cv9/qZtLQ0paWlud8fPnxYknTkyJHia+jf1Jm04yXdBAAAAAAAAABAMeG6uHeZ34uZ5Vnvb59k+f3335WRkaHo6GiP8ujoaKWmpnr9zNixYzVq1Kgc5dWrVy+WNgIAAAAAAAAAUBpFTijpFpRuR48eVWRkZK7L//ZJlkwul8vjvZnlKMv00EMP6d5773W/P3PmjA4ePKiKFSvm+pl/oyNHjqh69eratWuXIiIiSro5EDEpjYhJ6UI8Sh9iUvoQk9KFeJQ+xKT0ISalC/EofYhJ6UNMShfiUfoQk9KFeOTOzHT06FHFxsbmWe9vn2SpVKmS/P39c9y1sm/fvhx3t2QKDAxUYGCgR1m5cuWKq4l/exEREXSwUoaYlD7EpHQhHqUPMSl9iEnpQjxKH2JS+hCT0oV4lD7EpPQhJqUL8Sh9iEnpQjy8y+sOlkx/+wffly1bVhdccIEWLFjgUb5gwQK1bdu2hFoFAAAAAAAAAAD+6f72d7JI0r333qvrr79eLVu2VJs2bfTqq6/ql19+0e23317STQMAAAAAAAAAAP9Q/4gky4ABA3TgwAGNHj1ae/fuVZMmTTRv3jzVrFmzpJv2txYYGKiRI0fmmFoNJYeYlD7EpHQhHqUPMSl9iEnpQjxKH2JS+hCT0oV4lD7EpPQhJqUL8Sh9iEnpQjwKz2VmVtKNAAAAAAAAAAAA+Lv52z+TBQAAAAAAAAAAoCSQZAEAAAAAAAAAAHCAJAsAAAAAAAAAAIADJFnOggMHDqhy5cpKSUkp6ab8awwePFgul0sul0sfffSRxzLicfblFQ+JmJQEYlL6cN4qXegjpQ8xKX04b5Uu9JHShz5SutBHSh9iUvpw3ipd6COlT34xyY4YFa2EhAT39z9hwoSSbo4HkixnwdixY9WnTx/VqlXLXfbLL7+oT58+Cg0NVaVKlXT33Xfr1KlTua7j4MGDuuuuu9SgQQOFhISoRo0auvvuu3X48GGPen379lWNGjUUFBSkmJgYXX/99fr111+9rvPAgQOqVq2aXC6XDh06VOD9mjNnjho1aqTAwEA1atRIH374Yb6fMTM9++yzql+/vgIDA1W9enUlJia6l3/99ddq166dKlasqODgYDVs2FDPP/+8xzqmTZvm7lBZXydPnnTXeeGFF7R3716vbSiKeGRasWKFOnbsqNDQUJUrV07x8fE6ceKEe7kv8fC2L6+88kq+285qw4YNuvzyy1WrVq0CnWh+/PFHxcXFKTg4WFWrVtXo0aNlZu7lH3zwgbp06aKoqChFRESoTZs2+uKLLzzWkZ6ertGjR6tOnToKCgpSs2bNlJSU5FEnr3hI3mNyzz336IILLlBgYKCaN2/u0/6kpaXprrvuUqVKlRQaGqq+fftq9+7d7uUpKSm6+eabVbt2bQUHB6tOnToaOXJkjlgvWrRIbdu2VXh4uGJiYvTAAw/o9OnTPrUhk9OYZNq6davCw8NVrlw5j3JfYpLVzJkz5XK5dOmll3qUn62YZDIz9ejRI8cPEV9jkqkw5y2nMfniiy900UUXKTw8XFFRUbr88su1Y8cO9/K9e/fqmmuuUYMGDeTn56fhw4fnWEdh+0lRxSM1NVXXX3+9qlSpotDQULVo0UKzZ8/2qPPkk0+qbdu2CgkJyXH8ZSqKPvLaa6+pffv2Kl++vMqXL6/OnTvr+++/z/MzS5cuVb9+/RQTE6PQ0FA1b95cM2bM8KjjSzw++OADtWzZUuXKlXOv56233vKoU9A+8sMPP+jqq69W9erVFRwcrHPPPVcvvPBCnvvj69ieX0wOHDig7t27KzY21j22Dhs2TEeOHMlz+9k5iYmU/9guScuWLdMFF1ygoKAgnXPOOV7HuQkTJqhBgwYKDg5W9erV9Z///MfnsV0qmphkym98/+OPP3T99dcrMjJSkZGRuv7663Ock1auXKlOnTqpXLlyKl++vLp27ark5GSftp/Jl2PVm/zGdyn/mBS2n2SPh9PjNL+xXco/HkXVR5zEY/PmzerQoYOio6Pd3/Wjjz6q9PR0j3ovvfSSzj33XAUHB6tBgwZ68803PZbHx8d7/c3Yq1cvd52C9hGn38uQIUNUp04dBQcHKyoqSv369dNPP/3kUWfNmjXq0qWLypUrp4oVK+q2227Tn3/+6V6e2+95l8ulffv25bn9rJzEJOsf51lfoaGhHvXyi4kv58zi7iMpKSm5fo/vv/++u15+8SjM+TI3uf0Gze7kyZMaPHiwzjvvPJUpUybX+jNmzFCzZs0UEhKimJgY3XjjjTpw4IB7eXH0kawK8hv01VdfVXx8vCIiInKtv2XLFvXr10+VKlVSRESE2rVrpyVLlriXF1UfycrXmOR2XGX/7ZpfTHz57X22YuLt+Bg4cKBHnfxiIhXu7yFvfI2JJM2aNUvNmzdXSEiIatasqWeeecZjedYLv1lfjRs39qh36NAhDR06VDExMQoKCtK5556refPmuZcX9G+STAWJx7Zt23TZZZe5/6a96qqr9Ntvv7mXL126NNfjf+XKlR7rmjZtmpo2baqgoCBVqVJFw4YNy3Pb2flyfSk7X8Z2X+JRXH3EyTWm/MZ2X2NSFH3ESUx8HdvT0tL0yCOPqGbNmgoMDFSdOnX0xhtvFGjb+cUku6KIka/jvSTNnTtXrVu3VnBwsCpVqqT+/ft7LC+Ka5BS/ueS7Hwd7/OL0f3336+9e/eqWrVqBW5zsTMUq+PHj1u5cuVs+fLl7rLTp09bkyZNrEOHDrZmzRpbsGCBxcbG2rBhw3Jdz48//mj9+/e3Tz75xLZu3WqLFi2yevXq2eWXX+5Rb/z48bZixQpLSUmxb775xtq0aWNt2rTxus5+/fpZjx49TJL98ccfBdqv5cuXm7+/vyUmJtqmTZssMTHRypQpY99++22en7vrrrusQYMG9vHHH9v27dtt7dq1tmDBAvfyNWvW2DvvvGPr16+3HTt22FtvvWUhISE2efJkd52pU6daRESE7d271+PljST78MMP3e+LKh6Z30FERISNHTvW1q9fb1u2bLH333/fTp486a7jSzwk2dSpUz325fjx43luO7vvv//e7r//fnv33XetSpUq9vzzz+f7mcOHD1t0dLQNHDjQfvzxR5szZ46Fh4fbs88+665zzz332NNPP23ff/+9bdmyxR566CELCAiwNWvWuOuMGDHCYmNjbe7cubZt2zabNGmSBQUFedTJuq9Z42HmPSZmfx0rEydOtOuvv96aNWvm0/dw++23W9WqVW3BggW2Zs0a69ChgzVr1sxOnz5tZmaff/65DR482L744gvbtm2bffzxx1a5cmW777773Ov44YcfrGzZsjZq1Cj7+eefbenSpdawYUOPOr5wEpNMp06dspYtW1qPHj0sMjLSY5kvMcmUkpJiVatWtfbt21u/fv28bqu4Y5Jp/Pjx7vNN1u35EpOsCnPechKTbdu2WWBgoD300EO2detWW716tV1yySXWvHlzd50dO3bY3XffbdOnT7fmzZvbPffck2M9heknRRmPzp0724UXXmjfffedbdu2zZ544gnz8/PzaMfjjz9u48ePt3vvvTfH8WdWdH3kmmuusZdeesnWrl1rmzZtshtvvNEiIyNt9+7duX7mySeftEcffdS++eYb27p1q73wwgvm5+dnn3zyibuOL/FYsmSJffDBB7Zx40bbunWrTZgwwfz9/S0pKSlHXV/7yJQpU+yuu+6ypUuX2rZt2+ytt96y4OBge/HFF3PdH1/H9vxicvDgQZs0aZKtXLnSUlJSbOHChdagQQO7+uqrc922N05iYpb/2L59+3YLCQmxe+65xzZu3GivvfaaBQQE2OzZs9113n77bQsMDLQZM2bYjh077IsvvrCYmBgbPnx4ju0VZ0zMfBvfu3fvbk2aNLHly5fb8uXLrUmTJta7d2/38iNHjlj58uVt8ODB9tNPP9n69evt8ssvt8qVK9upU6fy3H5WBTlWM/kyvvsSk8L0E2/xcHqc5je2m+Ufj6LqI07isW3bNnvjjTcsOTnZUlJS3OPcQw895K4zadIkCw8Pt5kzZ9q2bdvs3XfftbCwMI9z24EDBzx+K65fv978/f1t6tSpObbpax9x+r1MnjzZli1bZjt27LDVq1dbnz59rHr16u6Y7Nmzx8qXL2+33367/fTTT/b9999b27ZtPc5tx48fz/Fbvlu3bhYXF5fntrNzEpOjR4/m2HajRo1s0KBB7jq+xKQg58zi6iOnT5/OsS+jRo2y0NBQO3r0qJn5Fg+n58vc+PIbNNOff/5pt99+u7366qvWrVs3r/W/+uor8/PzsxdeeMG2b99uX331lTVu3NguvfRSd53i6CNZFeQ36PPPP29jx461sWPH5lq/bt261rNnT/vhhx9sy5Ytduedd1pISIj779qi6iOZChKTHTt2mCRbuHChx/bT0tLcdXyJSUF+exd3TOLi4uzWW2/12J9Dhw551MkvJmaF+3sou4LEZN68eVamTBl7+eWXbdu2bfbZZ59ZlSpVPProoUOHPPZv165dVqFCBRs5cqS7TlpamrVs2dJ69uxpX3/9taWkpNhXX31lycnJObbp698kmXyNx59//mnnnHOOXXbZZbZu3Tpbt26d9evXzy688ELLyMhwtzP78X/LLbdYrVq17MyZM+51PffccxYbG2szZsywrVu32vr16z3O074oyPWlTL6M7b7Eo7j6iJNrTPmN7b7GpCj6iJOY+DK2m5n17dvXWrdubQsWLLAdO3bYd999Z998842jbXuLSXZFFSNfxnszs9mzZ1v58uXt5Zdfts2bN9tPP/1k77//fqG27U1BziWZfBnvzfKPUaaaNWsW6Drb2UCSpZjNmTPHKlWq5FE2b9488/Pzsz179rjL3n33XQsMDLTDhw/7vO5Zs2ZZ2bJlLT09Pdc6H3/8sblcrhx/0E+aNMni4uJs0aJFji5WXnXVVda9e3ePsm7dutnAgQNz/czGjRutTJky9tNPPxVoW5dddpldd9117vdTp071epHJm+wnvaKMR+vWre3RRx/1bSf+P2/x8OXEXBC+nmgmTZpkkZGRHheNxo4da7GxsR6DZHaNGjWyUaNGud/HxMTYxIkTPer069fPrr322hyf9bav3mKS1ciRI30anA8dOmQBAQE2c+ZMd9mePXvMz88vzz+0x40bZ7Vr13a/f+ihh6xly5YedT788EMLCgqyI0eO5NsObwp68h8xYoRdd911Ph/r2WNi9tcg3K5dO3v99ddt0KBBBUqyFFVMMiUnJ1u1atVs7969Ph3v2WOSqbDnrax8jcn7779vZcqUcf/gNzP75JNPvJ5Xzf76A87bRf3C9JOijEdoaKi9+eabHmUVKlSw119/PUfd3I6/4ugjZn8ds+Hh4TZ9+vQCfa5nz5524403el2WWzy8Of/8872e0530kUx33nmndejQwaftZ8prbC/I+PfCCy9YtWrVCrTt7HyJiS9j+4gRI6xhw4YeZUOGDLGLLrrI/X7o0KHWsWNHjzr33nuvXXzxxTnWV9wxyW9837hxo0ny+I8lK1asMEnu72HlypUmyX755Rd3nXXr1pkk27p1a77tzEtux2omX8Z3X2JSkG0X9LyVKb/j1Jex3Zd4ONm2r/KLhzf/+c9/PI7tNm3a2P333+9R55577rF27drluo7nn3/ewsPD7c8//8yxrDB9xMn38sMPP3gc25MnT7bKlSt7jJ1r1641Sfbzzz97Xce+ffssICAgxxjlREFjkpycbJLsyy+/dJc5iUle58zi6iPeNG/e3G666Sb3eyfxMHM2hpn5/hvUm9zqP/PMM3bOOed4lP3vf//L87spyj7i9DfokiVLvNbfv39/jmPuyJEj7sSGN4XpIwWNSWaSZe3atbnWKWhM8vvtXdwxye83YUFjUtC/h7IraEyuvvpqu+KKKzzKnn/+eatWrVquf7t/+OGH5nK5LCUlxV328ssv2znnnOPTf/goyHmrIPH44osvzM/Pz+Nay8GDB02Sx3/SyerUqVNWuXJlGz16tMdngoODc+0zvirI7+u8ZB/bs/MWj6yKso8UxTWm7GN7dt5iklVh+khRxMTb2P75559bZGSkHThwoEi27cv3XJwxyj7ep6enW9WqVb3+bV/U2y7IucSb3M57vsQoU2lMsjBdWDH78ssv1bJlS4+yFStWqEmTJoqNjXWXdevWTWlpaVq9erXP6z58+LAiIiJUpkwZr8sPHjyoGTNmqG3btgoICHCXb9y4UaNHj9abb74pPz9nh8CKFSvUtWtXj7Ju3bpp+fLluX7m008/1TnnnKPPPvtMtWvXVq1atXTLLbfo4MGDuX5m7dq1Wr58ueLi4jzK//zzT9WsWVPVqlVT7969tXbtWp/aXVTx2Ldvn7777jtVrlxZbdu2VXR0tOLi4vT111/nuu3c4iFJw4YNU6VKlXThhRfqlVde0ZkzZ3zan8JYsWKF4uLiFBgY6C7r1q2bfv3111znijxz5oyOHj2qChUquMvS0tIUFBTkUS84ODjP7yIrbzFxYvXq1UpPT/c4LmNjY9WkSZM8j8vDhw/7tD8nT54sUP90avHixXr//ff10ksv+VTfW0wkafTo0YqKitLNN99c4DYUVUwk6fjx47r66qs1ceJEValSxafPZI+JVDTnLSdatmwpf39/TZ06VRkZGTp8+LDeeustde3aNUc/zkth+klRxuPiiy/We++9p4MHD+rMmTOaOXOm0tLSFB8f7/M6iquPHD9+XOnp6Tlinx9vx0tBmJkWLVqkzZs365JLLvHpM77GxEnb8hvbffHrr7/qgw8+yDF2FpQvMfFlbM/tN8OqVavc0ypcfPHFWr16tXuqne3bt2vevHke07zkpahi4sv4vmLFCkVGRqp169busosuukiRkZHu8aZBgwaqVKmSpkyZolOnTunEiROaMmWKGjdurJo1a/q0T9n5eqz6Mr77EhMn287kSzx8OU59Gdt9iYeTbefHyblD+ms60KSkJI9t53Ze/f77773GQ5KmTJmigQMH5pgGIzdFFZPsjh07pqlTp6p27dqqXr26pL/2p2zZsh7jdXBwsCTlOu69+eabCgkJ0RVXXOHztrNzGpPXX39d9evXV/v27d1lTmJSkHGsuOKxevVqJScne/z+cxIPyfn4WpjfoLlp27atdu/erXnz5snM9Ntvv2n27Nl5jhFF1UeK4zdoxYoVde655+rNN9/UsWPHdPr0aU2ePFnR0dG64IILvH6mMH3EaUz69u2rypUrq127djmml3USk4Iq6pjMmDFDlSpVUuPGjXX//ffr6NGj7mVOYlIYBY1Jbuek3bt3a+fOnV4/M2XKFHXu3Nnjd8cnn3yiNm3aaOjQoYqOjlaTJk2UmJiojIyMfNtQVPFIS0uTy+Xy+J0SFBQkPz+/XM9Jn3zyiX7//XcNHjzYXbZgwQKdOXNGe/bs0bnnnqtq1arpqquu0q5du/JtQ3ZOry9l8ja2Z+ctHoWV11hSmGtM3sb27LzFpCgVNibexvZPPvlELVu21Lhx41S1alXVr19f999/v8eUwEWx7ayKK0bexvs1a9Zoz5498vPz0/nnn6+YmBj16NFDGzZsKNJtS4U7l+S3Xl9iVFqRZClmKSkpHhfvpb/mxI+OjvYoK1++vMqWLavU1FSf1nvgwAE98cQTGjJkSI5lDzzwgEJDQ1WxYkX98ssv+vjjj93L0tLSdPXVV+uZZ55RjRo1HOxR7vsQHR2dZ/u3b9+unTt36v3339ebb76padOmafXq1V5/KFarVk2BgYFq2bKlhg4dqltuucW9rGHDhpo2bZo++eQTvfvuuwoKClK7du30888/59vuoorH9u3bJf017+Ott96qpKQktWjRQp06dcrRjrziIUlPPPGE3n//fS1cuFADBw7Ufffdl2Mu++KQWwwzl3nz3HPP6dixY7rqqqvcZd26ddP48eP1888/68yZM1qwYIE+/vhjn+eo9BYTJ1JTU1W2bFmVL1/eozyv43Lbtm168cUXdfvtt7vLMpOF7777rjIyMrRnzx6NGTNGkgo076YTBw4c0ODBgzVt2jRFRET49BlvMfnmm280ZcoUvfbaa47aUVQxkaT//Oc/atu2rfr16+dTfW8xKarzlhO1atXS/Pnz9fDDDyswMFDlypXT7t27NXPmzAKtpzD9pCjj8d577+n06dOqWLGiAgMDNWTIEH344YeqU6eOz+sorj7y4IMPqmrVqurcubPPn5k9e7ZWrlypG2+8scDbO3z4sMLCwlS2bFn16tVLL774orp06eLTZ32JyYoVKzRr1iyv43Ru8hrbfXH11VcrJCREVatWVUREhF5//XVH68nkS0x8GdtzG29Onz6t33//XZI0cOBAPfHEE7r44osVEBCgOnXqqEOHDnrwwQd9amtRxcSX8T01NVWVK1fO8dnKlSu7x5vw8HAtXbpUb7/9toKDgxUWFqYvvvhC8+bNK3ACraDHqi/juy8xcbLtTHnFoyDHqS9juy/xcLLt3Dj9Ttq2baugoCDVq1dP7du31+jRo93LunXrptdff12rV6+WmWnVqlV64403lJ6e7hGPTN9//73Wr1/v8fs4P0UVk0yTJk1SWFiYwsLClJSUpAULFqhs2bKSpI4dOyo1NVXPPPOMTp06pT/++EMPP/ywpNzHiTfeeEPXXHON++J/QRTmfJ6WlqYZM2bkuNBZ0JhIBRvHijoemaZMmaJzzz1Xbdu2dZc5iYeTMUwq/G/Q3LRt21YzZszQgAEDVLZsWVWpUkXlypXTiy++6LV+UfWR4voN6nK5tGDBAq1du1bh4eEKCgrS888/r6SkpFyfh+e0jziJSVhYmMaPH6/Zs2dr3rx56tSpkwYMGKC3337bXaegMXGiKGNy7bXX6t1339XSpUv12GOPac6cOR7PKXASE6ecxKRbt2764IMPtGjRIp05c0ZbtmxxP7/DWz/eu3evPv/88xx9YPv27Zo9e7YyMjI0b948Pfroo3ruuef05JNP5tuGoorHRRddpNDQUD3wwAM6fvy4jh07pv/+9786c+ZMruekKVOmqFu3bh4X/Ldv364zZ84oMTFREyZM0OzZs3Xw4EF16dLFp+frZirM9aW8xvascotHYeU2lji9xpTX2J6dt5gUlcLERMp9bN++fbu+/vprrV+/Xh9++KH7uBk6dGiRbTu7oo5RJm/jfda/Yx599FF99tlnKl++vOLi4jz+A1xRXIMszLkkv/XmF6NSrcTuofmX6Nq1q915550eZbfeeqt17do1R92AgAB79913813n4cOHrXXr1ta9e3evt2bt37/fNm/ebPPnz7d27dpZz5493beQ/uc//7EBAwa46+Z2C3N+AgIC7J133vEoy5xPPTe33nqrSbLNmze7y1avXu11Ooft27fbunXr7NVXX7UKFSrk2FZWGRkZ1qxZM7vrrrtyLFO22+CKKh7ffPONSfKYc9PM7LzzzrMHH3zQoyyveHjz7LPPWkRERK7L8+PrLXNdunSx2267zaNs9+7dJslWrFiRo/4777xjISEhOW7h3bdvn/Xr18/8/PzM39/f6tevb3feeacFBwfnWEf2eJh5j0lWvt5mOmPGDCtbtmyO8s6dO9uQIUNylO/Zs8fq1q1rN998c45lzz33nEVERJi/v7+FhIS451N+77338m2HN77G5LLLLrMHHnjA/T6/W1W9xeTIkSNWq1YtmzdvnrusoNOFFVVMPv74Y6tbt67HHKHetpcpt5gU1XkrK19jsnfvXqtXr57997//tTVr1tiyZcssLi7OOnXq5LUf5zYVQWH6SVHFw8xs2LBh1qpVK1u4cKElJydbQkKCRUZG2rp163LUzev4K+o+8vTTT1v58uXthx9+8PkzS5YssdDQ0DynsspraoiMjAz7+eefbe3atfbss89aZGSkLVmyJEc9J31k/fr1FhUVZU888YQvu2Jm+Y/tZvmfE/bu3WubNm2yjz76yBo1amR33HGHz9vPzteY+DK216tXzxITEz0+9/XXX5sk9xzHS5YssejoaHvttdds3bp19sEHH1j16tW9TkFQnDHxZXx/8sknrX79+jk+W7duXRs7dqyZ/TX/cqtWreyGG26w77//3lasWGGXX365NW7cuMBzHvt6rGbyZXz3JSYF2XZBzlsFOU59Gdt9iYeTbeemoPHI9Msvv9iGDRvsnXfesapVq9rTTz/tXnb8+HG78cYbrUyZMubv72+xsbE2YsQIk2S//fZbjnXddttt1qRJk1y3VdA+4uR7OXTokG3ZssWWLVtmffr0sRYtWtiJEyfcy2fMmGHR0dHm7+9vZcuWtfvvv9+io6M99jvT8uXLTZKtWrUq3+164zQmZn/9lipTpkyO+dYLGpP8zpnF1UeytzkyMtLj+UuZChIPJ2OYWcF/g3qTW/0NGzZYTEyMjRs3zn744QdLSkqy8847z2OalKyKqo8U9jdobvXPnDljffv2tR49etjXX39tq1evtjvuuMOqVq1qv/76a471OO0jRRGTTMOGDbPzzjvP/b6gMXEyFVJxxCTTqlWrTJKtXr3azAoeE6dTITmNyZkzZ2zEiBEWFBRk/v7+Vr58eUtISDBJ9t133+Won5iYaBUrVvR4jo7ZX+N/1udsmP31u75KlSo51uHLectpPL744gs755xzzOVymb+/v1133XXWokULr+e7Xbt2mZ+fn8dz48z+Gv8l2RdffOEu27dvX77Thecnr+tL2eU1tmeVWzyyKqo+4o2v15jyG9sz5RaTrAo7pV5WBYmJWe5je5cuXSwoKMjjeUxz5swxl8uV6+/zglxv9KaoY2SW+3g/Y8YMk+TxTOuTJ09apUqV7JVXXimSbWcqyLnEm9zOewWJUWmcLowkSzG75pprcjys8LHHHrOmTZt6lGXOQbl48eI813fkyBFr06aNderUyevJLrtdu3aZJPdDlpo1a+a+yOfv729+fn4myfz9/e3xxx/3eb+qV69u48eP9ygbP3681ahRI9fPPP7441amTBmPsuPHj5skmz9/fq6fe+KJJ7z+8ZzVLbfckuMZMWY5T3pFFY/t27ebJHvrrbc8yq+66iq75pprcm1n9nh4k3mRIzU1Ndc6efH1RHP99ddb3759PcrWrFljkmz79u0e5TNnzrTg4GD77LPPcl3fiRMnbPfu3e4fgI0aNcpRx9sg5C0mWfk6OGfO/3rw4EGP8qZNm+Y4tvfs2WP169e366+/3mN+6qzOnDlje/bssePHj7vne//+++/zbYc3vsYkMjLS3Tez988pU6Z41M0tJplzbGddj8vlcv+AzT6nanHG5J577nFvN/Mlyfz8/HI8tDOvmBTVeSsrX2Py6KOP2gUXXOBRltmPvSUj85vv2Uk/Kap4bN261STZ+vXrPco7derkNRGZ3wX9ouojzzzzjEVGRtrKlSt9/szSpUstLCzM4wekNwV5JsvNN9/sNeFe0D6yYcMGq1y5sj388MM+bdfM97G9IHMEf/XVVybJ64WB/BQkJr6M7e3bt7e7777bo84HH3xgZcqUcSeULr744hzPP8h88HL2c0JxxsSX8X3KlCle4xAZGWlvvPGGmZm9/vrrOZ6BkJaWZiEhIT79h5q85HasZvJlfPclJgXZdkHPW5nyO059Gdt9iYeTbfsqv3h4k3lsZ/3D1Oyv+c137dplp0+fdj94Pfvxf+zYMYuIiLAJEybkun4nY3smJ99L5rHt7T9Fpaam2tGjR+3PP/80Pz8/mzVrVo46N910kzVv3tzn7eWnIDHp2LGjx4O6s/MlJr6cM4urj2T15ptvWkBAgO3bty/XOvnFw8kYlqmgv0G9ye2iy3XXXZfjeRS5fTdF2UcK+xs0twvOCxcuzPFMCjPvyWEz532kKGKS6e2337agoCD3+4LExMzZBeTiiEmmM2fOeDzzq6AxcXoBubAxOX36tO3evdvS0tJs3rx5XhO/Z86csbp169rw4cNzfP6SSy6xTp06eZRlrid7AsCX81Zh47F//353/4iOjrZx48blqDN69GiLiorK8fvkjTfeMEm2a9cuj/LKlSvbq6++mu+285Lb9aW85Da25xWPrIqqj3jj5BpTXmN7bjHJqiiTLGYFi0luY/sNN9xgderU8SjL/Dt2y5YtBd62L0mW4ohRbuP94sWLTZJ99dVXHuWtWrXKc1x3cnwU5FziTW7jfUFiVBqTLEwXVszOP/98bdy40aOsTZs2Wr9+vcetkPPnz1dgYGCe830eOXJEXbt2VdmyZfXJJ5/kmJPTGzOT9NftcpI0Z84c/fDDD0pOTlZycrL79vOvvvqqQLdftWnTRgsWLPAomz9/vsetatm1a9dOp0+f1rZt29xlW7ZskaQ856U0M3f7c1uenJysmJiYfNtdVPGoVauWYmNjtXnzZo/yLVu25LsvkvLcn7Vr1yooKKjIb0vOrk2bNvryyy89bqWdP3++YmNjVatWLXfZu+++q8GDB+udd97Jc47doKAgVa1aVadPn9acOXN8nh7KW0ycuOCCCxQQEOBxXO7du1fr16/3OC737Nmj+Ph4tWjRQlOnTs113liXy6XY2FgFBwfr3XffVfXq1dWiRYtCtzMvK1ascPfN5ORkjR49WuHh4UpOTtZll13mrpdXTBo2bKgff/zRYz19+/ZVhw4dlJyc7NPtvEUVkwcffFDr1q3zaIskPf/885o6daq7Xn4xKarzlhPHjx+Xv7+/R1nmeyfPTnLST4oqHsePH5ekHN+vv7+/o30pij7yzDPP6IknnlBSUpLPz51ZunSpevXqpaeeekq33XZbgdudm/zGmqxyi8mGDRvUoUMHDRo0yOdbpZ2M7b7wZbzxpqAx8WVsz+03Q8uWLd3PNjp+/LjXY9P++g9B+bajqGLiy/jepk0bHT582P38GEn67rvvdPjwYfd4k7k/LpfLXSfzfWGfu5bfserL+O5LTJxsO5Ov5638jlNfxnZf4uFk274qyLkj62fS09NzHNsBAQGqVq2a/P39NXPmTPXu3TtHv5g1a5bS0tJ03XXXFWibRRWTvD7n7TPR0dEKCwvTe++9p6CgoBzTeP3555+aNWtWkT6/w9eY7NixQ0uWLMlz2/nFxMk4JhVPPKZMmaK+ffsqKioq1zp5xcPJGJZVUfwGzU1uY4SkHP2oKPtIcf0Gze03mZ+fX44xojB9pChjsnbtWo+/twsSE6eKMyYbNmxQenq6e58KEpPCKGxM/P39VbVqVZUtW1bvvvuu2rRpk2PKzGXLlmnr1q1ej5l27dpp69atHvu0ZcsWxcTE5DotVKbiiEelSpVUrlw5LV68WPv27VPfvn09lpuZpk6dqhtuuCHH75N27dpJksdvtoMHD+r3338v1HNPCnJ9KfvnvI3tecWjsHwdS5xeY/I2nuYVk+JSkJjkNba3a9dOv/76q/7880932ZYtW+Tn56dq1aoVetveFEeMchvvL7jgAgUGBnr0ifT0dKWkpOTZJ5wcH4U5l+S33oLGqFQ5K6mcf7F169ZZmTJlPP4H3unTp61JkybWqVMnW7NmjS1cuNCqVatmw4YNc9fZvXu3NWjQwH3r55EjR6x169Z23nnn2datW23v3r3uV2am/LvvvrMXX3zR1q5daykpKbZ48WK7+OKLrU6dOnby5Emv7XN6e+0333xj/v7+9tRTT9mmTZvsqaeesjJlyti3337rrvPiiy9ax44d3e8zMjKsRYsWdskll9iaNWts1apV1rp1a+vSpYu7zsSJE+2TTz6xLVu22JYtW+yNN96wiIgIe+SRR9x1EhISLCkpybZt22Zr165138rv7TZZZcssF1U8zMyef/55i4iIsPfff99+/vlne/TRRy0oKMj9v098iccnn3xir776qv3444+2detWe+211ywiIiLH/y7NT1pamq1du9bWrl1rMTExdv/999vatWvt559/zjUehw4dsujoaLv66qvtxx9/tA8++MAiIiI8bjnMvM3ypZde8jjmst669+2339qcOXNs27Zt9uWXX1rHjh2tdu3aXo+p7PHILSZm5p72YciQIVa/fn33/mVmxb3F5Pbbb7dq1arZwoULbc2aNdaxY0dr1qyZu49kTkfVsWNH2717t8c+ZTVu3Dhbt26drV+/3kaPHm0BAQH5/g+F7JzEJDtv/2vdl5hkV9DpwooyJvltz9eYZOX0vOUkJosWLTKXy2WjRo2yLVu22OrVq61bt25Ws2ZNj9tVM9d7wQUX2DXXXGNr1661DRs2uJcXpp8UVTxOnTpldevWtfbt29t3331nW7dutWeffdZcLpfNnTvXvd6dO3fa2rVrbdSoURYWFuZeb9Zp34qijzz99NNWtmxZmz17tkfcs24nezyWLFliISEh9tBDD3l85sCBAx7rzi8eiYmJNn/+fNu2bZtt2rTJnnvuOStTpoy99tprOdrpax/JnF7l2muv9Whb1v9h5GRsN8s/JnPnzrU33njDfvzxR9uxY4fNnTvXGjdubO3atStISBzFxJexffv27RYSEmL/+c9/bOPGjTZlyhQLCAjwmGJg5MiRFh4ebu+++65t377d5s+fb3Xq1LGrrrrqrMbELP/x3cyse/fu1rRpU1uxYoWtWLHCzjvvPOvdu7d7+aZNmywwMNDuuOMO27hxo61fv96uu+46i4yMLNAdAr4cq07Gd19iUph+4i0evhynTsZ2X+JRVH3ESTzefvtte++992zjxo22bds2mzVrllWtWtWuvfZad53NmzfbW2+9ZVu2bLHvvvvOBgwYYBUqVLAdO3bkaMPFF1/sMTWLN772EScx2bZtmyUmJtqqVats586dtnz5cuvXr59VqFDB439Tv/jii7Z69WrbvHmzTZw40YKDg+2FF17I0dbXX3/dgoKCcoxxvnISk0yPPvqoxcbG5vhfx2a+xcSXc2am4uwjZn/9JnC5XPb55597/Z7yi4cv50snvP0G9RaPDRs22Nq1a61Pnz4WHx/vHucyTZ061cqUKWOTJk2ybdu22ddff20tW7a0Vq1a5dhmUfaR7Lz9BvUWk71799ratWvttddeM0n25Zdf2tq1a92/V/bv328VK1a0/v37W3Jysm3evNnuv/9+CwgIsOTkZI9tFraPZOdLTKZNm2YzZsywjRs32k8//WTPPPOMBQQEeMxk4UtMfPntnak4Y7J161YbNWqUrVy50t23GjZsaOeff767//sak/x+fzvhS0z2799vL7/8sm3atMnWrl1rd999twUFBXn9u+u6666z1q1be93WL7/8YmFhYTZs2DDbvHmzffbZZ1a5cmUbM2ZMjrq+/k2Sla995I033rAVK1bY1q1b7a233rIKFSrYvffem2N9CxcuNEm2ceNGr9vr16+fNW7c2L755hv78ccfrXfv3taoUaM877DIzpfrS07G9kx5xaM4+ogv15icju1m+cekKPqIk5hkymtsP3r0qFWrVs2uuOIK27Bhgy1btszq1atnt9xyS4G2nclbTLIrqhhlym+8v+eee6xq1ar2xRdf2E8//WQ333yzVa5c2b39oroG6cu5xMl470uMMpXGO1lIspwFF110UY7573bu3Gm9evWy4OBgq1Chgg0bNswjEbJjxw6T5J5POHOw8vbK/LG/bt0669Chg1WoUMECAwOtVq1advvtt9vu3btzbVtuFysl2dSpU/Pcr/fff98aNGhgAQEB1rBhQ5szZ47H8pEjR1rNmjU9yvbs2WP9+/e3sLAwi46OtsGDB3tcHPvf//5njRs3tpCQEIuIiLDzzz/fJk2a5HFb/vDhw61GjRpWtmxZi4qKsq5du+Y6/Za3k15RxCPT2LFjrVq1ahYSEmJt2rTxuC3Pl3h8/vnn1rx5cwsLC7OQkBBr0qSJTZgwwdLT03PsR17xyGxf9lfWKZm8xWPdunXWvn17CwwMtCpVqlhCQoLHcybi4uK8rnfQoEHuOkuXLrVzzz3XAgMDrWLFinb99dfbnj17vLYzt0HIW0xy23bm8e4tJidOnLBhw4ZZhQoVLDg42Hr37m2//PKLe/nUqVNz7UdZdejQwSIjIy0oKMhat27tMWdu1n0pjphk5S3J4ktMsitoksWs6GKS3/Z8jUlWTs9bTmPy7rvv2vnnn2+hoaEWFRVlffv2tU2bNuXYdvZX1vUUtp8UVTy2bNli/fv3t8qVK1tISIg1bdrU3nzzTY/1Dho0yOt6s66nKPpIzZo1vW5n5MiR7jrZ45Fb27JPP5dfPB555BGrW7euBQUFWfny5a1Nmzbu6SK87YcvfWTkyJH5btfJ2J7XfmeuZ/HixdamTRt3TOrVq2cPPPBAgfuIk5iY5T+2m/3VB84//3wrW7as1apVy15++WWP5enp6ZaQkGB16tSxoKAgq169ut15550+J+zNiiYmmfIa383MDhw4YNdee62Fh4dbeHi4XXvttTnamvkstsjISCtfvrx17NgxxzSD+cXEl2PVyfhuln9MCttPssfDl+PUydhuln88iqqPOInHzJkzrUWLFhYWFmahoaHWqFEjS0xM9JgacOPGjda8eXMLDg62iIgI69evX47nFZr9deFfynua3cz98KWPOInJnj17rEePHla5cmULCAiwatWq2TXXXJOjvddff71VqFDBypYt63WsydSmTZs8p9otrj6SkZFh1apVy3X6DF9i4ss5M+t+FFcfMTN76KGHrFq1arlOg5tfPHw5X2buR35/I2bl7Teot3jk9l1m9b///c8aNWpkwcHBFhMTY9dee22Ov3OLuo9k5+03qLeY5PZ9Zv3uVq5caV27drUKFSpYeHi4XXTRRV5/TxW2j2TnS0ymTZtm5557roWEhFh4eLhdcMEFOabRNMs/Jr789s66H8UVk19++cUuueQSdx+oU6eO3X333Tl+q/gSk/x+f2fuS1HHZP/+/XbRRRdZaGiohYSEWKdOnTz+g2umQ4cOWXBwcJ7TZS1fvtxat25tgYGBds4559iTTz7p9YK0r3+TZOVrH3nggQcsOjraAgICrF69evbcc895fd7l1VdfbW3bts11e4cPH7abbrrJypUrZxUqVLDLLrssx2+E/OLhy/UlJ2O7Wf7xKI4+4ss1Jqdju1n+MSmKPuIkJmb5j+1mf/1HqM6dO1twcLBVq1bN7r33Xo//PFnY643eFEWMMuU33p86dcruu+8+q1y5soWHh1vnzp09pgsvqmuQZvmfS5yO9/nFKOu6SLL8C82dO9fOPffcXDtBabNjxw4rU6ZMnnMS/l14O+kRj5KT2yBETEoOMSl9OG+VLvSR0oeYlD6ct0oX+kjpQx8pXegjpQ8xKX04b5Uu9JHSx9ckCzEqHqUxycIzWc6Cnj17asiQIdqzZ09JN8UnSUlJuu2221SvXr2Sbopjt99+u8LCwrwuIx5nX17xkIhJSSAmpQ/nrdKFPlL6EJPSh/NW6UIfKX3oI6ULfaT0ISalD+et0oU+UvrkF5PsiFHRSkxMVFhYmH755ZeSbkoOLrMieioZUIrs27dPR44ckSTFxMQoNDS0hFv070Y8Sh9iUvoQk9KFeJQ+xKT0ISalC/EofYhJ6UI8Sh9iUvoQk9KFeJQ+xKRkHTx4UAcPHpQkRUVFKTIysoRb9H9IsgAAAAAAAAAAADjAdGEAAAAAAAAAAAAOkGQBAAAAAAAAAABwgCQLAAAAAAAAAACAAyRZAAAAAAAAAAAAHCDJAgAAAAAAAAAA4ABJFgAAAAB/O9OmTVO5cuVyXZ6SkiKXy6Xk5OSz1qa8DB48WJdeemmBPpOQkKDmzZsX+XoBAAAAFJ0yJd0AAAAAAPinSElJUe3atbV27dp8EyRF4YUXXpCZFft2AAAAAHhHkgUAAABAqXXq1CmVLVu2pJtRakVGRpZ0EwAAAIB/NaYLAwAAAODIp59+qnLlyunMmTOSpOTkZLlcLv33v/911xkyZIiuvvpq9/s5c+aocePGCgwMVK1atfTcc895rLNWrVoaM2aMBg8erMjISN16662S/poerEaNGgoJCdFll12mAwcOFLi9GzduVM+ePRUWFqbo6Ghdf/31+v33393L4+Pjdffdd2vEiBGqUKGCqlSpooSEBI91/PTTT7r44osVFBSkRo0aaeHChXK5XProo48kSbVr15YknX/++XK5XIqPj/f4/LPPPquYmBhVrFhRQ4cOVXp6er7tnjx5sqpXr66QkBBdeeWVOnTokHtZ9unCfNkHAAAAAEWHJAsAAAAARy655BIdPXpUa9eulSQtW7ZMlSpV0rJly9x1li5dqri4OEnS6tWrddVVV2ngwIH68ccflZCQoMcee0zTpk3zWO8zzzyjJk2aaPXq1Xrsscf03Xff6aabbtKdd96p5ORkdejQQWPGjClQW/fu3au4uDg1b95cq1atUlJSkn777TddddVVHvWmT5+u0NBQfffddxo3bpxGjx6tBQsWSJLOnDmjSy+9VCEhIfruu+/06quv6pFHHvH4/Pfffy9JWrhwofbu3asPPvjAvWzJkiXatm2blixZounTp2vatGk59j27rVu3atasWfr000+VlJSk5ORkDR06NM/P5LUPAAAAAIoW04UBAAAAcCQyMlLNmzfX0qVLdcEFF2jp0qX6z3/+o1GjRuno0aM6duyYtmzZ4r6bY/z48erUqZMee+wxSVL9+vW1ceNGPfPMMxo8eLB7vR07dtT999/vfv/444+rW7duevDBB92fW758uZKSknxu68svv6wWLVooMTHRXfbGG2+oevXq2rJli+rXry9Jatq0qUaOHClJqlevniZOnKhFixapS5cumj9/vrZt26alS5eqSpUqkqQnn3xSXbp0ca8zKipKklSxYkV3nUzly5fXxIkT5e/vr4YNG6pXr15atGiR+24db06ePKnp06erWrVqkqQXX3xRvXr10nPPPZdj/Zny2gcAAAAARYs7WQAAAAA4Fh8fr6VLl8rM9NVXX6lfv35q0qSJvv76ay1ZskTR0dFq2LChJGnTpk1q166dx+fbtWunn3/+WRkZGe6yli1betTZtGmT2rRp41GW/X1+Vq9erSVLligsLMz9ymzXtm3b3PWaNm3q8bmYmBjt27dPkrR582ZVr17dI7nRqlUrn9vQuHFj+fv7e113bmrUqOFOsEh/7feZM2e0efPmXD+T1z4AAAAAKFrcyQIAAADAsfj4eE2ZMkU//PCD/Pz81KhRI8XFxWnZsmX6448/3FOFSZKZyeVyeXzezHKsMzQ0NN86BXXmzBn16dNHTz/9dI5lMTEx7n8HBAR4LHO5XO5nznhrf0HktW5fZW4/r3YUxXYAAAAA+IYkCwAAAADHMp/LMmHCBMXFxcnlcikuLk5jx47VH3/8oXvuucddt1GjRvr66689Pr98+XLVr1/f4w6P7Bo1aqRvv/3Woyz7+/y0aNFCc+bMUa1atVSmjLM/gxo2bKhffvlFv/32m6KjoyVJK1eu9KhTtmxZSfK4M6cwfvnlF/3666+KjY2VJK1YsUJ+fn7u6c0AAAAAlCymCwMAAADgWOZzWd5++233s1cuueQSrVmzxuN5LJJ03333adGiRXriiSe0ZcsWTZ8+XRMnTvR4/oo3d999t5KSkjRu3Dht2bJFEydOLNDzWCRp6NChOnjwoK6++mp9//332r59u+bPn6+bbrrJ54RIly5dVKdOHQ0aNEjr1q3TN998437wfeadJZUrV1ZwcLCSkpL022+/6fDhwwVqZ3ZBQUEaNGiQfvjhB3311Ve6++67ddVVV+X6PBYAAAAAZxdJFgAAAACF0qFDB2VkZLgTKuXLl1ejRo0UFRWlc889112vRYsWmjVrlmbOnKkmTZro8ccf1+jRoz0eeu/NRRddpNdff10vvviimjdvrvnz5+vRRx8tUBtjY2P1zTffKCMjQ926dVOTJk10zz33KDIyUn5+vv1Z5O/vr48++kh//vmnLrzwQt1yyy3udgQFBUmSypQpo//973+aPHmyYmNj1a9fvwK1M7u6deuqf//+6tmzp7p27aomTZpo0qRJhVonAAAAgKLjsqKY4BgAAAAA/oW++eYbXXzxxdq6davq1KlT0s0BAAAAcJaRZAEAAAAAH3344YcKCwtTvXr1tHXrVt1zzz0qX758jmfNAAAAAPh34MH3AAAAAOCjo0ePasSIEdq1a5cqVaqkzp0767nnnivpZgEAAAAoIdzJAgAAAAAAAAAA4AAPvgcAAAAAAAAAAHCAJAsAAACKRP/+/dWvXz9J0rx585SQkFDs2zx+/LgSEhK0dOlSr8vfe+89NW7cWMHBwXK5XEpOTlZCQoJcLpdHvfj4eMXHxxd7e++99141a9ZMLpfLp9fSpUu1dOlSuVwuzZ49u1jaNG3aNJ/aUqtWLUnS4MGDFRYWVixtKQ61atVS796986wzePBg9/5lSkxM1EcffZSj7saNG5WQkKCUlBSf1lNYmcdr5qts2bKqXbu27rnnHh06dMhd72wdw1kVtp/n13+R05YtW3T//ffrggsuULly5VShQgW1a9cu1/PDvn37NHjwYFWqVEkhISFq06aNFi1adJZbDQAA8M9GkgUAAACFduzYMSUlJenyyy+X9NfF11GjRhX7do8fP65Ro0Z5vUi7f/9+XX/99apTp46SkpK0YsUK1a9fX7fccotWrFhR7G3z5oMPPtDll1+uFStWeLx69uyp4ODgHOUtWrQo9jb16tUrx3Yl6YorrvAo+/DDD4u9LSXlsccey7F/eSVZRo0a5TXJUpwyj+G5c+fq0ksv1YsvvqgePXooc/bnSZMmadKkSWe1TYXt53n1X3g3f/58zZ07V5dffrnef/99zZgxQ/Xq1dOVV16p0aNHe9RNS0tTp06dtGjRIr3wwgv6+OOPFR0dre7du2vZsmUltAcAAAD/PDz4HgAAAIU2b948nT59Wn369Cnpprht2bJF6enpuu666xQXF+cuDwkJUbVq1c56e1auXKmdO3fq8ssvV+PGjT2WRUVFyc/PTxdddNFZb1dUVJSioqJylEdHRxd5ezIyMnT69GkFBgYW6XoLq06dOiXdhHxdcMEFqlSpkiSpS5cuOnDggN566y0tX75c7dq1U6NGjUq4hTgbBg4cqKFDh3rcjdejRw/9/vvvevrpp/XAAw+4+9eUKVO0fv16LV++XG3atJEkdejQQc2aNdOIESP03Xfflcg+AAAA/NNwJwsAAAAKbc6cOerYsaPKly+vwYMH66WXXpIkj2mOMv/nv5lp0qRJat68uYKDg1W+fHldccUV2r59u3t9M2fOlMvl0sSJEz22M3LkSPn7+2vBggVKSUlxJwdGjRrl3s7gwYM1ePBgXXzxxZKkAQMGyOVyuadS8jZdmDenTp3SmDFj1LBhQwUGBioqKko33nij9u/f71Fv8eLFio+PV8WKFRUcHKwaNWro8ssv1/Hjx3N8Rw0aNMiRYPFVenq6HnnkEcXGxioiIkKdO3fW5s2bc9RbuHChOnXqpIiICIWEhKhdu3bFMj3Q1q1b1bNnT4WFhal69eq67777lJaW5l6ekpIil8ulcePGacyYMapdu7YCAwO1ZMkSSdKqVavUt29fVahQQUFBQTr//PM1a9asHNtJTU3VkCFDVK1aNfdUWaNGjdLp06eLbF+yT/Plcrl07NgxTZ8+3X1cxcfHa9q0abryyisl/XWxOnPZtGnTcl23L8e7E5kJsJ07d0ryPl3Y7t27dcUVVyg8PFzlypXTtddeq5UrV+Zo8/bt2zVw4EDFxsYqMDBQ0dHR6tSpk5KTk3Pdfl79vLD9t7Dmzp0rl8ullStXusvmzJkjl8ulXr16edRt2rSp+w68zH0ZNmyYJk+erPr16yswMFCNGjXSzJkzPT6XOc3e4sWLdeutt6pixYqKiIjQDTfcoGPHjik1NVVXXXWVypUrp5iYGN1///1KT08v9L5VqlTJ6/mrVatWOn78uA4ePOgu+/DDD9WgQQN3gkWSypQpo+uuu07ff/+99uzZU+j2AAAAgDtZAAAAUEgnT57U3LlzNX78eEl/Tb107NgxzZ4922NarpiYGEnSkCFDNG3aNN199916+umndfDgQY0ePVpt27bVDz/8oOjoaA0cOFDLli3Tfffdp4suukgtW7bU4sWLNWbMGD388MPq0qWL0tLSlJSUpO7du+vmm2/WLbfcIknuC7etWrXS0KFDlZiYqA4dOigiIsLnfTpz5oz69eunr776SiNGjFDbtm21c+dOjRw5UvHx8Vq1apWCg4OVkpKiXr16qX379nrjjTdUrlw57dmzR0lJSTp16pRCQkLc65wzZ46uuuoqx9/zww8/rHbt2un111/XkSNH9MADD6hPnz7atGmT/P39JUlvv/22brjhBvXr10/Tp09XQECAJk+erG7duumLL75Qp06dHG8/q/T0dPXt21c333yz7rvvPn355Zd64oknFBkZqccff9yj7v/+9z/Vr19fzz77rCIiIlSvXj0tWbJE3bt3V+vWrfXKK68oMjJSM2fO1IABA3T8+HH3hfbU1FS1atVKfn5+evzxx1WnTh2tWLFCY8aMUUpKiqZOnVok+5PdihUr1LFjR3Xo0EGPPfaYJCkiIkJRUVFKTEzUww8/rJdeesk9nVted8L4crw7sXXrVknyeheS9NcUfh06dNDBgwf19NNPq27dukpKStKAAQNy1O3Zs6cyMjI0btw41ahRQ7///ruWL1/u8cyX7PLq50XRfwsjLi5OAQEBWrhwoS688EJJfyUfg4ODtWzZMqWnpysgIED79u3T+vXrdccdd3h8/pNPPtGSJUs0evRohYaGatKkSbr66qtVpkwZXXHFFR51b7nlFvXv318zZ87U2rVr9fDDD+v06dPavHmz+vfvr9tuu00LFy7U008/rdjYWN17773uz2ZkZLine8uLn5+f/Pzy/v+RS5YsUVRUlCpXruwuW79+vdq3b5+jbtOmTSVJGzZsUNWqVfPdPgAAAPJhAAAAQCF89NFH5u/vb/v27XOXDR061Lz91FyxYoVJsueee86jfNeuXRYcHGwjRoxwl508edLOP/98q127tm3cuNGio6MtLi7OTp8+7a6zf/9+k2QjR47Msa0lS5aYJHv//fc9ykeOHJmjbXFxcRYXF+d+/+6775okmzNnjke9lStXmiSbNGmSmZnNnj3bJFlycnIu385fkpOTTZKtXr3a6/JBgwZZaGio12WZ+9GzZ0+P8lmzZpkkW7FihZmZHTt2zCpUqGB9+vTxqJeRkWHNmjWzVq1a5dnGrCTZ0KFDc22rJJs1a5ZHec+ePa1Bgwbu9zt27DBJVqdOHTt16pRH3YYNG9r5559v6enpHuW9e/e2mJgYy8jIMDOzIUOGWFhYmO3cudOj3rPPPmuSbMOGDfnuS82aNa1Xr1551hk0aJDVrFnToyw0NNQGDRqUo+77779vkmzJkiX5rqcgx3tuMo/X1NRUS09Ptz/++MPefvttCw4OturVq9uJEyfMLOcx/NJLL5kk+/zzzz3WN2TIEJNkU6dONTOz33//3STZhAkT8m1Ldrn1c7PC99/Cuvjii61jx47u93Xr1rX//ve/5ufnZ8uWLTMzsxkzZpgk27Jli7ueJAsODrbU1FR32enTp61hw4ZWt27d/8fefYdHUbX/H/8sAUIISahJiJRACCBNRASpCYReFRWwghUFRB71oShKQAyCgvCAKCoiKooIFhCkF6WooYQuSIkUCUhHSoBwfn/w2/1msymbyS6J8H5d115X9syZmTNz78zZ2TtzxlE2depUI8k899xzTuu9++67jSQzduxYp/LatWubOnXqOJWVL1/eSMryldX++fDDD40kM378eKfyAgUKmF69ernUX7NmjZFkvvjii0yXCwAAAPcwXBgAAAByZPbs2WrSpIlb/4H+ww8/yGaz6eGHH9aVK1ccr9DQUN12221OD8D29fXVzJkzdfz4cdWpU0fGGH355ZeOuza86YcfflDRokXVsWNHp3bWrl1boaGhjnbWrl1bBQsW1NNPP61p06ZlOATU7NmzFR4enqMH2Xfq1Mnpvf2/0e3DRa1Zs0YnTpxQjx49nNp89epVtWnTRvHx8Tp37pwkOU2/cuWKW/9Nn5rNZnN5/k6tWrUcbUnb7gIFCjje7969W7///rseeughl7a0a9dOhw8fdgyD9sMPP6hZs2YKCwtzqte2bVtJcjy82/6sl9TbnBe4+3k3xrjEJK3Q0FAVKFBAxYoV08MPP6w6depowYIFKlSoULrrXrlypQICAtSmTRun8gceeMDpffHixRUREaG33npLY8eO1caNGz2y/3Lz+JWkmJgYrV69WhcuXNCff/6p3bt3q3v37qpdu7YWL14s6drdLeXKlVNkZKTLvKnvMPLx8VG3bt20e/duHTx40Kluhw4dnN7feuutkuQyLNmtt97qcnzMnTtX8fHxWb6efvrpDLfzxx9/VJ8+fXTffffpueeec5me2dCI7gybCAAAgKyRZAEAAIBlly9f1ty5c52eaZCZI0eOyBijkJAQFShQwOn1yy+/6NixY071K1WqpCZNmujixYt66KGHHEOOeduRI0d06tQpFSxY0KWdSUlJjnZGRERoyZIlCg4OVp8+fRQREaGIiAiNHz/eaXmzZs1yex9lpESJEk7v7Q+3vnDhgqPNknTfffe5tHnUqFEyxujEiRNKTEx0mW5PVrircOHCLj/u+/r66uLFiy5108bM3s6XXnrJpR29e/eWJMf+PXLkiObOnetSz/5cG3u9mJgYp+mPP/54trbHW9z9vNuHdkv9SmvJkiWKj49XQkKCjh07plWrVmX6sPvjx4+nOxRZ2jKbzaalS5eqdevWGj16tOrUqaNSpUqpX79+Onv2bI62P7eOX0lq0aKFkpOTtWrVKi1evFglS5bU7bffrhYtWmjJkiWSpKVLl6pFixYu84aGhmZYdvz4cafy4sWLO70vWLBghuVpj49q1aqpdu3aWb7Sa48kLVy4UF26dFHLli01ffp0l6RJiRIlXNoryfHclrRtBAAAgDU8kwUAAACWLVmyRKdPn9Y999zjVn37Q5t//vlnR5IgtbRlH330kebNm6d69epp4sSJ6tatm+rXr++RtmfVzhIlSmjBggXpTg8ICHD83aRJEzVp0kQpKSlat26dJkyYoP79+zueLbNjxw7t2LFDU6ZM8XqbJWnChAmOh6KnZf+BPfUDwSWpSpUqXmtX2h9+7e0cPHiwunTpku489vaULFlStWrV0htvvJFuvbCwMEnS5MmTnRIC9nXkNnc/7x07dnSJSVq33XZbtrarRIkS+u2331zKk5KSXMrKly/v+Hzu2rVLM2fOVGxsrC5duqT333/f7XWmlVvHryTVr19fRYoU0ZIlS5SYmKiYmBjZbDbFxMRozJgxio+P1/79+9NNsqS3j+xlaZOdOREREZHu3V9pDR06VLGxsU5lCxcu1N13362oqCjNnj3bkdxJrWbNmtqyZYtLub2sRo0a1hoOAAAAJyRZAAAAYNns2bN11113uTw8OfVdFn5+fo7yDh066M0339ShQ4eyfAj8li1b1K9fPz366KP68MMP1bBhQ3Xr1k0bN25UsWLFXNbjSR06dNCMGTOUkpLi9o/CPj4+ql+/vqpWrarp06drw4YN6t69u2bPnq2wsLAMEx+e0qhRIxUtWlTbt29X3759M61bt25dr7YlM1WqVFFkZKQ2bdqkuLi4TOt26NBB8+fPV0REhCPmGS3T03x9fdP9XGXnM+fu571EiRIe/fFeuvbw95kzZ+rHH390DK8mSTNmzMh0vsqVK2vIkCGaPXu2NmzYkGndjI5zKXePX0kqUKCAmjZtqsWLF+vAgQN68803JV1LiubPn19DhgxxJF3SWrp0qY4cOeJISqakpOirr75SRESEypQp47E2zp07V8nJyVnWsycT7RYtWqS7775bjRs31nfffZduAk+S7rnnHvXu3Vu//vqr4zx25coVff7556pfv77LcgEAAGANSRYAAAC4ZeXKlYqJidFrr72m1157TSkpKfr+++81aNAgl7o1a9aUJI0aNUpt27aVj4+PatWqpUaNGunpp5/WY489pnXr1qlp06by9/fX4cOHtWrVKtWsWVPPPvuszp07p65du6pChQqaNGmSChYsqJkzZ6pOnTp67LHH9N1330m6dkdJ+fLl9f333ysmJkbFixdXyZIlFR4enqNt7d69u6ZPn6527drp+eefV7169VSgQAEdPHhQy5cvV+fOnXXPPffo/fff17Jly9S+fXuVK1dOFy9e1McffyxJjv+QnzVrlrp06eL15x8UKVJEEyZMUI8ePXTixAndd999Cg4O1t9//61Nmzbp77//1nvvvefVNrhr8uTJatu2rVq3bq2ePXvqlltu0YkTJ7Rjxw5t2LBBX3/9tSRp+PDhWrx4sRo2bKh+/fqpSpUqunjxohITEzV//ny9//77bv3onZSUpFmzZrmUh4eHZ5hwqlmzplasWKG5c+eqdOnSCggIUJUqVRz//f/BBx8oICBAhQoVUoUKFdJNkrj7efeGHj166J133tHDDz+sESNGqFKlSvrxxx+1cOFCSVK+fNdGjt68ebP69u2r+++/X5GRkSpYsKCWLVumzZs3Ox3bTzzxhKZNm6Y9e/aofPnyjn0kuR7nly9fvq7Hb2xsrIYNG6bly5crOjraUR4TE6MXX3xR0v8dj35+fmrYsKEWLVqkWrVqKTg42GV5JUuWVPPmzfXqq6/K399fkyZN0u+//55lgiq77PsvO1atWqW7775boaGhevnll5WQkOA0vVq1agoMDJQkPf7443r33Xd1//33680331RwcLAmTZqknTt3OoZMAwAAQM6RZAEAAIBbjDFKSUlxPBR7xYoVOnbsWLpDPj344INavXq1Jk2apOHDh8sYo3379ik8PFyTJ0/WXXfdpcmTJ2vSpEm6evWqwsLC1KhRI9WrV0+S9Mwzz2j//v2Kj4+Xv7+/JKlixYr66KOPdP/992vcuHHq37+/JGnKlCn673//q06dOik5OVk9evTQJ598kqNt9fHx0Zw5czR+/Hh99tlnGjlypPLnz68yZcooKirK8eNo7dq1tWjRIg0dOlRJSUkqUqSIatSooTlz5qhVq1bas2ePNm3apHHjxuWoPe56+OGHVa5cOY0ePVq9evXS2bNnFRwcrNq1a6tnz57XpQ3uaNasmX777Te98cYb6t+/v06ePKkSJUqoWrVqTnd8lC5dWuvWrdPrr7+ut956SwcPHlRAQIAqVKigNm3aZHp3S2rr16/X/fff71Ke2Wdl/Pjx6tOnj7p3767z588rKipKK1asUIUKFTRu3DiNHz9e0dHRSklJ0dSpUzPcv+583r3B399fy5YtU//+/TVgwADZbDa1atVKkyZNUrt27VS0aFFJ1541EhERoUmTJunAgQOy2WyqWLGixowZ4/Qg9ZSUFKWkpMgY4yjL6Dh/9dVXr+vx+88//8hms7k8u8SeWImMjHQkhuzly5cvT3eoMEnq1KmTqlevriFDhmj//v2KiIjQ9OnT1a1bt2y1yxuWLFmiCxcuKDExUc2bN3eZnjrR5Ovrq6VLl2rAgAF67rnndP78edWuXVs//vijoqKirnPLAQAAblw2k/pbMgAAAOAm+zA069evz+2m5FmjR4/W22+/rcOHD8vHxye3mwMoLi7OkTzw5NBXualevXoqX7684w6onLDZbOrTp48mTpzogZYBAADgZkCSBQAAAABuQPZEQdWqVXX58mUtW7ZM//vf/9StWzd9+umnudw6zzhz5oxKlSqlhIQE3XrrrTleHkkWAAAAZBfDhQEAAADADahw4cJ65513lJiYqOTkZJUrV04DBw7UkCFDcrtpHhMYGOjWw+MBAAAAb+FOFgAAAAAAAAAAAAvy5XYDAAAAAAAAAAAA/o1IsgAAAAAAAAAAAFhAkgUAAAAAAAAAAMACHnwv6erVq/rrr78UEBAgm82W280BAAAAAAAAAAC5yBijs2fPKiwsTPnyZXy/CkkWSX/99ZfKli2b280AAAAAAAAAAAB5yIEDB1SmTJkMp5NkkRQQECDp2s4KDAzM5dYAAAAAAAAAAIDcdObMGZUtW9aRP8gISRbJMURYYGAgSRYAAAAAAAAAACBJWT5ihAffAwAAAAAAAAAAWECSBQAAAAAAAAAAwAKSLAAAAAAAAAAAABaQZAEAAAAAAAAAALCAJAsAAAAAAAAAAIAFJFkAAAAAAAAAAAAsIMkCAAAAAAAAAABgAUkWAAAAAAAAAAAAC0iyAAAAAAAAAAAAWECSBQAAAAAAAAAAwAKSLAAAAAAAAAAAABaQZAEAAAAAAAAAALAgf243AAAAXH/hg+bldhNuSolvts/tJgAAAAAAAA/iThYAAAAAAAAAAAALSLIAAAAAAAAAAABYkKeTLLGxsbLZbE6v0NBQx3RjjGJjYxUWFiY/Pz9FR0dr27ZtudhiAAAAAAAAAABws8jTSRZJql69ug4fPux4bdmyxTFt9OjRGjt2rCZOnKj4+HiFhoaqZcuWOnv2bC62GAAAAAAAAAAA3AzyfJIlf/78Cg0NdbxKlSol6dpdLOPGjdMrr7yiLl26qEaNGpo2bZrOnz+vL774IpdbDQAAAAAAAAAAbnR5Psnyxx9/KCwsTBUqVFD37t21d+9eSdK+ffuUlJSkVq1aOer6+voqKipKa9asyXSZycnJOnPmjNMLAAAAAAAAAAAgO/J0kqV+/fr69NNPtXDhQn344YdKSkpSw4YNdfz4cSUlJUmSQkJCnOYJCQlxTMvIyJEjFRQU5HiVLVvWa9sAAAAAAAAAAABuTHk6ydK2bVvde++9qlmzplq0aKF58+ZJkqZNm+aoY7PZnOYxxriUpTV48GCdPn3a8Tpw4IDnGw8AAAAAAAAAAG5oeTrJkpa/v79q1qypP/74Q6GhoZLkctfK0aNHXe5uScvX11eBgYFOLwAAAAAAAAAAgOz4VyVZkpOTtWPHDpUuXVoVKlRQaGioFi9e7Jh+6dIlrVy5Ug0bNszFVgIAAAAAAAAAgJtB/txuQGZeeukldezYUeXKldPRo0c1YsQInTlzRj169JDNZlP//v0VFxenyMhIRUZGKi4uToULF9aDDz6Y200HAAAAAAAAAAA3uDydZDl48KAeeOABHTt2TKVKldJdd92lX375ReXLl5ckDRgwQBcuXFDv3r118uRJ1a9fX4sWLVJAQEAutxwAAAAAAAAAANzobMYYk9uNyG1nzpxRUFCQTp8+zfNZAAA3hfBB83K7CTelxDfb53YTAAAAAACAG9zNG/yrnskCAAAAAAAAAACQV5BkAQAAAAAAAAAAsIAkCwAAAAAAAAAAgAUkWQAAAAAAAAAAACwgyQIAAAAAAAAAAGABSRYAAAAAAAAAAAALSLIAAAAAAAAAAABYQJIFAAAAAAAAAADAApIsAAAAAAAAAAAAFpBkAQAAAAAAAAAAsIAkCwAAAAAAAAAAgAUkWQAAAAAAAAAAACwgyQIAAAAAAAAAAGABSRYAAAAAAAAAAAALSLIAAAAAAAAAAABYQJIFAAAAAAAAAADAApIsAAAAAAAAAAAAFpBkAQAAAAAAAAAAsIAkCwAAAAAAAAAAgAUkWQAAAAAAAAAAACwgyQIAAAAAAAAAAGABSRYAAAAAAAAAAAALSLIAAAAAAAAAAABYQJIFAAAAAAAAAADAApIsAAAAAAAAAAAAFpBkAQAAAAAAAAAAsIAkCwAAAAAAAAAAgAUkWQAAAAAAAAAAACwgyQIAAAAAAAAAAGABSRYAAAAAAAAAAAAL8ud2AwAAAAAAnhE+aF5uN+GmlPhm+9xuAgAAAHIJd7IAAAAAAAAAAABYQJIFAAAAAAAAAADAApIsAAAAAAAAAAAAFpBkAQAAAAAAAAAAsIAkCwAAAAAAAAAAgAUkWQAAAAAAAAAAACwgyQIAAAAAAAAAAGABSRYAAAAAAAAAAAALSLIAAAAAAAAAAABYQJIFAAAAAAAAAADAApIsAAAAAAAAAAAAFpBkAQAAAAAAAAAAsIAkCwAAAAAAAAAAgAUkWQAAAAAAAAAAACwgyQIAAAAAAAAAAGABSRYAAAAAAAAAAAALSLIAAAAAAAAAAABYQJIFAAAAAAAAAADAApIsAAAAAAAAAAAAFvyrkiwjR46UzWZT//79HWXGGMXGxiosLEx+fn6Kjo7Wtm3bcq+RAAAAAAAAAADgpvCvSbLEx8frgw8+UK1atZzKR48erbFjx2rixImKj49XaGioWrZsqbNnz+ZSSwEAAAAAAAAAwM3gX5Fk+eeff/TQQw/pww8/VLFixRzlxhiNGzdOr7zyirp06aIaNWpo2rRpOn/+vL744otcbDEAAAAAAAAAALjR/SuSLH369FH79u3VokULp/J9+/YpKSlJrVq1cpT5+voqKipKa9asyXB5ycnJOnPmjNMLAAAAAAAAAAAgO/LndgOyMmPGDG3YsEHx8fEu05KSkiRJISEhTuUhISH6888/M1zmyJEjNWzYMM82FAAAAAAAAAAA3FTy9J0sBw4c0PPPP6/PP/9chQoVyrCezWZzem+McSlLbfDgwTp9+rTjdeDAAY+1GQAAAAAAAAAA3Bzy9J0s69ev19GjR3XHHXc4ylJSUvTTTz9p4sSJ2rlzp6Rrd7SULl3aUefo0aMud7ek5uvrK19fX+81HAAAAAAAAAAA3PDy9J0sMTEx2rJlixISEhyvunXr6qGHHlJCQoIqVqyo0NBQLV682DHPpUuXtHLlSjVs2DAXWw4AAAAAAAAAAG50efpOloCAANWoUcOpzN/fXyVKlHCU9+/fX3FxcYqMjFRkZKTi4uJUuHBhPfjgg7nRZAAAAAAAAAAAcJPI00kWdwwYMEAXLlxQ7969dfLkSdWvX1+LFi1SQEBAbjcNAAAAAAAAAADcwP51SZYVK1Y4vbfZbIqNjVVsbGyutAcAAAAAAAAAANyc8vQzWQAAAAAAAAAAAPIqkiwAAAAAAAAAAAAWkGQBAAAAAAAAAACwgCQLAAAAAAAAAACABSRZAAAAAAAAAAAALCDJAgAAAAAAAAAAYAFJFgAAAAAAAAAAAAtIsgAAAAAAAAAAAFhAkgUAAAAAAAAAAMACkiwAAAAAAAAAAAAWkGQBAAAAAAAAAACwgCQLAAAAAAAAAACABSRZAAAAAAAAAAAALCDJAgAAAAAAAAAAYAFJFgAAAAAAAAAAAAtIsgAAAAAAAAAAAFhAkgUAAAAAAAAAAMACkiwAAAAAAAAAAAAWkGQBAAAAAAAAAACwgCQLAAAAAAAAAACABSRZAAAAAAAAAAAALCDJAgAAAAAAAAAAYAFJFgAAAAAAAAAAAAtIsgAAAAAAAAAAAFhAkgUAAAAAAAAAAMACkiwAAAAAAAAAAAAWkGQBAAAAAAAAAACwgCQLAAAAAAAAAACABSRZAAAAAAAAAAAALCDJAgAAAAAAAAAAYAFJFgAAAAAAAAAAAAtIsgAAAAAAAAAAAFhAkgUAAAAAAAAAAMACkiwAAAAAAAAAAAAWkGQBAAAAAAAAAACwgCQLAAAAAAAAAACABSRZAAAAAAAAAAAALCDJAgAAAAAAAAAAYAFJFgAAAAAAAAAAAAtIsgAAAAAAAAAAAFhAkgUAAAAAAAAAAMACkiwAAAAAAAAAAAAWkGQBAAAAAAAAAACwgCQLAAAAAAAAAACABSRZAAAAAAAAAAAALCDJAgAAAAAAAAAAYAFJFgAAAAAAAAAAAAtIsgAAAAAAAAAAAFhAkgUAAAAAAAAAAMCC/LndAADIK8IHzcvtJtyUEt9sn9tNAAAAAAAAACzhThYAAAAAAAAAAAAL8nSS5b333lOtWrUUGBiowMBANWjQQD/++KNjujFGsbGxCgsLk5+fn6Kjo7Vt27ZcbDEAAAAAAAAAALhZ5OkkS5kyZfTmm29q3bp1WrdunZo3b67OnTs7EimjR4/W2LFjNXHiRMXHxys0NFQtW7bU2bNnc7nlAAAAAAAAAADgRpenkywdO3ZUu3btVLlyZVWuXFlvvPGGihQpol9++UXGGI0bN06vvPKKunTpoho1amjatGk6f/68vvjii9xuOgAAAAAAAAAAuMHl6SRLaikpKZoxY4bOnTunBg0aaN++fUpKSlKrVq0cdXx9fRUVFaU1a9Zkuqzk5GSdOXPG6QUAAAAAAAAAAJAd+XO7AVnZsmWLGjRooIsXL6pIkSL69ttvVa1aNUciJSQkxKl+SEiI/vzzz0yXOXLkSA0bNsxrbQYAAABuduGD5uV2EwAAAADA6/L8nSxVqlRRQkKCfvnlFz377LPq0aOHtm/f7phus9mc6htjXMrSGjx4sE6fPu14HThwwCttBwAAAAAAAAAAN648fydLwYIFValSJUlS3bp1FR8fr/Hjx2vgwIGSpKSkJJUuXdpR/+jRoy53t6Tl6+srX19f7zUaAAAAAAAAAADc8Lx2J0vz5s116tQpl/IzZ86oefPmlpdrjFFycrIqVKig0NBQLV682DHt0qVLWrlypRo2bGh5+QAAAAAAAAAAAO7w2p0sK1as0KVLl1zKL168qJ9//tmtZbz88stq27atypYtq7Nnz2rGjBlasWKFFixYIJvNpv79+ysuLk6RkZGKjIxUXFycChcurAcffNDTmwMAAAAAAAAAAODE40mWzZs3O/7evn27kpKSHO9TUlK0YMEC3XLLLW4t68iRI3rkkUd0+PBhBQUFqVatWlqwYIFatmwpSRowYIAuXLig3r176+TJk6pfv74WLVqkgIAAz24UAAAAAAAAAABAGh5PstSuXVs2m002my3dYcH8/Pw0YcIEt5Y1ZcqUTKfbbDbFxsYqNjbWSlMBAAAAAAAAAAAs83iSZd++fTLGqGLFivrtt99UqlQpx7SCBQsqODhYPj4+nl4tAAAAAAAAAADAdeXxJEv58uUlSVevXvX0ogEAAAAAAAAAAPIMrz34XpJ27dqlFStW6OjRoy5Jl9dee82bqwYAAAAAAAAAAPAqryVZPvzwQz377LMqWbKkQkNDZbPZHNNsNhtJFgAAAAAAAAAA8K/mtSTLiBEj9MYbb2jgwIHeWgUAAAAAAAAAAECuyeetBZ88eVL333+/txYPAAAAAAAAAACQq7yWZLn//vu1aNEiby0eAAAAAAAAAAAgV3ltuLBKlSrp1Vdf1S+//KKaNWuqQIECTtP79evnrVUDAAAAAAAAAAB4ndeSLB988IGKFCmilStXauXKlU7TbDYbSRYAAAAAAAAAAPCv5rUky759+7y1aAAAAAAAAAAAgFzntWeyAAAAAAAAAAAA3Mi8difL448/nun0jz/+2FurBgAAAAAAAAAA8DqvJVlOnjzp9P7y5cvaunWrTp06pebNm3trtQAAAAAAAAAAANeF15Is3377rUvZ1atX1bt3b1WsWNFbqwUAAAAAAAAAALguruszWfLly6f//Oc/euedd67nagEAAAAAAAAAADzuuj/4fs+ePbpy5cr1Xi0AAAAAAAAAAIBHeW24sBdeeMHpvTFGhw8f1rx589SjRw9vrRYAAAAAAAAAAOC68FqSZePGjU7v8+XLp1KlSmnMmDF6/PHHvbVaAAAAAAAAAACA68JrSZbly5d7a9EAAAAAAAAAAAC5zmtJFru///5bO3fulM1mU+XKlVWqVClvrxIAAAAAAAAAAMDrvPbg+3Pnzunxxx9X6dKl1bRpUzVp0kRhYWF64okndP78eW+tFgAAAAAAAAAA4LrwWpLlhRde0MqVKzV37lydOnVKp06d0vfff6+VK1fqxRdf9NZqAQAAAAAAAAAArguvDRc2e/ZszZo1S9HR0Y6ydu3ayc/PT127dtV7773nrVUDAAAAAAAAAAB4ndfuZDl//rxCQkJcyoODgxkuDAAAAAAAAAAA/Ot5LcnSoEEDDR06VBcvXnSUXbhwQcOGDVODBg28tVoAAAAAAAAAAIDrwmvDhY0bN05t27ZVmTJldNttt8lmsykhIUG+vr5atGiRt1YLAAAAAAAAAABwXXgtyVKzZk398ccf+vzzz/X777/LGKPu3bvroYcekp+fn7dWCwAAAAAAAAAAcF14LckycuRIhYSE6KmnnnIq//jjj/X3339r4MCB3lo1AAAAAAAAAACA13ntmSyTJ09W1apVXcqrV6+u999/31urBQAAAAAAAAAAuC68lmRJSkpS6dKlXcpLlSqlw4cPe2u1AAAAAAAAAAAA14XXhgsrW7asVq9erQoVKjiVr169WmFhYd5aLQAAQJ4VPmhebjcBAAAAAAB4kNeSLE8++aT69++vy5cvq3nz5pKkpUuXasCAAXrxxRe9tVoAAAAAAAAAAIDrwmtJlgEDBujEiRPq3bu3Ll26JEkqVKiQBg4cqMGDB3trtQAAAAAAAAAAANeF15IsNptNo0aN0quvvqodO3bIz89PkZGR8vX19dYqAQAAAAAAAAAArhuvJVnsihQpojvvvNPbqwEAAAAAAAAAALiu8uV2AwAAAAAAAAAAAP6NvH4nC4DsCx80L7ebAAAAAAAAAADIAneyAAAAAAAAAAAAWECSBQAAAAAAAAAAwAKSLAAAAAAAAAAAABaQZAEAAAAAAAAAALCAJAsAAAAAAAAAAIAFJFkAAAAAAAAAAAAsIMkCAAAAAAAAAABgAUkWAAAAAAAAAAAAC0iyAAAAAAAAAAAAWECSBQAAAAAAAAAAwAKSLAAAAAAAAAAAABaQZAEAAAAAAAAAALCAJAsAAAAAAAAAAIAFJFkAAAAAAAAAAAAsyNNJlpEjR+rOO+9UQECAgoODdffdd2vnzp1OdYwxio2NVVhYmPz8/BQdHa1t27blUosBAAAAAAAAAMDNIk8nWVauXKk+ffrol19+0eLFi3XlyhW1atVK586dc9QZPXq0xo4dq4kTJyo+Pl6hoaFq2bKlzp49m4stBwAAAAAAAAAAN7r8ud2AzCxYsMDp/dSpUxUcHKz169eradOmMsZo3LhxeuWVV9SlSxdJ0rRp0xQSEqIvvvhCvXr1Sne5ycnJSk5Odrw/c+aM9zYCAAAAAAAAAADckPJ0kiWt06dPS5KKFy8uSdq3b5+SkpLUqlUrRx1fX19FRUVpzZo1GSZZRo4cqWHDhnm/wQCALIUPmpfbTQAAAAAAAAAsydPDhaVmjNELL7ygxo0bq0aNGpKkpKQkSVJISIhT3ZCQEMe09AwePFinT592vA4cOOC9hgMAAAAAAAAAgBvSv+ZOlr59+2rz5s1atWqVyzSbzeb03hjjUpaar6+vfH19Pd5GAAAAAAAAAABw8/hX3Mny3HPPac6cOVq+fLnKlCnjKA8NDZUkl7tWjh496nJ3CwAAAAAAAAAAgCfl6SSLMUZ9+/bVN998o2XLlqlChQpO0ytUqKDQ0FAtXrzYUXbp0iWtXLlSDRs2vN7NBQAAAAAAAAAAN5E8PVxYnz599MUXX+j7779XQECA446VoKAg+fn5yWazqX///oqLi1NkZKQiIyMVFxenwoUL68EHH8zl1gMAAAAAAAAAgBtZnk6yvPfee5Kk6Ohop/KpU6eqZ8+ekqQBAwbowoUL6t27t06ePKn69etr0aJFCggIuM6tBQAAAAAAAAAAN5M8nWQxxmRZx2azKTY2VrGxsd5vEAAAAAAAAAAAwP+Xp5/JAgAAAAAAAAAAkFeRZAEAAAAAAAAAALCAJAsAAAAAAAAAAIAFJFkAAAAAAAAAAAAsIMkCAAAAAAAAAABgAUkWAAAAAAAAAAAAC0iyAAAAAAAAAAAAWECSBQAAAAAAAAAAwAKSLAAAAAAAAAAAABaQZAEAAAAAAAAAALCAJAsAAAAAAAAAAIAFJFkAAAAAAAAAAAAsIMkCAAAAAAAAAABgAUkWAAAAAAAAAAAAC0iyAAAAAAAAAAAAWECSBQAAAAAAAAAAwAKSLAAAAAAAAAAAABaQZAEAAAAAAAAAALCAJAsAAAAAAAAAAIAFJFkAAAAAAAAAAAAsIMkCAAAAAAAAAABgAUkWAAAAAAAAAAAAC0iyAAAAAAAAAAAAWJA/txuAvC180LzcbgIAAAAAAAAAAHkSd7IAAAAAAAAAAABYQJIFAAAAAAAAAADAApIsAAAAAAAAAAAAFpBkAQAAAAAAAAAAsIAkCwAAAAAAAAAAgAUkWQAAAAAAAAAAACwgyQIAAAAAAAAAAGABSRYAAAAAAAAAAAALSLIAAAAAAAAAAABYQJIFAAAAAAAAAADAApIsAAAAAAAAAAAAFpBkAQAAAAAAAAAAsIAkCwAAAAAAAAAAgAUkWQAAAAAAAAAAACwgyQIAAAAAAAAAAGABSRYAAAAAAAAAAAALSLIAAAAAAAAAAABYQJIFAAAAAAAAAADAApIsAAAAAAAAAAAAFpBkAQAAAAAAAAAAsIAkCwAAAAAAAAAAgAUkWQAAAAAAAAAAACwgyQIAAAAAAAAAAGABSRYAAAAAAAAAAAALSLIAAAAAAAAAAABYQJIFAAAAAAAAAADAgjyfZPnpp5/UsWNHhYWFyWaz6bvvvnOaboxRbGyswsLC5Ofnp+joaG3bti13GgsAAAAAAAAAAG4aeT7Jcu7cOd12222aOHFiutNHjx6tsWPHauLEiYqPj1doaKhatmyps2fPXueWAgAAAAAAAACAm0n+3G5AVtq2bau2bdumO80Yo3HjxumVV15Rly5dJEnTpk1TSEiIvvjiC/Xq1et6NhUAAAAAAAAAANxE8vydLJnZt2+fkpKS1KpVK0eZr6+voqKitGbNmgznS05O1pkzZ5xeAAAAAAAAAAAA2fGvTrIkJSVJkkJCQpzKQ0JCHNPSM3LkSAUFBTleZcuW9Wo7AQAAAAAAAADAjedfnWSxs9lsTu+NMS5lqQ0ePFinT592vA4cOODtJgIAAAAAAAAAgBtMnn8mS2ZCQ0MlXbujpXTp0o7yo0ePutzdkpqvr698fX293j4AAAAAAAAAAHDj+lffyVKhQgWFhoZq8eLFjrJLly5p5cqVatiwYS62DAAAAAAAAAAA3Ojy/J0s//zzj3bv3u14v2/fPiUkJKh48eIqV66c+vfvr7i4OEVGRioyMlJxcXEqXLiwHnzwwVxsNQAAAAAAAAAAuNHl+STLunXr1KxZM8f7F154QZLUo0cPffLJJxowYIAuXLig3r176+TJk6pfv74WLVqkgICA3GoyAAAAAAAAAAC4CdiMMSa3G5Hbzpw5o6CgIJ0+fVqBgYG53Zw8JXzQvNxuAgAAAADkaYlvts/tJtyUuF7NHXzeAQA3C3fzBv/qZ7IAAAAAAAAAAADkFpIsAAAAAAAAAAAAFpBkAQAAAAAAAAAAsIAkCwAAAAAAAAAAgAUkWQAAAAAAAAAAACwgyQIAAAAAAAAAAGABSRYAAAAAAAAAAAALSLIAAAAAAAAAAABYQJIFAAAAAAAAAADAApIsAAAAAAAAAAAAFpBkAQAAAAAAAAAAsIAkCwAAAAAAAAAAgAX5c7sBAAAAAAAA+HcIHzQvt5twU0p8s31uNwEAkAHuZAEAAAAAAAAAALCAJAsAAAAAAAAAAIAFJFkAAAAAAAAAAAAsIMkCAAAAAAAAAABgAUkWAAAAAAAAAAAAC0iyAAAAAAAAAAAAWECSBQAAAAAAAAAAwAKSLAAAAAAAAAAAABaQZAEAAAAAAAAAALCAJAsAAAAAAAAAAIAFJFkAAAAAAAAAAAAsIMkCAAAAAAAAAABgAUkWAAAAAAAAAAAAC0iyAAAAAAAAAAAAWECSBQAAAAAAAAAAwAKSLAAAAAAAAAAAABaQZAEAAAAAAAAAALCAJAsAAAAAAAAAAIAFJFkAAAAAAAAAAAAsIMkCAAAAAAAAAABgAUkWAAAAAAAAAAAAC0iyAAAAAAAAAAAAWECSBQAAAAAAAAAAwIL8ud0AAAAAAAD+zcIHzcvtJgAAvIDze+5IfLN9bjcByBbuZAEAAAAAAAAAALCAJAsAAAAAAAAAAIAFJFkAAAAAAAAAAAAsIMkCAAAAAAAAAABgAUkWAAAAAAAAAAAAC/LndgMAAAAAAAAAZCx80LzcbgIAIAPcyQIAAAAAAAAAAGABSRYAAAAAAAAAAAALSLIAAAAAAAAAAABYQJIFAAAAAAAAAADAApIsAAAAAAAAAAAAFpBkAQAAAAAAAAAAsCB/bjcAAAAAAAAAAABJCh80L7ebcNNJfLN9bjfhX407WQAAAAAAAAAAACy4YZIskyZNUoUKFVSoUCHdcccd+vnnn3O7SQAAAAAAAAAA4AZ2QyRZvvrqK/Xv31+vvPKKNm7cqCZNmqht27bav39/bjcNAAAAAAAAAADcoG6IJMvYsWP1xBNP6Mknn9Stt96qcePGqWzZsnrvvfdyu2kAAAAAAAAAAOAG9a9/8P2lS5e0fv16DRo0yKm8VatWWrNmTbrzJCcnKzk52fH+9OnTkqQzZ854r6H/UleTz+d2EwAAAAAAAAAAXsLv4umz7xdjTKb1/vVJlmPHjiklJUUhISFO5SEhIUpKSkp3npEjR2rYsGEu5WXLlvVKGwEAAAAAAAAAyIuCxuV2C/K2s2fPKigoKMPp//oki53NZnN6b4xxKbMbPHiwXnjhBcf7q1ev6sSJEypRokSG89yMzpw5o7Jly+rAgQMKDAzM7eZAxCQvIiZ5C/HIe4hJ3kNM8hbikfcQk7yHmOQtxCPvISZ5DzHJW4hH3kNM8hbikTFjjM6ePauwsLBM6/3rkywlS5aUj4+Py10rR48edbm7xc7X11e+vr5OZUWLFvVWE//1AgMDOcDyGGKS9xCTvIV45D3EJO8hJnkL8ch7iEneQ0zyFuKR9xCTvIeY5C3EI+8hJnkL8UhfZnew2P3rH3xfsGBB3XHHHVq8eLFT+eLFi9WwYcNcahUAAAAAAAAAALjR/evvZJGkF154QY888ojq1q2rBg0a6IMPPtD+/fv1zDPP5HbTAAAAAAAAAADADeqGSLJ069ZNx48f1/Dhw3X48GHVqFFD8+fPV/ny5XO7af9qvr6+Gjp0qMvQasg9xCTvISZ5C/HIe4hJ3kNM8hbikfcQk7yHmOQtxCPvISZ5DzHJW4hH3kNM8hbikXM2Y4zJ7UYAAAAAAAAAAAD82/zrn8kCAAAAAAAAAACQG0iyAAAAAAAAAAAAWECSBQAAAAAAAAAAwAKSLNfB8ePHFRwcrMTExNxuyk2jZ8+estlsstls+u6775ymEY/rL7N4SMQkNxCTvCermKRFjDwrNjbWsf/HjRuX7fmJh2dZiQcxuP74vpW30LfnPfTtuSunfbtETDwtuzFh/19/9O15C3173kPfnrs80bd7C0mW62DkyJHq2LGjwsPDHWX79+9Xx44d5e/vr5IlS6pfv366dOlSpsv54IMPFB0drcDAQNlsNp06dcpp+ooVKxwftLSv+Ph4p7qffPKJatWqpUKFCik0NFR9+/bN9nbNnj1b1apVk6+vr6pVq6Zvv/3W7Xl3796tgIAAFS1a1Kk89ckq9at69epO9U6dOqU+ffqodOnSKlSokG699VbNnz/fMX38+PE6fPhwuuv2VDzsjDFq27atywk2r8cj9Ykp9cvf399Rx514fPjhh2rSpImKFSumYsWKqUWLFvrtt9+c1pVZPCTPxCQxMTHD/f31119Lci8mmzZt0gMPPKCyZcvKz89Pt956q8aPH5/pvkzPtm3bdO+99yo8PDxbJ/8tW7YoKipKfn5+uuWWWzR8+HAZY5zqJCcn65VXXlH58uXl6+uriIgIffzxx051xo0bpypVqsjPz09ly5bVf/7zH128eNEx3UpMnn/+ed1xxx3y9fVV7dq13dqe5ORkPffccypZsqT8/f3VqVMnHTx40KXevHnzVL9+ffn5+alkyZLq0qWL0/T4+HjFxMSoaNGiKlasmFq1aqWEhAS32mBnJSY7d+5Us2bNFBISokKFCqlixYoaMmSILl++7LKdWcXEbsaMGbLZbLr77rudyrOKSVqeilGvXr0UEREhPz8/lSpVSp07d9bvv//uUi+rGNkdP35cZcqUSbefyorV48YYo7fffluVK1eWr6+vypYtq7i4OKc6WcXopZde0uHDh1WmTJlstdnOU/GQpLVr16p58+by9/dX0aJFFR0drQsXLjjVcTceGTl8+LAefPBBValSRfny5VP//v3dmm/p0qVq2LChAgICVLp0aQ0cOFBXrlxxTM/oXLxgwQKn5XgjHp6KwZ49e3TPPfeoVKlSCgwMVNeuXXXkyBGnOvbPaOrXoEGDXJaV0/7dnT42rRUrVqhz584qXbq0/P39Vbt2bU2fPt2lTnpxSn3s57R/TxsPK/3riRMn9Nxzz6lKlSoqXLiwypUrp379+un06dNO9bKKh6f6divxcPeYsFu9erXy58+f7ufV03271f0SHR3tsj3du3dPt25ycrJq164tm83m0m97om+3EhNJWrhwoe666y4FBASoVKlSuvfee7Vv375062YWEztv9e1WY5SUlKRHHnlEoaGh8vf3V506dTRr1qx062YWI7uc9O3ffPON6tatq6JFizrOSZ999lmm81y8eFE9e/ZUzZo1lT9/fpf9mlZGMcpp3y65xuT48eNq06aNwsLCHN85+vbtqzNnzmS6nKyu5VNzJyYZWbVqlRo1aqQSJUrIz89PVatW1TvvvOP2/BnF2lPfibMbE0/tf7uMrt0lqVOnTipXrpwKFSqk0qVL65FHHtFff/3lsoyc9u1Wjgl3rt3dib2n+3Yr8XDnul3KOh6e6ttTy+hcnp6srtu/+eYbtWzZ0vF9skGDBlq4cKHLcrxx3W6XnXN3VtftiYmJeuKJJ1ShQgX5+fkpIiJCQ4cOdfmNxhN9e2ruxsSdc5S7Mclq3Z64brfLToyyum53N0ZW1p2Z7Bw3WV23uxMjT/TtXmPgVefPnzdFixY1a9ascZRduXLF1KhRwzRr1sxs2LDBLF682ISFhZm+fftmuqx33nnHjBw50owcOdJIMidPnnSanpycbA4fPuz0evLJJ014eLi5evWqo96YMWNMWFiYmT59utm9e7fZunWrmTNnTra2a82aNcbHx8fExcWZHTt2mLi4OJM/f37zyy+/ZDnvpUuXTN26dU3btm1NUFCQ07RTp045tf/AgQOmePHiZujQoU7bWbduXdOuXTuzatUqk5iYaH7++WeTkJDgsi5J5ttvv3W892Q87MaOHWvatm3rsq68Ho+zZ8+6tK9atWqmR48ejjruxOPBBx807777rtm4caPZsWOHeeyxx0xQUJA5ePCgyzrT7iNjPBeTK1euuGzPsGHDjL+/vzl79qwxxr2YTJkyxTz33HNmxYoVZs+ePeazzz4zfn5+ZsKECZmFwMVvv/1mXnrpJfPll1+a0NBQ884772Q5z+nTp01ISIjp3r272bJli5k9e7YJCAgwb7/9tlO9Tp06mfr165vFixebffv2mV9//dWsXr3aMf3zzz83vr6+Zvr06Wbfvn1m4cKFpnTp0qZ///4u63Q3JsYY89xzz5mJEyeaRx55xNx2221u7YdnnnnG3HLLLWbx4sVmw4YNplmzZua2224zV65ccdSZNWuWKVasmHnvvffMzp07ze+//26+/vprx/QzZ86YYsWKmZ49e5rff//dbN261dx7770mODjYXLp0ya12GGMtJnv27DEff/yxSUhIMImJieb77783wcHBZvDgwU71soqJXWJiornllltMkyZNTOfOndNdZ3oxScuTMZo8ebJZuXKl2bdvn1m/fr3p2LGjKVu2bLZilFrnzp0d58S0/VRWrMTImGvbXaVKFfP999+bvXv3mo0bN5rFixc71XE3RuXLl3d7vXaejMeaNWtMYGCgGTlypNm6davZtWuX+frrr83FixcddbITj4zs27fP9OvXz0ybNs3Url3bPP/881nOs2nTJlOwYEEzbNgw88cff5gVK1aYqlWrmhdffNFpuZLMkiVLnM61ycnJTsvydDw8FYN//vnHVKxY0dxzzz1m8+bNZvPmzaZz587mzjvvNCkpKU7tGj58uNM22vsaO0/079npY+3eeOMNM2TIELN69Wqze/duM378eJMvXz6ndS9fvtxIMjt37nTahtTHfU769/TiYaV/3bJli+nSpYuZM2eO2b17t1m6dKmJjIw09957r1O9rOLhqb7dSjzcPSaMufa9q2LFiqZVq1Yun1dv9O1W90tUVJR56qmnnLbn1KlT6dbt16+fo0/YuHGjo9xTfbuVmOzZs8f4+vqawYMHm927d5v169ebpk2bmtq1a7vUzSwmdt7s263GqEWLFubOO+80v/76q9mzZ495/fXXTb58+cyGDRtc6mYUo9Ry0rcvX77cfPPNN2b79u1m9+7dZty4ccbHx8csWLAgw3n++ecf88wzz5gPPvjAtG7dOsP9aox7MbLStxuTfkxOnDhhJk2aZOLj401iYqJZsmSJqVKlinnggQcyXVZW1/KpuROTjGzYsMF88cUXZuvWrWbfvn3ms88+M4ULFzaTJ092a/6MYu3p78TuxMST+98uo2t3+7S1a9eaxMREs3r1atOgQQPToEEDpzqe6NutHBPuXLu7E3tP9+1W4uHOdbsxWcfDU327nTvncjt3rtuff/55M2rUKPPbb7+ZXbt2mcGDB5sCBQo4nYe9dd1ul51zd1bX7T/++KPp2bOnWbhwodmzZ4/jHJD6OsBTfbtddmLizjnKnZhkZ905uW63y06MsrpudydGVtedkezEyJisr9uzEyOrfbs3kWTxstmzZ5uSJUs6lc2fP9/ky5fPHDp0yFH25ZdfGl9fX3P69Oksl2m/MM7qILh06ZIJDg42w4cPd5SdOHHC+Pn5mSVLlmRvQ9Lo2rWradOmjVNZ69atTffu3bOcd8CAAebhhx82U6dOdUmypPXtt98am81mEhMTHWXvvfeeqVixolsn6bQnPU/HIyEhwZQpU8YcPnw4yxNsXo2HXUJCgpFkfvrppwzrpBePtK5cuWICAgLMtGnTXKalt4+8cYzY1a5d2zz++OMZTk8vJunp3bu3adasmdvrTcvdk/+kSZNMUFCQ04+pI0eONGFhYY4k0I8//miCgoLM8ePHM1xOnz59TPPmzZ3KXnjhBdO4cWOXuu7GJLWhQ4e69WPlqVOnTIECBcyMGTMcZYcOHTL58uVzXERcvnzZ3HLLLeajjz7KcDnx8fFGktm/f7+jbPPmzUaS2b17d5btSE9OOuT//Oc/TvvSnZgYc+3YaNSokfnoo49Mjx49cvRlzVMxSs+mTZuc9q07MbKbNGmSiYqKMkuXLs3RlzVj3I/R9u3bTf78+c3vv/+eYR13Y5Sd9abmyXjUr1/fDBkyJMPp2YmHu6KiotxKsgwePNjUrVvXqezbb781hQoVMmfOnDHG/N8Pypn9KOSNeHgqBgsXLjT58uVz6mtOnDhhJDldAGTVLk/172ll1sdmpl27duaxxx5zvHf3u6S763bn+1Z6rPSvM2fONAULFjSXL192lFk5bnPatxvjXjzcOSbsunXrZoYMGZLu59XbfbudO/vF3XPG/PnzTdWqVc22bdtc9oE3+nZj3IvJ119/bfLnz++UOJ0zZ46x2Wwu1xeZxcS+vuvVt9u5EyN/f3/z6aefOpUVL17cpe/ILEZ2nuzb7W6//fZM+7rUMtuvxmQdI2Osf+9zNybjx483ZcqUcWuZWZ1/3YlJdt1zzz3m4YcfzrJedmNt9TuxMe7FxNP7PzvX7sYY8/333zudF7zVtxuTvWPCGPeu3Y3JOvbe6NuzczzYZXXdboxrPNJjtW9391xu5851e3qqVatmhg0b5njvzb49O8ezO9ft6Rk9erSpUKGC470n+/bsxiQ9ac9R6Ukbk+ysO6d9e07717TX7elJGyNPrduY7MfInev29KQXI2PyZpKF4cK87KefflLdunWdytauXasaNWooLCzMUda6dWslJydr/fr1Hlv3nDlzdOzYMfXs2dNRtnjxYl29elWHDh3SrbfeqjJlyqhr1646cOBAtpa9du1atWrVyqmsdevWWrNmTabzLVu2TF9//bXeffddt9YzZcoUtWjRQuXLl3eUzZkzRw0aNFCfPn0UEhKiGjVqKC4uTikpKVkuz5PxOH/+vB544AFNnDhRoaGhWa47L8YjtY8++kiVK1dWkyZNMqyTXjzSOn/+vC5fvqzixYu7tV5vHSPr169XQkKCnnjiiQzrpBeT9Jw+fdrt7cmJtWvXKioqSr6+vo6y1q1b66+//nKM3zlnzhzVrVtXo0eP1i233KLKlSvrpZdechpKqHHjxlq/fr3j1u+9e/dq/vz5at++vVvtSC8mVqxfv16XL192+myGhYWpRo0ajs/mhg0bdOjQIeXLl0+33367SpcurbZt22rbtm2OeapUqaKSJUtqypQpunTpki5cuKApU6aoevXqmX4WvWH37t1asGCBoqKiHGXuxESShg8frlKlSmX6mXSXp2KU1rlz5zR16lRVqFBBZcuWleRejCRp+/btGj58uD799FPly3f9vl7MnTtXFStW1A8//KAKFSooPDxcTz75pE6cOOGo426MrPJUPI4ePapff/1VwcHBatiwoUJCQhQVFaVVq1Y56rgbD29ITk5WoUKFnMr8/Px08eJFl3Nzp06dFBwcrEaNGrkMUeONeHgqBsnJybLZbE7n4UKFCilfvnxOcZCkUaNGqUSJEqpdu7beeOMNp1vxPdW/p5XdPtYuo37M/hmKiYnR8uXLPbZud+NhpX89ffq0AgMDlT9/fqfyzOLhqXWnlZ19ktkxIUlTp07Vnj17NHTo0HTnv159u7v7Zfr06SpZsqSqV6+ul156SWfPnnWafuTIET311FP67LPPVLhwYZf5vdW3uxOTunXrysfHR1OnTlVKSopOnz6tzz77TK1atVKBAgUc9bKKiZQ7fbs7MWrcuLG++uornThxQlevXtWMGTOUnJys6OhoR52sYiR5vm83xmjp0qXauXOnmjZtmuPluROjnHAnJn/99Ze++eYbp++GVrkTk+zauHGj1qxZk2X7shvrnHwndpcn9392r91PnDih6dOnq2HDho7zgjf6dqvHhDvX7u7E3tN9u5XjwZ3r9vTikR6rfXt2z+XuXLendfXqVZ09e9apfd7q27N7PLtz3Z6etPvbk317TvvX9M5RaaUXE0+sOzVPxSit9K7b05PeMeGpvj27+8md6/a0MopRXkWSxcsSExOdfiiWro2RGxIS4lRWrFgxFSxYUElJSR5b95QpU9S6dWunA27v3r26evWq4uLiNG7cOM2aNUsnTpxQy5Yt3X4GSUbbEBISkmn7jx8/rp49e+qTTz5RYGBglus4fPiwfvzxRz355JNO5Xv37tWsWbOUkpKi+fPna8iQIRozZozeeOONLJfpyXj85z//UcOGDdW5c+cs1yvlvXiklpycrOnTp2d6cswoHmkNGjRIt9xyi1q0aOHWur11jEyZMkW33nqrGjZsmGmdtDFJa+3atZo5c6Z69erl1npzIqM42qdJ1z4zq1at0tatW/Xtt986Pjd9+vRxzNO9e3e9/vrraty4sQoUKKCIiAg1a9Ys3ecFpCe9mFjdnoIFC6pYsWIu25R6e6Rr4wwPGTJEP/zwg4oVK6aoqChHZxsQEKAVK1bo888/l5+fn4oUKaKFCxdq/vz5Lj+yeUvDhg1VqFAhRUZGqkmTJho+fLhjmjsxWb16taZMmaIPP/zQI+3xVIzsJk2apCJFiqhIkSJasGCBFi9erIIFC0pyL0bJycl64IEH9NZbb6lcuXIea5c79u7dqz///FNff/21Pv30U33yySdav3697rvvPqc6WcUoJzwVj9T7+qmnntKCBQtUp04dxcTE6I8//nCpk1E8vMWevP/yyy+VkpKiQ4cOacSIEZLkGJe4SJEiGjt2rGbNmqX58+crJiZG3bp10+eff+60nZ6Oh6dicNddd8nf318DBw7U+fPnde7cOf33v//V1atXncZefv755zVjxgwtX75cffv21bhx49S7d2/HdE/172llt4+VpFmzZik+Pl6PPfaYo6x06dL64IMPNHv2bH3zzTeqUqWKYmJi9NNPP3lk3e7Ew0r/evz4cb3++usu82QVD0+sOz3u7BN3jok//vhDgwYN0vTp0zPs165H3+7ufnnooYf05ZdfasWKFXr11Vc1e/Zsp+dCGWPUs2dPPfPMMxn+IOetvt2dmISHh2vRokV6+eWX5evrq6JFi+rgwYOaMWOGo447McmNvt3dGH311Ve6cuWKSpQoIV9fX/Xq1UvffvutIiIiJLkXI0/27adPn1aRIkVUsGBBtW/fXhMmTFDLli1ztEx3YpRTmcXkgQceUOHChXXLLbcoMDBQH330UY7W5U5MsqNMmTLy9fVV3bp11adPn0yv4bIT65x+J84OT+5/d6/dBw4cKH9/f5UoUUL79+/X999/75jmyb49J8dEVtfu2Ym9p/r2nBwPmV23ZxaPtKz27VbO5e5ct6c1ZswYnTt3Tl27dnWUeaNvt3Ludue6Pa09e/ZowoQJeuaZZxxlnurbc9K/ZnaOSiu9mFyPvj0n/Wtm1+1ppRcjT/XtVvaTO9ftaaUXozwtV++juQm0atXK9O7d26nsqaeeMq1atXKpW6BAAfPll19muUx3hng4cOCAyZcvn5k1a5ZT+RtvvGEkmYULFzrKjh49muVtgOm19YsvvnAqs48nmZF77rnHDBw40PE+q+HC4uLiTIkSJVzGrI6MjHR5XsCYMWNMaGioyzKU5vY9T8Xj+++/N5UqVXIaMzTtulLLi/FI7YsvvjD58+c3hw8fzrBORvFIbdSoUaZYsWJm06ZN6U5Pbx954xg5f/68CQoKcnmWSWoZxSS1rVu3mlKlSpnXX389y3Vmxt3bGFu2bGmefvppp7KDBw8aSWbt2rWOOoUKFXIa+3z27NnGZrOZ8+fPG2OunSNCQkLMhx9+aDZv3my++eYbU7Zs2XSHRXM3Jqm5O+zO9OnTTcGCBV3KW7RoYXr16uWoI8lprOCLFy+akiVLmvfff98Ycy2e9erVM48++qj57bffzNq1a829995rqlev7tjm7MruraX79+8327ZtM1988YW55ZZbzKhRoxzTsorJmTNnTHh4uJk/f75jek5vO/ZUjOxOnTpldu3aZVauXGk6duxo6tSpYy5cuGCMcS9G//nPf0y3bt0c060MRZSWuzF66qmnHM+WsFu/fr2R5LgV2Z3jJrvrTc1T8Vi9erWR5DK+ec2aNc2gQYOMMe7FI7vcHfrHmGv9bWBgoPHx8TGFCxd2jC3/1VdfZThP3759Tc2aNR3vvREPTx4TCxcuNBUrVjQ2m834+PiYhx9+2NSpU8c8++yzGc4za9YsI8kcO3bMGOO5/j21rPrY9Cxfvtz4+/u7NbxYhw4dTMeOHS2t253vW6lZ6V9Pnz5t6tevb9q0aZPlkLFp45HTdafHSjzsUh8TV65cMXXr1jXvvfeeY3p6n1dv9+052S/r1q0zksz69euNMdeGimnYsKHju3p6Q6Z5o293NyaHDx82kZGR5r///a/ZsGGDWblypYmKijIxMTHm6tWrbsUkN/r27MSob9++pl69embJkiUmISHBxMbGmqCgILN582ZjjHsx8mTfnpKSYv744w+zceNG8/bbb5ugoCCzfPlyt+ZNb7+6e9zYWR1SJLOYHD582OzYscN89913plq1apn2EalltB/diUl27N2712zevNl88MEHpnjx4i7XiqllJ9Y5+U6cmjsx8dT+z861+99//2127txpFi1aZBo1amTatWvnGP7Jk317To6JrK7d3Y29J/t2q8dDVtftmcUjNat9WHbP5XbuXLen9sUXX5jChQu7PDPSG327lXO3O9ftqR06dMhUqlTJPPHEE07lnujbrcbELrNzVGrpxeR69e056V8zu25PLaMYeaJvtxojd67bU8vouLHLi8OFkWTxsgcffNDloV+vvvqqqVWrllOZfbzvZcuWZblMdw6C4cOHm1KlSrlchH788cdGkjlw4IBTeXBwsPnggw+yXLdd2bJlzdixY53Kxo4da8qVK5fhPEFBQcbHx8fxypcvn5FkfHx8zJQpU5zqXr161VSqVCndB341bdrUxMTEOJXNnz/fSHJJAKQ96XkqHs8//7zjxxf7S5LJly+fiYqKcqmfF+ORWvPmzc3dd9+d4fTM4mH31ltvmaCgIBMfH59hnfQ6IW8cI59++qkpUKCAOXr0aIZ1MoqJ3bZt20xwcLB5+eWXs1xfVtw9+T/yyCOmU6dOTmUbNmwwkszevXuNMcY8+uijJiIiwqnO9u3bjSSza9cuY4wxjRs3Ni+99JJTHfuDAFOPP26M+zFJzd0fK+3je544ccKpvFatWua1114zxhizbNkyI8n8/PPPTnXq1avn2PcfffSRCQ4Odmp7cnKyKVy4sFtJt/TkpEO270v7RXBWMdm4caPjXGd/2Ww2xzkk7Riq7nxZ81SM0mPft/YLMndidNttt5l8+fKle363xzq73I3Ra6+9ZvLnz+9Udv78eSPJLFq0yBjj3nGT3fWm5ql47N2710gyn332mVN5165dzYMPPmiMcS8e2ZWdJIsx1/qEQ4cOmfPnzzv242+//ZZh/c8//9wUKlTI8d4b8fDGMfH33387vmuFhISY0aNHZ1jXfmH9yy+/GGM817/budPHprVixQpTpEgRtx92PGLECFO1alVL63bn+5adlf71zJkzpkGDBiYmJibdC8m00sYjJ+tOj5V4pJb6mDh58mS6fYS9bOnSpcYY7/btOd0vV69edRrLvXPnzk59gv17so+Pj3n00UeNMZ7v27MTkyFDhpg77rjDqezAgQOOH8fcicn17tuzE6Pdu3cbSWbr1q1O5TExMY4fy9yJkTf6drsnnngi3X+oSk96P9y4e9zYWf3el1XfYvfzzz8bSeavv/7Ksm5G1/LuxMSq119/3VSuXDnD6VZjnd3vxKm5ExNP7f/sXrvb2c8L9gdWe7pvTy07x0RW1+6pZRR7T/ftqWXneHDnut0ubTzsctKHZfdcbufOdbvdjBkzjJ+fn/nhhx9cluONvt3K8ezOdbvdoUOHTOXKlc0jjzzi0kZP9O1WY5KetOcou4xicr36dk/1r2mv2+0yi5En1m01Ru5ct9tldtzY5cUkC8OFedntt9+u7du3O5U1aNBAW7dudRp2YtGiRfL19dUdd9yR43UaYzR16lQ9+uijLuNVNmrUSJK0c+dOR9mJEyd07NixbI2R2KBBAy1evNipbNGiRZkOzbR27VolJCQ4XsOHD1dAQIASEhJ0zz33ONVduXKldu/ene4tsI0aNdLu3bt19epVR9muXbtUunTpDG+Ts/NUPAYNGqTNmzc7bY8kvfPOO5o6dapT3bwaD7t9+/Zp+fLlmQ4Vllk8JOmtt97S66+/rgULFmT79nZvHCNTpkxRp06dVKpUqXSnZxYTSdq2bZuaNWumHj16uDUMnac0aNBAP/30k9Pt5osWLVJYWJjCw8MlXfvM/PXXX/rnn38cdXbt2qV8+fKpTJkykq6NrZt2bE0fHx+Za4n1LNuRXkysuOOOO1SgQAGnz+bhw4e1detWx2fzjjvukK+vr9MxcPnyZSUmJjqOAfv22Gw2Rx37+9TngevFGKPLly879mVWMalataq2bNnidL7o1KmTmjVrpoSEhEyHq8uIp2KUEWOMkpOTJbkXo9mzZ2vTpk2O7bMPEfDzzz97bEiujDRq1EhXrlzRnj17HGW7du2SJEf73DlucsJT8QgPD1dYWJjTvpautdW+Le7Ew9tsNpvCwsLk5+enL7/8UmXLllWdOnUyrL9x40aVLl3a8d4b8fDGMVGyZEkVLVpUy5Yt09GjR9WpU6cM627cuFGSHNvpqf5dstbHrlixQu3bt9ebb76pp59+2q150sbJ6rqljONhpX89c+aMWrVqpYIFC2rOnDkuzwVKT9p4WF13enLynSd1++xtCwwMdOkjnnnmGVWpUkUJCQmqX7++JO/17Z7YL9u2bdPly5cd2/S///3PqU+YP3++pGtDWNnX4cm+PbsxOX/+vHx8fJzK7O+vXr3qVkyuZ9+e3RidP39ektL9vNj3rTsx8mbfnvp7hhXuHjc55W7fYj8Gc7JN7sTEqqz2t9VYZ/c7cXZ5av9n59o9s+V6sm9Pb13ufH7cuXbParme7tvTW6fk3vGQ1XV7VsvNaR9m9VzuznW7JH355Zfq2bOnvvjii3Sfs+KNvt3K8ezOdbskHTp0SNHR0apTp46mTp3q0nZP9O2e7F/TnqOkzGNyvfp2T/avaY/xrGLkiXVb3U/uXLdLWR83edr1yubcrDZv3mzy58/vlBG+cuWKqVGjhomJiTEbNmwwS5YsMWXKlDF9+/Z11Dl48KCpUqWK+fXXXx1lhw8fNhs3bjQffvihkWR++ukns3HjRnP8+HGndS5ZssRIMtu3b0+3TZ07dzbVq1c3q1evNlu2bDEdOnQw1apVy3LohdRWr15tfHx8zJtvvml27Nhh3nzzTZM/f36n/xicMGGCad68eYbLyGy4sIcfftjUr18/3Wn79+83RYoUMX379jU7d+40P/zwgwkODjYjRoxwqas0mWVPxiOrddnl9XgMGTLEhIWFuWT3U8ssHqNGjTIFCxY0s2bNMocPH3a8Ut+ObZfePvJ0TP744w9js9nMjz/+mOH2ZBYT+63GDz30kNP2uPPfNaklJyebjRs3mo0bN5rSpUubl156yWzcuNH88ccfjjppY3Lq1CkTEhJiHnjgAbNlyxbzzTffmMDAQKfbp8+ePWvKlClj7rvvPrNt2zazcuVKExkZaZ588klHnaFDh5qAgADz5Zdfmr1795pFixaZiIgI07VrV5d2uhsTY4zjlvZevXqZypUrO7bPfgdZejF55plnTJkyZcySJUvMhg0bTPPmzc1tt93m9Hl7/vnnzS233GIWLlxofv/9d/PEE0+Y4OBgx/p37NhhfH19zbPPPmu2b99utm7dah5++GETFBTk1n9I5SQmn3/+ufnqq6/M9u3bzZ49e8zMmTPNLbfcYh566KFsxSStnN527KkY7dmzx8TFxZl169aZP//806xZs8Z07tzZFC9e3Bw5csSx3KxilJbVIUWsxCglJcXUqVPHNG3a1GzYsMGsW7fO1K9f37Rs2dJRJzsxsvIfMZ48Zt555x0TGBhovv76a/PHH3+YIUOGmEKFCjn9R1B245ERe3vuuOMO8+CDD5qNGzeabdu2OaZ/8803pkqVKk7zjB492mzevNls3brVDB8+3BQoUMDp8/rJJ5+Y6dOnm+3bt5vff//dvPXWW6ZAgQJOd1t6Ix6ejMHHH39s1q5da3bv3m0+++wzU7x4cfPCCy84pq9Zs8aMHTvWbNy40ezdu9d89dVXJiwszOU/Gj3Rv7vTx6Y9JpYvX24KFy5sBg8e7DRP6u+L77zzjvn222/Nrl27zNatW82gQYOMJDN79uxsrdvOne9b7vSvaeNx5swZU79+fVOzZk2ze/dup/ns/Yg78fBU324lHu4cE2mld+eVN/p2KzHZvXu3GTZsmImPjzf79u0z8+bNM1WrVjW33357ht8l0xv2yFN9u5WYLF261NhsNjNs2DCza9cus379etO6dWtTvnz5DIczceduOG/07VZidOnSJVOpUiXTpEkT8+uvv5rdu3ebt99+29hsNjNv3rx01+3O0FRW+/a4uDizaNEis2fPHrNjxw4zZswYkz9/fvPhhx866qR3nbJt2zazceNG07FjRxMdHe04f2fEG8OFpReTefPmmY8//ths2bLFcQxUr17dNGrUyFEnJ9fydlaHC5s4caKZM2eO2bVrl9m1a5f5+OOPTWBgoHnllVccddLr31NLL9ae/k7sTkw8uf/TSntM/vrrr2bChAlm48aNJjEx0Sxbtsw0btzYREREmIsXLzrqeaJvt3pMGJP5tbs7sfd0356TeGR23e5OPDzVt6eV3rncynW7fVi3d99916l9qYfT89Z1e2rpHc9Wrtvtw081b97cHDx40Gmb7DzVt6flTkzcOUe5ExN31m2Xk+v21NyJkTvX7e7EyJ11W+FOjNy5bs9OjPLinSwkWa6Du+66y2Wc9D///NO0b9/e+Pn5meLFi5u+ffs6dd72L1Wpx+UcOnSokeTymjp1qtOyH3jgAdOwYcMM23P69Gnz+OOPm6JFi5rixYube+65x+zfv9+pTnrLTevrr782VapUMQUKFDBVq1Z1ujC3t7d8+fIZzp9RkuXUqVPGz88v01tu16xZY+rXr298fX1NxYoVzRtvvJHuF430Tnqeioc76zImb8cjJSXFlClTJtNba7OKR/ny5dP9XA4dOtSlbkb7yJMxGTx4sClTpozLbZGpZRaTjI6ztPsuq5jY25f2lfqW9PRisnnzZtOkSRPj6+trQkNDTWxsrMu4szt27DAtWrQwfn5+pkyZMuaFF15w+lHg8uXLJjY21kRERJhChQqZsmXLmt69e6fbcWYnJlFRUelu0759+5y2OXVMLly4YPr27WuKFy9u/Pz8TIcOHVw+35cuXTIvvviiCQ4ONgEBAaZFixYuQ1zYx+ENCgoyxYoVM82bN3cZ79YbMZkxY4apU6eOKVKkiPH39zfVqlUzcXFxLsPVZBWTtHL6Zc0Yz8To0KFDpm3btiY4ONgUKFDAlClTxjz44IMuY6K6E6PUMvqy5q3j5tChQ6ZLly6mSJEiJiQkxPTs2dPlRwt3Y2T1y5qnjhljjBk5cqQpU6aMKVy4sGnQoIHL0GDuxKN8+fLpnodTy+pcN3XqVJP2/3GaNWtmgoKCTKFChUz9+vWdxuI15toPyrfeeqspXLiwCQgIMHfccYfL8GfGeCcenorBwIEDTUhIiClQoICJjIw0Y8aMcToPr1+/3tSvX9+xH6pUqWKGDh1qzp0757RuT/Tv7vSxaY+JHj16ZHkcjRo1ytFHFCtWzDRu3Njlx9ec9u9p4+FO/5o2HvZzSWYxdCcenurbrcTD3WMitfR+LPZG324lJvv37zdNmzY1xYsXNwULFjQRERGmX79+Gf5QnHoZaX8s9kTfbiUmxhjz5Zdfmttvv934+/ubUqVKmU6dOpkdO3ZkuJ7rkWQxxjMxMsaYXbt2mS5dupjg4GBTuHBhU6tWLfPpp59muN6cJFmyitErr7xiKlWq5DjfNGjQwDG0XOrtTBujjGKbEW8kWYxxjcmyZctMgwYNHOecyMhIM3DgQKf9kpNr+bTLSBuTrPr3//3vf6Z69eqmcOHCJjAw0Nx+++1m0qRJTtdG6fXvqaUXa09/J3Y3Jp7a/2mlPSY3b95smjVrZooXL258fX1NeHi4eeaZZ8zBgwed5vNE3271mMjq2t2d2Hu6b89JPDK7bncnHp7q29NK71xu5bo9o++gPXr0cNTx1nV7aukdz1au2+3njazOy57o29NyJybunKPciYk76069HVav21NzJ0buXLe7G6Os1m3fNm8cN1ldt2cnRiRZblLz5s0zt956a6Y/+uYl+/btM/nz53cZN/XfKL2THvHIPRl1QsQk9xCTvMfdL2vEyDusflnLS/E4f/68KVSokFvPsMrrshOPvBQDd/xbjgl38H0rb6Fvz3vo23NXTn6IyUsxuRn797y0/93xbzkm3EHfnrfQt+c99O25Ky8mWXgmy3XQrl079erVS4cOHcrtprhlwYIFevrppxUZGZnbTbHsmWeeUZEiRdKdRjyuv8ziIRGT3EBM8p6sYpIWMfKsuLg4FSlSRPv377c0f16Kx8qVK9W8eXM1a9Yst5timZV45KUYuCOvHxPu4PtW3kLfnvfQt+eunPbtUt6Kyc3Yv+el/e+OvH5MuIO+PW+hb8976Ntzlyf6dm+xGePG05SAf5mjR4/qzJkzkq499NTf3z+XW3RzIx55DzHJe4hJ7jpx4oROnDghSSpVqpSCgoJyuUU3N+Lx78B5K28hHnkPMcld9CV5DzHJ+zhv5S3EI+8hJrkrL/cjJFkAAAAAAAAAAAAsYLgwAAAAAAAAAAAAC0iyAAAAAAAAAAAAWECSBQAAAAAAAAAAwAKSLAAAAAAAAAAAABaQZAEAAAAAAAAAALCAJAsAAACAf51PPvlERYsWzXB6YmKibDabEhISrlubMtOzZ0/dfffd2ZonNjZWtWvX9vhyAQAAAHhO/txuAAAAAADcKBITE1WhQgVt3LgxywSJJ4wfP17GGK+vBwAAAED6SLIAAAAAyLMuXbqkggUL5nYz8qygoKDcbgIAAABwU2O4MAAAAACWzJ07V0WLFtXVq1clSQkJCbLZbPrvf//rqNOrVy898MADjvezZ89W9erV5evrq/DwcI0ZM8ZpmeHh4RoxYoR69uypoKAgPfXUU5KuDQ9Wrlw5FS5cWPfcc4+OHz+e7fZu375d7dq1U5EiRRQSEqJHHnlEx44dc0yPjo5Wv379NGDAABUvXlyhoaGKjY11Wsbvv/+uxo0bq1ChQqpWrZqWLFkim82m7777TpJUoUIFSdLtt98um82m6Ohop/nffvttlS5dWiVKlFCfPn10+fLlLNs9efJklS1bVoULF9b999+vU6dOOaalHS7MnW0AAAAA4DkkWQAAAABY0rRpU509e1YbN26UJK1cuVIlS5bUypUrHXVWrFihqKgoSdL69evVtWtXde/eXVu2bFFsbKxeffVVffLJJ07Lfeutt1SjRg2tX79er776qn799Vc9/vjj6t27txISEtSsWTONGDEiW209fPiwoqKiVLt2ba1bt04LFizQkSNH1LVrV6d606ZNk7+/v3799VeNHj1aw4cP1+LFiyVJV69e1d13363ChQvr119/1QcffKBXXnnFaf7ffvtNkrRkyRIdPnxY33zzjWPa8uXLtWfPHi1fvlzTpk3TJ5984rLtae3evVszZ87U3LlztWDBAiUkJKhPnz6ZzpPZNgAAAADwLIYLAwAAAGBJUFCQateurRUrVuiOO+7QihUr9J///EfDhg3T2bNnde7cOe3atctxN8fYsWMVExOjV199VZJUuXJlbd++XW+99ZZ69uzpWG7z5s310ksvOd6/9tprat26tQYNGuSYb82aNVqwYIHbbX3vvfdUp04dxcXFOco+/vhjlS1bVrt27VLlypUlSbVq1dLQoUMlSZGRkZo4caKWLl2qli1batGiRdqzZ49WrFih0NBQSdIbb7yhli1bOpZZqlQpSVKJEiUcdeyKFSumiRMnysfHR1WrVlX79u21dOlSx9066bl48aKmTZumMmXKSJImTJig9u3ba8yYMS7Lt8tsGwAAAAB4FneyAAAAALAsOjpaK1askDFGP//8szp37qwaNWpo1apVWr58uUJCQlS1alVJ0o4dO9SoUSOn+Rs1aqQ//vhDKSkpjrK6des61dmxY4caNGjgVJb2fVbWr1+v5cuXq0iRIo6XvV179uxx1KtVq5bTfKVLl9bRo0clSTt37lTZsmWdkhv16tVzuw3Vq1eXj49PusvOSLly5RwJFunadl+9elU7d+7McJ7MtgEAAACAZ3EnCwAAAADLoqOjNWXKFG3atEn58uVTtWrVFBUVpZUrV+rkyZOOocIkyRgjm83mNL8xxmWZ/v7+WdbJrqtXr6pjx44aNWqUy7TSpUs7/i5QoIDTNJvN5njmTHrtz47Mlu0u+/oza4cn1gMAAADAPSRZAAAAAFhmfy7LuHHjFBUVJZvNpqioKI0cOVInT57U888/76hbrVo1rVq1ymn+NWvWqHLlyk53eKRVrVo1/fLLL05lad9npU6dOpo9e7bCw8OVP7+1y6CqVatq//79OnLkiEJCQiRJ8fHxTnUKFiwoSU535uTE/v379ddffyksLEyStHbtWuXLl88xvBkAAACA3MVwYQAAAAAssz+X5fPPP3c8e6Vp06basGGD0/NYJOnFF1/U0qVL9frrr2vXrl2aNm2aJk6c6PT8lfT069dPCxYs0OjRo7Vr1y5NnDgxW89jkaQ+ffroxIkTeuCBB/Tbb79p7969WrRokR5//HG3EyItW7ZURESEevTooc2bN2v16tWOB9/b7ywJDg6Wn5+fFixYoCNHjuj06dPZamdahQoVUo8ePbRp0yb9/PPP6tevn7p27Zrh81gAAAAAXF8kWQAAAADkSLNmzZSSkuJIqBQrVkzVqlVTqVKldOuttzrq1alTRzNnztSMGTNUo0YNvfbaaxo+fLjTQ+/Tc9ddd+mjjz7ShAkTVLt2bS1atEhDhgzJVhvDwsK0evVqpaSkqHXr1qpRo4aef/55BQUFKV8+9y6LfHx89N133+mff/7RnXfeqSeffNLRjkKFCkmS8ufPr//973+aPHmywsLC1Llz52y1M61KlSqpS5cuateunVq1aqUaNWpo0qRJOVomAAAAAM+xGU8McAwAAAAAN6HVq1ercePG2r17tyIiInK7OQAAAACuM5IsAAAAAOCmb7/9VkWKFFFkZKR2796t559/XsWKFXN51gwAAACAmwMPvgcAAAAAN509e1YDBgzQgQMHVLJkSbVo0UJjxozJ7WYBAAAAyCXcyQIAAAAAAAAAAGABD74HAAAAAAAAAACwgCQLAAAAPKJLly7q3LmzJGn+/PmKjY31+jrPnz+v2NhYrVixIt3pX331lapXry4/Pz/ZbDYlJCQoNjZWNpvNqV50dLSio6O93t4XXnhBt912m2w2m1uvFStWaMWKFbLZbJo1a5ZX2vTJJ5+41Zbw8HBJUs+ePVWkSBGvtMUbwsPD1aFDh0zr9OzZ07F9dnFxcfruu+9c6m7fvl2xsbFKTEx0azk5Zf+82l8FCxZUhQoV9Pzzz+vUqVOOetfrM5xaTo/zrI5fuNq1a5deeukl3XHHHSpatKiKFy+uRo0apXt+yOzYTkpKyoXWAwAA3Jh4JgsAAABy7Ny5c1qwYIHef/99Sdd+fH333Xe9nmg5f/68hg0bJkkuPzD//fffeuSRR9SmTRtNmjRJvr6+qly5sp588km1adPGq+3KyDfffKPHH39ckydPdip//fXXtXz5ci1btsypvFq1atqwYYNX29S+fXutXbvWqaxBgwa677779OKLLzrKfH19vdqO3PTqq6/q+eefdyqLi4vTfffdp7vvvtupfPv27Ro2bJiio6M9nlDJzIIFCxQUFKSzZ89q/vz5Gj9+vH777TetWbNGNptNkyZNum5tscvpcZ7Z8Yv0LVq0SPPmzdMjjzyiO++8U1euXNFXX32l+++/X8OGDdNrr73mMs/UqVNVtWpVp7ISJUpcryYDAADc8EiyAAAAIMfmz5+vK1euqGPHjrndFIddu3bp8uXLevjhhxUVFeUoL1y4sMqUKXPd2xMfH68///xT9957r6pXr+40rVSpUsqXL5/uuuuu696uUqVKqVSpUi7lISEhHm9PSkqKrly5kucSNhEREbndhCzdcccdKlmypCSpZcuWOn78uD777DOtWbNGjRo1UrVq1XK5hbgeunfvrj59+jjdjde2bVsdO3ZMo0aN0sCBA12Orxo1aqhu3brXu6kAAAA3DYYLAwAAQI7Nnj1bzZs3V7FixdSzZ0+9++67kuQ0PI19eCVjjCZNmqTatWvLz89PxYoV03333ae9e/c6ljdjxgzZbDZNnDjRaT1Dhw6Vj4+PFi9erMTEREdyYNiwYY719OzZUz179lTjxo0lSd26dZPNZnP8p3x6w4Wl59KlSxoxYoSqVq0qX19flSpVSo899pj+/vtvp3rLli1TdHS0SpQoIT8/P5UrV0733nuvzp8/77KPqlSp4pJgcdfly5f1yiuvKCwsTIGBgWrRooV27tzpUm/JkiWKiYlRYGCgChcurEaNGmnp0qWW1pmZ3bt3q127dipSpIjKli2rF198UcnJyY7piYmJstlsGj16tEaMGKEKFSrI19dXy5cvlyStW7dOnTp1UvHixVWoUCHdfvvtmjlzpst6kpKS1KtXL5UpU8YxVNawYcN05coVj21L2mG+bDabzp07p2nTpjk+V9HR0frkk090//33S5KaNWvmmPbJJ59kuGx3Pu9W2BNgf/75p6T0hws7ePCg7rvvPgUEBKho0aJ66KGHFB8f79LmvXv3qnv37goLC5Ovr69CQkIUExOjhISEDNef2XGe0+M3p+bNmyebzab4+HhH2ezZs2Wz2dS+fXunurVq1dK9997reG+z2dS3b19NnjxZlStXlq+vr6pVq6YZM2Y4zWcfimvZsmV66qmnVKJECQUGBurRRx/VuXPnlJSUpK5du6po0aIqXbq0XnrpJV2+fDnH21ayZMl0z1/16tXT+fPndeLEiRyvAwAAANnDnSwAAADIkYsXL2revHkaO3aspGtDL507d06zZs1yGoaqdOnSkqRevXrpk08+Ub9+/TRq1CidOHFCw4cPV8OGDbVp0yaFhISoe/fuWrlypV588UXdddddqlu3rpYtW6YRI0bo5ZdfVsuWLZWcnKwFCxaoTZs2euKJJ/Tkk09KkuOH23r16qlPnz6Ki4tTs2bNFBgY6PY2Xb16VZ07d9bPP/+sAQMGqGHDhvrzzz81dOhQRUdHa926dfLz81NiYqLat2+vJk2a6OOPP1bRokV16NAhLViwQJcuXVLhwoUdy5w9e7a6du1qeT+//PLLatSokT766COdOXNGAwcOVMeOHbVjxw75+PhIkj7//HM9+uij6ty5s6ZNm6YCBQpo8uTJat26tRYuXKiYmBjL60/t8uXL6tSpk5544gm9+OKL+umnn/T6668rKCjIZbii//3vf6pcubLefvttBQYGKjIyUsuXL1ebNm1Uv359vf/++woKCtKMGTPUrVs3nT9/3vFDe1JSkurVq6d8+fLptddeU0REhNauXasRI0YoMTFRU6dO9cj2pLV27Vo1b95czZo106uvvipJCgwMVKlSpRQXF6eXX35Z7777rurUqSMp8zth3Pm8W7F7925JSvcuJOnaEH7NmjXTiRMnNGrUKFWqVEkLFixQt27dXOq2a9dOKSkpGj16tMqVK6djx45pzZo1Ts98SSuz49wTx29OREVFqUCBAlqyZInuvPNOSdeSj35+flq5cqUuX76sAgUK6OjRo9q6daueffZZp/nnzJmj5cuXa/jw4fL399ekSZP0wAMPKH/+/Lrvvvuc6j755JPq0qWLZsyYoY0bN+rll1/WlStXtHPnTnXp0kVPP/20lixZolGjRiksLEwvvPCCY96UlBQZY7Lcnnz58ilfvsz/P3L58uUqVaqUgoODXaZ16NBBf//9t4KCghQdHa3hw4erRo0aWa4XAAAAbjIAAABADnz33XfGx8fHHD161FHWp08fk95XzbVr1xpJZsyYMU7lBw4cMH5+fmbAgAGOsosXL5rbb7/dVKhQwWzfvt2EhISYqKgoc+XKFUedv//+20gyQ4cOdVnX8uXLjSTz9ddfO5UPHTrUpW1RUVEmKirK8f7LL780kszs2bOd6sXHxxtJZtKkScYYY2bNmmUkmYSEhAz2zjUJCQlGklm/fn2603v06GH8/f3TnWbfjnbt2jmVz5w500gya9euNcYYc+7cOVO8eHHTsWNHp3opKSnmtttuM/Xq1cu0jalJMn369MmwrZLMzJkzncrbtWtnqlSp4ni/b98+I8lERESYS5cuOdWtWrWquf32283ly5edyjt06GBKly5tUlJSjDHG9OrVyxQpUsT8+eefTvXefvttI8ls27Yty20pX768ad++faZ1evToYcqXL+9U5u/vb3r06OFS9+uvvzaSzPLly7NcTnY+7xmxf16TkpLM5cuXzcmTJ83nn39u/Pz8TNmyZc2FCxeMMa6f4XfffddIMj/++KPT8nr16mUkmalTpxpjjDl27JiRZMaNG5dlW9LK6Dg3JufHb041btzYNG/e3PG+UqVK5r///a/Jly+fWblypTHGmOnTpxtJZteuXY56koyfn59JSkpylF25csVUrVrVVKpUyVE2depUI8k899xzTuu9++67jSQzduxYp/LatWubOnXqOJWVL1/eSMryldX++fDDD40kM378eKfyH3/80bzyyitm7ty5ZuXKlWbixImmTJkyxt/fP8tzFgAAANzHcGEAAADIkdmzZ6tJkyZu/Qf6Dz/8IJvNpocfflhXrlxxvEJDQ3XbbbdpxYoVjrq+vr6aOXOmjh8/rjp16sgYoy+//NJx14Y3/fDDDypatKg6duzo1M7atWsrNDTU0c7atWurYMGCevrppzVt2rQMh4CaPXu2wsPDHXc+WNGpUyen97Vq1ZL0f8NFrVmzRidOnFCPHj2c2nz16lW1adNG8fHxOnfunCQ5Tb9y5Ypb/02fms1mc3n+Tq1atRxtSdvuAgUKON7v3r1bv//+ux566CGXtrRr106HDx92DIP2ww8/qFmzZgoLC3Oq17ZtW0nSypUrJf3fs15Sb3Ne4O7n3RjjEpO0QkNDVaBAARUrVkwPP/yw6tSpowULFqhQoULprnvlypUKCAhQmzZtnMofeOABp/fFixdXRESE3nrrLY0dO1YbN270yP7LzeNXkmJiYrR69WpduHBBf/75p3bv3q3u3burdu3aWrx4saRrd7eUK1dOkZGRLvOmvsPIx8dH3bp10+7du3Xw4EGnuh06dHB6f+utt0qSy7Bkt956q8vxMXfuXMXHx2f5evrppzPczh9//FF9+vTRfffdp+eee85pWps2bTRixAh16NBBTZs2VZ8+ffTzzz/LZrO53HEGAAAA60iyAAAAwLLLly9r7ty5Ts80yMyRI0dkjFFISIgKFCjg9Prll1907Ngxp/qVKlVSkyZNdPHiRT300EOOIce87ciRIzp16pQKFizo0s6kpCRHOyMiIrRkyRIFBwerT58+ioiIUEREhMaPH++0vFmzZrm9jzJSokQJp/f2h1tfuHDB0WZJuu+++1zaPGrUKBljdOLECSUmJrpMtycr3FW4cGGXH/d9fX118eJFl7ppY2Zv50svveTSjt69e0uSY/8eOXJEc+fOdalnf66NvV5MTIzT9Mcffzxb2+Mt7n7e7UO7pX6ltWTJEsXHxyshIUHHjh3TqlWrMn3Y/fHjx9Mdiixtmc1m09KlS9W6dWuNHj1aderUUalSpdSvXz+dPXs2R9ufW8evJLVo0ULJyclatWqVFi9erJIlS+r2229XixYttGTJEknS0qVL1aJFC5d5Q0NDMyw7fvy4U3nx4sWd3hcsWDDD8rTHR7Vq1VS7du0sX+m1R5IWLlyoLl26qGXLlpo+fbpbz5oKDw9X48aN9csvv2RZFwAAAO7hmSwAAACwbMmSJTp9+rTuuecet+rbH9r8888/O5IEqaUt++ijjzRv3jzVq1dPEydOVLdu3VS/fn2PtD2rdpYoUUILFixId3pAQIDj7yZNmqhJkyZKSUnRunXrNGHCBPXv39/xbJkdO3Zox44dmjJlitfbLEkTJkxwPBQ9LfsP7KkfCC5JVapU8Vq70v7wa2/n4MGD1aVLl3TnsbenZMmSqlWrlt54441064WFhUmSJk+e7JQQsK8jt7n7ee/YsaNLTNK67bbbsrVdJUqU0G+//eZSnpSU5FJWvnx5x+dz165dmjlzpmJjY3Xp0iW9//77bq8zrdw6fiWpfv36KlKkiJYsWaLExETFxMTIZrMpJiZGY8aMUXx8vPbv359ukiW9fWQvS5vszImIiIh07/5Ka+jQoYqNjXUqW7hwoe6++25FRUVp9uzZjuSOO4wxWT7jBQAAAO4jyQIAAADLZs+erbvuuku33HKLU3nquyz8/Pwc5R06dNCbb76pQ4cOZfkQ+C1btqhfv3569NFH9eGHH6phw4bq1q2bNm7cqGLFirmsx5M6dOigGTNmKCUlxe0fhX18fFS/fn1VrVpV06dP14YNG9S9e3fNnj1bYWFhGSY+PKVRo0YqWrSotm/frr59+2Zat27dul5tS2aqVKmiyMhIbdq0SXFxcZnW7dChg+bPn6+IiAhHzDNapqf5+vqm+7nKzmfO3c97iRIlPPrjvXTt4e8zZ87Ujz/+6BheTZJmzJiR6XyVK1fWkCFDNHv2bG3YsCHTuhkd51LuHr+SVKBAATVt2lSLFy/WgQMH9Oabb0q6lhTNnz+/hgwZ4ki6pLV06VIdOXLEkZRMSUnRV199pYiICJUpU8ZjbZw7d66Sk5OzrGdPJtotWrRId999txo3bqzvvvsu3QReRvbt26fVq1enm1wCAACANSRZAAAA4JaVK1cqJiZGr732ml577TWlpKTo+++/16BBg1zq1qxZU5I0atQotW3bVj4+PqpVq5YaNWqkp59+Wo899pjWrVunpk2byt/fX4cPH9aqVatUs2ZNPfvsszp37py6du2qChUqaNKkSSpYsKBmzpypOnXq6LHHHtN3330n6dodJeXLl9f333+vmJgYFS9eXCVLllR4eHiOtrV79+6aPn262rVrp+eff1716tVTgQIFdPDgQS1fvlydO3fWPffco/fff1/Lli1T+/btVa5cOV28eFEff/yxJDl+xJw1a5a6dOni1lA+OVGkSBFNmDBBPXr00IkTJ3TfffcpODhYf//9tzZt2qS///5b7733nlfb4K7Jkyerbdu2at26tXr27KlbbrlFJ06c0I4dO7RhwwZ9/fXXkqThw4dr8eLFatiwofr166cqVaro4sWLSkxM1Pz58/X++++79aN3UlKSZs2a5VIeHh6eYcKpZs2aWrFihebOnavSpUsrICBAVapUUY0aNSRJH3zwgQICAlSoUCFVqFAh3SSJu593b+jRo4feeecdPfzwwxoxYoQqVaqkH3/8UQsXLpQkx50MmzdvVt++fXX//fcrMjJSBQsW1LJly7R582anY/uJJ57QtGnTtGfPHpUvX96xjyTX4/zy5cvX9fiNjY3VsGHDtHz5ckVHRzvKY2Ji9OKLL0r6v+PRz89PDRs21KJFi1SrVi0FBwe7LK9kyZJq3ry5Xn31Vfn7+2vSpEn6/fffs0xQZZd9/2XHqlWrdPfddys0NFQvv/yyEhISnKZXq1ZNgYGBkq5tc9OmTVWrVi0FBgZqy5YtGj16tGw2m15//XVPbAIAAABEkgUAAABuMsYoJSXF8VDsFStW6NixY+kO+fTggw9q9erVmjRpkoYPHy5jjPbt26fw8HBNnjxZd911lyZPnqxJkybp6tWrCgsLU6NGjVSvXj1J0jPPPKP9+/crPj5e/v7+kqSKFSvqo48+0v33369x48apf//+kqQpU6bov//9rzp16qTk5GT16NFDn3zySY621cfHR3PmzNH48eP12WefaeTIkcqfP7/KlCmjqKgox4+jtWvX1qJFizR06FAlJSWpSJEiqlGjhubMmaNWrVppz5492rRpk8aNG5ej9rjr4YcfVrly5TR69Gj16tVLZ8+eVXBwsGrXrq2ePXtelza4o1mzZvrtt9/0xhtvqH///jp58qRKlCihatWqOd3xUbp0aa1bt06vv/663nrrLR08eFABAQGqUKGC2rRpk+ndLamtX79e999/v0t5Zp+V8ePHq0+fPurevbvOnz+vqKgorVixQhUqVNC4ceM0fvx4RUdHKyUlRVOnTs1w/7rzefcGf39/LVu2TP3799eAAQNks9nUqlUrTZo0Se3atVPRokUlXXvWSEREhCZNmqQDBw7IZrOpYsWKGjNmjNOD1FNSUpSSkiJjjKMso+P81Vdfva7H7z///CObzeby7BJ7YiUyMtKRGLKXL1++PMO7OTp16qTq1atryJAh2r9/vyIiIjR9+nR169YtW+3yhiVLlujChQtKTExU8+bNXaanTjTVrFlTX331ld5++21duHBBwcHBjuRR5cqVr3PLAQAAblw2k/pbMgAAAOCm3r1769dff9X69etzuyl51ujRo/X222/r8OHD8vHxye3mAIqLi3MkDzw59FVuqlevnsqXL++4AyonbDab+vTpo4kTJ3qgZQAAALgZkGQBAAAAgBuQPVFQtWpVXb58WcuWLdP//vc/devWTZ9++mkut84zzpw5o1KlSikhIUG33nprjpdHkgUAAADZxXBhAAAAAHADKly4sN555x0lJiYqOTlZ5cqV08CBAzVkyJDcbprHBAYGuvXweAAAAMBbuJMFAAAAAAAAAADAgny53QAAAAAAAAAAAIB/I5IsAAAAAAAAAAAAFpBkAQAAAAAAAAAAsIAH30u6evWq/vrrLwUEBMhms+V2cwAAAAAAAAAAQC4yxujs2bMKCwtTvnwZ369CkkXSX3/9pbJly+Z2MwAAAAAAAAAAQB5y4MABlSlTJsPpJFkkBQQESLq2swIDA3O5NQAAAAAAAAAAIDedOXNGZcuWdeQPMkKSRXIMERYYGEiSBQAAAAAAAAAASFKWjxjhwfcAAAAAAAAAAAAWkGQBAAAAAAAAAACwgCQLAAAAAAAAAACABSRZAAAAAAAAAAAALCDJAgAAAAAAAAAAYAFJFgAAAAAAAAAAAAtIsgAAAAAAAAAAAFhAkgUAAAAAAAAAAMACkiwAAAAAAAAAAAAWkGQBAAAAAAAAAACwgCQLAAAAAAAAAACABSRZAAAAAAAAAAAALMif2w0AAADXX/igebndhJtS4pvtc7sJAAAAAADAg7iTBQAAAAAAAAAAwAKSLAAAAAAAAAAAABbk6SRLbGysbDab0ys0NNQx3Rij2NhYhYWFyc/PT9HR0dq2bVsuthgAAAAAAAAAANws8nSSRZKqV6+uw4cPO15btmxxTBs9erTGjh2riRMnKj4+XqGhoWrZsqXOnj2biy0GAAAAAAAAAAA3gzyfZMmfP79CQ0Mdr1KlSkm6dhfLuHHj9Morr6hLly6qUaOGpk2bpvPnz+uLL77I5VYDAAAAAAAAAIAbXZ5Psvzxxx8KCwtThQoV1L17d+3du1eStG/fPiUlJalVq1aOur6+voqKitKaNWsyXWZycrLOnDnj9AIAAAAAAAAAAMiOPJ1kqV+/vj799FMtXLhQH374oZKSktSwYUMdP35cSUlJkqSQkBCneUJCQhzTMjJy5EgFBQU5XmXLlvXaNgAAAAAAAAAAgBtTnk6ytG3bVvfee69q1qypFi1aaN68eZKkadOmOerYbDaneYwxLmVpDR48WKdPn3a8Dhw44PnGAwAAAAAAAACAG1qeTrKk5e/vr5o1a+qPP/5QaGioJLnctXL06FGXu1vS8vX1VWBgoNMLAAAA+H/s3Xd4FFX7//HPJiGNFHpC6CJFQERAaULoiAgodtQH7AqIWB4EG0UNCIr4gKgoAipFpSgKIqAEpYihRKQI0qQIovQaSu7fH/yy32zqZsgmEd6v68p1sWfOzpyZe+ec3bmZMwAAAAAA5MS/KsmSlJSkDRs2qHTp0qpUqZKio6M1f/589/LTp09r0aJFaty4cT62EgAAAAAAAAAAXAoC8rsBWXnmmWfUsWNHlS9fXvv27dMrr7yiI0eOqFu3bnK5XOrTp4/i4uJUpUoVValSRXFxcQoNDVXXrl3zu+kAAAAAAAAAAOAiV6CTLLt27dJdd92lf/75RyVLllTDhg31008/qUKFCpKkvn376uTJk+rRo4cOHjyoBg0aaN68eQoPD8/nlgMAAAAAAAAAgIudy8wsvxuR344cOaLIyEgdPnyY57MAAC4JFfvNzu8mXJK2D+2Q300AAAAAAABe8DZv8K96JgsAAAAAAAAAAEBBQZIFAAAAAAAAAADAAZIsAAAAAAAAAAAADpBkAQAAAAAAAAAAcIAkCwAAAAAAAAAAgAMkWQAAAAAAAAAAABwgyQIAAAAAAAAAAOAASRYAAAAAAAAAAAAHSLIAAAAAAAAAAAA4QJIFAAAAAAAAAADAAZIsAAAAAAAAAAAADpBkAQAAAAAAAAAAcIAkCwAAAAAAAAAAgAMkWQAAAAAAAAAAABwgyQIAAAAAAAAAAOAASRYAAAAAAAAAAAAHSLIAAAAAAAAAAAA4QJIFAAAAAAAAAADAAZIsAAAAAAAAAAAADpBkAQAAAAAAAAAAcIAkCwAAAAAAAAAAgAMkWQAAAAAAAAAAABwgyQIAAAAAAAAAAOAASRYAAAAAAAAAAAAHSLIAAAAAAAAAAAA4QJIFAAAAAAAAAADAAZIsAAAAAAAAAAAADpBkAQAAAAAAAAAAcIAkCwAAAAAAAAAAgAMkWQAAAAAAAAAAABwIyO8GAAAAAAByR8V+s/O7CZek7UM75HcTAAAAkE+4kwUAAAAAAAAAAMABkiwAAAAAAAAAAAAOkGQBAAAAAAAAAABwgCQLAAAAAAAAAACAAyRZAAAAAAAAAAAAHCDJAgAAAAAAAAAA4ABJFgAAAAAAAAAAAAdIsgAAAAAAAAAAADhAkgUAAAAAAAAAAMABkiwAAAAAAAAAAAAOkGQBAAAAAAAAAABwgCQLAAAAAAAAAACAAyRZAAAAAAAAAAAAHCDJAgAAAAAAAAAA4ABJFgAAAAAAAAAAAAdIsgAAAAAAAAAAADhAkgUAAAAAAAAAAMABkiwAAAAAAAAAAAAOkGQBAAAAAAAAAABw4F+VZBkyZIhcLpf69OnjLjMzDRw4UDExMQoJCVHz5s21bt26/GskAAAAAAAAAAC4JPxrkiwJCQkaO3asateu7VE+bNgwjRgxQqNHj1ZCQoKio6PVpk0bHT16NJ9aCgAAAAAAAAAALgX/iiTLsWPHdPfdd+v9999X0aJF3eVmppEjR+r5559Xly5dVKtWLU2cOFEnTpzQ5MmT87HFAAAAAAAAAADgYvevSLL07NlTHTp0UOvWrT3Kt23bpr1796pt27busqCgIMXGxmrp0qWZri8pKUlHjhzx+AMAAAAAAAAAAMiJgPxuQHamTp2qVatWKSEhId2yvXv3SpKioqI8yqOiovTHH39kus4hQ4Zo0KBBudtQAAAAAAAAAABwSSnQd7Ls3LlTTzzxhD755BMFBwdnWs/lcnm8NrN0Zan1799fhw8fdv/t3Lkz19oMAAAAAAAAAAAuDQX6TpaVK1dq3759qlevnrvs3Llz+uGHHzR69Ght3LhR0vk7WkqXLu2us2/fvnR3t6QWFBSkoKAg3zUcAAAAAAAAAABc9Ar0nSytWrXSr7/+qsTERPdf/fr1dffddysxMVGXXXaZoqOjNX/+fPd7Tp8+rUWLFqlx48b52HIAAAAAAAAAAHCxK9B3soSHh6tWrVoeZYULF1bx4sXd5X369FFcXJyqVKmiKlWqKC4uTqGhoeratWt+NBkAAAAAAAAAAFwiCnSSxRt9+/bVyZMn1aNHDx08eFANGjTQvHnzFB4ent9NAwAAAAAAAAAAF7F/XZIlPj7e47XL5dLAgQM1cODAfGkPAAAAAAAAAAC4NBXoZ7IAAAAAAAAAAAAUVCRZAAAAAAAAAAAAHCDJAgAAAAAAAAAA4ABJFgAAAAAAAAAAAAdIsgAAAAAAAAAAADhAkgUAAAAAAAAAAMABkiwAAAAAAAAAAAAOkGQBAAAAAAAAAABwgCQLAAAAAAAAAACAAyRZAAAAAAAAAAAAHCDJAgAAAAAAAAAA4ABJFgAAAAAAAAAAAAdIsgAAAAAAAAAAADhAkgUAAAAAAAAAAMABkiwAAAAAAAAAAAAOkGQBAAAAAAAAAABwgCQLAAAAAAAAAACAAyRZAAAAAAAAAAAAHCDJAgAAAAAAAAAA4ABJFgAAAAAAAAAAAAdIsgAAAAAAAAAAADhAkgUAAAAAAAAAAMABkiwAAAAAAAAAAAAOkGQBAAAAAAAAAABwgCQLAAAAAAAAAACAAyRZAAAAAAAAAAAAHCDJAgAAAAAAAAAA4ABJFgAAAAAAAAAAAAdIsgAAAAAAAAAAADhAkgUAAAAAAAAAAMABkiwAAAAAAAAAAAAOkGQBAAAAAAAAAABwgCQLAAAAAAAAAACAAyRZAAAAAAAAAAAAHCDJAgAAAAAAAAAA4ABJFgAAAAAAAAAAAAdIsgAAAAAAAAAAADhAkgUAAAAAAAAAAMABkiwAAAAAAAAAAAAOkGQBAAAAAAAAAABwgCQLAAAAAAAAAACAAyRZAAAAAAAAAAAAHCDJAgAAAAAAAAAA4ABJFgAAAAAAAAAAAAdIsgAAAAAAAAAAADhAkgUAAAAAAAAAAMABkiwAAAAAAAAAAAAOkGQBAAAAAAAAAABwgCQLAAAAAAAAAACAAwH53QAAKCgq9pud3024JG0f2iG/mwAAAAAAAAA4wp0sAAAAAAAAAAAADhToJMs777yj2rVrKyIiQhEREWrUqJG++eYb93Iz08CBAxUTE6OQkBA1b95c69aty8cWAwAAAAAAAACAS0WBTrKULVtWQ4cO1YoVK7RixQq1bNlSnTt3didShg0bphEjRmj06NFKSEhQdHS02rRpo6NHj+ZzywEAAAAAAAAAwMWuQCdZOnbsqBtuuEFVq1ZV1apV9eqrryosLEw//fSTzEwjR47U888/ry5duqhWrVqaOHGiTpw4ocmTJ+d30wEAAAAAAAAAwEWuQCdZUjt37pymTp2q48ePq1GjRtq2bZv27t2rtm3buusEBQUpNjZWS5cuzXJdSUlJOnLkiMcfAAAAAAAAAABATgTkdwOy8+uvv6pRo0Y6deqUwsLCNHPmTNWoUcOdSImKivKoHxUVpT/++CPLdQ4ZMkSDBg3yWZsBAACAS13FfrPzuwkAAAAA4HMF/k6WatWqKTExUT/99JMee+wxdevWTevXr3cvd7lcHvXNLF1ZWv3799fhw4fdfzt37vRJ2wEAAAAAAAAAwMWrwN/JEhgYqMsvv1ySVL9+fSUkJOitt97Ss88+K0nau3evSpcu7a6/b9++dHe3pBUUFKSgoCDfNRoAAAAAAAAAAFz0fHYnS8uWLXXo0KF05UeOHFHLli0dr9fMlJSUpEqVKik6Olrz5893Lzt9+rQWLVqkxo0bO14/AAAAAAAAAACAN3x2J0t8fLxOnz6drvzUqVP68ccfvVrHc889p/bt26tcuXI6evSopk6dqvj4eM2dO1cul0t9+vRRXFycqlSpoipVqiguLk6hoaHq2rVrbu8OAAAAAAAAAACAh1xPsqxZs8b97/Xr12vv3r3u1+fOndPcuXNVpkwZr9b1119/6d5779WePXsUGRmp2rVra+7cuWrTpo0kqW/fvjp58qR69OihgwcPqkGDBpo3b57Cw8Nzd6cAAAAAAAAAAADSyPUkS506deRyueRyuTKcFiwkJESjRo3yal3jxo3LcrnL5dLAgQM1Y6vK1AABAABJREFUcOBAJ00FAAAAAAAAAABwLNeTLNu2bZOZ6bLLLtPPP/+skiVLupcFBgaqVKlS8vf3z+3NAgAAAAAAAAAA5KlcT7JUqFBBkpScnJzbqwYAAAAAAAAAACgwfPbge0natGmT4uPjtW/fvnRJl5deesmXmwYAAAAAAAAAAPApnyVZ3n//fT322GMqUaKEoqOj5XK53MtcLhdJFgAAAAAAAAAA8K/msyTLK6+8oldffVXPPvusrzYBAAAAAAAAAACQb/x8teKDBw/qtttu89XqAQAAAAAAAAAA8pXPkiy33Xab5s2b56vVAwAAAAAAAAAA5CufTRd2+eWX68UXX9RPP/2kK6+8UoUKFfJY3rt3b19tGgAAAAAAAAAAwOd8lmQZO3aswsLCtGjRIi1atMhjmcvlIskCAAAAAAAAAAD+1XyWZNm2bZuvVg0AAAAAAAAAAJDvfPZMFgAAAAAAAAAAgIuZz+5kuf/++7Nc/uGHH/pq0wAAAAAAAAAAAD7nsyTLwYMHPV6fOXNGa9eu1aFDh9SyZUtfbRYAAAAAAAAAACBP+CzJMnPmzHRlycnJ6tGjhy677DJfbRYAAAAAAAAAACBP5OkzWfz8/PTkk0/qzTffzMvNAgAAAAAAAAAA5Lo8f/D9li1bdPbs2bzeLAAAAAAAAAAAQK7y2XRhTz31lMdrM9OePXs0e/ZsdevWzVebBQAAAAAAAAAAyBM+S7KsXr3a47Wfn59KliypN954Q/fff7+vNgsAAAAAAAAAAJAnfJZkWbhwoa9WDQAAAAAAAAAAkO98lmRJ8ffff2vjxo1yuVyqWrWqSpYs6etNAgAAAAAAAAAA+JzPHnx//Phx3X///SpdurSaNWumpk2bKiYmRg888IBOnDjhq80CAAAAAAAAAADkCZ8lWZ566iktWrRIX331lQ4dOqRDhw7pyy+/1KJFi/T000/7arMAAAAAAAAAAAB5wmfThU2fPl3Tpk1T8+bN3WU33HCDQkJCdPvtt+udd97x1aYBAAAAAAAAAAB8zmd3spw4cUJRUVHpykuVKsV0YQAAAAAAAAAA4F/PZ0mWRo0aacCAATp16pS77OTJkxo0aJAaNWrkq80CAAAAAAAAAADkCZ9NFzZy5Ei1b99eZcuW1VVXXSWXy6XExEQFBQVp3rx5vtosAAAAAAAAAABAnvBZkuXKK6/U77//rk8++US//fabzEx33nmn7r77boWEhPhqswAAAAAAAAAAAHnCZ0mWIUOGKCoqSg899JBH+Ycffqi///5bzz77rK82DQAAAAAAAAAA4HM+eybLe++9p+rVq6crr1mzpt59911fbRYAAAAAAAAAACBP+CzJsnfvXpUuXTpdecmSJbVnzx5fbRYAAAAAAAAAACBP+Gy6sHLlymnJkiWqVKmSR/mSJUsUExPjq80CAAAUWBX7zc7vJgAAAAAAgFzksyTLgw8+qD59+ujMmTNq2bKlJOm7775T37599fTTT/tqswAAAAAAAAAAAHnCZ0mWvn376sCBA+rRo4dOnz4tSQoODtazzz6r/v37+2qzAAAAAAAAAAAAecJnSRaXy6XXXntNL774ojZs2KCQkBBVqVJFQUFBvtokAAAAAAAAAABAnvFZkiVFWFiYrrnmGl9vBgAAAAAAAAAAIE/55XcDAAAAAAAAAAAA/o18ficLgJyr2G92fjcBAAAAAAAAAJAN7mQBAAAAAAAAAABwgCQLAAAAAAAAAACAAyRZAAAAAAAAAAAAHCDJAgAAAAAAAAAA4ABJFgAAAAAAAAAAAAdIsgAAAAAAAAAAADhAkgUAAAAAAAAAAMABkiwAAAAAAAAAAAAOkGQBAAAAAAAAAABwgCQLAAAAAAAAAACAAyRZAAAAAAAAAAAAHCDJAgAAAAAAAAAA4ABJFgAAAAAAAAAAAAdIsgAAAAAAAAAAADhQoJMsQ4YM0TXXXKPw8HCVKlVKN910kzZu3OhRx8w0cOBAxcTEKCQkRM2bN9e6devyqcUAAAAAAAAAAOBSUaCTLIsWLVLPnj31008/af78+Tp79qzatm2r48ePu+sMGzZMI0aM0OjRo5WQkKDo6Gi1adNGR48ezceWAwAAAAAAAACAi11AfjcgK3PnzvV4PX78eJUqVUorV65Us2bNZGYaOXKknn/+eXXp0kWSNHHiREVFRWny5Ml65JFHMlxvUlKSkpKS3K+PHDniu50AAAAAAAAAAAAXpQKdZEnr8OHDkqRixYpJkrZt26a9e/eqbdu27jpBQUGKjY3V0qVLM02yDBkyRIMGDfJ9gwEA2arYb3Z+NwEAAAAAAABwpEBPF5aamempp57Sddddp1q1akmS9u7dK0mKioryqBsVFeVelpH+/fvr8OHD7r+dO3f6ruEAAAAAAAAAAOCi9K+5k6VXr15as2aNFi9enG6Zy+XyeG1m6cpSCwoKUlBQUK63EQAAAAAAAAAAXDr+FXeyPP7445o1a5YWLlyosmXLusujo6MlKd1dK/v27Ut3dwsAAAAAAAAAAEBuKtBJFjNTr169NGPGDH3//feqVKmSx/JKlSopOjpa8+fPd5edPn1aixYtUuPGjfO6uQAAAAAAAAAA4BJSoKcL69mzpyZPnqwvv/xS4eHh7jtWIiMjFRISIpfLpT59+iguLk5VqlRRlSpVFBcXp9DQUHXt2jWfWw8AAAAAAAAAAC5mBTrJ8s4770iSmjdv7lE+fvx4de/eXZLUt29fnTx5Uj169NDBgwfVoEEDzZs3T+Hh4XncWgAAAAAAAAAAcCkp0EkWM8u2jsvl0sCBAzVw4EDfNwgAAAAAAAAAAOD/K9DPZAEAAAAAAAAAACioSLIAAAAAAAAAAAA4QJIFAAAAAAAAAADAAZIsAAAAAAAAAAAADpBkAQAAAAAAAAAAcIAkCwAAAAAAAAAAgAMkWQAAAAAAAAAAABwgyQIAAAAAAAAAAOAASRYAAAAAAAAAAAAHSLIAAAAAAAAAAAA4QJIFAAAAAAAAAADAAZIsAAAAAAAAAAAADpBkAQAAAAAAAAAAcIAkCwAAAAAAAAAAgAMkWQAAAAAAAAAAABwgyQIAAAAAAAAAAOAASRYAAAAAAAAAAAAHSLIAAAAAAAAAAAA4QJIFAAAAAAAAAADAAZIsAAAAAAAAAAAADpBkAQAAAAAAAAAAcIAkCwAAAAAAAAAAgAMkWQAAAAAAAAAAABwIyO8GoGCr2G92fjcBAAAAAAAAAIACiTtZAAAAAAAAAAAAHCDJAgAAAAAAAAAA4ABJFgAAAAAAAAAAAAdIsgAAAAAAAAAAADhAkgUAAAAAAAAAAMABkiwAAAAAAAAAAAAOkGQBAAAAAAAAAABwgCQLAAAAAAAAAACAAyRZAAAAAAAAAAAAHCDJAgAAAAAAAAAA4ABJFgAAAAAAAAAAAAdIsgAAAAAAAAAAADhAkgUAAAAAAAAAAMABkiwAAAAAAAAAAAAOkGQBAAAAAAAAAABwgCQLAAAAAAAAAACAAyRZAAAAAAAAAAAAHCDJAgAAAAAAAAAA4ABJFgAAAAAAAAAAAAdIsgAAAAAAAAAAADhAkgUAAAAAAAAAAMABkiwAAAAAAAAAAAAOkGQBAAAAAAAAAABwgCQLAAAAAAAAAACAAyRZAAAAAAAAAAAAHCDJAgAAAAAAAAAA4ECBT7L88MMP6tixo2JiYuRyufTFF194LDczDRw4UDExMQoJCVHz5s21bt26/GksAAAAAAAAAAC4ZBT4JMvx48d11VVXafTo0RkuHzZsmEaMGKHRo0crISFB0dHRatOmjY4ePZrHLQUAAAAAAAAAAJeSgPxuQHbat2+v9u3bZ7jMzDRy5Eg9//zz6tKliyRp4sSJioqK0uTJk/XII4/kZVMBAAAAAAAAAMAlpMDfyZKVbdu2ae/evWrbtq27LCgoSLGxsVq6dGmm70tKStKRI0c8/gAAAAAAAAAAAHLiX51k2bt3ryQpKirKozwqKsq9LCNDhgxRZGSk+69cuXI+bScAAAAAAAAAALj4/KuTLClcLpfHazNLV5Za//79dfjwYfffzp07fd1EAAAAAAAAAABwkSnwz2TJSnR0tKTzd7SULl3aXb5v3750d7ekFhQUpKCgIJ+3DwAAAAAAAAAAXLz+1XeyVKpUSdHR0Zo/f7677PTp01q0aJEaN26cjy0DAAAAAAAAAAAXuwJ/J8uxY8e0efNm9+tt27YpMTFRxYoVU/ny5dWnTx/FxcWpSpUqqlKliuLi4hQaGqquXbvmY6sBAAAAAAAAAMDFrsAnWVasWKEWLVq4Xz/11FOSpG7dumnChAnq27evTp48qR49eujgwYNq0KCB5s2bp/Dw8PxqMgAAAAAAAAAAuAS4zMzyuxH57ciRI4qMjNThw4cVERGR380pUCr2m53fTQAAAACAAm370A753YRLEr9X8wefdwDApcLbvMG/+pksAAAAAAAAAAAA+YUkCwAAAAAAAAAAgAMkWQAAAAAAAAAAABwgyQIAAAAAAAAAAOAASRYAAAAAAAAAAAAHSLIAAAAAAAAAAAA4QJIFAAAAAAAAAADAAZIsAAAAAAAAAAAADpBkAQAAAAAAAAAAcIAkCwAAAAAAAAAAgAMkWQAAAAAAAAAAABwgyQIAAAAAAAAAAOBAQH43AAAAAAAAAP8OFfvNzu8mXJK2D+2Q300AAGSCO1kAAAAAAAAAAAAcIMkCAAAAAAAAAADgAEkWAAAAAAAAAAAAB0iyAAAAAAAAAAAAOECSBQAAAAAAAAAAwAGSLAAAAAAAAAAAAA6QZAEAAAAAAAAAAHCAJAsAAAAAAAAAAIADJFkAAAAAAAAAAAAcIMkCAAAAAAAAAADgAEkWAAAAAAAAAAAAB0iyAAAAAAAAAAAAOECSBQAAAAAAAAAAwAGSLAAAAAAAAAAAAA6QZAEAAAAAAAAAAHCAJAsAAAAAAAAAAIADJFkAAAAAAAAAAAAcIMkCAAAAAAAAAADgAEkWAAAAAAAAAAAAB0iyAAAAAAAAAAAAOECSBQAAAAAAAAAAwAGSLAAAAAAAAAAAAA6QZAEAAAAAAAAAAHAgIL8bAAAAAADAv1nFfrPzuwkAAB+gf88f24d2yO8mADnCnSwAAAAAAAAAAAAOkGQBAAAAAAAAAABwgCQLAAAAAAAAAACAAyRZAAAAAAAAAAAAHCDJAgAAAAAAAAAA4EBAfjcAAAAAAAAAQOYq9pud300AAGSCO1kAAAAAAAAAAAAcIMkCAAAAAAAAAADgAEkWAAAAAAAAAAAAB0iyAAAAAAAAAAAAOECSBQAAAAAAAAAAwAGSLAAAAAAAAAAAAA4E5HcDAAAAAAAAAACQpIr9Zud3Ey4524d2yO8m/KtxJwsAAAAAAAAAAIADF02SZcyYMapUqZKCg4NVr149/fjjj/ndJAAAAAAAAAAAcBG7KJIsn376qfr06aPnn39eq1evVtOmTdW+fXvt2LEjv5sGAAAAAAAAAAAuUhdFkmXEiBF64IEH9OCDD+qKK67QyJEjVa5cOb3zzjv53TQAAAAAAAAAAHCR+tc/+P706dNauXKl+vXr51Hetm1bLV26NMP3JCUlKSkpyf368OHDkqQjR474rqH/UslJJ/K7CQAAAAAAAAAAH+G6eMZSjouZZVnvX59k+eeff3Tu3DlFRUV5lEdFRWnv3r0ZvmfIkCEaNGhQuvJy5cr5pI0AAAAAAAAAABREkSPzuwUF29GjRxUZGZnp8n99kiWFy+XyeG1m6cpS9O/fX0899ZT7dXJysg4cOKDixYtn+p5L0ZEjR1SuXDnt3LlTERER+d0ciJgURMSkYCEeBQ8xKXiIScFCPAoeYlLwEJOChXgUPMSk4CEmBQvxKHiIScFCPDJnZjp69KhiYmKyrPevT7KUKFFC/v7+6e5a2bdvX7q7W1IEBQUpKCjIo6xIkSK+auK/XkREBCdYAUNMCh5iUrAQj4KHmBQ8xKRgIR4FDzEpeIhJwUI8Ch5iUvAQk4KFeBQ8xKRgIR4Zy+oOlhT/+gffBwYGql69epo/f75H+fz589W4ceN8ahUAAAAAAAAAALjY/evvZJGkp556Svfee6/q16+vRo0aaezYsdqxY4ceffTR/G4aAAAAAAAAAAC4SF0USZY77rhD+/fv1+DBg7Vnzx7VqlVLc+bMUYUKFfK7af9qQUFBGjBgQLqp1ZB/iEnBQ0wKFuJR8BCTgoeYFCzEo+AhJgUPMSlYiEfBQ0wKHmJSsBCPgoeYFCzE48K5zMzyuxEAAAAAAAAAAAD/Nv/6Z7IAAAAAAAAAAADkB5IsAAAAAAAAAAAADpBkAQAAAAAAAAAAcIAkSz7Yv3+/SpUqpe3bt+d3Uy4KAwcOlMvlksvl0siRI7Otz/HPe927d3fH6Isvvki3nJjkPWJS8GQVE+KR9zhHCh5iUvDQbxUsnCMFD+dIwcI5UvAQk4KHfqtg4RwpeIhJwZNdTPIKSZZ8MGTIEHXs2FEVK1Z0l+3YsUMdO3ZU4cKFVaJECfXu3VunT5/Ocj1jx45V8+bNFRERIZfLpUOHDmVaNykpSXXq1JHL5VJiYmKO27xo0SLVq1dPwcHBuuyyy/Tuu+9mWX///v26/vrrFRMTo6CgIJUrV069evXSkSNHPOp9++23atiwocLDw1WyZEndcsst2rZtm3v5nj171LVrV1WrVk1+fn7q06dPum0988wz2rNnj8qWLevVvuTW8X/kkUdUuXJlhYSEqGTJkurcubN+++03jzqbNm1S586dVaJECUVERKhJkyZauHChR50nnnhC9erVU1BQkOrUqePVPmRk+vTpqlGjhoKCglSjRg3NnDkz2/eYmV5//XVVrVrVHae4uDj3cm+OvySNHDlS1apVU0hIiMqVK6cnn3xSp06dci9/6623tGfPnkzbkVsxkaRly5apZcuWKly4sIoUKaLmzZvr5MmT7uWvvvqqGjdurNDQUBUpUiTDdSQkJKhVq1YqUqSIihYtqrZt2zo6b5zEJLtzIj4+3j14pP5L+9lLMXXqVLlcLt10000e5XkVk7179+ree+9VdHS0ChcurLp162ratGkedSpWrJhuf/r165fh+vbv36+yZctm2+dlZN26dbrlllvc2/MmKStJv/76q2JjYxUSEqIyZcpo8ODBMjOPOm+//bauuOIKhYSEqFq1avroo49yvO2sYpJRPJz0HUlJSXr88cdVokQJFS5cWJ06ddKuXbs86qxatUpt2rRRkSJFVLx4cT388MM6duyYR53c6LecxGPjxo1q0aKFoqKi3OPRCy+8oDNnzrjrzJgxQ23atFHJkiUVERGhRo0a6dtvv023Ll/0W06OS3Zjyfbt2/XAAw+oUqVKCgkJUeXKlTVgwIB0515u9FtOYrJ9+/YM+6S5c+d61EtKStLzzz+vChUqKCgoSJUrV9aHH37oXj5hwoQM15MfMWnevHm6dtx5553p6s2ePVsNGjRQSEiISpQooS5dungsz2h/svv+lJbTfiu7sUTK/rvd+++/r6ZNm6po0aIqWrSoWrdurZ9//tmjTl70W96MIwcPHtS9996ryMhIRUZG6t577/UYI3755RfdddddKleunEJCQnTFFVforbfe8mr7qXlzTDKS3TiyePFiNWnSRMWLF1dISIiqV6+uN998M916crvfcnpcvBlLOnXqpPLlyys4OFilS5fWvffeqz///NOjTm70W05iEh8fr86dO6t06dIqXLiw6tSpo0mTJnnUSf1jPfVfzZo13XUutN/KjXgcOHBAjz/+uKpVq6bQ0FCVL19evXv31uHDhz32N6N2ulwuJSQkuOvlRp/lJB7ejCPe/Ca50D5Lyr1zxJtxJLvfJPnZb6X+T4yp/woXLpxh/SVLliggICBdv37mzBkNHjxYlStXVnBwsK666qp03w/yIiaZfcZcLpc+//zzdPWzunby3XffqXHjxgoPD1fp0qX17LPP6uzZs1luPy2nY8lnn32mOnXqKDQ0VBUqVNDw4cPT1Zk0aZKuuuoqhYaGqnTp0rrvvvu0f/9+jzqHDh1Sz549Vbp0aQUHB+uKK67QnDlz3Mt93W9J0pYtW3TzzTe7v6/ffvvt+uuvvzzqeHMtRTrfF9euXVvBwcGKjo5Wr169st1+ajNmzFD9+vVVpEgR95jw8ccfZ/keb8YRb36T+KLf8vZaXGrejCXe/CbJrX7LSUxS27x5s8LDw9P1rd5cS/FFv+UkJqmZmdq3b59hAsGbaym50W85jUl21xyl7K+lSBfWb+UpQ546ceKEFSlSxJYuXeouO3v2rNWqVctatGhhq1atsvnz51tMTIz16tUry3W9+eabNmTIEBsyZIhJsoMHD2Zat3fv3ta+fXuTZKtXr85Rm7du3WqhoaH2xBNP2Pr16+3999+3QoUK2bRp0zJ9z4EDB2zMmDGWkJBg27dvtwULFli1atXsrrvuctfZsmWLBQUFWf/+/W3z5s22cuVKa9asmdWpU8ddZ9u2bda7d2+bOHGi1alTx5544olMt1mhQgV78803s9yX3Dz+7733ni1atMi2bdtmK1eutI4dO1q5cuXs7Nmz7jqXX3653XDDDfbLL7/Ypk2brEePHhYaGmp79uxx13n88cdt9OjRdu+999pVV12V5TYzs3TpUvP397e4uDjbsGGDxcXFWUBAgP30009Zvu/xxx+3atWq2Zdffmlbt2611atX2/z5893LvTn+n3zyiQUFBdmkSZNs27Zt9u2331rp0qWtT58+6epKspkzZ3qU5WZMli5dahERETZkyBBbu3atbdq0yT7//HM7deqUu85LL71kI0aMsKeeesoiIyPTrePIkSNWtGhR6969u/3222+2du1au+WWW6xUqVJ2+vTpLLefti05jYk358TChQtNkm3cuNH27Nnj/kv9uUuxfft2K1OmjDVt2tQ6d+6c4TZ9HZPWrVvbNddcY8uXL7ctW7bYyy+/bH5+frZq1Sp3nQoVKtjgwYM99ufo0aMZrq9z587uviyrPi8jP//8sz3zzDM2ZcoUi46Ozra/MDM7fPiwRUVF2Z133mm//vqrTZ8+3cLDw+3111931xkzZoyFh4fb1KlTbcuWLTZlyhQLCwuzWbNmOdp22phkFA8zZ33Ho48+amXKlLH58+fbqlWrrEWLFnbVVVe5Pz+7d++2okWL2qOPPmq//fab/fzzz9a4cWO75ZZbLnjbaTmJx5YtW+zDDz+0xMRE2759u3355ZdWqlQp69+/v7vOE088Ya+99pr9/PPPtmnTJuvfv78VKlTI4zPni37LzNlxyW4s+eabb6x79+727bff2pYtW9z7/PTTT7vXkVv9lpOYbNu2zSTZggULPM7hpKQkj3qdOnWyBg0a2Pz5823btm22fPlyW7JkiXv5+PHjLSIiwmMdqcfK1Hwdk9jYWHvooYc82nHo0CGPOtOmTbOiRYvaO++8Yxs3brTffvvNPv/883TtHD9+vMd6Tpw44VUbUjg9T7IbS7z5bte1a1d7++23bfXq1bZhwwa77777LDIy0nbt2pVum77st7wZR66//nqrVauWLV261JYuXWq1atWyG2+80b183Lhx9vjjj1t8fLxt2bLFPv74YwsJCbFRo0Z51QYnxySFN+PIqlWrbPLkybZ27Vrbtm2bffzxxxYaGmrvvfeeu44v+i2nxyW7scTMbMSIEbZs2TLbvn27LVmyxBo1amSNGjVyL8+tfstJTF599VV74YUXbMmSJbZ582Z76623zM/Pz2PcPnTokMe5u3PnTitWrJgNGDDAXedC+q3cisevv/5qXbp0sVmzZtnmzZvtu+++sypVqniM20lJSena+OCDD1rFihUtOTnZo40X2mc5iYc344g3v0kupM8yy91zxJtxJLvfJPnZbx09ejTdZ6ZGjRrWrVu3dHUPHTpkl112mbVt2zZdv963b1+LiYmx2bNn25YtW2zMmDEWHBzs0X+n8GVMzp49m25/Bg0aZIULF87wN0dm105++eUXCwwMtEGDBtnvv/9u8fHxVr16dY/vZN5wEpM5c+ZYQECAvfPOO7Zlyxb7+uuvLTo62mO/f/zxR/Pz87O33nrLtm7daj/++KPVrFnTbrrpJnedpKQkq1+/vt1www22ePFi2759u/3444+WmJiYbpu+6reOHTtml112md188822Zs0aW7NmjXXu3NmuueYaO3funLueN9dS3njjDYuJibFJkybZ5s2bbe3atR59uTcWLlxoM2bMsPXr19vmzZtt5MiR5u/vb3Pnzs30Pd6MI978JvFFv+XNtbi0vBlLvPlNklv9lpOYpDh9+rTVr1/f2rdvn65v9eZaii/6LScxSW3EiBHuPint9rK7lpJb/ZbTmGR3zdGbaykX0m/lNZIseWz69OlWokQJj7I5c+aYn5+f7d692102ZcoUCwoKssOHD2e7zpSOIrMLjnPmzLHq1avbunXrHCVZ+vbta9WrV/coe+SRR6xhw4Y5Ws9bb71lZcuWdb/+/PPPLSAgwGMgnTVrlrlcrgx/XMXGxl5wksUXxz/FL7/8YpJs8+bNZmb2999/myT74Ycf3HWOHDni/hGR1oABAxxfrLz99tvt+uuv9yhr166d3XnnnZm+Z/369RYQEGC//fabV9vI7Pj37NnTWrZs6VH21FNP2XXXXZeubkYdXm7GpEGDBvbCCy94sTfnfxhn9IMmISHBJNmOHTvcZWvWrPGIrTecxMSbcyK78z3F2bNnrUmTJvbBBx9Yt27dcpRkyc2YFC5c2D766COPsmLFitkHH3zgfu3NuWt2fgCOjY217777zlGSJbWcbDMyMtIjUTdkyBCLiYlxX5ho1KiRPfPMMx7ve+KJJ6xJkyaOtp02JhnFIzVv+45Dhw5ZoUKFbOrUqe6y3bt3m5+fn/vL0XvvvWelSpXy+AyuXr3aJNnvv//ueNvZ8TYeGXnyyScz7G9Sq1Gjhg0aNMj92hf9VmoXclzSjiUZGTZsmFWqVMn9Orf6rdS8jUnKxbGsvlt88803FhkZafv378+0TmZ9ckZ8HZPsvm+cOXPGypQp49GPedvOC+FtTLwZS5x8tzt79qyFh4fbxIkT0y3zVb9llv04sn79epPk8Z8Yli1bZpKy/I7To0cPa9GihVdtyExWxySFN+NIRm6++Wa755573K993W+lyO64eDOWZOTLL7/0+Az6ot8y8y4mGbnhhhvsvvvuy3T5zJkzzeVy2fbt291lF9Jv5VY8MvLZZ59ZYGCgnTlzJsPlp0+ftlKlStngwYOzbGNu8CYe3owjqWXXR3uzbV+eIzlpo1nOPkd51W+llZiYmO53bYo77rjDXnjhhQz79dKlS9vo0aM9yjp37mx33313uvX4OiZp1alTx+6///505VldO+nfv7/Vr1/fo/7MmTMtODjYjhw5kqPtp+ZNTO666y679dZbPcrefPNNK1u2rHssGT58uF122WUedf73v/95XIN555137LLLLvMqme2rfuvbb781Pz8/j9+QBw4cMEnui6/eXEs5cOCAhYSEZHht5UJdffXVXl9XSJHdOGKW/jdJWr7qt9Jei/NGdmOJWfrfJBnJjX7LzPuY9O3b1+65554M+1ZvrqXkVb/lbUwSExOtbNmytmfPnkyTLFn9PvBVv2WWfUy8uebozbWUC+m38hrTheWxH374QfXr1/coW7ZsmWrVqqWYmBh3Wbt27ZSUlKSVK1de0Pb++usvPfTQQ/r4448VGhrqaB3Lli1T27ZtPcratWunFStWeEzRkpU///xTM2bMUGxsrLusfv368vf31/jx43Xu3DkdPnxYH3/8sdq2batChQo5amt2fHX8jx8/rvHjx6tSpUoqV66cJKl48eK64oor9NFHH+n48eM6e/as3nvvPUVFRalevXq5t1PKPEZLly7N9D1fffWVLrvsMn399deqVKmSKlasqAcffFAHDhzI0bavu+46rVy50n1b69atWzVnzhx16NDBq/fnVkz27dun5cuXq1SpUmrcuLGioqIUGxurxYsX52h/qlWrphIlSmjcuHE6ffq0Tp48qXHjxqlmzZqqUKGC1+txEpOcnBNXX321SpcurVatWmV42/TgwYNVsmRJPfDAA163OUVunifXXXedPv30Ux04cEDJycmaOnWqkpKS1Lx5c496r732mooXL646dero1VdfTTcV0vr16zV48GB99NFH8vPLu6Fr2bJlio2NVVBQkLusXbt2+vPPP91zrCYlJSk4ONjjfSEhIfr555+97iOzklE8nFi5cqXOnDnj8bmMiYlRrVq13J/LpKQkBQYGehzjkJAQScrxuZQXNm/erLlz53qMLWklJyfr6NGjKlasmLvMF/1WbshoLMnI4cOHPfYnt/qtC9GpUyeVKlVKTZo0STeV06xZs1S/fn0NGzZMZcqUUdWqVfXMM894TOUoSceOHVOFChVUtmxZ3XjjjVq9erXX28/tmEyaNEklSpRQzZo19cwzz+jo0aPuZatWrdLu3bvl5+fn7ovbt2+vdevWpVtPr169VKJECV1zzTV69913lZycnGttzIw3Y4mT73YnTpzQmTNnPD57mcnNeGQ3jixbtkyRkZFq0KCB+z0NGzZUZGRklmNu2vPICW+OiTfjSFqrV6/W0qVLPfq2vOq3sjsu3owlaR04cECTJk1S48aN3Z9BX/VbOfmcppbdfo8bN06tW7dO1zan/VZuxSOz90RERCggICDD5bNmzdI///yj7t27p1uW231WTuKR1Tji621LuR+TrMYRp/Kq30rrgw8+UNWqVdW0aVOP8vHjx2vLli0aMGBAhu/L7Duyt98pfXWerFy5UomJiel+J2V37SSz/Tl16tQFXbfxJiaZbXvXrl36448/JEmNGzfWrl27NGfOHJmZ/vrrL02bNs1jnJg1a5YaNWqknj17KioqSrVq1VJcXJzOnTuXbTtzKx5JSUlyuVwe42JwcLD8/Pzcnw1vrqXMnz9fycnJ2r17t6644gqVLVtWt99+u3bu3JltGzNjZvruu++0ceNGNWvWLEfvzW6/M/pNkpYv+q2MrsV5I7uxJKVOdm290H4rJzH5/vvv9fnnn+vtt9/Osl5W11Lyot/yNiYnTpzQXXfdpdGjRys6OjrTelldS/FFv+VtTLy55ujNtZQL6bfyGkmWPLZ9+3aPi5TS+bmmo6KiPMqKFi2qwMBA7d271/G2zEzdu3fXo48+ekE/dDNqX1RUlM6ePat//vkny/feddddCg0NVZkyZRQREaEPPvjAvaxixYqaN2+ennvuOQUFBalIkSLatWuXpk6d6rit2cnt4z9mzBiFhYUpLCxMc+fO1fz58xUYGCjp/LzG8+fP1+rVqxUeHq7g4GC9+eabmjt3bqbPAnEqsxhl1f6tW7fqjz/+0Oeff66PPvpIEyZM0MqVK3XrrbfmaNt33nmnXn75ZV133XUqVKiQKleurBYtWmT6TI20cismW7dulXR+DuGHHnpIc+fOVd26ddWqVSv9/vvvXu9PeHi44uPj9cknnygkJERhYWH69ttvNWfOnCy/YKTlJCbenBOlS5fW2LFjNX36dM2YMUPVqlVTq1at9MMPP7jrLFmyROPGjdP777/vdXtTy83z5NNPP9XZs2dVvHhxBQUF6ZFHHtHMmTNVuXJld50nnnhCU6dO1cKFC9WrVy+NHDlSPXr0cC9PSkrSXXfdpeHDh6t8+fKO9smpzOKYskw6f7Hsgw8+0MqVK2VmWrFihT788EOdOXMm2z7SGxnFw4m9e/cqMDBQRYsW9ShP/bls2bKl9u7dq+HDh+v06dM6ePCgnnvuOUkqGHOc/n+NGzdWcHCwqlSpoqZNm2rw4MGZ1n3jjTd0/Phx3X777e4yX/RbFyKrsSStLVu2aNSoUXr00UfdZbnVbzkRFhamESNGaNq0aZozZ45atWqlO+64Q5988om7ztatW7V48WKtXbtWM2fO1MiRIzVt2jT17NnTXad69eqaMGGCZs2apSlTpig4OFhNmjTxuv/OzZjcfffdmjJliuLj4/Xiiy9q+vTpHs9bST3evPDCC/r6669VtGhRxcbGevxoePnll/X5559rwYIFuvPOO/X000+nm4PYF7wZS5x8t+vXr5/KlCmj1q1bZ9uG3IxHduPI3r17VapUqXTvK1WqVKbj07Jly/TZZ5/pkUceuaC2eXNMvBlHUpQtW1ZBQUGqX7++evbsqQcffNC9LC/6LW+OizdjSYpnn31WhQsXVvHixbVjxw59+eWX7mW+6rdy8jlNMW3aNCUkJOi+++7LcPmePXv0zTffeMRDurB+K7fikdb+/fv18ssvZ/mecePGqV27dumS+b7os7yJhzfjiK+2nVpuxiS7ccSJvOy3UktKStKkSZPSJSR+//139evXT5MmTcr0nG3Xrp1GjBih33//XcnJyZo/f76+/PJLr79T+uo8GTdunK644go1btzYXebNtZOU/zA3ZcoUnTt3Trt379Yrr7wi6cK+J3sTk3bt2mnGjBn67rvvlJycrE2bNrmf05ay7caNG2vSpEm64447FBgYqOjoaBUpUkSjRo1yr2fr1q2aNm2azp07pzlz5uiFF17QG2+8oVdffTXbduZWPBo2bKjChQvr2Wef1YkTJ3T8+HH997//VXJysntfvLmWsnXrViUnJysuLs793fLAgQNq06aNV89yTe3w4cMKCwtTYGCgOnTooFGjRqlNmzZevz+7cUTK+DdJWrnZb2V1LS473owlGf0mSetC+q2cxmT//v3q3r27JkyYoIiIiAzreHMtxZf9Vk5j8uSTT6px48bq3LlzpnWyu5aSm/1WTmPizTVHb66lXEi/lefy7R6aS1Tbtm2tR48eHmUPPfSQtW3bNl3dQoUK2ZQpU7JdZ2a3vL311lvWuHFj9/yCOb0VO0WVKlUsLi7Oo2zx4sUmKdN5h1Ps2bPHNmzYYF988YXVqFHDHnvsMY9lVapUsf/+97+2atUqW7RokcXGxlqrVq0ynD4hN6YLy+3jf+jQIdu0aZMtWrTIOnbsaHXr1rWTJ0+amVlycrJ16tTJ2rdvb4sXL7aVK1faY489ZmXKlLE///wz3bouZHqZQoUK2eTJkz3KUubuzsxDDz3kno8yxcqVKzOdXiOz479w4UKLioqy999/39asWWMzZsywcuXKpZuCwCzjW/dyKyZLliwxSR7PZjAzu/LKK61fv37p6md2a/6JEyfs2muvtf/85z/2888/27Jly+yWW26xmjVr5mheaicxyek5keLGG2+0jh07mtn526grVqxoc+bMcS/P6XRhuXme9OrVy6699lpbsGCBJSYm2sCBAy0yMtLWrFmT6XumTZtmkuyff/4xs/PTQd1xxx3u5d5OmZYVb6fdadOmjT388MMeZbt27TJJtmzZMjM7/5m57777LCAgwPz9/S0mJsb69u1rkuyvv/7K8bbTxiSjeKTmbd8xadIkCwwMTFfeunVre+SRRzzqRUVFmb+/vwUGBtozzzxjUVFR9tprrznednZyOl3Yjh07bN26dTZ58mQrU6ZMhm0zM5s8ebKFhoZ6zPtq5pt+K7WcHpesxpLUdu/ebZdffrk98MADHuW51W+ldiFTuPXq1cuuvPJK9+s2bdpYcHCwx3z006dPN5fLlWn7zp07Z1dddZU9/vjj6ZblRUxSW7FihUmylStXmtn5c0SSx/MyTp06ZSVKlLB333030/W8/vrrFhER4agNZt7HxJuxJKff7V577TUrWrSo/fLLLxlu01f9lln248irr75qVatWTfe+yy+/3IYMGZKufO3atVayZEl7+eWXvdp+ZrI7Jim8GUdSbN261dasWWNjx461YsWKeXyP8HW/5e1x8XYsMTs/3cvGjRtt3rx51qRJE7vhhhvcn0Ff9FvexiS1hQsXWuHChbOcpicuLs6KFy+e7llTaeWk38qteKR2+PBha9CggV1//fWZTqmxc+dO8/Pzy/LZmikutM9yEo8UaceR1LyZiiunfZaZb2KSIu04kpo304Xldb+V2uTJky0gIMBjbDh79qzVr1/f3nnnHXdZRv36vn37rHPnzubn52f+/v5WtWpV69Gjh4WEhKTbTl7F5MSJExYZGenxXCwz76+dvPHGGxYREWH+/v4WGhrqfj7up59+6nUbUvM2JsnJyda3b18LDg42f39/K1q0qA0cONAk2fLly83MbN26dVa6dGkbNmyY/fLLLzZ37ly78sorPaZFq1KlSrrnyL7xxhsWHR2dbpu+7Le+/fZbu+yyy8zlcpm/v7/dc889VrduXff1Im+upbz66qsmyb799lv3evft25ft9JUZOXfunP3++++2evVqe/311y0yMtIWLlzo1Xu9GUcy+02SWm73W1ldi8uKN2NJZr9JUrvQfiunMbn55pvt2Wefdb/2dirG1NdSzHzbb+UkJl9++aVdfvnlHs9XyWh7aaW9lmKWe/1WTmPizTVHb66lXEi/lddIsuSxrl27pnu40Ysvvmi1a9f2KEuZk/L777/Pdp2ZXXBM3TGk/Ekyf39/+89//uN1m5s2bWq9e/f2KJsxY4YFBATk6MGUP/74o0lyD4ovvPCC1atXz6POzp07M/zRaZY7SRZfHP8USUlJFhoa6v5BvGDBgnRzjZpl/qP/Qi4AlStXzkaMGOFRNmLECCtfvnym73nppZcsICDAo+zEiRMmyebNm5eufmbH/7rrrks3h2LKA85SzwdvlnGHl1sx2bp1q0myjz/+2KP89ttvt65du6arn9mg+8EHH6R7JkVKbL1JeqZwEpOcnhMpXnnlFffc+inPz0h93rtcLvcX2LTznPsyJps3bzZJtnbtWo/yVq1apbsQk1rKxaeU+fWvuuoqj77Mz8/PvY8vvfRSpuvJircXK++9917r1KmTR9mqVatMkm3dutWj/PTp07Zz5047e/as+wFuac8Bb7adNiYZxSM1b/uOlGfZHDhwwKO8du3aGR7HvXv32tGjR+3YsWPm5+dnn332meNtZ+dCLuin9Depv3SZmU2dOtVCQkLs66+/TvceX/RbqV3IcUk7lqTYvXu3Va1a1e699950bcytfiu1C4nJJ598YsHBwe7X//nPf6xy5coedVKeo7Fp06ZM1/Pggw+me7aVWd7HJDk52eMZFN9//71Jsh9//NGj3rXXXmvPPfdcputJSWLs3bvXUTu8jYk3Y0lOvtsNHz7cIiMjLSEhIdNt+qrf8mYcGTduXIbjeWRkpH344YceZevWrbNSpUplGSdveHNMUuRkHEnt5Zdf9kge+bLfyslxyelYkiLlM5jyINjc7rdyEpMU8fHxFhYW5pEwTSs5Odkuv/xy69Onj1fr9Lbfyq14pDhy5Ig1atTIWrVqlWGSPsXgwYOtZMmSXv2Gu5A+y0k8Uks7jqSW3W9CJ32WWe7HJLW040hq2V0IzI9+K7WWLVt6PDjdzOzgwYMZ/t5IKfvuu+886p88edJ27drlThTUqFEj3XbyKiYfffSRFSpUyPbt2+dRnpNrJ8nJybZ79247ceKE+/vMzz//nKN2mDmLydmzZ23Xrl2WlJRkc+bM8bgQec8996R7bkvaazDNmjWzVq1aedRJWU/aRLKv+y2z88n4lOtYUVFRNmzYMDPz7lrKhx9+aJJs586dHnVKlSplY8eOzVE70nrggQcy/A+GaXkzjmT1mySFL/qt1NJ+DjLjzViS1W+SFLnVb6WWXUwiIyM9zt/U1wzGjRuX6ftSX0tJzRf9VmrZxeSJJ55wX8NJ3Sf5+flZbGxsputNey0lRW71W6llF5OcXHPM6lrKhfRbeY3pwvLY1VdfrfXr13uUNWrUSGvXrvW4VWvevHkKCgq6oGd3/O9//9Mvv/yixMREJSYmas6cOZLOT7uQk9uqGjVqpPnz53uUzZs3T/Xr18/Rs1POf97P33IsnZ9f0N/f36NOymtfzVnu6+NvZh77Jynd8yP8/Pxyff8yi1HqW6DTatKkic6ePastW7a4yzZt2iRJOZoL+8SJE+n20d/fX3Y+iZvt+3MrJhUrVlRMTIw2btzoUb5p0yZH++NyudxlKa9zEjcnMXF6TqxevVqlS5eWdH7qil9//dV93icmJqpTp05q0aKFEhMTs3zOQ4rciklm54C/v3+2+yPJvU/Tp0/36MtSbqv98ccfPaYb8oVGjRrphx9+8LjlfN68eYqJiVHFihU96hYqVEhly5aVv7+/pk6dqhtvvDFXnh+TUTycqFevngoVKuTxudyzZ4/Wrl2b4ecyKipKYWFh+vTTTxUcHJyjW+bzkpnpzJkzHv3NlClT1L17d02ePDnD5xX4ot/KTanHEknavXu3mjdvrrp162r8+PHp2p5b/VZuSd0nSefHmz///FPHjh1zl23atEl+fn4qW7ZshuswMyUmJnqsJyu+jMm6det05swZd1vq1aunoKAgj/HmzJkz2r59e5bjzerVqxUcHJzrU4am5c1Y4u13u+HDh+vll1/W3LlzczT1bG7Fw5txpFGjRjp8+LD7WSWStHz5ch0+fNijb1u3bp1atGihbt26XdD0Ajk9JjkZR1JL2w/4qt/K6XHJ6ViSen8kz98BudVvOfmcxsfHq0OHDho6dKgefvjhTOstWrRImzdv9uoZdznpt3IrHpJ05MgRtW3bVoGBgZo1a1a6uc1Tt2/8+PH6z3/+49VvOKd9ltN+I+22ve3/c2vbuRmTjNaRehzJyfvyo99KsW3bNi1cuDDd5z8iIiLd741HH31U1apVU2JiosczsqTzz9soU6aMzp49q+nTp2c59U1qvojJuHHj1KlTJ5UsWdKjPCfXTlwul2JiYhQSEqIpU6aoXLlyqlu3bo7a4TQm/v7+KlOmjAIDAzVlyhQ1atTIPWVmZuOE9H99cJMmTbR582aPfnbTpk0qXbp0plPVpvBFPEqUKKEiRYro+++/1759+9SpUyf3vkhZX0tp0qSJJHl8Hztw4ID++eefC34mYdoxOCPejCPZ/SaRfNNvpZV2DM6IN2NJdr9JpNzrtzLah6zav2zZMo8+afDgwQoPD1diYqJuvvnmTN+X2XiT2/1WRvsjZR6Tfv36ac2aNR77JElvvvmmxo8fn+l6015LSZEb/VZG+5BVTHJyzTGraykX0m/lubzM6MBszZo1FhAQ4PG/v86ePWu1atWyVq1a2apVq2zBggVWtmxZ69Wrl7vOrl27rFq1au5bQc3O32q2evVqe//9902S/fDDD7Z69Wrbv39/htt2Ol3Y1q1bLTQ01J588klbv369jRs3zgoVKuRxm/mMGTOsWrVq7tezZ8+2Dz/80H799Vfbtm2bzZ4922rWrGlNmjRx1/nuu+/M5XLZoEGDbNOmTbZy5Upr166dVahQwWOagNWrV9vq1autXr161rVrV1u9erWtW7cuXTu9+R+euXX8t2zZYnFxcbZixQr7448/bOnSpda5c2crVqyY+3+S/P3331a8eHHr0qWLJSYm2saNG+2ZZ56xQoUKWWJionvdKbfbPfLII1a1alX3/mY3JUFqS5YsMX9/fxs6dKht2LDBhg4dagEBAR7Z61GjRlnLli3dr8+dO2d169a1Zs2a2apVq2zFihXWoEEDa9Omjce6szv+AwYMsPDwcJsyZYpt3brV5s2bZ5UrV7bbb789XTuVQVY5N8+JN9980yIiIuzzzz+333//3V544QULDg72uHvjjz/+sNWrV9ugQYMsLCzMvX8pt2Fu2LDBgoKC7LHHHrP169fb2rVr7Z577rHIyMhs/+dHak5i4s058eabb9rMmTNt06ZNtnbtWuvXr59JsunTp2falpxOF5ZbMTl9+rRdfvnl1rRpU1u+fLlt3rzZXn/9dXO5XDZ79mwzM1u6dKmNGDHCVq9ebVu3brVPP/3UYmJi0v2v39ScTheWlJTkjnfp0qXtmWeesdWrV9vvv//urpM2JocOHbKoqCi766677Ndff7UZM2ZYRESExxQDGzdutI8//tg2bdpky5cvtzvuuMOKFStm27Zty9G2U6SNSUbxMMu+78joHHn00UetbNmytmDBAlu1apW1bNnSrrrqKo+7QEaNGmUrV660jRs32ujRoy0kJMTeeuutHG3bG07i8cknn9inn35q69evty1btthnn31mZcqUsbvvvttdJ2Vai7ffftv27Nnj/ks9VZUv+i1vjouTsSTldvyWLVvarl27PPYpRW71W05iMmHCBJs0aZKtX7/efvvtNxs+fLgVKlTI406+o0ePWtmyZe3WW2+1devW2aJFi6xKlSr24IMPuusMHDjQ5s6da1u2bLHVq1e7bxtP/fnNi5hs3rzZBg0aZAkJCe7vL9WrV7err77a4zx54oknrEyZMvbtt9/ab7/9Zg888ICVKlXKvf1Zs2bZ2LFj7ddff7XNmzfb+++/bxEREenuHvFFTLwZS7z5bvfaa69ZYGCgTZs2zeNzl3ragsxiklvx8GYcMTO7/vrrrXbt2rZs2TJbtmyZXXnllXbjjTe6l6dMWXH33Xd77Eva/8mcHW+OiZNxZPTo0TZr1izbtGmTbdq0yT788EOLiIiw559/3l3HF/2WN8fFyViyfPlyGzVqlK1evdq2b99u33//vV133XVWuXJlO3XqlJnlXr/lJCYLFy600NBQ69+/v8d7MvoNdc8991iDBg0y3PaF9Fu5FY8jR45YgwYN7Morr7TNmzd7vC/tHZ4LFiwwSbZ+/fp07cutPstJPLwZR8yy/01yIX2WWe7FxNtxJLvfJPnZb6V44YUXLCYmJt1nKSMZ3aH4008/2fTp023Lli32ww8/WMuWLa1SpUoZfof3db9ldn4Mcrlc9s0332S7P5ldOxk2bJitWbPG1q5da4MHD7ZChQrl+H9NO4nJ33//be+8845t2LDBVq9ebb1797bg4GCPfRw/frwFBATYmDFjbMuWLbZ48WKrX7++XXvtte46O3bssLCwMOvVq5dt3LjRvv76aytVqpS98sor6drpq37L7PxdKMuWLbPNmzfbxx9/bMWKFbOnnnrKY3+9uZbSuXNnq1mzpi1ZssR+/fVXu/HGG61GjRo5mnElLi7O5s2bZ1u2bLENGzbYG2+8YQEBAfb+++9nGg9vxhFvfpP4ot/y5lqck7HEm98kudVvOYlJWhndJejNtRRf9FtOYpKRtNvz9lpKbvRbTmLizTVHb66lXEi/lddIsuSDhg0bppuz+48//rAOHTpYSEiIFStWzHr16uX+EWL2f4N86vnuBgwYYJLS/Y0fPz7D7Wb2RaFChQo2YMCALNscHx9vV199tQUGBlrFihU95l81O9+Bpc7Zff/999aoUSOLjIy04OBgq1Klij377LPpOqYpU6bY1VdfbYULF7aSJUtap06dbMOGDR51MtrHChUqpGujt9No5Mbx3717t7Vv395KlSplhQoVsrJly1rXrl3TPcskISHB2rZta8WKFbPw8HBr2LChx7MyzM7f8p7RPqbuVLKKa4rPP//cqlWrZoUKFbLq1aunu+g+YMCAdMdt9+7d1qVLFwsLC7OoqCjr3r17uh+Y2R3/M2fO2MCBA61y5coWHBxs5cqVsx49eng9CJnl3jlhZjZkyBArW7ashYaGWqNGjdJN59KtW7cM9yn1elLmDo+MjLSiRYtay5Yt003X5auYZHdOvPbaa+5jXbRoUbvuuus8LjRlJKdJFrPci8mmTZusS5cuVqpUKQsNDbXatWvbRx995F6+cuVKa9CggbuvqFatmg0YMMCOHz+e6f5klmTJLiYp7Uv7l/p224xismbNGmvatKkFBQVZdHS0DRw40OMZOevXr7c6depYSEiIRUREWOfOndP1Bd5sO/V+pI1JRvHIru/IKB4nT560Xr16WbFixSwkJMRuvPFG27Fjh8d67733XitWrJgFBgami5e3207Zj9yOx9SpU61u3boWFhZmhQsXtho1alhcXJzH7eyZta1bt27uOr7qt3IaE2/GkpTxNaO/1HKj33ISkwkTJtgVV1xhoaGhFh4ebvXq1Us3baPZ+QuqrVu3tpCQECtbtqw99dRTHv+hok+fPla+fHkLDAy0kiVLWtu2bd3TCqXly5js2LHDmjVr5j4HKleubL179043Np4+fdqefvppK1WqlIWHh1vr1q09prT65ptvrE6dOhYWFmahoaFWq1YtGzlypJ05cybdvvii3/Lm+1V23+0qVKiQ4bYz+s7oy34ru3HEzGz//v129913W3h4uIWHh9vdd9/tcT5n9p057XHLLh7eHBMn48j//vc/q1mzpoWGhlpERIRdffXVNmbMGI9pOHzRb3lzXJyMJWvWrLEWLVpYsWLFLCgoyCpWrGiPPvqo7dq1y6M9udFvOYlJZt8F047Jhw4dspCQkEynnbnQfis34pHynSi7MdnM7K677rLGjRtn2L7c6rOcxMPbcSS7Y3OhfZZZ7sTE23Eku98k+d1vnTt3zsqWLev1dD8ZJVni4+PtiiuusKCgICtevLjde++9tnv37gzf7+t+y8ysf//+VrZs2UynOEots2snLVq0cP9uadCgQbrf9in7ktsx+fvvv61hw4ZWuHBhCw0NtVatWqWbDsjs/HhSo0YNCwkJsdKlS9vdd9+dru9dunSpNWjQwIKCguyyyy6zV199NcNEmq/6LTOzZ5991qKioqxQoUJWpUoVe+ONN9I9g9SbaymHDx+2+++/34oUKWLFihWzm2++Od1vm+zi8fzzz9vll1/u/n3dqFGjdFP7ORlHvPlN4ot+y5trcU7GEm9+k+RWv+UkJmlllGTx5lqKL/otJzHxZnveXkvJjX7LaUyyu+bozbUUswvrt/ISSZZ8MHv2bLviiiu8Gtx97cSJExYcHJyjZ48UVN4mWQrS8ffGtm3bLCAgIMt56/8tMuvwiEn+ISYFT0YxIR75h3Ok4CEmBQ/9VsHCOVLwcI4ULJwjBQ8xKXjotwoWzpGCh5gUPPmdZOGZLPnghhtu0COPPKLdu3fnd1O0aNEitWzZUi1atMjvpjgWFxensLAw7dixw6v6Ben4e2Pu3Ll6+OGHVaVKlfxuimOPPvqowsLCMl1OTPIeMSl4sooJ8ch7nCMFDzEpeOi3ChbOkYKHc6Rg4RwpeIhJwUO/VbBwjhQ8xKTgyS4mecX1/zM9wL/WgQMHdODAAUlSyZIlFRkZmc8tQlr79u3TkSNHJJ1/AFfhwoXzuUUgJgUPMSlYiEfBQ0wKHmJSsBCPgoeYFCzEo+AhJgUPMSlYiEfBQ0wKnoISE5IsAAAAAAAAAAAADjBdGAAAAAAAAAAAgAMkWQAAAAAAAAAAABwgyQIAAAAAAAAAAOAASRYAAAAAAAAAAAAHSLIAAAAAAAAAAAA4QJIFAAAAwL/OhAkTVKRIkUyXb9++XS6XS4mJiXnWpqx0795dN910U47eM3DgQNWpUyfX1wsAAAAg9wTkdwMAAAAA4GKxfft2VapUSatXr842QZIb3nrrLZmZz7cDAAAAIGMkWQAAAAAUWKdPn1ZgYGB+N6PAioyMzO8mAAAAAJc0pgsDAAAA4MhXX32lIkWKKDk5WZKUmJgol8ul//73v+46jzzyiO666y736+nTp6tmzZoKCgpSxYoV9cYbb3iss2LFinrllVfUvXt3RUZG6qGHHpJ0fnqw8uXLKzQ0VDfffLP279+f4/auX79eN9xwg8LCwhQVFaV7771X//zzj3t58+bN1bt3b/Xt21fFihVTdHS0Bg4c6LGO3377Tdddd52Cg4NVo0YNLViwQC6XS1988YUkqVKlSpKkq6++Wi6XS82bN/d4/+uvv67SpUurePHi6tmzp86cOZNtu9977z2VK1dOoaGhuu2223To0CH3srTThXmzDwAAAAByD0kWAAAAAI40a9ZMR48e1erVqyVJixYtUokSJbRo0SJ3nfj4eMXGxkqSVq5cqdtvv1133nmnfv31Vw0cOFAvvviiJkyY4LHe4cOHq1atWlq5cqVefPFFLV++XPfff7969OihxMREtWjRQq+88kqO2rpnzx7FxsaqTp06WrFihebOnau//vpLt99+u0e9iRMnqnDhwlq+fLmGDRumwYMHa/78+ZKk5ORk3XTTTQoNDdXy5cs1duxYPf/88x7v//nnnyVJCxYs0J49ezRjxgz3soULF2rLli1auHChJk6cqAkTJqTb97Q2b96szz77TF999ZXmzp2rxMRE9ezZM8v3ZLUPAAAAAHIX04UBAAAAcCQyMlJ16tRRfHy86tWrp/j4eD355JMaNGiQjh49quPHj2vTpk3uuzlGjBihVq1a6cUXX5QkVa1aVevXr9fw4cPVvXt393pbtmypZ555xv36pZdeUrt27dSvXz/3+5YuXaq5c+d63dZ33nlHdevWVVxcnLvsww8/VLly5bRp0yZVrVpVklS7dm0NGDBAklSlShWNHj1a3333ndq0aaN58+Zpy5Ytio+PV3R0tCTp1VdfVZs2bdzrLFmypCSpePHi7jopihYtqtGjR8vf31/Vq1dXhw4d9N1337nv1snIqVOnNHHiRJUtW1aSNGrUKHXo0EFvvPFGuvWnyGofAAAAAOQu7mQBAAAA4Fjz5s0VHx8vM9OPP/6ozp07q1atWlq8eLEWLlyoqKgoVa9eXZK0YcMGNWnSxOP9TZo00e+//65z5865y+rXr+9RZ8OGDWrUqJFHWdrX2Vm5cqUWLlyosLAw919Ku7Zs2eKuV7t2bY/3lS5dWvv27ZMkbdy4UeXKlfNIblx77bVet6FmzZry9/fPcN2ZKV++vDvBIp3f7+TkZG3cuDHT92S1DwAAAAByF3eyAAAAAHCsefPmGjdunH755Rf5+fmpRo0aio2N1aJFi3Tw4EH3VGGSZGZyuVwe7zezdOssXLhwtnVyKjk5WR07dtRrr72Wblnp0qXd/y5UqJDHMpfL5X7mTEbtz4ms1u2tlO1n1Y7c2A4AAAAA75BkAQAAAOBYynNZRo4cqdjYWLlcLsXGxmrIkCE6ePCgnnjiCXfdGjVqaPHixR7vX7p0qapWrepxh0daNWrU0E8//eRRlvZ1durWravp06erYsWKCghw9jOoevXq2rFjh/766y9FRUVJkhISEjzqBAYGSpLHnTkXYseOHfrzzz8VExMjSVq2bJn8/Pzc05sBAAAAyF9MFwYAAADAsZTnsnzyySfuZ680a9ZMq1at8ngeiyQ9/fTT+u677/Tyyy9r06ZNmjhxokaPHu3x/JWM9O7dW3PnztWwYcO0adMmjR49OkfPY5Gknj176sCBA7rrrrv0888/a+vWrZo3b57uv/9+rxMibdq0UeXKldWtWzetWbNGS5YscT/4PuXOklKlSikkJERz587VX3/9pcOHD+eonWkFBwerW7du+uWXX/Tjjz+qd+/euv322zN9HgsAAACAvEWSBQAAAMAFadGihc6dO+dOqBQtWlQ1atRQyZIldcUVV7jr1a1bV5999pmmTp2qWrVq6aWXXtLgwYM9HnqfkYYNG+qDDz7QqFGjVKdOHc2bN08vvPBCjtoYExOjJUuW6Ny5c2rXrp1q1aqlJ554QpGRkfLz8+5nkb+/v7744gsdO3ZM11xzjR588EF3O4KDgyVJAQEB+t///qf33ntPMTEx6ty5c47amdbll1+uLl266IYbblDbtm1Vq1YtjRkz5oLWCQAAACD3uCw3JjgGAAAAgEvQkiVLdN1112nz5s2qXLlyfjcHAAAAQB4jyQIAAAAAXpo5c6bCwsJUpUoVbd68WU888YSKFi2a7lkzAAAAAC4NPPgeAAAAALx09OhR9e3bVzt37lSJEiXUunVrvfHGG/ndLAAAAAD5hDtZAAAAAAAAAAAAHODB9wAAAAAAAAAAAA6QZAEAAIAjXbp0UefOnSVJc+bM0cCBA32+zRMnTmjgwIGKj4/PcPmnn36qmjVrKiQkRC6XS4mJiRo4cKBcLpdHvebNm6t58+Y+b+9TTz2lq666Si6Xy6u/+Ph4xcfHy+Vyadq0aT5vX1pHjhzRq6++qvr16ysiIkJBQUGqWLGi7r//fq1atSrH69u+fbtcLpcmTJjgLpswYYJcLpe2b9+eew1PZfXq1YqNjVVkZKRcLpdGjhyZZf2Uz0d2fymfl+bNm6tWrVo+aXtGXn/9dblcLi1fvtyjPDk5WcWKFZPL5dLGjRs9lp0+fVqhoaHq0qWLpIyPeffu3VWxYkWv2uByubI9v//8808NHDhQiYmJXq0zI5MnT842XvC0ePFiPfjgg6pXr56CgoKyPLcy+2wPHTo0bxsNAABwkeGZLAAAAMix48ePa+7cuXr33XclnU+yvP322z5PtJw4cUKDBg2SpHRJkr///lv33nuvrr/+eo0ZM0ZBQUGqWrWqHnzwQV1//fU+bVdmZsyYofvvv1/vvfeeR/nLL7+shQsX6vvvv/cor1GjhqNkRm7YsmWL2rZtq3379unRRx/VoEGDFBYWpu3bt+uzzz5TvXr1dOjQIUVGRuZL+7x1//336/jx45o6daqKFi2abSIh7edjz5496tKlix5//HF17drVXR4REeGrJmepRYsWkqSFCxeqQYMG7vJffvlFBw8eVOHChbVw4UJVq1bNvWz58uU6efKk+70dOnTQsmXLVLp0aZ+1888//9SgQYNUsWJF1alTx9E6Jk+erLVr16pPnz652raL2XfffacFCxbo6quvVkRERKYJ6BS33nqrnn76aY+y8uXL+7CFAAAAFz+SLAAAAMixOXPm6OzZs+rYsWN+N8Vt06ZNOnPmjO655x7Fxsa6y0NDQ1W2bNk8b09CQoL++OMP3XLLLapZs6bHspIlS8rPz08NGzbM83Zl5Ny5c7r55pv1zz//aNmyZR53asTGxqpbt2765ptvVKhQoXxspXfWrl2rhx56SO3bt/eqftmyZT0+Hyl3AZQvX75AxOfqq69WkSJFFB8fr379+rnL4+PjFRMTo9jYWC1cuFCPPvqoxzLp/xI0JUuWVMmSJfO03cgbL774ogYMGCDp/F1P2SVZoqKiCsTnGgAA4GLCdGEAAADIsenTp6tly5YqWrSounfvrrfffluS53Q0KRerzUxjxoxRnTp1FBISoqJFi+rWW2/V1q1b3eubOnWqXC6XRo8e7bGdAQMGyN/fX/Pnz9f27dvdF4oHDRrk3k737t3VvXt3XXfddZKkO+64w2N6p4ymC8vI6dOn9corr6h69eoKCgpSyZIldd999+nvv//2qPf999+refPmKl68uEJCQlS+fHndcsstOnHiRLpjVK1atXQJFm+dOXNGzz//vGJiYhQREaHWrVunmxZKkhYsWKBWrVopIiJCoaGhatKkib777rscbeuLL77Qr7/+qv79+2c6FVb79u0VGhoqSdq8ebPuu+8+ValSRaGhoSpTpow6duyoX3/9Nec76qW1a9eqc+fOKlq0qIKDg1WnTh1NnDjRvTxlSqyzZ8/qnXfecX8+fCUhIUFNmzZVaGioLrvsMg0dOlTJyckedY4cOaJnnnlGlSpVUmBgoMqUKaM+ffro+PHjXm/Hz89PzZo105IlS3T27Fl3eXx8vJo3b67Y2Nh0F9bj4+NVsmRJ92fP2ynajhw5ooceekjFixdXWFiYrr/+em3atCnbNsbHx+uaa66RJN13333uYz9w4ED9888/KleunBo3bqwzZ86437N+/XoVLlxY9957r6Tzd6bNnj1bf/zxh0c/cqHMTFFRUerZs6e77Ny5cypatKj8/Pz0119/uctHjBihgIAAHTp0SNL5KdXCwsK0bt06tWrVSoULF1bJkiXVq1evdOe7y+VSr169NH78eFWrVk0hISGqX7++fvrpJ5mZhg8frkqVKiksLEwtW7bU5s2bL3jfpPOfDwAAAOQvvpEBAAAgR06dOqXZs2frlltukXT+f1LfeuutkqRly5a5/1KmJnrkkUfUp08ftW7dWl988YXGjBmjdevWqXHjxu4LnHfeeaceffRRPf3001qxYoWk88mMV155Rc8995zatGmj0qVLa+7cuZKkBx54wL2dF198US+++KI70RMXF6dly5ZpzJgxXu9TcnKyOnfurKFDh6pr166aPXu2hg4dqvnz56t58+Y6efKkpPN3OXTo0EGBgYH68MMPNXfuXA0dOlSFCxfW6dOnPdY5ffp09zFy4rnnntMff/yhDz74QGPHjtXvv/+ujh076ty5c+46n3zyidq2bauIiAhNnDhRn332mYoVK6Z27drlKNEyb948SdJNN93kVf0///xTxYsX19ChQzV37ly9/fbbCggIUIMGDTJMBF2ojRs3qnHjxlq3bp3+97//acaMGapRo4a6d++uYcOGSfq/KbGk81MipXw+fGHv3r26++67dc8992jWrFlq3769+vfvr08++cRd58SJE4qNjdXEiRPVu3dvffPNN3r22Wc1YcIEderUSWbm9fZatGihY8eOKSEhQdL5z+sPP/yg2NhYxcbGat++fVq/fr2k88nCZcuWqXnz5jlKUpiZbrrpJn388cd6+umnNXPmTDVs2NCrO4Lq1q2r8ePHS5JeeOEF97F/8MEHVaJECU2dOlUJCQl69tln3cfmtttuU/ny5d1TDo4ZM0ZNmjRRdHS0Rz9yoVwul1q2bKkFCxa4y1asWKFDhw4pODjY4zxZsGCB6tWrpyJFirjLzpw5oxtuuEGtWrXSF198oV69eum9997THXfckW5bX3/9tT744AMNHTpUU6ZM0dGjR9WhQwc9/fTTWrJkiUaPHq2xY8dq/fr1uuWWWzw+A8nJyTp79my2f6nPfycmT56skJAQBQUFqV69eu64AQAA4AIYAAAAkANffPGF+fv72759+9xlPXv2tIy+Wi5btswk2RtvvOFRvnPnTgsJCbG+ffu6y06dOmVXX321VapUydavX29RUVEWGxtrZ8+eddf5+++/TZINGDAg3bYWLlxokuzzzz/3KB8wYEC6tsXGxlpsbKz79ZQpU0ySTZ8+3aNeQkKCSbIxY8aYmdm0adNMkiUmJmZydM5LTEw0SbZy5coMl3fr1s0KFy6c4bKU/bjhhhs8yj/77DOTZMuWLTMzs+PHj1uxYsWsY8eOHvXOnTtnV111lV177bVZtjG166+/3iTZqVOnvH5PamfPnrXTp09blSpV7Mknn3SXb9u2zSTZ+PHj3WXjx483SbZt2zav13/nnXdaUFCQ7dixw6O8ffv2FhoaaocOHXKXSbKePXs62o/UbR4+fHiGy2NjY02SLV++3KO8Ro0a1q5dO/frIUOGmJ+fnyUkJHjUS/kMzZkzx+s2pXye4uLizMxs5cqVJsl+++03MzOLioqy0aNHm5nZokWLPD6zZhkf827dulmFChXcr7/55huTZG+99ZbHtl999dVMz7nUUs6V1LFO7bXXXjNJNnPmTOvWrZuFhITYmjVrPOp06NDBo0255YMPPjBJ7s/PK6+8YtWrV7dOnTrZfffdZ2Zmp0+ftsKFC9tzzz3nfl+3bt2yPCaLFy92l0my6OhoO3bsmLvsiy++MElWp04dS05OdpePHDnSJHnsf0o/ld1fVsdn+PDhWZ5bXbt2tUmTJtkPP/xg06ZNs/bt25ske+GFF7I/iAAAAMgUd7IAAAAgR6ZPn66mTZt69YyHr7/+Wi6XS/fcc4/H/8aOjo7WVVdd5THNUVBQkD777DPt379fdevWlZlpypQp8vf39+He/F87ixQpoo4dO3q0s06dOoqOjna3s06dOgoMDNTDDz+siRMnekx5ltr06dNVsWJF1a1b13GbOnXq5PG6du3akqQ//vhDkrR06VIdOHBA3bp182hzcnKyrr/+eiUkJORoWqqcOHv2rOLi4lSjRg0FBgYqICBAgYGB+v3337Vhw4Zc397333+vVq1aqVy5ch7l3bt314kTJ3x2x0pmoqOjde2113qU1a5d2x0b6fxnqlatWqpTp45HfNq1ayeXy5XtszPSrrt48eLu98THxys6Otr9sPtmzZpp4cKF7mXS/z2PxVsp77/77rs9yrt27Zqj9WTmv//9rzp06KC77rpLEydO1KhRo3TllVfmyrqz07p1a0ly380yf/58tWnTRq1bt9b8+fMlnb8L7/jx4+66qWV2TFKOWYoWLVqocOHC7tdXXHGFpPNT7aW+qyilPPXn5eGHH1ZCQkK2f1999ZWzgyBp0qRJ6tq1q5o2bapbbrlFc+bM0Y033qihQ4emmxYRAAAA3iPJAgAAAK+dOXNGX331ldfTYP3111/uZyIUKlTI4++nn37SP//841H/8ssvV9OmTXXq1Cndfffd7inHfO2vv/7SoUOHFBgYmK6de/fudbezcuXKWrBggUqVKqWePXuqcuXKqly5st566y2P9U2bNu2CpgqTpOLFi3u8DgoKkiT31GUpU63deuut6dr82muvycx04MABr7ZVvnx5SdK2bdu8qv/UU0/pxRdf1E033aSvvvpKy5cvV0JCgq666ip3+3LT/v37M/wsxMTEuJfnpbSxkc7HJ/W+//XXX1qzZk262ISHh8vM0n32s+JyuRQbG6slS5bozJkzWrhwoWJjY93LY2NjtWjRIpmZFi5cqOjoaFWvXj1H+7R//34FBASk27fo6OgcrSerfejevbtOnTql6Oho97NY8kKFChXc525KUi4lybJr1y5t3LhRCxYsUEhIiBo3buzx3qyOSdrPXbFixTxeBwYGZll+6tQpj3XWqVMn278aNWpcwJFILyUBnjJNIwAAAHIuIL8bAAAAgH+PBQsW6PDhw7r55pu9ql+iRAm5XC79+OOP7iRBamnLPvjgA82ePVvXXnutRo8erTvuuEMNGjTIlbZn187ixYu7n/mSVnh4uPvfTZs2VdOmTXXu3DmtWLFCo0aNUp8+fRQVFaU777xTGzZs0IYNGzRu3Dift1mSRo0apYYNG2ZYJyoqyqt1tWvXTmPHjtUXX3yhfv36ZVv/k08+0X/+8x/FxcV5lP/zzz8ez7PILcWLF9eePXvSlf/555+S/u9YFCQlSpRQSEiIPvzww0yX50SLFi00Y8YMLV++XD/++KOGDBniXhYbG6t//vlHK1eu1E8//eT1+Zla8eLFdfbsWe3fv98jqbB3794crysje/bsUc+ePVWnTh2tW7dOzzzzjP73v//lyrq90apVK3355ZdatGiRkpOT1bx5c4WHhysmJkbz58/XggUL1LRp03R9UlbHJKNkm1ODBw/WoEGDsq1XoUIFbd++Pde2a///uTB+fvz/SwAAAKdIsgAAAMBr06dPV8OGDVWmTBmP8tR3WYSEhLjLU6ai2b17t26//fYs1/3rr7+qd+/e+s9//qP3339fjRs31h133KHVq1eraNGi6baTm2688UZNnTpV586d8zqp4+/vrwYNGqh69eqaNGmSVq1apTvvvFPTp09XTExMpomP3NKkSRMVKVJE69evV69evS5oXZ07d9aVV16pIUOG6MYbb1StWrXS1fn222/VtGlThYaGyuVypbsYPXv2bO3evVuXX375BbUlI61atdLMmTP1559/uu9ekaSPPvpIoaGhPj/WTtx4442Ki4tT8eLFValSpQteX8r0X2+++aYOHz6s5s2bu5fVrFlTxYsX15AhQ3Tq1KkcTxWWsv5hw4Zp0qRJ6t27t7t88uTJXr0/q3Pz3Llzuuuuu+RyufTNN99o0qRJeuaZZ9S8eXN16dLFYx2+uBNKOj9l2NixYzVy5Eg1bNjQnThN+WwlJCSkSxqmyOyYpI7BhXr44Yd14403Zlsvo2T1hfj4449VqFAh1atXL1fXCwAAcCkhyQIAAIAMLVq0SK1atdJLL72kl156SefOndOXX36Z4Z0OKc9WeO2119S+fXv5+/urdu3aatKkiR5++GHdd999WrFihZo1a6bChQtrz549Wrx4sa688ko99thjOn78uG6//XZVqlRJY8aMUWBgoD777DPVrVtX9913n7744gtJ5+8oqVChgr788ku1atVKxYoVU4kSJVSxYsUL2tc777xTkyZN0g033KAnnnhC1157rQoVKqRdu3Zp4cKF6ty5s26++Wa9++67+v7779WhQweVL19ep06dct+pkPIsh2nTpqlLly4ez2DwhbCwMI0aNUrdunXTgQMHdOutt6pUqVL6+++/9csvv+jvv//WO++849W6/P39NXPmTLVt21aNGjXSY4895n6+xB9//KFp06bpq6++0sGDByWdTyBMmDBB1atXV+3atbVy5UoNHz5cZcuW9cm+DhgwQF9//bVatGihl156ScWKFdOkSZM0e/ZsDRs2TJGRkT7Z7oXo06ePpk+frmbNmunJJ59U7dq1lZycrB07dmjevHl6+umnc3SXVs2aNVWqVCnNnDlTJUuWdD/XQzo/FVezZs00c+ZMSTl/HosktW3bVs2aNVPfvn11/Phx1a9fX0uWLNHHH3+crm7avkE6P5VeSEiIJk2apCuuuEJhYWGKiYlRTEyMBgwYoB9//FHz5s1TdHS0nn76aS1atEgPPPCArr76ancS6sorr9SMGTP0zjvvqF69evLz81P9+vVztB/bt29XpUqV1K1bN02YMMFd3rJlS7lcLs2bN8/jjpHWrVurW7du7n+nFRgYqDfeeEPHjh3TNddco6VLl+qVV15R+/btdd111+WobVlJOVY59ffff2vRokWSzieqJembb75RyZIlVbJkSfe0csOHD9f69evVqlUrlS1bVvv27dO4ceM0b948DRw4sEDeDQYAAPBvQZIFAAAAGTIznTt3TsnJyZLOP1D7n3/+8fif5ym6du2qJUuWaMyYMRo8eLDMTNu2bVPFihX13nvvqWHDhnrvvfc0ZswYJScnKyYmRk2aNHE/PPzRRx/Vjh07lJCQ4H5w9GWXXaYPPvhAt912m0aOHKk+ffpIksaNG6f//ve/6tSpk5KSktJdTHXC399fs2bN0ltvvaWPP/5YQ4YMUUBAgMqWLavY2Fh3EqlOnTqaN2+eBgwYoL179yosLEy1atXSrFmz1LZtW23ZskW//PKLRo4ceUHt8dY999yj8uXLa9iwYXrkkUd09OhRlSpVSnXq1FH37t1ztK7KlStr1apVGjVqlGbOnKl33nlHSUlJKl26tJo1a6bFixe7kxlvvfWWChUqpCFDhujYsWOqW7euZsyYoRdeeMEHeylVq1ZNS5cu1XPPPaeePXvq5MmTuuKKKzR+/Pgc72deKVy4sH788UcNHTpUY8eO1bZt2xQSEqLy5curdevWjhKDzZs312effebxPJYUsbGxmjlzpsqUKePobiI/Pz/NmjVLTz31lIYNG6bTp0+rSZMmmjNnTrrnu6TtGyQpNDRUH374oQYNGqS2bdvqzJkzGjBggJo0aaIhQ4boxRdfVKtWrdz1J0yYoKuvvlp33HGHFi9erMDAQD3xxBNat26dnnvuOR0+fFhm5p7OylvHjh2TpHTP8ClevLjq1Kmj1atXeyRTUv6dsjytQoUK6euvv1bv3r31yiuvKCQkRA899JCGDx+eo3b5yrp163Tbbbd5lPXo0UPS+c9EfHy8JKl69eqaNWuWZs+erYMHDyokJER16tTRlClTdOedd+Z1swEAAC4qLsvpt1YAAABcknr06KHly5dr5cqV+d2UAmvYsGF6/fXXtWfPHvn7++d3c4BLzpgxY9S3b19t2bLF62cSZaZ79+6aNm2aO3EDAAAAZIQkCwAAAADgonDbbbepSpUqmT5fJSdIsgAAAMAbTBcGAAAAXMTOnj2b5XI/Pz/5+fnlUWs8pUw7lRV/f/8Ler5NQd7/5ORkjym3MhIQwE+2nPj888/zuwkAAAC4xOTPrwkAAAAAPrd9+3YVKlQoy7/BgwfnW/smTpyYbftSHurtVHbrv//++3Npb3Lu/vvvz7Z9yD8TJkzgLhYAAABki+nCAAAAgIvU6dOntWbNmizrxMTEKCYmJo9a5Gn//v3atm1blnWqVaum8PBwx9tYsWJFlstLlCjh6CH0uWH79u36559/sqxTv379PGoNAAAAACdIsgAAAAAAAAAAADjAdGEAAAAAAAAAAAAO8BRFnX/g5J9//qnw8PALeqgmAAAAAAAAAAD49zMzHT16VDExMfLzy/x+FZIskv7880+VK1cuv5sBAAAAAAAAAAAKkJ07d6ps2bKZLifJIrkfpLlz505FRETkc2sAAAAAAAAAAEB+OnLkiMqVK+fOH2SGJIvkniIsIiKCJAsAAAAAAAAAAJCkbB8xwoPvAQAAAAAAAAAAHCDJAgAAAAAAAAAA4ABJFgAAAAAAAAAAAAdIsgAAAAAAAAAAADhAkgUAAAAAAAAAAMABkiwAAAAAAAAAAAAOkGQBAAAAAAAAAABwgCQLAAAAAAAAAACAAyRZAAAAAAAAAAAAHCDJAgAAAAAAAAAA4ABJFgAAAAAAAAAAAAdIsgAAAAAAAAAAADgQkN8NAICComK/2fndhEvS9qEd8rsJAAAAAAAAgCPcyQIAAAAAAAAAAOAASRYAAAAAAAAAAAAHSLIAAAAAAAAAAAA4QJIFAAAAAAAAAADAAZIsAAAAAAAAAAAADpBkAQAAAAAAAAAAcIAkCwAAAAAAAAAAgAMkWQAAAAAAAAAAABwgyQIAAAAAAAAAAOAASRYAAAAAAAAAAAAHSLIAAAAAAAAAAAA4QJIFAAAAAAAAAADAAZIsAAAAAAAAAAAADpBkAQAAAAAAAAAAcIAkCwAAAAAAAAAAgAMkWQAAAAAAAAAAABzI1yTLDz/8oI4dOyomJkYul0tffPGFx3Iz08CBAxUTE6OQkBA1b95c69at86iTlJSkxx9/XCVKlFDhwoXVqVMn7dq1Kw/3AgAAAAAAAAAAXIryNcly/PhxXXXVVRo9enSGy4cNG6YRI0Zo9OjRSkhIUHR0tNq0aaOjR4+66/Tp00czZ87U1KlTtXjxYh07dkw33nijzp07l1e7AQAAAAAAAAAALkEB+bnx9u3bq3379hkuMzONHDlSzz//vLp06SJJmjhxoqKiojR58mQ98sgjOnz4sMaNG6ePP/5YrVu3liR98sknKleunBYsWKB27drl2b4AAAAAAAAAAIBLS4F9Jsu2bdu0d+9etW3b1l0WFBSk2NhYLV26VJK0cuVKnTlzxqNOTEyMatWq5a6TkaSkJB05csTjDwAAAAAAAAAAICcKbJJl7969kqSoqCiP8qioKPeyvXv3KjAwUEWLFs20TkaGDBmiyMhI91+5cuVyufUAAAAAAAAAAOBiV2CTLClcLpfHazNLV5ZWdnX69++vw4cPu/927tyZK20FAAAAAAAAAACXjgKbZImOjpakdHek7Nu3z313S3R0tE6fPq2DBw9mWicjQUFBioiI8PgDAAAAAAAAAADIiQKbZKlUqZKio6M1f/58d9np06e1aNEiNW7cWJJUr149FSpUyKPOnj17tHbtWncdAAAAAAAAAAAAXwjIz40fO3ZMmzdvdr/etm2bEhMTVaxYMZUvX159+vRRXFycqlSpoipVqiguLk6hoaHq2rWrJCkyMlIPPPCAnn76aRUvXlzFihXTM888oyuvvFKtW7fOr90CAAAAAAAAAACXgHxNsqxYsUItWrRwv37qqackSd26ddOECRPUt29fnTx5Uj169NDBgwfVoEEDzZs3T+Hh4e73vPnmmwoICNDtt9+ukydPqlWrVpowYYL8/f3zfH8AAAAAAAAAAMClw2Vmlt+NyG9HjhxRZGSkDh8+zPNZgEtYxX6z87sJl6TtQzvkdxMAAAAAAAAAD97mDQrsM1kAAAAAAAAAAAAKMpIsAAAAAAAAAAAADpBkAQAAAAAAAAAAcIAkCwAAAAAAAAAAgAMkWQAAAAAAAAAAABwgyQIAAAAAAAAAAOAASRYAAAAAAAAAAAAHSLIAAAAAAAAAAAA4QJIFAAAAAAAAAADAAZIsAAAAAAAAAAAADpBkAQAAAAAAAAAAcIAkCwAAAAAAAAAAgAMkWQAAAAAAAAAAABwgyQIAAAAAAAAAAOAASRYAAAAAAAAAAAAHSLIAAAAAAAAAAAA4QJIFAAAAAAAAAADAAZIsAAAAAAAAAAAADpBkAQAAAAAAAAAAcIAkCwAAAAAAAAAAgAMkWQAAAAAAAAAAABwgyQIAAAAAAAAAAOAASRYAAAAAAAAAAAAHSLIAAAAAAAAAAAA4QJIFAAAAAAAAAADAAZIsAAAAAAAAAAAADpBkAQAAAAAAAAAAcIAkCwAAAAAAAAAAgAMkWQAAAAAAAAAAABwgyQIAAAAAAAAAAOAASRYAAAAAAAAAAAAHSLIAAAAAAAAAAAA4QJIFAAAAAAAAAADAAZIsAAAAAAAAAAAADpBkAQAAAAAAAAAAcIAkCwAAAAAAAAAAgAMkWQAAAAAAAAAAABwgyQIAAAAAAAAAAOAASRYAAAAAAAAAAAAHSLIAAAAAAAAAAAA4QJIFAAAAAAAAAADAAZIsAAAAAAAAAAAADpBkAQAAAAAAAAAAcIAkCwAAAAAAAAAAgAMkWQAAAAAAAAAAABwgyQIAAAAAAAAAAOAASRYAAAAAAAAAAAAHSLIAAAAAAAAAAAA4UKCTLGfPntULL7ygSpUqKSQkRJdddpkGDx6s5ORkdx0z08CBAxUTE6OQkBA1b95c69aty8dWAwAAAAAAAACAS0GBTrK89tprevfddzV69Ght2LBBw4YN0/DhwzVq1Ch3nWHDhmnEiBEaPXq0EhISFB0drTZt2ujo0aP52HIAAAAAAAAAAHCxK9BJlmXLlqlz587q0KGDKlasqFtvvVVt27bVihUrJJ2/i2XkyJF6/vnn1aVLF9WqVUsTJ07UiRMnNHny5HxuPQAAAAAAAAAAuJgV6CTLddddp++++06bNm2SJP3yyy9avHixbrjhBknStm3btHfvXrVt29b9nv/H3n3HR1Ht/x9/bxLSIAk1jQ4iHWmKgJLQRQQUK1hA7ICI6EW4ihQFFBXxgnDFAlwFbICiKAIKiIBICdIUpIoIIi2ht3x+f/Db/WZTN0NCEnk9H499PLJnzsyemc/OZOZ8ds4EBQUpLi5Oy5Yty3C5p0+fVlJSktcLAAAAAAAAAAAgOwLyugGZeeaZZ5SYmKhq1arJ399f58+f1/Dhw9WlSxdJ0r59+yRJUVFRXvNFRUVp165dGS535MiRGjp0aO41HAAAAAAAAAAA/OPl6ztZPvroI33wwQeaNm2a1qxZoylTpujVV1/VlClTvOq5XC6v92aWpiylgQMHKjEx0fPavXt3rrQfAAAAAAAAAAD8c+XrO1n+9a9/acCAAbrrrrskSbVr19auXbs0cuRIdevWTdHR0ZIu3NESExPjmW///v1p7m5JKSgoSEFBQbnbeAAAAAAAAAAA8I+Wr+9kOXHihPz8vJvo7++v5ORkSVLFihUVHR2t+fPne6afOXNGixcvVpMmTS5pWwEAAAAAAAAAwOUlX9/J0qFDBw0fPlzlypVTzZo1lZCQoNGjR6tHjx6SLgwT1rdvX40YMUJVqlRRlSpVNGLECIWGhqpr16553HoAAAAAAAAAAPBPlq+TLGPHjtWgQYPUs2dP7d+/X7GxsXrkkUf0/PPPe+r0799fJ0+eVM+ePXX48GE1atRI8+bNU1hYWB62HAAAAAAAAAAA/NO5zMzyuhF5LSkpSREREUpMTFR4eHheNwdAHqkwYE5eN+GytPOl9nndBAAAAAAAAMCLr3mDfP1MFgAAAAAAAAAAgPyKJAsAAAAAAAAAAIADJFkAAAAAAAAAAAAcIMkCAAAAAAAAAADgAEkWAAAAAAAAAAAAB0iyAAAAAAAAAAAAOECSBQAAAAAAAAAAwAGSLAAAAAAAAAAAAA6QZAEAAAAAAAAAAHCAJAsAAAAAAAAAAIADJFkAAAAAAAAAAAAcIMkCAAAAAAAAAADgAEkWAAAAAAAAAAAAB0iyAAAAAAAAAAAAOECSBQAAAAAAAAAAwAGSLAAAAAAAAAAAAA6QZAEAAAAAAAAAAHCAJAsAAAAAAAAAAIADJFkAAAAAAAAAAAAcIMkCAAAAAAAAAADgAEkWAAAAAAAAAAAAB0iyAAAAAAAAAAAAOECSBQAAAAAAAAAAwAGSLAAAAAAAAAAAAA6QZAEAAAAAAAAAAHCAJAsAAAAAAAAAAIADJFkAAAAAAAAAAAAcIMkCAAAAAAAAAADgAEkWAAAAAAAAAAAAB0iyAAAAAAAAAAAAOECSBQAAAAAAAAAAwAGSLAAAAAAAAAAAAA6QZAEAAAAAAAAAAHCAJAsAAAAAAAAAAIADAXndAAAAgMtFhQFz8roJl6WdL7XP6yYAAAAAAP6huJMFAAAAAAAAAADAAZIsAAAAAAAAAAAADpBkAQAAAAAAAAAAcIAkCwAAAAAAAAAAgAMkWQAAAAAAAAAAABwgyQIAAAAAAAAAAOAASRYAAAAAAAAAAAAHSLIAAAAAAAAAAAA4QJIFAAAAAAAAAADAAZIsAAAAAAAAAAAADpBkAQAAAAAAAAAAcCDAyUwtWrTQzJkzVbRoUa/ypKQk3Xzzzfruu+9yom0AACCXVBgwJ6+bAAAAAAAAUOA5upNl0aJFOnPmTJryU6dOacmSJRfdKAAAAAAAAAAAgPwuW0mWdevWad26dZKkTZs2ed6vW7dOCQkJevfdd1W6dOkcbeCePXt0zz33qESJEgoNDVXdunW1evVqz3Qz05AhQxQbG6uQkBDFx8dr48aNOdoGAAAAAAAAAACA1LI1XFjdunXlcrnkcrnUokWLNNNDQkI0duzYHGvc4cOH1bRpUzVv3lxff/21IiMjtW3bNq9hykaNGqXRo0dr8uTJuvLKK/Xiiy+qdevW2rx5s8LCwnKsLcClxDA+AAAAAAAAAJD/ZSvJsmPHDpmZKlWqpJ9++kmlSpXyTAsMDFRkZKT8/f1zrHEvv/yyypYtq0mTJnnKKlSo4PnbzDRmzBg9++yz6ty5syRpypQpioqK0rRp0/TII4+ku9zTp0/r9OnTnvdJSUk51mYAAAAAAAAAAHB5yNZwYeXLl1eFChWUnJyshg0bqnz58p5XTExMjiZYJGn27Nlq2LChbr/9dkVGRqpevXp6++23PdN37Nihffv2qU2bNp6yoKAgxcXFadmyZRkud+TIkYqIiPC8ypYtm6PtBgAAAAAAAAAA/3zZupMlpS1btmjRokXav3+/kpOTvaY9//zzF90wSdq+fbsmTJigfv366d///rd++ukn9enTR0FBQbrvvvu0b98+SVJUVJTXfFFRUdq1a1eGyx04cKD69evneZ+UlESiBQAAAAAAAAAAZIujJMvbb7+txx57TCVLllR0dLRcLpdnmsvlyrEki/uOmREjRkiS6tWrp40bN2rChAm67777vD4zJTNLU5ZSUFCQgoKCcqSNAAAAAAAAAADg8uQoyfLiiy9q+PDheuaZZ3K6PV5iYmJUo0YNr7Lq1atrxowZkqTo6GhJ0r59+xQTE+Ops3///jR3twAAAAAAAAAAAOSkbD2Txe3w4cO6/fbbc7otaTRt2lSbN2/2KtuyZYvKly8vSapYsaKio6M1f/58z/QzZ85o8eLFatKkSa63DwAAAAAAAAAAXL4cJVluv/12zZs3L6fbksaTTz6pH3/8USNGjNDWrVs1bdo0TZw4Ub169ZJ0YZiwvn37asSIEZo1a5Y2bNig7t27KzQ0VF27ds319gEAAAAAAAAAgMuXo+HCrrjiCg0aNEg//vijateurUKFCnlN79OnT4407uqrr9asWbM0cOBADRs2TBUrVtSYMWN09913e+r0799fJ0+eVM+ePXX48GE1atRI8+bNU1hYWI60AQCQuyoMmJPXTQAAAAAAAAAccZmZZXemihUrZrxAl0vbt2+/qEZdaklJSYqIiFBiYqLCw8PzujkAnc4AAOSgnS+1z+smAAAAAAAKGF/zBo7uZNmxY4fjhgEAAAAAAAAAAPwTOHomCwAAAAAAAAAAwOXO0Z0sPXr0yHT6e++956gxAAAAAAAAAAAABYWjJMvhw4e93p89e1YbNmzQkSNH1KJFixxpGAAAAAAAAAAAQH7mKMkya9asNGXJycnq2bOnKlWqdNGNAgAAAAAAAAAAyO9y7Jksfn5+evLJJ/X666/n1CIBAAAAAAAAAADyrRx98P22bdt07ty5nFwkAAAAAAAAAABAvuRouLB+/fp5vTcz7d27V3PmzFG3bt1ypGEAAAAAAAAAAAD5maMkS0JCgtd7Pz8/lSpVSq+99pp69OiRIw0DAAAAAAAAAADIzxwlWRYuXJjT7QAAAAAAAAAAAChQHCVZ3P7++29t3rxZLpdLV155pUqVKpVT7QIAAAAAAAAAAMjXHD34/vjx4+rRo4diYmLUrFkzXX/99YqNjdUDDzygEydO5HQbAQAAAAAAAAAA8h1HSZZ+/fpp8eLF+uKLL3TkyBEdOXJEn3/+uRYvXqynnnoqp9sIAAAAAAAAAACQ7zgaLmzGjBn69NNPFR8f7ym78cYbFRISojvuuEMTJkzIqfYBAAAAAAAAAADkS47uZDlx4oSioqLSlEdGRjJcGAAAAAAAAAAAuCw4SrI0btxYgwcP1qlTpzxlJ0+e1NChQ9W4ceMcaxwAAAAAAAAAAEB+5Wi4sDFjxqhdu3YqU6aMrrrqKrlcLq1du1ZBQUGaN29eTrcRAAAAAAAAAAAg33GUZKldu7Z+++03ffDBB/r1119lZrrrrrt09913KyQkJKfbCAAAAAAAAAAAkO84SrKMHDlSUVFReuihh7zK33vvPf3999965plncqRxAAAAAAAAAAAA+ZWjZ7K89dZbqlatWprymjVr6r///e9FNwoAAAAAAAAAACC/c5Rk2bdvn2JiYtKUlypVSnv37r3oRgEAAAAAAAAAAOR3jpIsZcuW1dKlS9OUL126VLGxsRfdKAAAAAAAAAAAgPzO0TNZHnzwQfXt21dnz55VixYtJEnffvut+vfvr6eeeipHGwgAAAAAAAAAAJAfOUqy9O/fX4cOHVLPnj115swZSVJwcLCeeeYZDRw4MEcbCAAAAAAAAAAAkB85SrK4XC69/PLLGjRokH755ReFhISoSpUqCgoKyun2AQAAAAAAAAAA5EuOkixuRYoU0dVXX51TbQEAAAAAAAAAACgwHD34HgAAAAAAAAAA4HJHkgUAAAAAAAAAAMABkiwAAAAAAAAAAAAOkGQBAAAAAAAAAABwgCQLAAAAAAAAAACAAyRZAAAAAAAAAAAAHCDJAgAAAAAAAAAA4ABJFgAAAAAAAAAAAAdIsgAAAAAAAAAAADhAkgUAAAAAAAAAAMABkiwAAAAAAAAAAAAOkGQBAAAAAAAAAABwgCQLAAAAAAAAAACAAyRZAAAAAAAAAAAAHCDJAgAAAAAAAAAA4ABJFgAAAAAAAAAAAAdIsgAAAAAAAAAAADhAkgUAAAAAAAAAAMABkiwAAAAAAAAAAAAOkGQBAAAAAAAAAABwgCQLAAAAAAAAAACAAwUqyTJy5Ei5XC717dvXU2ZmGjJkiGJjYxUSEqL4+Hht3Lgx7xoJAAAAAAAAAAAuCwF53QBfrVy5UhMnTlSdOnW8ykeNGqXRo0dr8uTJuvLKK/Xiiy+qdevW2rx5s8LCwvKotf8cFQbMyesmAAAAAAAAAACQLxWIO1mOHTumu+++W2+//baKFSvmKTczjRkzRs8++6w6d+6sWrVqacqUKTpx4oSmTZuWhy0GAAAAAAAAAAD/dAUiydKrVy+1b99erVq18irfsWOH9u3bpzZt2njKgoKCFBcXp2XLlmW4vNOnTyspKcnrBQAAAAAAAAAAkB35friwDz/8UGvWrNHKlSvTTNu3b58kKSoqyqs8KipKu3btynCZI0eO1NChQ3O2oQAAAAAAAAAA4LKSr+9k2b17t5544gl98MEHCg4OzrCey+Xyem9macpSGjhwoBITEz2v3bt351ibAQAAAAAAAADA5SFf38myevVq7d+/Xw0aNPCUnT9/Xt9//73GjRunzZs3S7pwR0tMTIynzv79+9Pc3ZJSUFCQgoKCcq/hAAAAAAAAAADgHy9f38nSsmVLrV+/XmvXrvW8GjZsqLvvvltr165VpUqVFB0drfnz53vmOXPmjBYvXqwmTZrkYcsBAAAAAAAAAMA/Xb6+kyUsLEy1atXyKitcuLBKlCjhKe/bt69GjBihKlWqqEqVKhoxYoRCQ0PVtWvXvGgyAAAAAAAAAAC4TOTrJIsv+vfvr5MnT6pnz546fPiwGjVqpHnz5iksLCyvmwYAAAAAAAAAAP7BXGZmed2IvJaUlKSIiAglJiYqPDw8r5uTr1QYMCevmwAAAIACaOdL7fO6CQAAAADgmK95g3z9TBYAAAAAAAAAAID8iiQLAAAAAAAAAACAAyRZAAAAAAAAAAAAHCDJAgAAAAAAAAAA4ABJFgAAAAAAAAAAAAdIsgAAAAAAAAAAADhAkgUAAAAAAAAAAMABkiwAAAAAAAAAAAAOkGQBAAAAAAAAAABwgCQLAAAAAAAAAACAAyRZAAAAAAAAAAAAHAjI6wYAAAAAAHJGhQFz8roJl6WdL7XP6yYAAAAgj3AnCwAAAAAAAAAAgAMkWQAAAAAAAAAAABwgyQIAAAAAAAAAAOAASRYAAAAAAAAAAAAHSLIAAAAAAAAAAAA4QJIFAAAAAAAAAADAAZIsAAAAAAAAAAAADpBkAQAAAAAAAAAAcIAkCwAAAAAAAAAAgAMkWQAAAAAAAAAAABwgyQIAAAAAAAAAAOAASRYAAAAAAAAAAAAHSLIAAAAAAAAAAAA4QJIFAAAAAAAAAADAAZIsAAAAAAAAAAAADpBkAQAAAAAAAAAAcIAkCwAAAAAAAAAAgAMkWQAAAAAAAAAAABwgyQIAAAAAAAAAAOAASRYAAAAAAAAAAAAHSLIAAAAAAAAAAAA4QJIFAAAAAAAAAADAAZIsAAAAAAAAAAAADpBkAQAAAAAAAAAAcIAkCwAAAAAAAAAAgAMkWQAAAAAAAAAAABwgyQIAAAAAAAAAAOAASRYAAAAAAAAAAAAHSLIAAAAAAAAAAAA4QJIFAAAAAAAAAADAAZIsAAAAAAAAAAAADpBkAQAAAAAAAAAAcIAkCwAAAAAAAAAAgAMkWQAAAAAAAAAAABwgyQIAAAAAAAAAAOAASRYAAAAAAAAAAAAH8nWSZeTIkbr66qsVFhamyMhI3Xzzzdq8ebNXHTPTkCFDFBsbq5CQEMXHx2vjxo151GIAAAAAAAAAAHC5yNdJlsWLF6tXr1768ccfNX/+fJ07d05t2rTR8ePHPXVGjRql0aNHa9y4cVq5cqWio6PVunVrHT16NA9bDgAAAAAAAAAA/ukC8roBmZk7d67X+0mTJikyMlKrV69Ws2bNZGYaM2aMnn32WXXu3FmSNGXKFEVFRWnatGl65JFH8qLZAAAAAAAAAADgMpCv72RJLTExUZJUvHhxSdKOHTu0b98+tWnTxlMnKChIcXFxWrZsWYbLOX36tJKSkrxeAAAAAAAAAAAA2VFgkixmpn79+um6665TrVq1JEn79u2TJEVFRXnVjYqK8kxLz8iRIxUREeF5lS1bNvcaDgAAAAAAAAAA/pEKTJKld+/eWrdunaZPn55mmsvl8npvZmnKUho4cKASExM9r927d+d4ewEAAAAAAAAAwD9bvn4mi9vjjz+u2bNn6/vvv1eZMmU85dHR0ZIu3NESExPjKd+/f3+au1tSCgoKUlBQUO41GAAAAAAAAAAA/OPl6ySLmenxxx/XrFmztGjRIlWsWNFresWKFRUdHa358+erXr16kqQzZ85o8eLFevnll/OiyQAAAACAy0yFAXPyugmXpZ0vtc/rJgAAAOTvJEuvXr00bdo0ff755woLC/M8ZyUiIkIhISFyuVzq27evRowYoSpVqqhKlSoaMWKEQkND1bVr1zxuPQAAAAAAAAAA+CfL10mWCRMmSJLi4+O9yidNmqTu3btLkvr376+TJ0+qZ8+eOnz4sBo1aqR58+YpLCzsErcWAAAAAAAAAABcTvJ1ksXMsqzjcrk0ZMgQDRkyJPcbBAAAAAAAAAAA8P/55XUDAAAAAAAAAAAACiKSLAAAAAAAAAAAAA6QZAEAAAAAAAAAAHCAJAsAAAAAAAAAAIADJFkAAAAAAAAAAAAcCMjrBgAAAAAAAGRXhQFz8roJl6WdL7XP6yYAAJCvcCcLAAAAAAAAAACAAyRZAAAAAAAAAAAAHCDJAgAAAAAAAAAA4ABJFgAAAAAAAAAAAAdIsgAAAAAAAAAAADhAkgUAAAAAAAAAAMABkiwAAAAAAAAAAAAOkGQBAAAAAAAAAABwgCQLAAAAAAAAAACAAyRZAAAAAAAAAAAAHCDJAgAAAAAAAAAA4ABJFgAAAAAAAAAAAAdIsgAAAAAAAAAAADhAkgUAAAAAAAAAAMABkiwAAAAAAAAAAAAOkGQBAAAAAAAAAABwgCQLAAAAAAAAAACAAyRZAAAAAAAAAAAAHCDJAgAAAAAAAAAA4ABJFgAAAAAAAAAAAAdIsgAAAAAAAAAAADhAkgUAAAAAAAAAAMABkiwAAAAAAAAAAAAOkGQBAAAAAAAAAABwgCQLAAAAAAAAAACAAyRZAAAAAAAAAAAAHCDJAgAAAAAAAAAA4ABJFgAAAAAAAAAAAAdIsgAAAAAAAAAAADhAkgUAAAAAAAAAAMABkiwAAAAAAAAAAAAOkGQBAAAAAAAAAABwgCQLAAAAAAAAAACAAyRZAAAAAAAAAAAAHAjI6wYAAAAAAACgYKgwYE5eN+GytPOl9nndBABABriTBQAAAAAAAAAAwAGSLAAAAAAAAAAAAA6QZAEAAAAAAAAAAHCAJAsAAAAAAAAAAIADJFkAAAAAAAAAAAAcCMjrBgAAAAAAAADIWIUBc/K6CcAls/Ol9nndBCBbuJMFAAAAAAAAAADAgX9MkmX8+PGqWLGigoOD1aBBAy1ZsiSvmwQAAAAAAAAAAP7B/hHDhX300Ufq27evxo8fr6ZNm+qtt95Su3bttGnTJpUrVy6vmwcAAAAAAAAA8AHD4116DNF2cf4Rd7KMHj1aDzzwgB588EFVr15dY8aMUdmyZTVhwoS8bhoAAAAAAAAAAPiHKvB3spw5c0arV6/WgAEDvMrbtGmjZcuWpTvP6dOndfr0ac/7xMRESVJSUlLuNbSASj59Iq+bAAAAgAKIc+u8wfk7AAAAsotz9/S5t4uZZVqvwCdZDhw4oPPnzysqKsqrPCoqSvv27Ut3npEjR2ro0KFpysuWLZsrbQQAAAAuNxFj8roFAAAAAHzBuXvmjh49qoiIiAynF/gki5vL5fJ6b2ZpytwGDhyofv36ed4nJyfr0KFDKlGiRIbzXI6SkpJUtmxZ7d69W+Hh4XndHPiAmBUsxKvgIWYFC/EqWIhXwUPMChbiVbAQr4KHmBUsxKvgIWYFC/EqWIhXxsxMR48eVWxsbKb1CnySpWTJkvL3909z18r+/fvT3N3iFhQUpKCgIK+yokWL5lYTC7zw8HB2sAKGmBUsxKvgIWYFC/EqWIhXwUPMChbiVbAQr4KHmBUsxKvgIWYFC/EqWIhX+jK7g8WtwD/4PjAwUA0aNND8+fO9yufPn68mTZrkUasAAAAAAAAAAMA/XYG/k0WS+vXrp3vvvVcNGzZU48aNNXHiRP3+++969NFH87ppAAAAAAAAAADgH+ofkWS58847dfDgQQ0bNkx79+5VrVq19NVXX6l8+fJ53bQCLSgoSIMHD04ztBryL2JWsBCvgoeYFSzEq2AhXgUPMStYiFfBQrwKHmJWsBCvgoeYFSzEq2AhXhfPZWaW140AAAAAAAAAAAAoaAr8M1kAAAAAAAAAAADyAkkWAAAAAAAAAAAAB0iyAAAAAAAAAAAAOECS5RI4ePCgIiMjtXPnzrxuymWje/fucrlccrlc+uyzz7I1L/G69IhXwXIx8ZKIWV5gHytY2McKHvaxgoV4FSwcEwse9rGChX2s4GEfK1iIV8FyscfE1IhhzhoyZIgnPmPGjMnr5nghyXIJjBw5Uh06dFCFChU8Zb///rs6dOigwoULq2TJkurTp4/OnDmT6XIeeeQRVa5cWSEhISpVqpQ6deqkX3/91avOmjVr1Lp1axUtWlQlSpTQww8/rGPHjnnVeeKJJ9SgQQMFBQWpbt26jtZp48aNuvXWW1WhQoVsfbHXr1+vuLg4hYSEqHTp0ho2bJjMzDN95syZat26tUqVKqXw8HA1btxY33zzjdcyzp49q2HDhqly5coKDg7WVVddpblz53rVeeONN7R3715H65ZevJxss9OnT+vxxx9XyZIlVbhwYXXs2FF//PGHZ/rOnTv1wAMPqGLFigoJCVHlypU1ePDgNN+Db7/9Vk2aNFFYWJhiYmL0zDPP6Ny5c9laJ6fxMjO9+uqruvLKKxUUFKSyZctqxIgRnumLFi3yHNxSvlJ+LwtKvCRp+fLlatGihQoXLqyiRYsqPj5eJ0+e9Ex3b7+UrwEDBngtIyfi9fbbb+v6669XsWLFVKxYMbVq1Uo//fRTpvMsWrRInTp1UkxMjAoXLqy6detq6tSpaepNnTpVV111lUJDQxUTE6P7779fBw8e9KozZswYVa1aVSEhISpbtqyefPJJnTp1yjP9YuIlpY3Zzz//rC5duqhs2bIKCQlR9erV9cYbb2S6jEOHDunxxx9X1apVFRoaqnLlyqlPnz5KTEz0qrdlyxZ16tRJJUuWVHh4uJo2baqFCxd61Vm5cqVatmypokWLqlixYmrTpo3Wrl2brXVyEjNJ+vjjj1W3bl2FhoaqfPnyeuWVV7ym7927V127dlXVqlXl5+envn37pllGfHx8uvth+/btPXVych9zEi9J2rZtm2655RbP8f2OO+7QX3/95VVn+PDhatKkiUJDQ1W0aNE0y5g8eXK66+pyubR//36f12nmzJlq2LChihYt6tlf3n///Uzn2blzZ7qfm/p45rZ06VIFBASkOQbldryktDE7ePCgbrjhBsXGxnqO5b1791ZSUlKmy0mvrXfddVe6dU+fPq26devK5XJ57T85FbOUPvzwQ7lcLt18882Z1jt16pS6d++u2rVrKyAgIN36KS+iUr5q1qzpVe/IkSPq1auXYmJiFBwcrOrVq+urr77yTM/p/2NuBw8eVJkyZeRyuXTkyJFMlzNx4kTFx8crPDw83foZ/c92uVxauXKlV93JkyerTp06Cg4OVnR0tHr37u1o3STf4yVJ33zzja699lqFhYWpVKlSuvXWW7Vjxw6vOosXL1aDBg0UHBysSpUq6b///W+atqe3jjn1fyyn4rVv3z7de++9io6OVuHChVW/fn19+umnXnUOHz6se++9VxEREYqIiNC9996bZrnprWvqbZIVX7ZZZrZu3aqwsLA0x+0ffvhBTZs2VYkSJRQSEqJq1arp9ddfz/Zn5/QxUbq47WZmateuXbqdLx07dlS5cuUUHBysmJgY3Xvvvfrzzz+96uREzKSsj0vpyepaTLpwPH/22WdVvnx5BQUFqXLlynrvvffSXV5G+3du7GPZPS5ldS3mNmfOHDVq1EghISEqWbKkOnfunO7ysrN/p8dJvLK6FpOkN998U9WrV1dISIiqVq2q//3vf17TfTnnyY19THL2vySr67Gs+jucnvOk5sv5WmqbN29W8+bNFRUV5fkf9dxzz+ns2bOeOr70d+R2zFLHy+m5Wlb9U770d+RlvKSsr8V86e/w5TowP8TLl2uxrPo7nF4HpierPofUfL0Wy6q/w5e+sYs9JqaW3jEyu/1GvvZ/ZHU9LeVMn7Av/Xzp8eVc3y2j6+mnn35ae/fuVZkyZRy1PVcZctWJEyesaNGitmzZMk/ZuXPnrFatWta8eXNbs2aNzZ8/32JjY613796ZLuutt96yxYsX244dO2z16tXWoUMHK1u2rJ07d87MzPbs2WPFihWzRx991H799Vf76aefrEmTJnbrrbd6Lefxxx+3cePG2b333mtXXXWVo/X66aef7Omnn7bp06dbdHS0vf7661nOk5iYaFFRUXbXXXfZ+vXrbcaMGRYWFmavvvqqp84TTzxhL7/8sv3000+2ZcsWGzhwoBUqVMjWrFnjqdO/f3+LjY21OXPm2LZt22z8+PEWHBzsVcdNks2aNcvn9UovXmbOttmjjz5qpUuXtvnz59uaNWusefPmdtVVV3ni9fXXX1v37t3tm2++sW3bttnnn39ukZGR9tRTT3mW8fPPP1tgYKANHTrUfvvtN1u0aJFVq1bNq44vnMTLvd5Vq1a1zz//3LZv324JCQk2f/58z/SFCxeaJNu8ebPt3bvX83Kvo1nBideyZcssPDzcRo4caRs2bLAtW7bYJ598YqdOnfLUKV++vA0bNsxrXY8ePeqZnlPx6tq1q7355puWkJBgv/zyi91///0WERFhf/zxR4bzDB8+3J577jlbunSpbd261d544w3z8/Oz2bNne+osWbLE/Pz87I033rDt27fbkiVLrGbNmnbzzTd76nzwwQcWFBRkU6dOtR07dtg333xjMTEx1rdv3zSfmd14maUfs3fffdcef/xxW7RokW3bts3ef/99CwkJsbFjx2a4nPXr11vnzp1t9uzZtnXrVvv222+tSpUqaY53V1xxhd144432888/25YtW6xnz54WGhpqe/fuNTOzpKQkK1asmHXv3t1+/fVX27Bhg916660WGRlpZ86c8Xm9nMTsq6++soCAAJswYYJt27bNvvzyS4uOjvZa7x07dlifPn1sypQpVrduXXviiSfSLOfgwYNe38kNGzaYv7+/TZo0KU3dnNjHnMTr2LFjVqlSJbvlllts3bp1tm7dOuvUqZNdffXVdv78eU+9559/3kaPHm39+vWziIiIdNuTcl337t1rbdu2tbi4OJ/XyezCsWvmzJm2adMm27p1q40ZM8b8/f1t7ty5Gc6zY8cOk2QLFizw+vzTp0+nqXvkyBGrVKmStWnTJs0xKDfjZZZ+zA4dOmTjx4+3lStX2s6dO23BggVWtWpV69KlS6bLiouLs4ceesirvUeOHEm3bp8+faxdu3YmyRISErzakxMxc9u5c6eVLl3arr/+euvUqVOmdY8dO2aPPvqoTZw40dq2bZtu/SNHjni1bffu3Va8eHEbPHiwp87p06etYcOGduONN9oPP/xgO3futCVLltjatWvTLC+n/o+5derUybNdDx8+nOmyXn/9dRs5cqSNHDky3fqnT59OE4sHH3zQKlSoYMnJyZ56r732msXGxtrUqVNt69attmHDBq//JdmRnXht27bNgoKCbODAgbZ161ZbvXq1NWvWzOrWreups337dgsNDbUnnnjCNm3aZG+//bYVKlTIPv30U0+dSZMmWXh4eJp1TU9exqtVq1Z29dVX24oVK2zbtm32wgsvmJ+fn9f50Q033GC1atWyZcuW2bJly6xWrVp20003pVmHSZMmea3riRMnfF4ns+xts9TOnDljDRs2tHbt2qU5bq9Zs8amTZtmGzZssB07dtj7779voaGh9tZbbzn67Jw6JrqX5XS7jR492hPn1O0ZPXq0LV++3Hbu3GlLly61xo0bW+PGjXPss92yc1xy8+VazMysY8eO1qhRI5s/f77t2LHDVqxYYUuXLk2zPF/275zax5wcl7K6FjMz+/TTT61YsWI2YcIE27x5s/3666/2ySefpLu87OzfqTmJl1nW12Ljx4+3sLAw+/DDD23btm02ffp0K1KkiNe2yc45T07uY05iltX1mC/9HU7PeVLLzvma27Zt2+y9996ztWvX2s6dOz3X9wMHDvTU8aW/Izdjll68nJ6rZdU/5Ut/R17Gy5drMV/6O7JzHZhX8fL1Wiyr/g4n14HpyU6fg5sv12K+9Hdkp2/MyTExtfRi6KTfyNf+j6yup81ypk84O/18br6c67tldj3tVr58eZ/7Ni8Vkiy5bMaMGVayZEmvsq+++sr8/Pxsz549nrLp06dbUFCQJSYm+rzsn3/+2STZ1q1bzezCP7nIyEivg2RCQoJJst9++y3N/IMHD3a8Q6Xk6xd7/PjxFhER4dVpPXLkSIuNjfW6uE+tRo0aNnToUM/7mJgYGzdunFedTp062d13351m3uweFNOLV0q+brMjR45YoUKF7MMPP/SU7dmzx/z8/DLtxBs1apRVrFjR837gwIHWsGFDrzqzZs2y4OBgS0pKyrId6fE1Xps2bbKAgAD79ddfM6zjPunI7EKjIMTLzKxRo0b23HPPZVonq22XG/Eyu5CYDQsLsylTpmRrvhtvvNHuv/9+z/tXXnnFKlWq5FXnP//5j5UpU8bzvlevXtaiRQuvOv369bPrrrsuzfKdnHRkFTO3nj17WvPmzbO17I8//tgCAwPt7NmzZmb2999/myT7/vvvPXWSkpI8J2dmZitXrjRJ9vvvv3vqrFu3zuvY6oQvMevSpYvddtttXmWvv/66lSlTJt1jYlxcXLpJltRef/11CwsLs2PHjqWZltP7mFtW8frmm2/Mz8/P63/coUOHTJJXZ4HbpEmTMjwpTGn//v1WqFAh+9///pdl3azUq1cv02OA+8Q+ZQIhI3feeac999xzPh2DcjJeZr7H7I033vDa99Pj63fuq6++smrVqtnGjRuz3EYXE7Nz585Z06ZN7Z133rFu3bpl2Wmfkq/1Z82aZS6Xy3bu3OkpmzBhglWqVMmnxGtO7mPjx4+3uLg4+/bbb7PVqefL/2azC53jkZGRNmzYME/ZoUOHLCQkxHOMvBjZjdcnn3xiAQEBXuexs2fPNpfL5dn2/fv3t2rVqnnN98gjj9i1117ree/r8cMsb+NVuHDhNPtB8eLF7Z133jGzC+dhkuzHH3/0TF++fLlJ8jo3y4kOgOxss9T69+9v99xzj8/LuOWWW+yee+5x9Nk5eUx0ut3Wrl1rZcqUsb179/q0jM8//9zrO3wxn51Sdo5Lbr5ci3399dcWERFhBw8ezHRZvu7fObGPOTku+XItdvbsWStdurRnn8uM0+Oxm5N4+XIt1rhxY3v66ae9yp544glr2rRppsvO6Jwnp/Yxp/9Lsroey25/h5sv5zxZyex8LTNPPvlkutdRKaXu70hPTsXMl/NEp+dqqfun0pO6vyM9lypevlyL+XpOlVJm14F5FS9fr8WcdFo7uW7PTp+Dmy/XYr70d6SU1frmxP/r9GKYU/1Gqfs/UvLl/Opi+oSz08/n5su5vpsv19P5McnCcGG57Pvvv1fDhg29ypYvX65atWopNjbWU9a2bVudPn1aq1ev9mm5x48f16RJk1SxYkWVLVtW0oVbogMDA+Xn939hDQkJkXThdv28tnz5csXFxSkoKMhT1rZtW/35558Zjk2YnJyso0ePqnjx4p6y06dPKzg42KteSEhIjqxjevFyYvXq1Tp79qzatGnjKYuNjVWtWrW0bNmyDOdLTEz0aV1PnTrl83fFqS+++EKVKlXSl19+qYoVK6pChQp68MEHdejQoTR169Wrp5iYGLVs2TLNUEwFIV779+/XihUrFBkZqSZNmigqKkpxcXHptvHll19WiRIlVLduXQ0fPtzrdufciteJEyd09uxZr++GL1J/n5o0aaI//vhDX331lcxMf/31lz799FOv26ivu+46rV692nOL8/bt2/XVV19leau1r3yNWeq2+yIxMVHh4eEKCAiQJJUoUULVq1fX//73Px0/flznzp3TW2+9paioKDVo0ECSVLVqVZUsWVLvvvuuzpw5o5MnT+rdd99VzZo1Vb58+eyv4P/nS8wy+r788ccf2rVrl+PPfvfdd3XXXXepcOHCjpfhllPxOn36tFwul9fxPzg4WH5+fhd1LPjf//6n0NBQ3XbbbY6XYWb69ttvtXnzZjVr1izL+h07dlRkZKSaNm2aZmgfSZo0aZK2bdumwYMH+/T5ORkvybeY/fnnn5o5c6bi4uKyXN7UqVNVsmRJ1axZU08//bSOHj3qNf2vv/7SQw89pPfff1+hoaFZLu9iYjZs2DCVKlVKDzzwQLbn9dW7776rVq1aee3/s2fPVuPGjdWrVy9FRUWpVq1aGjFihM6fP3/Rn5dRvDZt2qRhw4bpf//7n9d5XU6aPXu2Dhw4oO7du3vK5s+fr+TkZO3Zs0fVq1dXmTJldMcdd2j37t3ZXn5249WwYUP5+/tr0qRJOn/+vBITE/X++++rTZs2KlSokKQL55Ipz62kC+eSq1at8hqO5dixYypfvrzKlCmjm266SQkJCdluf3pyMl7XXXedPvroIx06dEjJycn68MMPdfr0acXHx0u6sK4RERFq1KiRZ55rr71WERERac4le/furZIlS+rqq6/Wf//7XyUnJ2d73Zxss++++06ffPKJ3nzzTZ8+IyEhQcuWLUtz7MmteEmZHxOzu91OnDihLl26aNy4cYqOjs7ysw8dOqSpU6eqSZMmnu+w089OzclxyZdrsdmzZ6thw4YaNWqUSpcurSuvvFJPP/2013BNUu4dj9OLl5Pjki/XYmvWrNGePXvk5+fnuZZp166dNm7c6LWsnDgeO4mXL9diGZ1L/vTTT17HRLfsnvP4Iqdi5sv1mJP+juyc82TGyfna1q1bNXfu3Ew/O73+jpRyOma+nCc6OVdLr38qPVldM1zKeGXnWiyz/o7UnF67pyen4pWda7HM+jvS4+S6/WL6HDK7FvOlv+NSSy+GOdVvlLr/41Jy0s/ny7m+lP3r6XwlT1M8l4FOnTpZjx49vMoeeugha926dZq6gYGBNm3atEyX9+abb1rhwoVNklWrVs3rVwIbNmywgIAAGzVqlJ0+fdoOHTpknTt3Nkk2YsSINMu61HeytG7d2h566CGvsj179pikDIddGDVqlBUvXtz++usvT1mXLl2sRo0atmXLFjt//rzNmzfPQkJCLDAwMM38ymbmOb14peTrNps6dWq67WndurU9/PDD6c6zdetWCw8Pt7fffttT5v7FwbRp0+zcuXP2xx9/2HXXXWeSsvyuZMTXeD3yyCMWFBRkjRo1su+//94WLlxodevW9fqVwq+//moTJ0601atX27Jly+yxxx4zl8tlixcv9tQpCPFy/zK0ePHi9t5779maNWusb9++FhgYaFu2bPHUGz16tC1atMh+/vlne/vtt61kyZL2wAMPeKbnRrzMLvw6pHLlynby5Emf5/nkk08sMDDQNmzYkKa8SJEiFhAQYJKsY8eOaX418J///McKFSrkqfPYY4+l+xnZjZdZ1jEzuzBUQKFChWzevHk+L/fAgQNWrlw5e/bZZ73K//jjD2vQoIG5XC7z9/e32NjYNL9+2bBhg1WuXNn8/PzMz8/PqlWrZrt27fL5s9PjS8zeeustCw0NtQULFtj58+dt8+bNVq1atQyPib7cVbBixQqTZCtWrEh3ek7vY2a+xWv//v0WHh5uTzzxhB0/ftyOHTtmvXr1MknpHhN9/WVzjRo1Mvx+ZuXIkSNWuHBhCwgIsKCgIHv33Xczrf/333/b6NGjbcWKFbZy5UobNGiQ+fn52fvvv++ps2XLFouMjLTNmzebWdbHoJyOl1nmMbvrrrssJCTEJFmHDh2yPKZMnDjR5s+fb+vXr7fp06dbhQoVrFWrVp7pycnJdsMNN9gLL7xgZr79wsxpzH744QcrXbq0/f3332bm+50pbr7U//PPP83f398++ugjr/KqVataUFCQ9ejRw1atWmXTp0+34sWLp/ur05zYx06dOmV16tTxfLey+ytKX+u3a9fO2rVr51U2cuRIK1SokFWtWtXmzp1ry5cvt5YtW1rVqlXTHRovI07jtXjxYouMjDR/f3+TZI0bN/ZajypVqtjw4cO95lm6dKlJsj///NPMLvxPf//9923t2rX2/fff26233mohISFe/8/d8jJeR44csbZt25okCwgIsPDwcK/j6PDhw61KlSpp5qtSpYrXef0LL7xgy5Yts4SEBHv11VctNDTUs0/6KjvbzO3AgQNWtmxZzzlfZsft0qVLW2BgoPn5+XndOZXdz87JY6KT7fbwww97nfdl1J7+/ftbaGioSbJrr73WDhw4cNGfnVp2jktuvlyLtW3b1oKCgqx9+/a2YsUKmzNnjpUvX97rzujs7N85sY85OS75ci02ffp0k2TlypWzTz/91FatWmVdunSxEiVKeO7kudjjsZuTePlyLTZw4ECLjo62VatWWXJysq1cudIiIyO9jolmvp/z5NQ+5iRmvlyPZae/I7vnPJnJ6nwttcaNG1tQUJDnPDflr7ZTS6+/wyz3YubLuX12ztUy659KLb3+Dre8iJcv12K+9Hekltl1YF7Fy9drsaz6O1Jzct3u5mufg5sv12JmvvV3uF2KO1nSi2FO9Btl1P/hltt3smSnny+lrM71s3M9nR/vZCHJksvatGljPXv29Cp76KGHrE2bNmnqFipUyKZPn57p8o4cOWJbtmyxxYsXW4cOHax+/fpeB++pU6daVFSU+fv7W2BgoD399NMWFRVlL7/8cppl5UWSJXVn2h9//GGSbPny5WnqT5s2zUJDQ9MMJbN//37r1KmT+fn5mb+/v1155ZXWs2dPCwkJSbOM7B4U04tXShebZGnVqpU98sgjacr37NljV1xxRbr/wF577TULDw83f39/Cw0N9Yy1nroTyFe+xuuhhx7yjD/qtnr16jTDVKR20003WYcOHTzvC0K83B00KcfLNTOrXbu2DRgwIMP5Pv30U5PkdfGc0/F6+eWXrVixYvbzzz/7PM/ChQutcOHCaW5R3rhxo8XExNioUaPs559/trlz51rt2rW9/ukvXLjQoqKi7O2337Z169bZzJkzrWzZsmk6RcycnXRkFbMNGzZYqVKlstXZkJiYaI0aNbIbbrjB6wQqOTnZOnbsaO3atbMffvjBVq9ebY899piVLl3ac+F54sQJu+aaa+y+++6zn376yZYvX2633nqr1axZM9vjo7v5GrPk5GTr37+/BQcHm7+/vxUrVsyGDBmS4UWBL0mWhx9+2GrVqpXh9Jzex7ITr2+++cYqVarkSXjdc889Vr9+/XRPqH05KVy2bJlJslWrVmX52ek5f/68/fbbb55OroiICFu4cGG2ltG7d2+rXbu2mV0YGqBhw4Y2YcIEz/SsjkE5HS+zzGO2d+9e++WXX+yzzz5zlOxYtWqVSbLVq1eb2YXhHJo0aeIZlzqrJIvTmCUlJVmFChXsq6++8pTlRpJlxIgRVqJEiTQdQFWqVPEaY9zswrE+Ojo6zTJyYh978skn7c477/S8z40ky+7du83Pz8/rWSZmFzr2Jdk333zjKdu/f3+Ww52m5DRee/futSpVqti//vUvW7NmjS1evNji4uKsZcuWnmE7UicYzC50+ErK8Dke58+ft6uuusoef/zxNNPyMl69e/e2a665xhYsWGBr1661IUOGWEREhK1bt87MLsTiyiuvTDPfFVdcYSNHjsxwua+++qqFh4f7vE7pyWybud1yyy32zDPPeN5ndtzevn27rVu3ziZOnGjFixfPtAMhJ+NllvX/Mbesttvnn39uV1xxhdfY9Bm15++//7bNmzfbvHnzrGnTpnbjjTdmOjSyk5hl57jk5su1WOvWrS04ONjr+VszZswwl8tlJ06cyPb+nRP7mJPjki/XYlOnTjVJXs8IOnXqlJUsWdL++9//mtnFH4/dnMTLl2uxEydO2P33328BAQGeHxP179/fJHl12vt6zpNT+5iTmPl6PeZrf8fFnvOklNX5Wmq///67bdy40aZNm2alS5dOty/GLOP+DrPci1lWx8Tsnqtl1T/llll/h1nexCu712Juqfs7UsrqOjAv45WdazG39Po73Jxct7tlp88hMymvxcx86+9I6VIkWTKK4cX0G2XU/5FSbidZstPP55bVuX52r6dJslyGunbtmuahXYMGDbI6dep4lbnHQ/zuu+98Xvbp06ctNDQ03QuVffv22dGjR+3YsWPm5+dnH3/8cZo6lzrJcu+991rHjh29ytasWWOSbPv27V7lH374oYWEhNiXX36Z4fJOnjxpf/zxh+efY40aNdLUye5BMb14peTrNnOP13vo0CGv8jp16tjzzz/vVbZnzx678sor7d57783wVy7Jycm2Z88eO3HihGeM7p9++inrFUqHr/F6/vnnLSAgwKvsxIkTJinTXyq8+OKLacZLN8vf8dq+fbtJSvMriDvuuMO6du2a4XzuC9OU46Wb5Vy8XnnlFYuIiLCVK1f6PM+iRYusSJEiXheMbvfcc0+acWeXLFni9Wu36667Ls3Yzu4H2qX+fjo56cgsZhs3brTIyEj797//7fPykpKSrHHjxtayZcs0J/QLFixIM/asmXcH1TvvvJNmbGf3sTWrpHd6nMTM/euV06dP21dffZXmwtgtqyTL8ePHLTw83MaMGZNhnZzcx5zEy+xC55O7cyIqKspGjRqVpo4vJ4U9evRI9yF5Tj3wwAPp/gAiMx988IEFBwebmdnhw4dNkvn7+3teLpfLU/btt996zZsb8TLL+rjolnrf90VycrLXGPcpT6zdL/f63nfffWnmdxoz93jrqbet+yLRl+cnZdXJn5ycbFdccUW6D9xs1qyZtWzZ0qvMva+mTsjkxD521VVXeW1XPz8/z/qnPodIjy+dgMOGDbNSpUqluTB77733TJLt3r3bqzwyMtImTpzo0zo5jddzzz1nDRo08CrbvXu3Vwfw9ddfb3369PGqM3PmTAsICMj0WQcPPvig3XDDDWnK8ypeW7duNUlp7jZt2bKlpwP43XffTfc4GBERYe+9916GbXQnnfbt2+fzeqUno22Wsh0pY5xyvTO7M/CFF15IN3nky2fn5jExq+32xBNPeL7DKY93fn5+mT5s2P0dzuiufV8+Oz3ZOS65+XItdt9991nlypW96rjPZbds2ZLt/Tsn9jEnxyVfrsW+++47k2RLlizxqnPNNdd4zm0u9njs5iRe2bkWO3PmjO3evdvOnTtn48ePt7CwsEzvnsjonCen9jEnMcvu9Zgv/R1uTs553Hw5X8uM+zoqZYLNzLf+jpRyKmZZHRMv5vw6o/4pX/o7UrrU8fL1Wswto/4OX64D80O8fLkWc8uov8PpdaBbdvocMpPyWszMt/6OlC5FkiWzGDrpN8qs/yOl3E6yuPnSz+eW1bl+dq+n82OShWey5LJ69epp06ZNXmWNGzfWhg0btHfvXk/ZvHnzFBQU5HlOgK/MTKdPn05THhUVpSJFiuijjz5ScHCwWrdu7WwFclDjxo31/fffe43pOG/ePMXGxqpChQqesunTp6t79+6aNm1apmMnBgcHq3Tp0jp37pxmzJihTp06XXQb04uXEw0aNFChQoU0f/58T9nevXu1YcMGNWnSxFO2Z88excfHq379+po0aVKG4/y6XC7FxsYqJCRE06dPV9myZVW/fv2LbmdmmjZtqnPnzmnbtm2esi1btkhSps+qSEhIUExMTJry/ByvChUqKDY2Vps3b/Yq37JlS5brKinN+uZEvF555RW98MILmjt3rs/PnVm0aJHat2+vl156SQ8//HCa6SdOnEjzHfP395d04ViSWR27kJTP1jqkJ6OYbdy4Uc2bN1e3bt00fPhwn5aVlJSkNm3aKDAwULNnz04zJuiJEyckKc36+Pn5ecY+d6+vy+Xymu5yubI9PrqTmEkXtm/p0qUVGBio6dOnq3HjxoqMjMzWZ0vSxx9/rNOnT+uee+7J9rwZycl4uZUsWVJFixbVd999p/3796tjx47ZbtexY8f08ccf5+hY8Bn9P81MyuNdeHi41q9fr7Vr13pejz76qKpWraq1a9d6PVdByp14Sb4fF937c3bWeePGjTp79qxnnf/zn//o559/9qzvV199JUn66KOP0nwvLiZm1apVS7NtO3bsqObNm2vt2rWZjv3tq8WLF2vr1q3ptq9p06baunWr1zFhy5YtiomJUWBg4EV9bnrxmjFjhtd2feeddyRJS5YsUa9evS7q86QLsZ80aZLuu+++NM+JaNq0qSR5/T88dOiQDhw44PNzqpzG68SJE57/SW7u9+5t37hxY69zK+nCuWTDhg3TrEvK9V27dm265ybZlVPxyuj/k7+/v9e6JiYmesYrl6QVK1YoMTHR61wytYSEBAUHB6to0aLZXj83X7bZ8uXLvWI8bNgwhYWFae3atbrlllsyXXZmx52cjJfk+zExq+02YMAArVu3zmudJen111/XpEmTMlyuL8daJzFzclzy5VqsadOm+vPPP3Xs2DGv5fr5+alMmTK5fjxOL15Ojku+XIs1aNBAQUFBXss9e/asdu7c6VluTh2PncQrO9dihQoVUpkyZeTv768PP/xQN910U6bPj3FyzpORnIpZdq/HstPf4eScx+1iz9fMTGfPnvW6jvK1vyP1cnIiZpkdE3Pi/Dp1O33t70i9DOnSxSu712Lp9Xc4vQ7MSm7EKzvXYun1d1zMdaBbTvU5pI6FL/0dl1pmMcxuv1FW/R95ITv9fFmd62f3ejpfupQZncvRunXrLCAgwOtXNOfOnbNatWpZy5Ytbc2aNbZgwQIrU6aM9e7d21Pnjz/+sKpVq3puU9y2bZuNGDHCVq1aZbt27bJly5ZZp06d0ozfOXbsWFu9erVt3rzZxo0bZyEhIfbGG294tcl92+kjjzxiV155pSUkJFhCQkK2xto+ffq0Z76YmBh7+umnLSEhwX777TevtrRo0cLz/siRIxYVFWVdunSx9evX28yZMy08PNxeffVVT51p06ZZQECAvfnmm7Z3717PK+Ut6z/++KPNmDHDtm3bZt9//721aNHCKlasmO4vNpXNzHN68TLLepuljpeZ2aOPPmplypSxBQsW2Jo1a6xFixZ21VVXeX7F4r5ltkWLFvbHH394rW9Ko0aNsnXr1tmGDRts2LBhVqhQoWxn053E6/z581a/fn1r1qyZrVmzxlatWmWNGjXyep7Q66+/brNmzbItW7bYhg0bbMCAASbJZsyY4alTUOL1+uuvW3h4uH3yySf222+/2XPPPWfBwcGeX+QtW7bMRo8ebQkJCbZ9+3b76KOPLDY2Ns0vAnMiXi+//LIFBgbap59+6vW9SDlERep4LVy40EJDQ23gwIFe87jHlDa78GuGgIAAGz9+vG3bts1++OEHa9iwoV1zzTWeOoMHD7awsDCbPn26bd++3ebNm2eVK1e2O+64I007sxsvs/Rj5r7V+O677/Zq+/79+z11UscsKSnJGjVqZLVr17atW7d6zefex/7++28rUaKEde7c2dauXWubN2+2p59+2goVKmRr1641M7NffvnFgoKC7LHHHrNNmzbZhg0b7J577rGIiIhs/XrKScz+/vtvmzBhgv3yyy+WkJBgffr0seDg4DS3p7u/vw0aNLCuXbtaQkKCbdy4MU0brrvuOq8hLdKTE/uYk3iZXfhV4/Lly23r1q32/vvvW/Hixa1fv35en7dr1y5LSEiwoUOHWpEiRTzrnnI7ml24Ayk4ODjNvu+rESNG2Lx582zbtm32yy+/2GuvvWYBAQFeY0SnjtfkyZNt6tSptmnTJvv111/tlVdesUKFCtno0aMz/JzMfh2UG/EySz9mc+bMsffee8/Wr19vO3bssDlz5ljNmjWtadOmnjqpY7Z161YbOnSorVy50jNPtWrVrF69eml+jemW2XBhFxuz1NK7MyV1zMwu/NIuISHBOnToYPHx8Z7vVGr33HOPNWrUKN3P+v33361IkSLWu3dv27x5s3355ZcWGRlpL774Ypq6OfV/LKX07kxJbx/bu3evJSQk2Ntvv22S7Pvvv7eEhASv/wNmF+7yk2SbNm1K9/M6depkNWvWtKVLl9r69evtpptusho1amR6p0hWfInXt99+ay6Xy4YOHWpbtmyx1atXW9u2ba18+fKe4Ru3b99uoaGh9uSTT9qmTZvs3XfftUKFCnkNezZkyBCbO3eubdu2zRISEjxD6aQ39EdexevMmTN2xRVX2PXXX28rVqywrVu32quvvmoul8vmzJnjme+GG26wOnXq2PLly2358uVWu3Ztu+mmmzzTZ8+ebRMnTrT169fb1q1b7e2337bw8PA0d/tkxZdtlt7+lVJ6v5gcN26czZ4927Zs2WJbtmyx9957z8LDw73GD8/NeJmlHzNftlt6+1hW7VmxYoWNHTvWEhISbOfOnfbdd9/ZddddZ5UrV7ZTp075/Nm+8OW45ORa7OjRo1amTBm77bbbbOPGjbZ48WKrUqWKPfjggxm2JSeHC8toH8vquOTkWszswh1KpUuXtm+++cZ+/fVXe+CBBywyMjLDfdzpcGFO4uXLtdjmzZvt/fffty1bttiKFSvszjvvtOLFi9uOHTs8dXw553HLqX3MzFnMsroec2+nzPo7fDnnyY7MztdSx+yDDz6wjz76yDZt2mTbtm2zjz/+2EqXLm133323p44v/R25GbPM/o9ldq7mpH/Kl/6OvIyXL9divvR3+HId6JZX8TLL+lrMl/4OX64DfeFLn4OTazFf+jt86Rtzc3JMTC2jGGbVb+Sk/8PMt+vpnOgT9qWfz8m5fmoMF4Y0rr32Ws+4rm67du2y9u3bW0hIiBUvXtx69+7tOfk2+7+OCve4m3v27LF27dpZZGSkFSpUyMqUKWNdu3ZN82yMe++914oXL26BgYFWp04d+9///pemPXFxcSYpzSvlyZgkmzRpUobr5G5f6lfK2+UHDx5s5cuX95pv3bp1dv3111tQUJBFR0fbkCFDvMYozqht3bp189RZtGiRVa9e3YKCgqxEiRJ277332p49e9Jtp5ODYnrxymqbpY6X2YXb5nr37m3Fixe3kJAQu+mmm+z333/3TJ80aVK6y0yd+2zevLlFRERYcHCwNWrUyGsM5JTrmRvx2rNnj3Xu3NmKFCliUVFR1r17d6/OmpdfftkqV65swcHBVqxYMbvuuuu8OgfMCk68zC48pLFMmTIWGhpqjRs39ho+YPXq1daoUSNPLKpWrWqDBw+248ePey0jJ+JVvnz5dNs/ePBgT53U8erWrVuWMTa78IC5GjVqWEhIiMXExNjdd99tf/zxh2f62bNnbciQIZ64li1b1nr27JkjSTG31DEbPHhwum1PuX6pY+a+yM3qWLZy5Upr06aNFS9e3MLCwuzaa69NExP3mOkRERFWrFgxa9GiRZrnROVGzP7++2+79tprrXDhwhYaGmotW7ZMcyu2+7Mz2zZmFy6ypcyH8nMv62L3MSfxMjN75plnLCoqygoVKmRVqlSx1157Lc0Y9Rl9j1Pvq40bN850KL+s4vXss8/aFVdc4Tl2NW7c2DMEVsr1TLlOkydPturVq1toaKiFhYVZgwYN0gxpkVpGJ4W5GS+ztDH77rvvrHHjxp5jU5UqVeyZZ57x2q9Tx+z333+3Zs2aec4pKleubH369EnTYZ9SZkmWi41Zaul16qX3fyyjfTOlI0eOWEhISKbDYS1btswaNWpkQUFBVqlSJRs+fHi6yaac+j+WUnqdeuntYxntm6m3a5cuXaxJkyYZfl5iYqL16NHDihYtasWLF7dbbrnF6/zFLPfiNX36dKtXr54VLlzYSpUqZR07drRffvnFq86iRYusXr16FhgYaBUqVPAat9nMrG/fvlauXDkLDAy0UqVKWZs2bTIcqikv47Vlyxbr3LmzRUZGWmhoaLrn7QcPHrS7777bwsLCLCwszO6++26v5X799ddWt25dK1KkiIWGhlqtWrVszJgxdvbs2TTrmVm8fNlm6cUrpfSSLP/5z3+sZs2aFhoaauHh4VavXj0bP36811AguR0vs7Qx82W7ZXSumFl71q1bZ82bN7fixYtbUFCQVahQwR599FGv86yciplZ1sclJ9diZhd+gNKqVSsLCQmxMmXKWL9+/TJ9Tl1OJlnM0t/HsjouObkWM7uQ8HzqqacsMjLSwsLCrFWrVmmG8UspoyRLbsUrq2uxTZs2Wd26dS0kJMTCw8OtU6dOafoHfDnnSbkeObGPmTmLmVnm12NmWfd3+HLO417XrGKW1fla6ph9+OGHVr9+fStSpIgVLlzYatSoYSNGjPAa0seX/o7cjllG/8cyO1dz0j/lS39HXsbLl2sxX/o7fLkOTLkeeREvs6yvxXzp7/DlOtC9npnFy5c+B6fXYln1d/jSN5ZyPS42yWKWfgyz6jdy2v/hy/V0TvQJ+9LP5/RcP/UySLLAy5w5c6x69erZGlswL+3YscMCAgJsy5Yted2Ui+bkoEi88g7xKlicnnQQs7zDPlawsI8VPOxjBQvxKlg4JhY87GMFC/tYwcM+VrAQr4Ilp5IsxDB35MckC89kuQRuvPFGPfLII9qzZ09eN8Unc+fO1cMPP6wqVarkdVMce/TRR1WkSBFH8xKvS494FSwXEy+JmOUF9rGChX2s4GEfK1iIV8HCMbHgYR8rWNjHCh72sYKFeBUsF3tMTI0Y5qwRI0aoSJEi+v333/O6KWm4zPLo6T9ALtq/f7+SkpIkXXhIV+HChfO4RcgM8SpYiFfBQ8wKFuJV8BCzgoV4FSzEq+AhZgUL8Sp4iFnBQrwKFuKVvx06dEiHDh2SJJUqVUoRERF53KL/Q5IFAAAAAAAAAADAAYYLAwAAAAAAAAAAcIAkCwAAAAAAAAAAgAMkWQAAAAAAAAAAABwgyQIAAAAAAAAAAOAASRYAAAAAAAAAAAAHSLIAAAAAKHAmT56sokWLZjh9586dcrlcWrt27SVrU2a6d++um2++OVvzDBkyRHXr1s3x5QIAAADIOQF53QAAAAAA+KfYuXOnKlasqISEhCwTJDnhjTfekJnl+ucAAAAASB9JFgAAAAD51pkzZxQYGJjXzci3IiIi8roJAAAAwGWN4cIAAAAAOPLFF1+oaNGiSk5OliStXbtWLpdL//rXvzx1HnnkEXXp0sXzfsaMGapZs6aCgoJUoUIFvfbaa17LrFChgl588UV1795dEREReuihhyRdGB6sXLlyCg0N1S233KKDBw9mu72bNm3SjTfeqCJFiigqKkr33nuvDhw44JkeHx+vPn36qH///ipevLiio6M1ZMgQr2X8+uuvuu666xQcHKwaNWpowYIFcrlc+uyzzyRJFStWlCTVq1dPLpdL8fHxXvO/+uqriomJUYkSJdSrVy+dPXs2y3a/9dZbKlu2rEJDQ3X77bfryJEjnmmphwvzZR0AAAAA5BySLAAAAAAcadasmY4ePaqEhARJ0uLFi1WyZEktXrzYU2fRokWKi4uTJK1evVp33HGH7rrrLq1fv15DhgzRoEGDNHnyZK/lvvLKK6pVq5ZWr16tQYMGacWKFerRo4d69uyptWvXqnnz5nrxxRez1da9e/cqLi5OdevW1apVqzR37lz99ddfuuOOO7zqTZkyRYULF9aKFSs0atQoDRs2TPPnz5ckJScn6+abb1ZoaKhWrFihiRMn6tlnn/Wa/6effpIkLViwQHv37tXMmTM90xYuXKht27Zp4cKFmjJliiZPnpxm3VPbunWrPv74Y33xxReaO3eu1q5dq169emU6T2brAAAAACBnMVwYAAAAAEciIiJUt25dLVq0SA0aNNCiRYv05JNPaujQoTp69KiOHz+uLVu2eO7mGD16tFq2bKlBgwZJkq688kpt2rRJr7zyirp37+5ZbosWLfT000973j///PNq27atBgwY4Jlv2bJlmjt3rs9tnTBhgurXr68RI0Z4yt577z2VLVtWW7Zs0ZVXXilJqlOnjgYPHixJqlKlisaNG6dvv/1WrVu31rx587Rt2zYtWrRI0dHRkqThw4erdevWnmWWKlVKklSiRAlPHbdixYpp3Lhx8vf3V7Vq1dS+fXt9++23nrt10nPq1ClNmTJFZcqUkSSNHTtW7du312uvvZZm+W6ZrQMAAACAnMWdLAAAAAAci4+P16JFi2RmWrJkiTp16qRatWrphx9+0MKFCxUVFaVq1apJkn755Rc1bdrUa/6mTZvqt99+0/nz5z1lDRs29Krzyy+/qHHjxl5lqd9nZfXq1Vq4cKGKFCniebnbtW3bNk+9OnXqeM0XExOj/fv3S5I2b96ssmXLeiU3rrnmGp/bULNmTfn7+6e77IyUK1fOk2CRLqx3cnKyNm/enOE8ma0DAAAAgJzFnSwAAAAAHIuPj9e7776rn3/+WX5+fqpRo4bi4uK0ePFiHT582DNUmCSZmVwul9f8ZpZmmYULF86yTnYlJyerQ4cOevnll9NMi4mJ8fxdqFAhr2kul8vzzJn02p8dmS3bV+7Pz6wdOfE5AAAAAHxDkgUAAACAY+7nsowZM0ZxcXFyuVyKi4vTyJEjdfjwYT3xxBOeujVq1NAPP/zgNf+yZct05ZVXet3hkVqNGjX0448/epWlfp+V+vXra8aMGapQoYICApxdBlWrVk2///67/vrrL0VFRUmSVq5c6VUnMDBQkrzuzLkYv//+u/7880/FxsZKkpYvXy4/Pz/P8GYAAAAA8hbDhQEAAABwzP1clg8++MDz7JVmzZppzZo1Xs9jkaSnnnpK3377rV544QVt2bJFU6ZM0bhx47yev5KePn36aO7cuRo1apS2bNmicePGZet5LJLUq1cvHTp0SF26dNFPP/2k7du3a968eerRo4fPCZHWrVurcuXK6tatm9atW6elS5d6HnzvvrMkMjJSISEhmjt3rv766y8lJiZmq52pBQcHq1u3bvr555+1ZMkS9enTR3fccUeGz2MBAAAAcGmRZAEAAABwUZo3b67z5897EirFihVTjRo1VKpUKVWvXt1Tr379+vr444/14YcfqlatWnr++ec1bNgwr4fep+faa6/VO++8o7Fjx6pu3bqaN2+ennvuuWy1MTY2VkuXLtX58+fVtm1b1apVS0888YQiIiLk5+fbZZG/v78+++wzHTt2TFdffbUefPBBTzuCg4MlSQEBAfrPf/6jt956S7GxserUqVO22pnaFVdcoc6dO+vGG29UmzZtVKtWLY0fP/6ilgkAAAAg57gsJwY4BgAAAIDL0NKlS3Xddddp69atqly5cl43BwAAAMAlRpIFAAAAAHw0a9YsFSlSRFWqVNHWrVv1xBNPqFixYmmeNQMAAADg8sCD7wEAAADAR0ePHlX//v21e/dulSxZUq1atdJrr72W180CAAAAkEe4kwUAAAAAAAAAAMABHnwPAAAAAAAAAADgAEkWAAAAONK5c2d16tRJkvTVV19pyJAhuf6ZJ06c0JAhQ7Ro0aJ0p3/00UeqWbOmQkJC5HK5tHbtWg0ZMkQul8urXnx8vOLj43O9vf369dNVV10ll8vl02vRokVatGiRXC6XPv3001xvX2pJSUkaPny4GjZsqPDwcAUFBalChQrq0aOH1qxZk+3l7dy5Uy6XS5MnT/aUTZ48WS6XSzt37sy5hqeQkJCguLg4RUREyOVyacyYMZnWd38/snq5vy/x8fGqVatWrrQ9Pa+++qpcLpdWrFjhVZ6cnKzixYvL5XJp8+bNXtPOnDmj0NBQde7cWVL627x79+6qUKGCT21wuVxZ7t9//vmnhgwZorVr1/q0zPRMmzYty3jh/5w/f16jR4/WDTfcoDJlyig0NFTVq1fXgAEDdOTIkXTnGTt2rKpVq6agoCBVrFhRQ4cO1dmzZy9twwEAAP5heCYLAAAAsu348eOaO3eu/vvf/0q6kGR58803cz3RcuLECQ0dOlSS0iRJ/v77b91777264YYbNH78eAUFBenKK6/Ugw8+qBtuuCFX25WRmTNnqkePHnrrrbe8yl944QUtXLhQ3333nVd5jRo1HCUzcsK2bdvUpk0b7d+/X48++qiGDh2qIkWKaOfOnfr444/VoEEDHTlyRBEREXnSPl/16NFDx48f14cffqhixYplmUhI/f3Yu3evOnfurMcff1xdu3b1lIeHh+dWkzPVvHlzSdLChQvVqFEjT/nPP/+sw4cPq3Dhwlq4cKGqVq3qmbZixQqdPHnSM2/79u21fPlyxcTE5Fo7//zzTw0dOlQVKlRQ3bp1HS1j2rRp2rBhg/r27ZujbfunOnnypIYMGaIuXbrowQcfVMmSJbVmzRq9+OKL+uKLL7Rq1SqFhIR46g8fPlyDBg3SgAED1KZNG61cuVLPPfec9uzZo4kTJ+bhmgAAABRsJFkAAACQbV999ZXOnTunDh065HVTPLZs2aKzZ8/qnnvuUVxcnKc8NDRUZcqUueTtWblypXbt2qVbb71VNWvW9JpWqlQp+fn56dprr73k7UrP+fPndcstt+jAgQNavny5150acXFx6tatm77++msVKlQoD1vpmw0bNuihhx5Su3btfKpfpkwZr++H+26PcuXK5Yv41KtXT0WLFtWiRYs0YMAAT/miRYsUGxuruLg4LVy4UI8++qjXNOn/EjSlSpVSqVKlLmm7kftCQkK0Y8cOlShRwlMWHx+vcuXK6fbbb9eMGTN0zz33SJIOHjyoF198UQ899JBGjBjhqXv27Fk999xz6tu3r2rUqJEn6wEAAFDQMVwYAAAAsm3GjBlq0aKFihUrpu7du+vNN9+UJK/hldyd1Wam8ePHq27dugoJCVGxYsV02223afv27Z7lffjhh3K5XBo3bpzX5wwePFj+/v6aP3++du7c6ekoHjp0qOdzunfvru7du+u6666TJN15551ewzulN1xYes6cOaMXX3zRM5ROqVKldP/99+vvv//2qvfdd98pPj5eJUqUUEhIiMqVK6dbb71VJ06cSLONqlatmibB4quzZ8/q2WefVWxsrMLDw9WqVas0w0JJ0oIFC9SyZUuFh4crNDRUTZs21bfffputz/rss8+0fv16DRw4MMOhsNq1a6fQ0FBJ0tatW3X//ferSpUqCg0NVenSpdWhQwetX78++yvqow0bNqhTp04qVqyYgoODVbduXU2ZMsUz3T0k1rlz5zRhwgTP9yO3rFy5Utdff71CQ0NVqVIlvfTSS0pOTvaqk5SUpKeffloVK1ZUYGCgSpcurb59++r48eM+f46fn5+aNWumpUuX6ty5c57yRYsWKT4+XnFxcWmGz1u0aJFKlSrl+e75OkRbUlKSHnroIZUoUUJFihTRDTfcoC1btmTZxkWLFunqq6+WJN1///2ebT9kyBAdOHBAZcuWVZMmTbyGpdq0aZMKFy6se++9V9KFDv85c+Zo165dXseRi2VmioqKUq9evTxl58+fV7FixeTn56e//vrLUz569GgFBAR4htrq3r27ihQpoo0bN6ply5YqXLiwSpUqpd69e6fZ310ul3r37q1JkyapatWqCgkJUcOGDfXjjz/KzPTKK6+oYsWKKlKkiFq0aKGtW7de9Lr5+/t7JVjcrrnmGknS7t27PWVz587VqVOndP/993vVvf/++2Vm+uyzzy66PQAAAJcrkiwAAADIllOnTmnOnDm69dZbJUmDBg3SbbfdJklavny55+UemuiRRx5R37591apVK3322WcaP368Nm7cqCZNmng6OO+66y49+uijeuqpp7Rq1SpJF5IZL774ov7973+rdevWiomJ0dy5cyVJDzzwgOdzBg0apEGDBnkSPSNGjNDy5cs1fvx4n9cpOTlZnTp10ksvvaSuXbtqzpw5eumllzR//nzFx8fr5MmTki7c5dC+fXsFBgbqvffe09y5c/XSSy+pcOHCOnPmjNcyZ8yY4dlGTvz73//Wrl279M4772jixIn67bff1KFDB50/f95T54MPPlCbNm0UHh6uKVOm6OOPP1bx4sXVtm3bbCVa5s2bJ0m6+eabfar/559/qkSJEnrppZc0d+5cvfnmmwoICFCjRo3STQRdrM2bN6tJkybauHGj/vOf/2jmzJmqUaOGunfvrlGjRkn6vyGxJOm2227zfD9yw759+3T33Xfrnnvu0ezZs9WuXTsNHDhQH3zwgafOiRMnFBcXpylTpqhPnz76+uuv9cwzz2jy5Mnq2LGjzMznz2vevLmOHTumlStXSrrwff3+++8VFxenuLg47d+/X5s2bZJ0IVm4fPlyxcfHZytJYWa6+eab9f777+upp57SrFmzdO211/p0R1D9+vU1adIkSdJzzz3n2fbuIaw+/PBDrVy5Us8884xn29x+++0qV66cZ8jB8ePHq2nTpoqOjvY6jlwsl8ulFi1aaMGCBZ6yVatW6ciRIwoODvbaTxYsWKAGDRqoaNGinrKzZ8/qxhtvVMuWLfXZZ5+pd+/eeuutt3TnnXem+awvv/xS77zzjl566SVNnz5dR48eVfv27fXUU09p6dKlGjdunCZOnKhNmzbp1ltv9foOJCcn69y5c1m+Uu7/GXEPQ5gywbthwwZJUu3atb3qxsTEqGTJkp7pAAAAcMAAAACAbPjss8/M39/f9u/f7ynr1auXpXdquXz5cpNkr732mlf57t27LSQkxPr37+8pO3XqlNWrV88qVqxomzZtsqioKIuLi7Nz58556vz9998myQYPHpzmsxYuXGiS7JNPPvEqHzx4cJq2xcXFWVxcnOf99OnTTZLNmDHDq97KlStNko0fP97MzD799FOTZGvXrs1g61ywdu1ak2SrV69Od3q3bt2scOHC6U5zr8eNN97oVf7xxx+bJFu+fLmZmR0/ftyKFy9uHTp08Kp3/vx5u+qqq+yaa67JtI0p3XDDDSbJTp065fM8KZ07d87OnDljVapUsSeffNJTvmPHDpNkkyZN8pRNmjTJJNmOHTt8Xv5dd91lQUFB9vvvv3uVt2vXzkJDQ+3IkSOeMknWq1cvR+uRss2vvPJKutPj4uJMkq1YscKrvEaNGta2bVvP+5EjR5qfn5+tXLnSq577O/TVV1/53Cb392nEiBFmZrZ69WqTZL/++quZmUVFRdm4cePMzGzx4sVe31mz9Ld5t27drHz58p73X3/9tUmyN954w+uzhw8fnuE+l5J7X0kZ65Refvllk2SzZs2ybt26WUhIiK1bt86rTvv27b3alFPeeecdk+T5/rz44otWrVo169ixo91///1mZnbmzBkrXLiw/fvf//bM161bt0y3yQ8//OApk2TR0dF27NgxT9lnn31mkqxu3bqWnJzsKR8zZoxJ8lp/93Eqq1dW2+ePP/6wqKgoa9iwoZ0/f95T/tBDD1lQUFC681x55ZXWpk2bTJcLAACAjHEnCwAAALJlxowZuv766316xsOXX34pl8ule+65x+vX2NHR0brqqqu8hjkKCgrSxx9/rIMHD6p+/foyM02fPl3+/v65uDb/186iRYuqQ4cOXu2sW7euoqOjPe2sW7euAgMD9fDDD2vKlCleQ56lNGPGDFWoUEH169d33KaOHTt6va9Tp44kadeuXZKkZcuW6dChQ+rWrZtXm5OTk3XDDTdo5cqV2RqWKjvOnTunESNGqEaNGgoMDFRAQIACAwP122+/6Zdffsnxz/vuu+/UsmVLlS1b1qu8e/fuOnHiRK7dsZKR6Ohoz5BMbnXq1PHERrrwnapVq5bq1q3rFZ+2bdvK5XKlGeIrM3Xq1FGJEiU88yxatEjR0dGeh903a9ZMCxcu9EyT/u95LL5yz3/33Xd7lXft2jVby8nIv/71L7Vv315dunTRlClTNHbs2DR3VeSWVq1aSZLnbpb58+erdevWatWqlebPny/pwl14x48f99RNKaNt4t5mbs2bN1fhwoU976tXry7pwlB7Ke8qcpen/L48/PDDWrlyZZavL774IsP1PHTokG688UaZmT766CP5+Xlf7md2Z1NuDq0HAADwT8eD7wEAAOCzs2fP6osvvtALL7zgU/2//vrL80yE9FSqVMnr/RVXXKHrr79ec+bM0WOPPeYZciy3/fXXXzpy5IgCAwPTnX7gwAFJUuXKlbVgwQKNGjVKvXr10vHjx1WpUiX16dNHTzzxhKf+p59+elFDhUlK86yFoKAgSfIMXeYeas09VFt6Dh065NXpm5Fy5cpJknbs2KFq1aplWb9fv35688039cwzzyguLs7zfIsHH3zQ076cdPDgwXS/C7GxsZ7pl1J6z8EICgryWve//vpLW7duVaFChdJdhvs75QuXy6W4uDh98803Onv2rBYuXKi4uDjP9Li4OA0ZMkRmpoULFyo6OtqnOKZ08OBBBQQEpFm36OjobC0ns3Xo3r275syZo+joaM+zWC6F8uXLe/bdO++8U8uXL9dTTz2lK664Qn369NHmzZu1YMEChYSEqEmTJl7zZrZNUn/vihcv7vXefTzJqPzUqVNey4yMjMxyXTJKhhw+fFitW7fWnj179N1336U5tpYoUUKnTp3SiRMnPM9Wcjt06JAaNGiQ5WcDAAAgfSRZAAAA4LMFCxYoMTFRt9xyi0/1S5YsKZfLpSVLlniSBCmlLnvnnXc0Z84cXXPNNRo3bpzuvPNONWrUKEfanlU7S5Qo4XnmS2phYWGev6+//npdf/31On/+vFatWqWxY8eqb9++ioqK0l133aVffvlFv/zyi959991cb7MkjR07Vtdee226dTJKbqXWtm1bTZw4UZ999pkGDBiQZf0PPvhA9913n0aMGOFVfuDAAa/nWeSUEiVKaO/evWnK//zzT0n/ty3yk5IlSyokJETvvfdehtOzo3nz5po5c6ZWrFihJUuWaOTIkZ5pcXFxOnDggFavXq0ff/zR5/0zpRIlSujcuXM6ePCgV1Jh37592V5Wevbu3atevXqpbt262rhxo55++mn95z//yZFl+6Jly5b6/PPPtXjxYiUnJys+Pl5hYWGKjY3V/PnztWDBAl1//fVpjkmZbZP0km1ODRs2TEOHDs2yXvny5bVz506vssOHD6tVq1basWOHvv32W89dbym57xpav3691zF13759OnDggGrVqnVxKwAAAHAZI8kCAAAAn82YMUPXXnutSpcu7VWe8i6LkJAQT/lNN92kl156SXv27NEdd9yR6bLXr1+vPn366L777tPbb7+tJk2a6M4771RCQoKKFSuW5nNy0k033aQPP/xQ58+f9zmp4+/vr0aNGqlatWqaOnWq1qxZo7vuukszZsxQbGxshomPnNK0aVMVLVpUmzZtUu/evS9qWZ06dVLt2rU1cuRI3XTTTel2uH7zzTe6/vrrFRoaKpfLlaYzes6cOdqzZ4+uuOKKi2pLelq2bKlZs2bpzz//9Ny9Ikn/+9//FBoamuvb2ombbrpJI0aMUIkSJVSxYsWLXp57+K/XX39diYmJio+P90yrWbOmSpQooZEjR+rUqVPZHirMvfxRo0Zp6tSp6tOnj6d82rRpPs2f2b55/vx5denSRS6XS19//bWmTp2qp59+WvHx8ercubPXMnLjTijpwpBhEydO1JgxY3Tttdd6Eqfu79bKlSvTJA3dMtomKWNwsR5++GHddNNNWdZLvd+5Eyzbt2/X/PnzVa9evXTnu+GGGxQcHKzJkyd7HeMmT54sl8ulm2+++aLaDwAAcDkjyQIAAIB0LV68WC1bttTzzz+v559/XufPn9fnn3+e7p0O7l9Jv/zyy2rXrp38/f1Vp04dNW3aVA8//LDuv/9+rVq1Ss2aNVPhwoW1d+9e/fDDD6pdu7Yee+wxHT9+XHfccYcqVqyo8ePHKzAwUB9//LHq16+v+++/X5999pmkC3eUlC9fXp9//rlatmyp4sWLq2TJkqpQocJFretdd92lqVOn6sYbb9QTTzyha665RoUKFdIff/yhhQsXqlOnTrrlllv03//+V999953at2+vcuXK6dSpU547FdzPcvj000/VuXPnXH/GQZEiRTR27Fh169ZNhw4d0m233abIyEj9/fff+vnnn/X3339rwoQJPi3L399fs2bNUps2bdS4cWM99thjnudL7Nq1S59++qm++OILHT58WNKFBMLkyZNVrVo11alTR6tXr9Yrr7yiMmXK5Mq6Dh48WF9++aWaN2+u559/XsWLF9fUqVM1Z84cjRo1ShEREbnyuRejb9++mjFjhpo1a6Ynn3xSderUUXJysn7//XfNmzdPTz31VLbu0qpZs6YiIyM1a9YslSpVyvNcD+nCEFLNmjXTrFmzJGX/eSyS1KZNGzVr1kz9+/fX8ePH1bBhQy1dulTvv/9+mrqpjw3ShaH0QkJCNHXqVFWvXl1FihRRbGysYmNjNXjwYC1ZskTz5s1TdHS0nnrqKS1evFgPPPCA6tWr50lC1a5dWzNnztSECRPUoEED+fn5qWHDhtlaj507d6pixYrq1q2bJk+e7Clv0aKFXC6X5s2b53XHSKtWrdStWzfP36kFBgbqtdde07Fjx3T11Vdr2bJlevHFF9WuXTtdd9112WpbZtzbKjtOnjyptm3bKiEhQWPGjNG5c+f0448/eqaXKlVKlStXlnRhyLLnnntOgwYNUvHixdWmTRutXLlSQ4YM0YMPPqgaNWrk2LoAAABcbkiyAAAAIF1mpvPnzys5OVnShQdqHzhwwOuX525du3bV0qVLNX78eA0bNkxmph07dqhChQp66623dO211+qtt97S+PHjlZycrNjYWDVt2tTz8PBHH31Uv//+u1auXOl5hkilSpX0zjvv6Pbbb9eYMWPUt29fSdK7776rf/3rX+rYsaNOnz6dpjPVCX9/f82ePVtvvPGG3n//fY0cOVIBAQEqU6aM4uLiPEmkunXrat68eRo8eLD27dunIkWKqFatWpo9e7batGmjbdu26eeff9aYMWMuqj2+uueee1SuXDmNGjVKjzzyiI4eParIyEjVrVtX3bt3z9ayKleurDVr1mjs2LGaNWuWJkyYoNOnTysmJkbNmjXTDz/84ElmvPHGGypUqJBGjhypY8eOqX79+po5c6aee+65XFhLqWrVqlq2bJn+/e9/q1evXjp58qSqV6+uSZMmZXs9L5XChQtryZIleumllzRx4kTt2LFDISEhKleunFq1auUoMRgfH6+PP/7Y63ksbnFxcZo1a5ZKly7t6G4iPz8/zZ49W/369dOoUaN05swZNW3aVF999VWa57ukPjZIUmhoqN577z0NHTpUbdq00dmzZzV48GA1bdpUI0eO1KBBg9SyZUtP/cmTJ6tevXq688479cMPPygwMFBPPPGENm7cqH//+99KTEyUmcnMsrUex44dk6Q0z/ApUaKE6tatq4SEBK9kivtv9/TUChUqpC+//FJ9+vTRiy++qJCQED300EN65ZVXstWu3PDXX39p5cqVkuT1TCi31MfGZ599VmFhYXrzzTf16quvKjo6WgMGDNCzzz57qZoMAADwj+Sy7J61AgAA4LLUs2dPrVixQqtXr87rpuRbo0aN0quvvqq9e/fK398/r5sDXHbGjx+v/v37a9u2bT4/kygj3bt316effupJ3AAAAADpIckCAAAAAPhHuP3221WlSpUMn6+SHSRZAAAA4AuGCwMAAAD+wc6dO5fpdD8/P/n5+V2i1nhzDzuVGX9//4t6vk1+Xv/k5GSvIbfSExDAJVt2fPLJJ3ndBAAAAFxm8uZqAgAAAECu27lzpwoVKpTpa9iwYXnWvilTpmTZvsWLF1/UZ2S1/B49euTQ2mRfjx49smwf8s7kyZO5iwUAAABZYrgwAAAA4B/qzJkzWrduXaZ1YmNjFRsbe4la5O3gwYPasWNHpnWqVq2qsLAwx5+xatWqTKeXLFnS0UPoc8LOnTt14MCBTOs0bNjwErUGAAAAgBMkWQAAAAAAAAAAABxguDAAAAAAAAAAAAAHeIqiLjxw8s8//1RYWNhFPVQTAAAAAAAAAAAUfGamo0ePKjY2Vn5+Gd+vQpJF0p9//qmyZcvmdTMAAAAAAAAAAEA+snv3bpUpUybD6SRZJM+DNHfv3q3w8PA8bg0AAAAAAAAAAMhLSUlJKlu2rCd/kBGSLJJniLDw8HCSLAAAAAAAAAAAQJKyfMQID74HAAAAAAAAAABwgCQLAAAAAAAAAACAAyRZAAAAAAAAAAAAHCDJAgAAAAAAAAAA4ABJFgAAAAAAAAAAAAdIsgAAAAAAAAAAADhAkgUAAAAAAAAAAMABkiwAAAAAAAAAAAAOkGQBAAAAAAAAAABwgCQLAAAAAAAAAACAAyRZAAAAAAAAAAAAHCDJAgAAAAAAAAAA4EBAXjcAAPKLCgPm5HUTLks7X2qf100AAAAAAAAAHOFOFgAAAAAAAAAAAAdIsgAAAAAAAAAAADhAkgUAAAAAAAAAAMABkiwAAAAAAAAAAAAOkGQBAAAAAAAAAABwgCQLAAAAAAAAAACAAyRZAAAAAAAAAAAAHCDJAgAAAAAAAAAA4ABJFgAAAAAAAAAAAAdIsgAAAAAAAAAAADhAkgUAAAAAAAAAAMABkiwAAAAAAAAAAAAOkGQBAAAAAAAAAABwgCQLAAAAAAAAAACAAyRZAAAAAAAAAAAAHCDJAgAAAAAAAAAA4ECeJlm+//57dejQQbGxsXK5XPrss8+8ppuZhgwZotjYWIWEhCg+Pl4bN270qnP69Gk9/vjjKlmypAoXLqyOHTvqjz/+uIRrAQAAAAAAAAAALkd5mmQ5fvy4rrrqKo0bNy7d6aNGjdLo0aM1btw4rVy5UtHR0WrdurWOHj3qqdO3b1/NmjVLH374oX744QcdO3ZMN910k86fP3+pVgMAAAAAAAAAAFyGAvLyw9u1a6d27dqlO83MNGbMGD377LPq3LmzJGnKlCmKiorStGnT9MgjjygxMVHvvvuu3n//fbVq1UqS9MEHH6hs2bJasGCB2rZte8nWBQAAAAAAAAAAXF7y7TNZduzYoX379qlNmzaesqCgIMXFxWnZsmWSpNWrV+vs2bNedWJjY1WrVi1PnfScPn1aSUlJXi8AAAAAAAAAAIDsyLdJln379kmSoqKivMqjoqI80/bt26fAwEAVK1YswzrpGTlypCIiIjyvsmXL5nDrAQAAAAAAAADAP12+TbK4uVwur/dmlqYstazqDBw4UImJiZ7X7t27c6StAAAAAAAAAADg8pFvkyzR0dGSlOaOlP3793vubomOjtaZM2d0+PDhDOukJygoSOHh4V4vAAAAAAAAAACA7Mi3SZaKFSsqOjpa8+fP95SdOXNGixcvVpMmTSRJDRo0UKFChbzq7N27Vxs2bPDUAQAAAAAAAAAAyA0Befnhx44d09atWz3vd+zYobVr16p48eIqV66c+vbtqxEjRqhKlSqqUqWKRowYodDQUHXt2lWSFBERoQceeEBPPfWUSpQooeLFi+vpp59W7dq11apVq7xaLQAAAAAAAAAAcBnI0yTLqlWr1Lx5c8/7fv36SZK6deumyZMnq3///jp58qR69uypw4cPq1GjRpo3b57CwsI887z++usKCAjQHXfcoZMnT6ply5aaPHmy/P39L/n6AAAAAAAAAACAy4fLzCyvG5HXkpKSFBERocTERJ7PAlzGKgyYk9dNuCztfKl9XjcBAAAAAAAA8OJr3iDfPpMFAAAAAAAAAAAgPyPJAgAAAAAAAAAA4ABJFgAAAAAAAAAAAAdIsgAAAAAAAAAAADhAkgUAAAAAAAAAAMABkiwAAAAAAAAAAAAOkGQBAAAAAAAAAABwgCQLAAAAAAAAAACAAyRZAAAAAAAAAAAAHCDJAgAAAAAAAAAA4ABJFgAAAAAAAAAAAAdIsgAAAAAAAAAAADhAkgUAAAAAAAAAAMABkiwAAAAAAAAAAAAOkGQBAAAAAAAAAABwgCQLAAAAAAAAAACAAyRZAAAAAAAAAAAAHCDJAgAAAAAAAAAA4ABJFgAAAAAAAAAAAAdIsgAAAAAAAAAAADhAkgUAAAAAAAAAAMABkiwAAAAAAAAAAAAOkGQBAAAAAAAAAABwgCQLAAAAAAAAAACAAyRZAAAAAAAAAAAAHCDJAgAAAAAAAAAA4ABJFgAAAAAAAAAAAAdIsgAAAAAAAAAAADhAkgUAAAAAAAAAAMABkiwAAAAAAAAAAAAOkGQBAAAAAAAAAABwgCQLAAAAAAAAAACAAyRZAAAAAAAAAAAAHCDJAgAAAAAAAAAA4ABJFgAAAAAAAAAAAAdIsgAAAAAAAAAAADhAkgUAAAAAAAAAAMABkiwAAAAAAAAAAAAOkGQBAAAAAAAAAABwgCQLAAAAAAAAAACAAyRZAAAAAAAAAAAAHCDJAgAAAAAAAAAA4ABJFgAAAAAAAAAAAAdIsgAAAAAAAAAAADhAkgUAAAAAAAAAAMABkiwAAAAAAAAAAAAOkGQBAAAAAAAAAABwgCQLAAAAAAAAAACAA/k6yXLu3Dk999xzqlixokJCQlSpUiUNGzZMycnJnjpmpiFDhig2NlYhISGKj4/Xxo0b87DVAAAAAAAAAADgcpCvkywvv/yy/vvf/2rcuHH65ZdfNGrUKL3yyisaO3asp86oUaM0evRojRs3TitXrlR0dLRat26to0eP5mHLAQAAAAAAAADAP12+TrIsX75cnTp1Uvv27VWhQgXddtttatOmjVatWiXpwl0sY8aM0bPPPqvOnTurVq1amjJlik6cOKFp06blcesBAAAAAAAAAMA/Wb5Oslx33XX69ttvtWXLFknSzz//rB9++EE33nijJGnHjh3at2+f2rRp45knKChIcXFxWrZsWYbLPX36tJKSkrxeAAAAAAAAAAAA2RGQ1w3IzDPPPKPExERVq1ZN/v7+On/+vIYPH64uXbpIkvbt2ydJioqK8povKipKu3btynC5I0eO1NChQ3Ov4QAAAAAAAAAA4B8vX9/J8tFHH+mDDz7QtGnTtGbNGk2ZMkWvvvqqpkyZ4lXP5XJ5vTezNGUpDRw4UImJiZ7X7t27c6X9AAAAAAAAAADgnytf38nyr3/9SwMGDNBdd90lSapdu7Z27dqlkSNHqlu3boqOjpZ04Y6WmJgYz3z79+9Pc3dLSkFBQQoKCsrdxgMAAAAAAAAAgH+0fH0ny4kTJ+Tn591Ef39/JScnS5IqVqyo6OhozZ8/3zP9zJkzWrx4sZo0aXJJ2woAAAAAAAAAAC4v+fpOlg4dOmj48OEqV66catasqYSEBI0ePVo9evSQdGGYsL59+2rEiBGqUqWKqlSpohEjRig0NFRdu3bN49YDAAAAAAAAAIB/snydZBk7dqwGDRqknj17av/+/YqNjdUjjzyi559/3lOnf//+OnnypHr27KnDhw+rUaNGmjdvnsLCwvKw5QAAAAAAAAAA4J/OZWaW143Ia0lJSYqIiFBiYqLCw8PzujkA8kiFAXPyugmXpZ0vtc/rJgAAAAAAAABefM0b5OtnsgAAAAAAAAAAAORXJFkAAAAAAAAAAAAcIMkCAAAAAAAAAADgAEkWAAAAAAAAAAAAB0iyAAAAAAAAAAAAOECSBQAAAAAAAAAAwAGSLAAAAAAAAAAAAA6QZAEAAAAAAAAAAHCAJAsAAAAAAAAAAIADJFkAAAAAAAAAAAAcIMkCAAAAAAAAAADgAEkWAAAAAAAAAAAAB0iyAAAAAAAAAAAAOECSBQAAAAAAAAAAwAGSLAAAAAAAAAAAAA6QZAEAAAAAAAAAAHCAJAsAAAAAAAAAAIADJFkAAAAAAAAAAAAcIMkCAAAAAAAAAADgAEkWAAAAAAAAAAAAB0iyAAAAAAAAAAAAOECSBQAAAAAAAAAAwAGSLAAAAAAAAAAAAA6QZAEAAAAAAAAAAHCAJAsAAAAAAAAAAIADJFkAAAAAAAAAAAAcIMkCAAAAAAAAAADgAEkWAAAAAAAAAAAAB0iyAAAAAAAAAAAAOECSBQAAAAAAAAAAwAGSLAAAAAAAAAAAAA6QZAEAAAAAAAAAAHCAJAsAAAAAAAAAAIADJFkAAAAAAAAAAAAcCMjrBgAAAFwuKgyYk9dNuCztfKl9XjcBAAAAAPAPxZ0sAAAAAAAAAAAADpBkAQAAAAAAAAAAcIAkCwAAAAAAAAAAgAMkWQAAAAAAAAAAABwgyQIAAAAAAAAAAOAASRYAAAAAAAAAAAAHSLIAAAAAAAAAAAA4QJIFAAAAAAAAAADAAZIsAAAAAAAAAAAADpBkAQAAAAAAAAAAcIAkCwAAAAAAAAAAgAMBTmZq0aKFZs6cqaJFi3qVJyUl6eabb9Z3332XE20DAAC5pMKAOXndBAAAAAAAgALP0Z0sixYt0pkzZ9KUnzp1SkuWLLnoRgEAAAAAAAAAAOR32UqyrFu3Tv+PvfsOj6Jq/z/+2SSkQRJqGi2A9GIQFAEhoQsoKCrSFMSGgIjgQ1GRIoamiMIDitIeARUpioIIKCBNRAgiRRAIRSSCtFBDyfn9wS/7zSabZDNsSCLv13XlutgzZ2bv2bMze+/ezJnt27dLknbt2mV/vH37dsXGxmratGkqXry4WwM8evSounTpoiJFisjf31+RkZHasmWLfbkxRsOGDVN4eLj8/PwUHR2tnTt3ujUGAAAAAAAAAACA1LI0XVhkZKRsNptsNpsaN26cZrmfn58mTpzotuBOnz6t+vXrq1GjRvr2228VHBys/fv3O0xTNnbsWI0fP14zZ85UhQoVNHLkSDVr1kx79uxRQECA22IBbiWm8QEAAAAAAACA3C9LRZa4uDgZY1S2bFn9/PPPKlasmH2Zt7e3goOD5enp6bbgxowZo5IlS2rGjBn2toiICPu/jTGaMGGCXnvtNbVr106SNGvWLIWEhGju3Ll6/vnnnW43MTFRiYmJ9scJCQluixkAAAAAAAAAANwesjRdWOnSpRUREaGkpCTVrl1bpUuXtv+FhYW5tcAiSYsXL1bt2rX12GOPKTg4WDVr1tRHH31kXx4XF6f4+Hg1b97c3ubj46OoqCht2LAh3e2OGjVKQUFB9r+SJUu6NW4AAAAAAAAAAPDvl6UrWVLau3evVq9erePHjyspKclh2RtvvHHTgUnSgQMHNGXKFPXr10+vvvqqfv75Z/Xp00c+Pj568sknFR8fL0kKCQlxWC8kJESHDh1Kd7uDBw9Wv3797I8TEhIotAAAAAAAAAAAgCyxVGT56KOP9MILL6ho0aIKDQ2VzWazL7PZbG4rsiRfMRMTEyNJqlmzpnbu3KkpU6boySefdHjOlIwxadpS8vHxkY+Pj1tiBAAAAAAAAAAAtydLRZaRI0fqrbfe0sCBA90dj4OwsDBVqVLFoa1y5cpasGCBJCk0NFSSFB8fr7CwMHuf48ePp7m6BQAAAAAAAAAAwJ2ydE+WZKdPn9Zjjz3m7ljSqF+/vvbs2ePQtnfvXpUuXVqSVKZMGYWGhmrFihX25VeuXNGaNWtUr169bI8PAAAAAAAAAADcviwVWR577DEtX77c3bGk8fLLL+unn35STEyM9u3bp7lz52rq1Knq1auXpBvThPXt21cxMTFatGiRduzYoW7dusnf31+dOnXK9vgAAAAAAAAAAMDty9J0YXfccYeGDBmin376SdWrV1e+fPkclvfp08ctwd19991atGiRBg8erBEjRqhMmTKaMGGCOnfubO8zYMAAXbp0ST179tTp06dVp04dLV++XAEBAW6JAQCQvSIGLcnpEAAAAAAAAABLbMYYk9WVypQpk/4GbTYdOHDgpoK61RISEhQUFKSzZ88qMDAwp8MB+NEZAAA3Oji6dU6HAAAAAADIY1ytG1i6kiUuLs5yYAAAAAAAAAAAAP8Glu7JAgAAAAAAAAAAcLuzdCVL9+7dM1w+ffp0S8EAAAAAAAAAAADkFZaKLKdPn3Z4fPXqVe3YsUNnzpxR48aN3RIYAAAAAAAAAABAbmapyLJo0aI0bUlJSerZs6fKli1700EBAAAAAAAAAADkdm67J4uHh4defvllvfvuu+7aJAAAAAAAAAAAQK7l1hvf79+/X9euXXPnJgEAAAAAAAAAAHIlS9OF9evXz+GxMUbHjh3TkiVL1LVrV7cEBgAAAAAAAAAAkJtZKrLExsY6PPbw8FCxYsX0zjvvqHv37m4JDAAAAAAAAAAAIDezVGRZtWqVu+MAAAAAAAAAAADIUywVWZKdOHFCe/bskc1mU4UKFVSsWDF3xQUAAAAAAAAAAJCrWbrx/YULF9S9e3eFhYWpYcOGatCggcLDw/X000/r4sWL7o4RAAAAAAAAAAAg17FUZOnXr5/WrFmjr7/+WmfOnNGZM2f01Vdfac2aNerfv7+7YwQAAAAAAAAAAMh1LE0XtmDBAs2fP1/R0dH2tlatWsnPz0/t27fXlClT3BUfAAAAAAAAAABArmTpSpaLFy8qJCQkTXtwcDDThQEAAAAAAAAAgNuCpSJL3bp1NXToUF2+fNnedunSJQ0fPlx169Z1W3AAAAAAAAAAAAC5laXpwiZMmKCWLVuqRIkSuvPOO2Wz2bRt2zb5+Pho+fLl7o4RAAAAAAAAAAAg17FUZKlevbr++OMPzZ49W7///ruMMerQoYM6d+4sPz8/d8cIAAAAAAAAAACQ61gqsowaNUohISF69tlnHdqnT5+uEydOaODAgW4JDgAAAAAAAAAAILeydE+WDz/8UJUqVUrTXrVqVX3wwQc3HRQAAAAAAAAAAEBuZ6nIEh8fr7CwsDTtxYoV07Fjx246KAAAAAAAAAAAgNzOUpGlZMmSWr9+fZr29evXKzw8/KaDAgAAAAAAAAAAyO0s3ZPlmWeeUd++fXX16lU1btxYkvT9999rwIAB6t+/v1sDBAAAAAAAAAAAyI0sFVkGDBigU6dOqWfPnrpy5YokydfXVwMHDtTgwYPdGiAAAAAAAAAAAEBuZKnIYrPZNGbMGA0ZMkS7d++Wn5+fypcvLx8fH3fHBwAAAAAAAAAAkCtZKrIkK1CggO6++253xQIAAAAAAAAAAJBnWLrxPQAAAAAAAAAAwO2OIgsAAAAAAAAAAIAFFFkAAAAAAAAAAAAsoMgCAAAAAAAAAABgAUUWAAAAAAAAAAAACyiyAAAAAAAAAAAAWECRBQAAAAAAAAAAwAKKLAAAAAAAAAAAABZQZAEAAAAAAAAAALCAIgsAAAAAAAAAAIAFFFkAAAAAAAAAAAAsoMgCAAAAAAAAAABgAUUWAAAAAAAAAAAACyiyAAAAAAAAAAAAWECRBQAAAAAAAAAAwAKKLAAAAAAAAAAAABZQZAEAAAAAAAAAALCAIgsAAAAAAAAAAIAFFFkAAAAAAAAAAAAsoMgCAAAAAAAAAABgAUUWAAAAAAAAAAAAC/JUkWXUqFGy2Wzq27evvc0Yo2HDhik8PFx+fn6Kjo7Wzp07cy5IAAAAAAAAAABwW/DK6QBctXnzZk2dOlU1atRwaB87dqzGjx+vmTNnqkKFCho5cqSaNWumPXv2KCAgIIei/feIGLQkp0MAAAAAAAAAACBXyhNXspw/f16dO3fWRx99pEKFCtnbjTGaMGGCXnvtNbVr107VqlXTrFmzdPHiRc2dOzcHIwYAAAAAAAAAAP92eaLI0qtXL7Vu3VpNmzZ1aI+Li1N8fLyaN29ub/Px8VFUVJQ2bNiQ7vYSExOVkJDg8AcAAAAAAAAAAJAVuX66sM8++0xbt27V5s2b0yyLj4+XJIWEhDi0h4SE6NChQ+luc9SoURo+fLh7AwUAAAAAAAAAALeVXH0ly5EjR/TSSy9p9uzZ8vX1TbefzWZzeGyMSdOW0uDBg3X27Fn735EjR9wWMwAAAAAAAAAAuD3k6itZtmzZouPHj6tWrVr2tuvXr+vHH3/UpEmTtGfPHkk3rmgJCwuz9zl+/Hiaq1tS8vHxkY+PT/YFDgAAAAAAAAAA/vVy9ZUsTZo00W+//aZt27bZ/2rXrq3OnTtr27ZtKlu2rEJDQ7VixQr7OleuXNGaNWtUr169HIwcAAAAAAAAAAD82+XqK1kCAgJUrVo1h7b8+fOrSJEi9va+ffsqJiZG5cuXV/ny5RUTEyN/f3916tQpJ0IGAAAAAAAAAAC3iVxdZHHFgAEDdOnSJfXs2VOnT59WnTp1tHz5cgUEBOR0aAAAAAAAAAAA4F/MZowxOR1ETktISFBQUJDOnj2rwMDAnA4nV4kYtCSnQwAAAEAedHB065wOAQAAAAAsc7VukKvvyQIAAAAAAAAAAJBbUWQBAAAAAAAAAACwgCILAAAAAAAAAACABRRZAAAAAAAAAAAALKDIAgAAAAAAAAAAYAFFFgAAAAAAAAAAAAsosgAAAAAAAAAAAFhAkQUAAAAAAAAAAMACiiwAAAAAAAAAAAAWUGQBAAAAAAAAAACwgCILAAAAAAAAAACABV45HQAAAAAAwD0iBi3J6RBuSwdHt87pEAAAAJBDuJIFAAAAAAAAAADAAoosAAAAAAAAAAAAFlBkAQAAAAAAAAAAsIAiCwAAAAAAAAAAgAUUWQAAAAAAAAAAACygyAIAAAAAAAAAAGABRRYAAAAAAAAAAAALKLIAAAAAAAAAAABYQJEFAAAAAAAAAADAAoosAAAAAAAAAAAAFlBkAQAAAAAAAAAAsIAiCwAAAAAAAAAAgAUUWQAAAAAAAAAAACygyAIAAAAAAAAAAGABRRYAAAAAAAAAAAALKLIAAAAAAAAAAABYQJEFAAAAAAAAAADAAoosAAAAAAAAAAAAFlBkAQAAAAAAAAAAsIAiCwAAAAAAAAAAgAUUWQAAAAAAAAAAACygyAIAAAAAAAAAAGABRRYAAAAAAAAAAAALKLIAAAAAAAAAAABYQJEFAAAAAAAAAADAAoosAAAAAAAAAAAAFlBkAQAAAAAAAAAAsIAiCwAAAAAAAAAAgAUUWQAAAAAAAAAAACygyAIAAAAAAAAAAGABRRYAAAAAAAAAAAALKLIAAAAAAAAAAABYQJEFAAAAAAAAAADAAoosAAAAAAAAAAAAFlBkAQAAAAAAAAAAsIAiCwAAAAAAAAAAgAW5usgyatQo3X333QoICFBwcLAeeugh7dmzx6GPMUbDhg1TeHi4/Pz8FB0drZ07d+ZQxAAAAAAAAAAA4HaRq4ssa9asUa9evfTTTz9pxYoVunbtmpo3b64LFy7Y+4wdO1bjx4/XpEmTtHnzZoWGhqpZs2Y6d+5cDkYOAAAAAAAAAAD+7bxyOoCMLFu2zOHxjBkzFBwcrC1btqhhw4YyxmjChAl67bXX1K5dO0nSrFmzFBISorlz5+r555/PibABAAAAAAAAAMBtIFdfyZLa2bNnJUmFCxeWJMXFxSk+Pl7Nmze39/Hx8VFUVJQ2bNiQ7nYSExOVkJDg8AcAAAAAAAAAAJAVeabIYoxRv379dN9996latWqSpPj4eElSSEiIQ9+QkBD7MmdGjRqloKAg+1/JkiWzL3AAAAAAAAAAAPCvlGeKLL1799b27dv16aefpllms9kcHhtj0rSlNHjwYJ09e9b+d+TIEbfHCwAAAAAAAAAA/t1y9T1Zkr344otavHixfvzxR5UoUcLeHhoaKunGFS1hYWH29uPHj6e5uiUlHx8f+fj4ZF/AAAAAAAAAAADgXy9XF1mMMXrxxRe1aNEirV69WmXKlHFYXqZMGYWGhmrFihWqWbOmJOnKlStas2aNxowZkxMhAwAAAABuMxGDluR0CLelg6Nb53QIAAAAubvI0qtXL82dO1dfffWVAgIC7PdZCQoKkp+fn2w2m/r27auYmBiVL19e5cuXV0xMjPz9/dWpU6ccjh4AAAAAAAAAAPyb5eoiy5QpUyRJ0dHRDu0zZsxQt27dJEkDBgzQpUuX1LNnT50+fVp16tTR8uXLFRAQcIujBQAAAAAAAAAAt5NcXWQxxmTax2azadiwYRo2bFj2BwQAAAAAAAAAAPD/eeR0AAAAAAAAAAAAAHkRRRYAAAAAAAAAAAALKLIAAAAAAAAAAABYQJEFAAAAAAAAAADAAoosAAAAAAAAAAAAFnjldAAAAAAAAABZFTFoSU6HcFs6OLp1TocAAECuwpUsAAAAAAAAAAAAFlBkAQAAAAAAAAAAsIAiCwAAAAAAAAAAgAUUWQAAAAAAAAAAACygyAIAAAAAAAAAAGABRRYAAAAAAAAAAAALKLIAAAAAAAAAAABYQJEFAAAAAAAAAADAAoosAAAAAAAAAAAAFlBkAQAAAAAAAAAAsIAiCwAAAAAAAAAAgAUUWQAAAAAAAAAAACygyAIAAAAAAAAAAGABRRYAAAAAAAAAAAALKLIAAAAAAAAAAABYQJEFAAAAAAAAAADAAoosAAAAAAAAAAAAFlBkAQAAAAAAAAAAsIAiCwAAAAAAAAAAgAUUWQAAAAAAAAAAACygyAIAAAAAAAAAAGABRRYAAAAAAAAAAAALKLIAAAAAAAAAAABYQJEFAAAAAAAAAADAAoosAAAAAAAAAAAAFlBkAQAAAAAAAAAAsIAiCwAAAAAAAAAAgAUUWQAAAAAAAAAAACygyAIAAAAAAAAAAGABRRYAAAAAAAAAAAALKLIAAAAAAAAAAABYQJEFAAAAAAAAAADAAoosAAAAAAAAAAAAFlBkAQAAAAAAAAAAsMArpwMAAAAAAABA3hAxaElOh3BbOji6dU6HAABIB1eyAAAAAAAAAAAAWECRBQAAAAAAAAAAwAKKLAAAAAAAAAAAABZQZAEAAAAAAAAAALCAIgsAAAAAAAAAAIAFXjkdAAAAAAAAAID0RQxaktMhALfMwdGtczoEIEu4kgUAAAAAAAAAAMCCf02RZfLkySpTpox8fX1Vq1YtrV27NqdDAgAAAAAAAAAA/2L/iunCPv/8c/Xt21eTJ09W/fr19eGHH6ply5batWuXSpUqldPhAQAAAAAAAABcwPR4tx5TtN2cf8WVLOPHj9fTTz+tZ555RpUrV9aECRNUsmRJTZkyJadDAwAAAAAAAAAA/1J5/kqWK1euaMuWLRo0aJBDe/PmzbVhwwan6yQmJioxMdH++OzZs5KkhISE7As0j0pKvJjTIQAAACAPIrfOGeTvAAAAyCpyd+eSXxdjTIb98nyR5Z9//tH169cVEhLi0B4SEqL4+Hin64waNUrDhw9P016yZMlsiREAAAC43QRNyOkIAAAAALiC3D1j586dU1BQULrL83yRJZnNZnN4bIxJ05Zs8ODB6tevn/1xUlKSTp06pSJFiqS7zu0oISFBJUuW1JEjRxQYGJjT4cAFjFnewnjlPYxZ3sJ45S2MV97DmOUtjFfewnjlPYxZ3sJ45T2MWd7CeOUtjFf6jDE6d+6cwsPDM+yX54ssRYsWlaenZ5qrVo4fP57m6pZkPj4+8vHxcWgrWLBgdoWY5wUGBnKA5TGMWd7CeOU9jFnewnjlLYxX3sOY5S2MV97CeOU9jFnewnjlPYxZ3sJ45S2Ml3MZXcGSLM/f+N7b21u1atXSihUrHNpXrFihevXq5VBUAAAAAAAAAADg3y7PX8kiSf369dMTTzyh2rVrq27dupo6daoOHz6sHj165HRoAAAAAAAAAADgX+pfUWR5/PHHdfLkSY0YMULHjh1TtWrVtHTpUpUuXTqnQ8vTfHx8NHTo0DRTqyH3YszyFsYr72HM8hbGK29hvPIexixvYbzyFsYr72HM8hbGK+9hzPIWxitvYbxuns0YY3I6CAAAAAAAAAAAgLwmz9+TBQAAAAAAAAAAICdQZAEAAAAAAAAAALCAIgsAAAAAAAAAAIAFFFlugZMnTyo4OFgHDx7M6VBuG926dZPNZpPNZtOXX36ZpXUZr1uP8cpbbma8JMYsJ9zsmKXGGLrXsGHD7OMzYcIEt2+f8XIvd48X43PrkXfkLeQdeQ95R+5G3pG3kHfkfeQdeQufYblbdn+G3QyKLLfAqFGj9OCDDyoiIsLedvjwYT344IPKnz+/ihYtqj59+ujKlSvpbuPUqVN68cUXVbFiRfn7+6tUqVLq06ePzp4969Bv69atatasmQoWLKgiRYroueee0/nz5+3LT548qfvvv1/h4eHy8fFRyZIl1bt3byUkJGR5vxYsWKAqVarIx8dHVapU0aJFizLsn/JASPmXP39+e5+UJ7OUf1WrVrX3+eijj9SgQQMVKlRIhQoVUtOmTfXzzz87PNd7772nY8eOZXmfJPeM18GDB53uh81m0xdffCFJWr16dbp9Nm/eLEn69ddf1bFjR5UsWVJ+fn6qXLmy3nvvvSzv086dO/XII48oIiLC5RPR6tWr1bZtW4WFhSl//vyKjIzUnDlz0u2/fv16eXl5KTIyMt0+n332mWw2mx566CGHdneP10svvaRatWrJx8cnw3iSuXp8JUtMTFRkZKRsNpu2bdvmtM/JkydVokQJ2Ww2nTlzJkv7ZGW8XDm+jh07pk6dOqlixYry8PBQ3759nW7rzJkz6tWrl8LCwuTr66vKlStr6dKl9uU3M16Se8bMlWNMkt566y3Vq1dP/v7+KliwYLrbmzlzpmrUqCFfX1+Fhoaqd+/eWdonV85LqV2+fFndunVT9erV5eXllea4SDZnzhzdeeed8vf3V1hYmJ566imdPHnSoc+ECRNUsWJF+fn5qWTJknr55Zd1+fJl+/KbHbPUUo+h1XPV1KlTFR0drcDAwHSPlb1796pt27YqWrSoAgMDVb9+fa1atcqhz+bNm9WkSRMVLFhQhQoVUvPmzdM9NtNjZQwlyRijt99+WxUqVLB/rsbExDj0SUxM1GuvvabSpUvLx8dH5cqV0/Tp0+3LX3nlFR07dkwlSpTIUsyuctd4SdLGjRvVuHFj5c+fXwULFlR0dLQuXbrk0GfJkiWqU6eO/Pz8VLRoUbVr1y5L8a5bt07169dXkSJF5Ofnp0qVKundd9/NdL3MziN79uxRo0aNFBISIl9fX5UtW1avv/66rl69au+zcOFCNWvWTMWKFVNgYKDq1q2r7777zmE77h6v1ONjNVdz5Xhq06aNSpUqJV9fX4WFhemJJ57QX3/9ZV/urrxj4cKFql27tgoWLGjPIT755JNM13PleFqzZo1q1aplH8MPPvgg3e3dirzjZnLrzI6n06dP64knnlBQUJCCgoL0xBNPpJtT3EzekVJ6r5kzv/32m6KiouTn56fixYtrxIgRMsbYl7uS10s5k3cky8rrlpiYqBdffFFFixZV/vz51aZNG/3555/25a7k9sluNu9IydUxSy93WrZsmdP+GeX2OZ13pJSVMYyOjk6z/x06dHDaN6N83x15x8yZM52OR8rX0ZnMjruc+BxLzdl4OdvXjM7fUubH3MGDB/X000+rTJky8vPzU7ly5TR06NAMv6c7k96x+/vvv7u0fkbvwXnz5ikyMlL+/v4qXbq0xo0b57A8N+QdkrXxSWaMUcuWLZ3+IJ3Z71PuyjusHk+ZjY+UeR6f0q36vcPKeO3fv18PP/yw/b3Wvn17/f3332n6uZrH32zekdlnf0b27dungICANN/vXf0Okd15R2rpfYZlNRdwZQxdyR3d8Rnm7PPUZrOpdevW6a7jyncxKfPfP7L7M+ymGGSrixcvmoIFC5oNGzbY265du2aqVatmGjVqZLZu3WpWrFhhwsPDTe/evdPdzm+//WbatWtnFi9ebPbt22e+//57U758efPII4/Y+xw9etQUKlTI9OjRw/z+++/m559/NvXq1XPoc+rUKTN58mSzefNmc/DgQbNy5UpTsWJF07Fjxyzt14YNG4ynp6eJiV720qcAAKJASURBVIkxu3fvNjExMcbLy8v89NNP6a5z7tw5c+zYMYe/KlWqmK5du9r7nDlzxmH5kSNHTOHChc3QoUPtfTp16mT++9//mtjYWLN7927z1FNPmaCgIPPnn3+meU5JZtGiRS7vl7vG69q1a2n2dfjw4SZ//vzm3LlzxhhjEhMT0/R55plnTEREhElKSjLGGDNt2jTz4osvmtWrV5v9+/ebTz75xPj5+ZmJEye6vE/GGPPzzz+bV155xXz66acmNDTUvPvuu5mu89Zbb5nXX3/drF+/3uzbt8+89957xsPDwyxevDhN3zNnzpiyZcua5s2bmzvvvNPp9g4ePGiKFy9uGjRoYNq2beu0jzvGyxhjXnzxRTNp0iTzxBNPpBtPSq4cXyn16dPHtGzZ0kgysbGxTvu0bdvW3uf06dMu75Mx1sbLleMrLi7O9OnTx8yaNctERkaal156Kc12EhMTTe3atU2rVq3MunXrzMGDB83atWvNtm3b0vTN6ngZ474xc+UYM8aYN954w4wfP97069fPBAUFOd3WO++8Y8LDw82cOXPMvn37zI4dO5y+zzOSlfNSsvPnz5sePXqYqVOnmhYtWjg9LtauXWs8PDzMe++9Zw4cOGDWrl1rqlatah566CF7n9mzZxsfHx8zZ84cExcXZ7777jsTFhZm+vbtm2Z7VsYsNWdjaPVc9e6775pRo0aZUaNGpXus3HHHHaZVq1bm119/NXv37jU9e/Y0/v7+5tixY8YYYxISEkyhQoVMt27dzO+//2527NhhHnnkERMcHGyuXLni8n5ZGUNjbrx3K1asaL766itz4MABExsba1asWOHQp02bNqZOnTpmxYoVJi4uzmzatMmsX78+zbZKly7t0vGeFe4crw0bNpjAwEAzatQos2PHDrN3717zxRdfmMuXL9v7zJ8/3xQqVMhMmTLF7Nmzx/z+++/miy++yFLMW7duNXPnzjU7duwwcXFx5pNPPjH+/v7mww8/zHC9zM4j+/fvN9OnTzfbtm0zBw8eNF999ZUJDg42gwcPtvd56aWXzJgxY8zPP/9s9u7dawYPHmzy5ctntm7dmmZ77hgvZ+NjNVdz5XgaP3682bhxozl48KBZv369qVu3rqlbt659ubvyjlWrVpmFCxeaXbt2mX379pkJEyYYT09Ps2zZsgzXy+x4OnDggPH39zcvvfSS2bVrl/noo49Mvnz5zPz589Ns61blHVbHy5Xj6f777zfVqlUzGzZsMBs2bDDVqlUzDzzwgNPt3UzekcyV1yzZ2bNnTUhIiOnQoYP57bffzIIFC0xAQIB5++237X1cyetzKu9IlpXXrUePHqZ48eJmxYoVZuvWraZRo0bmzjvvNNeuXbPvS2a5vTHuyTuSZWXM4uLijCSzcuVKhxgTExPT9M0ot88NeUdKWRnDqKgo8+yzzzrs/5kzZ5z2TS/fd1feMWPGDBMYGJjmPZMRV467W/05llp64yXJzJgxw2FfL168mOG2Mjvmvv32W9OtWzfz3Xffmf3799s/1/v375+lmFetWmUkmT179jjEl/w8mUnvPbh06VLj5eVlpkyZYvbv32+++eYbExoa6vCZmhvyDmOsjU+y8ePH2/c/5fHuyu9T7so7rBxProyPMa7n8bfy946sjtf58+dN2bJlzcMPP2y2b99utm/fbtq2bWvuvvtuc/36dXu/rOTxN5N3ZOWzP7UrV66Y2rVrm5YtW6b5fu/Kd4jszjtSS28Ms5oLuDqGmeWO7voMO3nypMP7b8eOHcbT09PMmDEj3XVc+S7myu8fybLjM+xmUWTJZgsWLDBFixZ1aFu6dKnx8PAwR48etbd9+umnxsfHx5w9e9blbc+bN894e3ubq1evGmOM+fDDD01wcLDDARYbG2skmT/++CPd7bz33numRIkSLj+vMca0b9/e3H///Q5tLVq0MB06dHB5G9u2bTOSzI8//phun0WLFhmbzWYOHjyYbp9r166ZgIAAM2vWrDTLsnpSzM7xioyMNN27d093+ZUrV0xwcLAZMWJEhtvp2bOnadSokcvPm9rNnIhatWplnnrqqTTtjz/+uHn99dfN0KFDnf6wde3aNVO/fn3z8ccfm65du7ot6XA2XimlF48rUh9fyZYuXWoqVapkdu7cmW6RZfLkySYqKsp8//33N/VjhzHWxyuz4ysqKsppkWXKlCmmbNmyLn3AWkk6snPMMjrGZsyY4bTIcurUKePn52dWrlxp6TnTk9F5yZn0jotx48aZsmXLOrS9//77DufsXr16mcaNGzv06devn7nvvvvSbM8diWJmY5gsK+eq5C+3qY+VEydOpHkfJyQk2H8kMsaYzZs3G0nm8OHD9j7bt283ksy+fftcen5nXBnDXbt2GS8vL/P777+n2+fbb781QUFB5uTJk5k+Z3Ykiu4crzp16pjXX3893eVXr141xYsXNx9//HGW48zMww8/bLp06eJS36ycR15++WWnx0pKVapUMcOHD0/T7o7xcnV8spKrpXc8OfPVV18Zm82W4Tn/ZvOOZDVr1szw/ePK8TRgwABTqVIlh7bnn3/e3HvvvQ5tOZV3JHNlvDI7nnbt2mUkOfwHpo0bNxpJaV4jd+Qdrr5mKZ8zKCjIoSg0atQoEx4e7lBQSMlZXp+TeUdWXrczZ86YfPnymc8++8zedvToUePh4ZFu8dBZbu/OvCOrY5ZcZEnvPwillFFun5vyjqy+99PLf1PLKN93V96RXm6aESvHnTHZ+zmWWnrjldX3gpVjzhhjxo4da8qUKZOlmLPyuZlaRu/Bjh07mkcffdSh/7vvvmtKlCiRY+PlrvFJtm3bNlOiRAlz7NixNNuw+vuUlbzDyvHkyvi4msff6rwjq9v57rvvjIeHh8PvV6dOnTKS7P+ZJSt5/M3mHVn57E9twIABpkuXLi6PeervENmdd6TmbAyt5AKujKEruWN2fXd+9913TUBAgDl//nyW1kv9XcyV3z+S5cYiC9OFZbMff/xRtWvXdmjbuHGjqlWrpvDwcHtbixYtlJiYqC1btri87bNnzyowMFBeXl6SblzG6O3tLQ+P/xtWPz8/STcum3Pmr7/+0sKFCxUVFeXy8ybvQ/PmzR3aWrRooQ0bNri8jY8//lgVKlRQgwYN0u0zbdo0NW3aVKVLl063z8WLF3X16lUVLlzY5edOT3aN15YtW7Rt2zY9/fTT6fZZvHix/vnnH3Xr1i3DbZ09e9Yt+2qFs+eeMWOG9u/fr6FDh6a73ogRI1SsWLEM998KZ+PlLqmPL0n6+++/9eyzz+qTTz6Rv7+/0/V27dqlESNG6H//+5/DsXiruXJ8ObN48WLVrVtXvXr1UkhIiKpVq6aYmBhdv37dLXFl15i5cow5s2LFCiUlJeno0aOqXLmySpQoofbt2+vIkSM3FY+7zkv16tXTn3/+qaVLl8oYo7///lvz5893uAz3vvvu05YtW+xTWx04cEBLly7N8FLdm+HqGLrjXFWkSBFVrlxZ//vf/3ThwgVdu3ZNH374oUJCQlSrVi1JUsWKFVW0aFFNmzZNV65c0aVLlzRt2jRVrVo1w8+OzLgyhl9//bXKli2rb775RmXKlFFERISeeeYZnTp1yt5n8eLFql27tsaOHavixYurQoUKeuWVV9JMsZVd3DVex48f16ZNmxQcHKx69eopJCREUVFRDvnF1q1bdfToUXl4eKhmzZoKCwtTy5YttXPnzpvah9jYWG3YsCHLuUpm9u3bp2XLlmW43aSkJJ07dy7bPnddGR+ruVpmTp06pTlz5qhevXrKly9fuv1u9lg2xuj777/Xnj171LBhw3T7uXI8pZd//vLLLw5TDeRk3uHKeLlyPG3cuFFBQUGqU6eOve3ee+9VUFCQQ77trrwjq6/Zxo0bFRUVJR8fH3tbixYt9Ndff6U757izvD6n8o6svm5btmzR1atXHd5/4eHhqlatWrrff5zl9u7MO6y+z9u0aaPg4GDVr19f8+fPT7M8s9w+t+QdVt/7c+bMUdGiRVW1alW98sorOnfunMPyzPJ9d+Yd58+fV+nSpVWiRAk98MADio2NzbC/leMuuz/HUsvoPNm7d28VLVpUd999tz744AMlJSWlux0rx5x0c59ZyblLkyZN0kxN60xm78HExET5+vo6tPn5+enPP//UoUOHnG4zJ/OOrIyPdCNX7tixoyZNmqTQ0NA0y638PiVZH8OsHk+ujI+reXxO5B1ZGa/ExETZbDaHc4evr688PDzsY+FqHu+OvMPqZ/8PP/ygL774Qv/9739deh5n3yGyO+9IzdkYWskFXBlDV3LH7PruPG3aNHXo0MFhuvrMOPsu5srvH7kZRZZsdvDgQYcf5yUpPj5eISEhDm2FChWSt7e34uPjXdruyZMn9eabb+r555+3tzVu3Fjx8fEaN26crly5otOnT+vVV1+VpDTzCXbs2FH+/v4qXry4AgMD9fHHH2dpv5ztQ0hIiMvxJyYmas6cORl+CB07dkzffvutnnnmmQy3NWjQIBUvXlxNmzZ16bkzkl3jNW3aNFWuXFn16tXLsE+LFi1UsmTJdPts3LhR8+bNcxj3W2X+/PnavHmznnrqKXvbH3/8oUGDBmnOnDkOxYiU1q9fr2nTpumjjz5ye0zOxssdnB1fxhh169ZNPXr0SDfRSUxMVMeOHTVu3DiVKlXK7XG5ypXjKz0HDhzQ/Pnzdf36dS1dulSvv/663nnnHb311ltuiS27xsyVY8yZAwcOKCkpSTExMZowYYLmz5+vU6dOqVmzZlmezzkld52X6tWrpzlz5ujxxx+Xt7e3QkNDVbBgQU2cONHep0OHDnrzzTd13333KV++fCpXrpwaNWqkQYMG3dRzp8eVMXTXucpms2nFihWKjY1VQECAfH199e6772rZsmX2OXgDAgK0evVqzZ49W35+fipQoIC+++47LV26NN3zkitcGcMDBw7o0KFD+uKLL/S///1PM2fO1JYtW/Too4869Fm3bp127NihRYsW2d9nvXr1shxbVrhrvA4cOCDpxv2fnn32WS1btkx33XWXmjRpoj/++CNNn9dff13ffPONChUqpKioKIcfyl1VokQJ+fj4qHbt2urVq1em+YCr6tWrJ19fX5UvX14NGjTQiBEj0u37zjvv6MKFC2rfvr1bnju1jMbnZnO19AwcOFD58+dXkSJFdPjwYX311Vfp9r2ZY/ns2bMqUKCAvL291bp1a02cOFHNmjVLt78rx1N6+ee1a9f0zz//SMq5vCMr4+XK8RQfH6/g4OA06wYHB9vzT3flHVZes/TGInlZaunl9TmRd1h53eLj4+Xt7a1ChQo5tGf0/cdZbu+uvMPKmBUoUEDjx4/X/PnztXTpUjVp0kSPP/64Zs+ebe/jSm6fG/IOq+/9zp0769NPP9Xq1as1ZMgQLViwwOF+A67k++7KOypVqqSZM2dq8eLF+vTTT+Xr66v69evbzwHOZPW4k7L/cyy19M6Tb775pr744gutXLlSHTp0UP/+/dPccyslK8fc/v37NXHiRPXo0SNLMYeFhWnq1KlasGCBFi5cqIoVK6pJkyb68ccf013HlfdgixYttHDhQn3//fdKSkrS3r177ffaTO9+DzmVd2R1fCTp5ZdfVr169dS2bVuny7Py+1Qyq3mHlePJlfFxJY/Pibwjq+N17733Kn/+/Bo4cKAuXryoCxcu6D//+Y+SkpIc9lXKOI93V95h5bP/5MmT6tatm2bOnKnAwMAMt5/Rd4jszjtSczaGVnIBV8bQldwxO747//zzz9qxY4fL39Uy+i7myu8fuVqOXkdzG2jevLnp2bOnQ9uzzz5rmjdvnqZvvnz5zKeffprpNs+ePWvq1Klj7r///jSXuM2ZM8eEhIQYT09P4+3tbV555RUTEhJixowZ49Dv2LFjZvfu3ebLL780VapUMS+88EKW9itfvnxm7ty5Dm3J8/O6Yu7cucbLyyvDeTJjYmJMkSJFnM4TnGzMmDGmUKFC5tdff3W6XFm8vC87xuvixYsmKCjIYa7c1I4cOWI8PDyczimebMeOHaZYsWLmzTffzPQ5M2LlkrpVq1aZ/PnzO0ybc+3aNVO7dm0zZcoUe1vqKQUSEhJMRESEWbp0qb3NnZfPOhuvlKxMPZXe8fXee++ZevXq2efmdTblwssvv2wef/xx++ObufQ8mZXxcuX4Sm+6hPLly5uSJUs6zEH8zjvvmNDQ0DR9szpexmTPmLlyjKV3OfFbb71lJJnvvvvO3nb8+PFMpyLISGbnJWfSOy527txpwsLCzNixY82vv/5qli1bZqpXr+4wLdqqVatMSEiI+eijj8z27dvNwoULTcmSJZ1OPWhlzFLLbAytnKvSO1aSkpJMmzZtTMuWLc26devMli1bzAsvvGCKFy9u/vrrL2PMjfG/5557zJNPPml+/vlns3HjRvPII4+YqlWrujyXdGqujuGzzz5rn8M72ZYtWxwuyW7WrJnx9fV1mPN9wYIFxmazpYkvOy55dtd4rV+/3khymDPXGGOqV69uBg0aZIy5kYNIcpj3+PLly6Zo0aLmgw8+yHLsBw4cMNu3bzdTp041hQsXTpN3pCez88jhw4fNzp07zdy5c03x4sXT5EjJ5s6da/z9/dPcYyeZO8Yro/Gxmqtl9tlz4sQJs2fPHrN8+XJTv35906pVK6fTltxs3nH9+nXzxx9/mNjYWPP222+boKAgs2rVqnT7u3I8lS9f3sTExDist27dOiPJHDt2LEfzjqyMlyvH01tvvWUqVKiQZt077rjDjBo1yhjjnrwjq69ZsmbNmpnnnnvOoe3PP/80kszGjRvT9E8vr8+JvMPK6zZnzhzj7e2dpr1p06bm+eefT9OeXm7vjrzD6pg507t3b1O9enVjjGu5vTG5I+9wV879yy+/GElmy5YtxhjX8v3syDuMuXHOvPPOO82LL76Ybp+sHne34nMstczyjmRvv/22CQwMTHd5Vo+5o0ePmjvuuMM8/fTTWQs4HQ888IB58MEH013uynswKSnJDBgwwPj6+hpPT09TqFAhM2zYMCPJbNq0Kc02czrvSCmz8fnqq6/MHXfc4XAvTGfHu6u/Txnjvt87jHHteHJlfDLL43P6945kmY2XMTemmypbtqyx2WzG09PTdOnSxdx11132fMWVPN5d596sfPYne/jhh83AgQPtjzOaLiyj7xDZnXek5mwMreYCmY2hK7ljdnyGPffcc6ZatWou98/ou5grv38ky43ThVFkyWadOnVKc+PLIUOGmBo1aji0Jc+l98MPP2S4vYSEBFO3bl3TpEkTc+nSpXT7xcfHm3Pnzpnz588bDw8PM2/evHT7rl271kiy/2DlipIlS5rx48c7tI0fP96UKlXKpfUbN27s9MZFyZKSkswdd9zh9AaKycaNG2eCgoLM5s2b0+2T1ZOiu8fLGGP+97//mXz58pnjx4+n22fEiBGmWLFi6c4LuXPnThMcHGxeffVVF/YiY1k9Ea1evdoUKFAgzQ2HT58+bSQZT09P+5/NZrO3ff/99/Y5V1P3Sf5QSD3nozvGK6Ws/mCf0fHVtm1b4+Hh4bAvyfv25JNPGmOMufPOOx36eHh42Pu88cYbLseRkpUPjsyOL2PSL7I0bNjQNGnSxKFt6dKlRlKaH0asJB3uHjNjXDvG0kvCpk+fbiSZI0eOOLQHBwebqVOnZikOY1w7LzmTXjLepUuXNHMFpz5n33fffeaVV15x6JN808iUcyAb455EMaMxtHquSi9BX7lyZZq5Z41xTBQ//vjjNPM9JyYmGn9/f5cK4allZQzfeOMN4+Xl5dB28eJFI8ksX77cGGPMk08+acqVK+fQJ3m+3L179zq0Z0ei6K7xOnDggJFkPvnkE4f29u3bm06dOhljjPnhhx+MJLN27VqHPvfcc89Nf369+eabTr80OJOV80jysZL65rafffaZ8fPzM998802667pjvDI7JybLSq6WlS+8R44cMZLS3IzTnXlHsqefftrpf1pJ5srx1KBBA9OnTx+HPgsXLjReXl7mypUrOZ53JMtsvFw5nqZNm+b0cysoKMhMnz7dGOOevCOrr1myJ554wrRp08ahbevWrUaSOXDggEN7Rnl9TuQdVl635HnnT5065dBeo0YNp+ukl9u7I++wOmbOzJ492/j6+hpjXMvtjckdeYe7cu6kpCSH+364ku+7O+9I6Zlnnklz39OUsnLc3arPsdRcPU8mF8jj4+OdLs/KMXf06FFToUIF88QTT6R5D1o1cuTINPcASykr78Fr166ZP//80yQmJtrPb3///bdDn9yWd2Q2Pi+99JL9nJPyWPHw8DBRUVFp+mf2+1R25B2ZHU/JMhqfzPL43JJ3ZDZeKZ04ccKeI4aEhJixY8caY1zL49117s3KZ3+yoKAgh9c55XNPmzYt3edK/R0iu/OO1JyN4c3mAumNoSu5o7s/wy5cuGACAwPNhAkTsryuMWm/i7ny+0ey3FhkYbqwbFazZk3t2rXLoa1u3brasWOHwyWSy5cvl4+Pj32OeWcSEhLUvHlzeXt7a/HixWnmj0wpJCREBQoU0Oeffy5fX98Mp2cwxki6cemfq+rWrasVK1Y4tC1fvtylqXri4uK0atWqDKcyWrNmjfbt25dun3HjxunNN9/UsmXL3Hp/B3eOV7Jp06apTZs2KlasmNPlxhjNmDFDTz75pNM50Xfu3KlGjRqpa9eu2XYJY3pWr16t1q1ba/To0XruuecclgUGBuq3337Ttm3b7H89evRQxYoVtW3bNtWpU0eVKlVK06dNmzZq1KiRtm3bluHUaK5wNl5WZXZ8vf/++/r111/t+7F06VJJ0ueff24flwULFjj0SZ4qZO3atbdsaiBXjq+M1K9fX/v27XOY03Xv3r0KCwuTt7f3TcfnzjFLltkxlpH69etLkvbs2WNvO3XqlP75558sz0maHeelixcvppnr1tPTU9L/nbvT62Nu/EcKt8SRUnpjmB3nqosXL0pSmv3z8PCwv0eT999mszkst9lsmc4lnVpWx7B+/fq6du2a9u/fb2/bu3evJNnfP/Xr19dff/2l8+fPO/Tx8PBQiRIlshSfFe4ar4iICIWHhzscK9KNfUne11q1asnHx8ehz9WrV3Xw4MGbmuNXuvF+z0qekpXtXr161eFY+fTTT9WtWzfNnTs32+f/dfWcaCVXc4Wz7WZX3pHZGLpyPKWXf9auXVv58uXLNXlHZuPlyvFUt25dnT171n7fC0natGmTzp49a8+33ZF3WH3N6tatqx9//NFhWovly5crPDxcERERDn0zyutzIu+w8rrVqlVL+fLlc3j/HTt2TDt27Ejz/Sej3N4deYc73+exsbEKCwuT5FpuL+WOvMNdOffOnTt19epV+2vgSr7vzrwjJWOMtm3bZo/FGVePu1v5OZaaq+fJ2NhY+fr62qd/Tc3VY+7o0aOKjo7WXXfdpRkzZrjtnpgpjw1nsvIe9PT0VPHixeXt7a1PP/1UdevWdZjSJzfmHZmNz6BBg7R9+3aH84Ukvfvuu5oxY0aa/hn9PpUdeYcrx1OyjMYnszw+t+QdmY1XSkWLFlXBggX1ww8/6Pjx42rTpo0k1/J4d517rXz2b9y40eF1HjFihAICArRt2zY9/PDD6T5X6vwzu/OO1JyN4c3mAumNoSu5o7s/w+bNm6fExER16dIly+tKab+LufL7R652S0s6t6Ht27cbLy8vh/+Bce3aNVOtWjXTpEkTs3XrVrNy5UpTokQJ07t3b3ufP//801SsWNF+mWJCQoKpU6eOqV69utm3b585duyY/S/l/76cOHGi2bJli9mzZ4+ZNGmS8fPzM++99559+ZIlS8z06dPNb7/9ZuLi4sySJUtM1apVTf369bO0X+vXrzeenp5m9OjRZvfu3Wb06NHGy8vL/PTTTw6xNG7cOM26r7/+ugkPD0/zv0ZT6tKli6lTp47TZWPGjDHe3t5m/vz5Dq9DyktVkymLlWd3jVeyP/74w9hsNvPtt9+m+5wrV640ksyuXbvSLEu+ZLZz584O+5rR/9h3JjEx0cTGxprY2FgTFhZmXnnlFRMbG2v++OMPe5/U47Vq1Srj7+9vBg8e7PDcJ0+eTPd5XPnfw+68fNbZeBlj7NOTPP/886ZChQr2fU/+nwlWj6+UnE0fkJrVy2etjFeyzI6v5O3WqlXLdOrUycTGxpqdO3falx8+fNgUKFDA9O7d2+zZs8d88803Jjg42IwcOTLNtrI6Xsa4b8xSrpfRMXbo0CETGxtrhg8fbgoUKGDfbsrzRdu2bU3VqlXN+vXrzW+//WYeeOABU6VKlXSvLHPGlfOSszHbuXOniY2NNQ8++KCJjo62x5dsxowZxsvLy0yePNns37/frFu3ztSuXdvcc8899j5Dhw41AQEB5tNPPzUHDhwwy5cvN+XKlTPt27dPE6eVMUvN2Ri6cq5yNobHjh0zsbGx5qOPPjKSzI8//mhiY2Pt55kTJ06YIkWKmHbt2plt27aZPXv2mFdeecXky5fPbNu2zRhjzO7du42Pj4954YUXzK5du8yOHTtMly5dTFBQUJau0LQyhtevXzd33XWXadiwodm6dav55ZdfTJ06dUyzZs3sfc6dO2dKlChhHn30UbNz506zZs0aU758efPMM8+kiSE7/jeOO8fr3XffNYGBgeaLL74wf/zxh3n99deNr6+vw//Se+mll0zx4sXNd999Z37//Xfz9NNPm+Dg4DTHfEYmTZpkFi9ebPbu3Wv27t1rpk+fbgIDA81rr71m77Nw4UJTsWJFh/UyO4/Mnj3bfP7552bXrl1m//79Zt68eaZ48eKmc+fO9m0kT7f43//+1+G1STlNRDJ3jJez8XElV7NyPG3atMlMnDjRxMbGmoMHD5offvjB3HfffaZcuXLm8uXLxhj35R0xMTFm+fLlZv/+/Wb37t3mnXfeMV5eXuajjz6y97FyPB04cMD4+/ubl19+2ezatctMmzbN5MuXL8PpVrM777A6Xq4cT/fff7+pUaOG2bhxo9m4caOpXr26eeCBB9KNzx3TlBrj/DVLPV5nzpwxISEhpmPHjua3334zCxcuNIGBgU6n7swor8+pvCMlZ6+bszHr0aOHKVGihFm5cqXZunWrady4sbnzzjvT5FwZ5fbGuCfvSM2VMZs5c6aZM2eO2bVrl/n999/NuHHjTL58+dLMTpCSs9w+N+Qdqbkyhvv27TPDhw83mzdvth+rlSpVMjVr1sxSvu+uvGPYsGFm2bJlZv/+/SY2NtY89dRTxsvLy+E9Z+W4u9WfY6k5G6/FixebqVOnmt9++83s27fPfPTRRyYwMNDhykQrx1zyFGGNGzc2f/75p8P+ZsW7775rFi1aZPbu3Wt27NhhBg0aZCSZBQsW2Ps4yztScvYePHHihJkyZYrZvXu3iY2NNX369DG+vr4O+5gb8g6r45Oas+M9s9+n3JV3WDmeXBmfrOTxybI777A6XtOnTzcbN240+/btM5988okpXLiw6devn8PzZTWPt5p3uPLZn97vHcmczVThyneI7M47UkvvMyyzXMDqGGaWO7rrMyzZfffd5zCFXEqpx9CV72Ku/P6RLDdeyUKR5Ra4995708xFfujQIdO6dWvj5+dnChcubHr37m3/gmvM/yV0yXNXJ5+8nP3FxcXZ13viiSdM4cKFjbe3t6lRo4b53//+5/C8P/zwg6lbt64JCgoyvr6+pnz58mbgwIFpToqSzIwZMzLcry+++MJUrFjR5MuXz1SqVMkhCTHmRgJeunRph7br16+bEiVKZHgZ6JkzZ4yfn1+6l8mVLl3a6eswdOjQNH2tnBTdMV7JBg8ebEqUKJHhZcsdO3Y09erVc7ps6NChTvc19eua2Xglx5f6L+WlvKnHq2vXrpmu4yzeW1lkMcb5eEVFRWV4rFg9vlK6mSJLdoyXMa4dX668nzZs2GDq1KljfHx8TNmyZc1bb73l9Mun1aTDHWOWLLNjLL33ccrtnD171nTv3t0ULFjQFC5c2Dz88MPm8OHDafY1ozFz5bzkbMzSWy+l999/31SpUsX4+fmZsLAw07lzZ/Pnn3/al1+9etUMGzbMlCtXzvj6+pqSJUuanj17Ok123ZEoGpN2DF05Vzkbw/TWS/lab9682TRv3twULlzYBAQEmHvvvddh3mNjjP3eEkFBQaZQoUKmcePGaeYmz64xPHr0qGnXrp0pUKCACQkJMd26dUtTjN69e7dp2rSp8fPzMyVKlDD9+vVzOudtdiWK7hovY4wZNWqUKVGihPH39zd169ZNM6XAlStXTP/+/U1wcLAJCAgwTZs2NTt27HDoU7p0aaef2cnef/99U7VqVePv728CAwNNzZo1zeTJkx2O8xkzZqQ5VjI7j3z22WfmrrvuMgUKFDD58+c3VapUMTExMQ7TQ6a3ja5du6aJ013jlXp8XMnVrBxP27dvN40aNTKFCxc2Pj4+JiIiwvTo0cPhfOKuvOO1114zd9xxh/H19TWFChUydevWtU/Hk/K5rBxPq1evNjVr1jTe3t4mIiLC4f4RzmR33mF1vIzJ/Hg6efKk6dy5swkICDABAQGmc+fOGf6QYTXvSM3Za+ZsvLZv324aNGhgfHx8TGhoqBk2bFia+/tkltcbkzN5R0rOXjdnY3bp0iXTu3dvU7hwYePn52ceeOCBNPmCMRnn9sa4J+9IzZUxmzlzpqlcubLx9/c3AQEBplatWmmmrEvNWW6fG/KO1FwZw8OHD5uGDRvavyuXK1fO9OnTJ8P/QJZevu+OvKNv376mVKlSxtvb2xQrVsw0b948zdSNVo67nPgcSy31eH377bcmMjLSFChQwPj7+5tq1aqZCRMmmKtXr9r7WDnmknOBzHLpzPKOMWPG2N/PhQoVMvfdd59ZsmSJQx9neUdK6RVZ7r33XpM/f37j7+9vmjRp4vCfUo3JHXmH1fFJzdnxntnvU+7KO6wcT66MjzGu5/HJsjvvsDpeAwcONCEhISZfvnymfPny5p133knzme1KHp/SzeQdmX32Ozv/peSsyOLKdwhXnjvlfmTXZ1hmuYDVMXQld3THZ5gxxuzZs8dI/zetb2qpx9CV72LGZP77RzKKLLepJUuWmMqVK7ttftDsFhcXZ7y8vNLMFZ8XWTkpMl45h/HKW6wmHYxZznFXosgYZo/sShRz03hdvHjR+Pr6unRPs9zOXeOVm8bHFXnleHIFeUfeQt6R95B35O4xJO/IW8g7cvfx5AryjryFz7DcPYa5scjCPVlugVatWun555/X0aNHczoUlyxbtkzPPfecypcvn9OhWNajRw8VKFDA0rqM163HeOUtNzNeEmOWE252zFJjDN0rJiZGBQoU0OHDh7Nl+7lpvNasWaPGjRurUaNGOR2KZe4er9w0Pq7I7ceTK8g78hbyjryHvCN3jyF5R95C3pG7jydXkHfkLXyG5e4xzO7PsJthMyYv3DkGyJrjx48rISFBkhQWFqb8+fPncETICOOVtzBeeQ9jlrudOnVKp06dkiQVK1ZMQUFBORwRMsJ45X2cE/MWxivvYcxyNz7H8hbGK+/jnJi3MF65W24+J1JkAQAAAAAAAAAAsIDpwgAAAAAAAAAAACygyAIAAAAAAAAAAGABRRYAAAAAAAAAAAALKLIAAAAAAAAAAABYQJEFAAAAAAAAAADAAoosAAAAAPKcmTNnqmDBgukuP3jwoGw2m7Zt23bLYspIt27d9NBDD2VpnWHDhikyMtLt2wUAAADgPl45HQAAAAAA/FscPHhQZcqUUWxsbKYFEnd47733ZIzJ9ucBAAAA4BxFFgAAAAC51pUrV+Tt7Z3TYeRaQUFBOR0CAAAAcFtjujAAAAAAlnz99dcqWLCgkpKSJEnbtm2TzWbTf/7zH3uf559/Xh07drQ/XrBggapWrSofHx9FRETonXfecdhmRESERo4cqW7duikoKEjPPvuspBvTg5UqVUr+/v56+OGHdfLkySzHu2vXLrVq1UoFChRQSEiInnjiCf3zzz/25dHR0erTp48GDBigwoULKzQ0VMOGDXPYxu+//6777rtPvr6+qlKlilauXCmbzaYvv/xSklSmTBlJUs2aNWWz2RQdHe2w/ttvv62wsDAVKVJEvXr10tWrVzON+8MPP1TJkiXl7++vxx57TGfOnLEvSz1dmCv7AAAAAMB9KLIAAAAAsKRhw4Y6d+6cYmNjJUlr1qxR0aJFtWbNGnuf1atXKyoqSpK0ZcsWtW/fXh06dNBvv/2mYcOGaciQIZo5c6bDdseNG6dq1appy5YtGjJkiDZt2qTu3burZ8+e2rZtmxo1aqSRI0dmKdZjx44pKipKkZGR+uWXX7Rs2TL9/fffat++vUO/WbNmKX/+/Nq0aZPGjh2rESNGaMWKFZKkpKQkPfTQQ/L399emTZs0depUvfbaaw7r//zzz5KklStX6tixY1q4cKF92apVq7R//36tWrVKs2bN0syZM9Pse2r79u3TvHnz9PXXX2vZsmXatm2bevXqleE6Ge0DAAAAAPdiujAAAAAAlgQFBSkyMlKrV69WrVq1tHr1ar388ssaPny4zp07pwsXLmjv3r32qznGjx+vJk2aaMiQIZKkChUqaNeuXRo3bpy6detm327jxo31yiuv2B+/8cYbatGihQYNGmRfb8OGDVq2bJnLsU6ZMkV33XWXYmJi7G3Tp09XyZIltXfvXlWoUEGSVKNGDQ0dOlSSVL58eU2aNEnff/+9mjVrpuXLl2v//v1avXq1QkNDJUlvvfWWmjVrZt9msWLFJElFihSx90lWqFAhTZo0SZ6enqpUqZJat26t77//3n61jjOXL1/WrFmzVKJECUnSxIkT1bp1a73zzjtptp8so30AAAAA4F5cyQIAAADAsujoaK1evVrGGK1du1Zt27ZVtWrVtG7dOq1atUohISGqVKmSJGn37t2qX7++w/r169fXH3/8oevXr9vbateu7dBn9+7dqlu3rkNb6seZ2bJli1atWqUCBQrY/5Lj2r9/v71fjRo1HNYLCwvT8ePHJUl79uxRyZIlHYob99xzj8sxVK1aVZ6enk63nZ5SpUrZCyzSjf1OSkrSnj170l0no30AAAAA4F5cyQIAAADAsujoaE2bNk2//vqrPDw8VKVKFUVFRWnNmjU6ffq0faowSTLGyGazOaxvjEmzzfz582faJ6uSkpL04IMPasyYMWmWhYWF2f+dL18+h2U2m81+zxln8WdFRtt2VfLzZxSHO54HAAAAgGsosgAAAACwLPm+LBMmTFBUVJRsNpuioqI0atQonT59Wi+99JK9b5UqVbRu3TqH9Tds2KAKFSo4XOGRWpUqVfTTTz85tKV+nJm77rpLCxYsUEREhLy8rH0NqlSpkg4fPqy///5bISEhkqTNmzc79PH29pYkhytzbsbhw4f1119/KTw8XJK0ceNGeXh42Kc3AwAAAJCzmC4MAAAAgGXJ92WZPXu2/d4rDRs21NatWx3uxyJJ/fv31/fff68333xTe/fu1axZszRp0iSH+68406dPHy1btkxjx47V3r17NWnSpCzdj0WSevXqpVOnTqljx476+eefdeDAAS1fvlzdu3d3uSDSrFkzlStXTl27dtX27du1fv16+43vk68sCQ4Olp+fn5YtW6a///5bZ8+ezVKcqfn6+qpr16769ddftXbtWvXp00ft27dP934sAAAAAG4tiiwAAAAAbkqjRo10/fp1e0GlUKFCqlKliooVK6bKlSvb+911112aN2+ePvvsM1WrVk1vvPGGRowY4XDTe2fuvfdeffzxx5o4caIiIyO1fPlyvf7661mKMTw8XOvXr9f169fVokULVatWTS+99JKCgoLk4eHa1yJPT099+eWXOn/+vO6++24988wz9jh8fX0lSV5eXnr//ff14YcfKjw8XG3bts1SnKndcccdateunVq1aqXmzZurWrVqmjx58k1tEwAAAID72Iw7JjgGAAAAgNvQ+vXrdd9992nfvn0qV65cTocDAAAA4BajyAIAAAAALlq0aJEKFCig8uXLa9++fXrppZdUqFChNPeaAQAAAHB74Mb3AAAAAOCic+fOacCAATpy5IiKFi2qpk2b6p133snpsAAAAADkEK5kAQAAAAAAAAAAsIAb3wMAAAAAAAAAAFhAkQUAAACWtGvXTm3btpUkLV26VMOGDcv257x48aKGDRum1atXO13++eefq2rVqvLz85PNZtO2bds0bNgw2Ww2h37R0dGKjo7O9nj79eunO++8UzabzaW/1atXa/Xq1bLZbJo/f362x5daQkKC3nrrLdWuXVuBgYHy8fFRRESEunfvrq1bt2Z5ewcPHpTNZtPMmTPtbTNnzpTNZtPBgwfdF3gKsbGxioqKUlBQkGw2myZMmJBh/+T3R2Z/ye+X6OhoVatWLVtid+btt9+WzWbTpk2bHNqTkpJUuHBh2Ww27dmzx2HZlStX5O/vr3bt2kly/pp369ZNERERLsVgs9kyPb7/+usvDRs2TNu2bXNpm87MnTs30/HC/7l+/brGjx+v+++/XyVKlJC/v78qV66sQYMG6cyZM2n6p/feHj169K0PHgAA4F+Ee7IAAAAgyy5cuKBly5bpgw8+kHSjyPLf//432wstFy9e1PDhwyUpTZHkxIkTeuKJJ3T//fdr8uTJ8vHxUYUKFfTMM8/o/vvvz9a40rNw4UJ1795dH374oUP7m2++qVWrVumHH35waK9SpYqlYoY77N+/X82bN9fx48fVo0cPDR8+XAUKFNDBgwc1b9481apVS2fOnFFQUFCOxOeq7t2768KFC/rss89UqFChTAsJqd8fx44dU7t27fTiiy+qU6dO9vbAwMDsCjlDjRo1kiStWrVKderUsbf/+uuvOn36tPLnz69Vq1apYsWK9mWbNm3SpUuX7Ou2bt1aGzduVFhYWLbF+ddff2n48OGKiIhQZGSkpW3MnTtXO3bsUN++fd0a27/VpUuXNGzYMHXs2FHPPPOMihYtqq1bt2rkyJH6+uuv9csvv8jPz89hnUcffVT9+/d3aCtVqtStDBsAAOBfhyILAAAAsmzp0qW6du2aHnzwwZwOxW7v3r26evWqunTpoqioKHu7v7+/SpQoccvj2bx5sw4dOqRHHnlEVatWdVhWrFgxeXh46N57773lcTlz/fp1Pfzww/rnn3+0ceNGhys1oqKi1LVrV3377bfKly9fDkbpmh07dujZZ59Vy5YtXepfokQJh/dH8tUepUqVyhXjU7NmTRUsWFCrV6/WoEGD7O2rV69WeHi4oqKitGrVKvXo0cNhmfR/BZpixYqpWLFitzRuZD8/Pz/FxcWpSJEi9rbo6GiVKlVKjz32mBYsWKAuXbo4rBMSEpIr3tcAAAD/JkwXBgAAgCxbsGCBGjdurEKFCqlbt27673//K8lxOprkH6uNMZo8ebIiIyPl5+enQoUK6dFHH9WBAwfs2/vss89ks9k0adIkh+cZOnSoPD09tWLFCh08eND+Q/Hw4cPtz9OtWzd169ZN9913nyTp8ccfd5jeydl0Yc5cuXJFI0eOVKVKleTj46NixYrpqaee0okTJxz6/fDDD4qOjlaRIkXk5+enUqVK6ZFHHtHFixfTvEYVK1ZMU2Bx1dWrV/Xaa68pPDxcgYGBatq0aZppoSRp5cqVatKkiQIDA+Xv76/69evr+++/z9Jzffnll/rtt980ePDgdKfCatmypfz9/SVJ+/bt01NPPaXy5cvL399fxYsX14MPPqjffvst6zvqoh07dqht27YqVKiQfH19FRkZqVmzZtmXJ0+Jde3aNU2ZMsX+/sgumzdvVoMGDeTv76+yZctq9OjRSkpKcuiTkJCgV155RWXKlJG3t7eKFy+uvn376sKFCy4/j4eHhxo2bKj169fr2rVr9vbVq1crOjpaUVFRaabPW716tYoVK2Z/77k6RVtCQoKeffZZFSlSRAUKFND999+vvXv3Zhrj6tWrdffdd0uSnnrqKftrP2zYMP3zzz8qWbKk6tWrp6tXr9rX2bVrl/Lnz68nnnhC0o3iwJIlS3To0CGH88jNMsYoJCREvXr1srddv35dhQoVkoeHh/7++297+/jx4+Xl5WWfaqtbt24qUKCAdu7cqSZNmih//vwqVqyYevfuneZ4t9ls6t27t2bMmKGKFSvKz89PtWvX1k8//SRjjMaNG6cyZcqoQIECaty4sfbt23fT++bp6elQYEl2zz33SJKOHDly088BAACAzFFkAQAAQJZcvnxZS5Ys0SOPPCJJGjJkiB599FFJ0saNG+1/yVMTPf/88+rbt6+aNm2qL7/8UpMnT9bOnTtVr149+w+cHTp0UI8ePdS/f3/98ssvkm4UM0aOHKlXX31VzZo1U1hYmJYtWyZJevrpp+3PM2TIEA0ZMsRe6ImJidHGjRs1efJkl/cpKSlJbdu21ejRo9WpUyctWbJEo0eP1ooVKxQdHa1Lly5JunGVQ+vWreXt7a3p06dr2bJlGj16tPLnz68rV644bHPBggX218iKV199VYcOHdLHH3+sqVOn6o8//tCDDz6o69ev2/vMnj1bzZs3V2BgoGbNmqV58+apcOHCatGiRZYKLcuXL5ckPfTQQy71/+uvv1SkSBGNHj1ay5Yt03//+195eXmpTp06TgtBN2vPnj2qV6+edu7cqffff18LFy5UlSpV1K1bN40dO1bS/02JJd2YEin5/ZEd4uPj1blzZ3Xp0kWLFy9Wy5YtNXjwYM2ePdve5+LFi4qKitKsWbPUp08fffvttxo4cKBmzpypNm3ayBjj8vM1atRI58+f1+bNmyXdeL/++OOPioqKUlRUlI4fP65du3ZJulEs3Lhxo6Kjo7NUpDDG6KGHHtInn3yi/v37a9GiRbr33ntduiLorrvu0owZMyRJr7/+uv21T57C6rPPPtPmzZs1cOBA+2vz2GOPqVSpUvYpBydPnqz69esrNDTU4Txys2w2mxo3bqyVK1fa23755RedOXNGvr6+DsfJypUrVatWLRUsWNDedvXqVbVq1UpNmjTRl19+qd69e+vDDz/U448/nua5vvnmG3388ccaPXq0Pv30U507d06tW7dW//79tX79ek2aNElTp07Vrl279Mgjjzi8B5KSknTt2rVM/1Ie/+lJnobQWYF37ty58vPzk4+Pj2rVqmUfNwAAANwEAwAAAGTBl19+aTw9Pc3x48ftbb169TLOUsuNGzcaSeadd95xaD9y5Ijx8/MzAwYMsLddvnzZ1KxZ05QpU8bs2rXLhISEmKioKHPt2jV7nxMnThhJZujQoWmea9WqVUaS+eKLLxzahw4dmia2qKgoExUVZX/86aefGklmwYIFDv02b95sJJnJkycbY4yZP3++kWS2bduWzqtzw7Zt24wks2XLFqfLu3btavLnz+90WfJ+tGrVyqF93rx5RpLZuHGjMcaYCxcumMKFC5sHH3zQod/169fNnXfeae65554MY0zp/vvvN5LM5cuXXV4npWvXrpkrV66Y8uXLm5dfftneHhcXZySZGTNm2NtmzJhhJJm4uDiXt9+hQwfj4+NjDh8+7NDesmVL4+/vb86cOWNvk2R69eplaT9Sxjxu3Diny6Oioowks2nTJof2KlWqmBYtWtgfjxo1ynh4eJjNmzc79Et+Dy1dutTlmJLfTzExMcYYY7Zs2WIkmd9//90YY0xISIiZNGmSMcaYNWvWOLxnjXH+mnft2tWULl3a/vjbb781ksx7773n8NxvvfVWusdcSsnHSsqxTmnMmDFGklm0aJHp2rWr8fPzM9u3b3fo07p1a4eY3OXjjz82kuzvn5EjR5pKlSqZNm3amKeeesoYY8yVK1dM/vz5zauvvmpfr2vXrhm+JuvWrbO3STKhoaHm/Pnz9rYvv/zSSDKRkZEmKSnJ3j5hwgQjyWH/k89Tmf1l9vr8+eefJiQkxNSuXdtcv37dYVmnTp3MnDlzzI8//mjmz59vWrZsaSSZ119/3cVXEgAAAM5wJQsAAACyZMGCBWrQoIFL93j45ptvZLPZ1KVLF4f/jR0aGqo777zTYZojHx8fzZs3TydPntRdd90lY4w+/fRTeXp6ZuPe/F+cBQsW1IMPPugQZ2RkpEJDQ+1xRkZGytvbW88995xmzZrlMOVZSgsWLFBERITuuusuyzG1adPG4XGNGjUkSYcOHZIkbdiwQadOnVLXrl0dYk5KStL999+vzZs3Z2laqqy4du2aYmJiVKVKFXl7e8vLy0ve3t76448/tHv3brc/3w8//KAmTZqoZMmSDu3dunXTxYsXs+2KlfSEhobap2RKVqNGDfvYSDfeU9WqVVNkZKTD+LRo0UI2my3NFF8ZqVGjhooUKWJfZ/Xq1QoNDbXf7L5hw4ZatWqVfZn0f/djcVXy+p07d3Zo79SpU5a2k57//Oc/at26tTp27KhZs2Zp4sSJql69ulu2nZmmTZtKkv1qlhUrVqhZs2Zq2rSpVqxYIenGVXgXLlyw900pvdck+TVL1qhRI+XPn9/+uHLlypJuTLWX8qqi5PaU75fnnntOmzdvzvTv66+/Tnc/T506pVatWskYo88//1weHo5f9+fMmaNOnTqpQYMGeuSRR7R06VI98MADGj16dJppEQEAAOA6iiwAAABw2dWrV/X111+7PA3W33//bb8nQr58+Rz+fvrpJ/3zzz8O/e+44w41aNBAly9fVufOne1TjmW3v//+W2fOnJG3t3eaOOPj4+1xlitXTitXrlRwcLB69eqlcuXKqVy5cnrvvfcctjd//vybmipMUpp7Lfj4+EiSfeqy5KnWHn300TQxjxkzRsYYnTp1yqXnKlWqlCQpLi7Opf79+vXTkCFD9NBDD+nrr7/Wpk2btHnzZt155532+Nzp5MmTTt8L4eHh9uW3krP7YPj4+Djs+99//63t27enGZuAgAAZY9K89zNis9kUFRWl9evX6+rVq1q1apWioqLsy6OiorRmzRoZY7Rq1SqFhoaqUqVKWdqnkydPysvLK82+hYaGZmk7Ge1Dt27ddPnyZYWGhtrvxXIrlC5d2n7sJhflkossf/75p/bs2aOVK1fKz89P9erVc1g3o9ck9fuucOHCDo+9vb0zbL98+bLDNiMjIzP9q1KlitN9PH36tJo1a6ajR49qxYoVKlu2rEuvTXIBPHmaRgAAAGSdV04HAAAAgLxj5cqVOnv2rB5++GGX+hctWlQ2m01r1661FwlSSt328ccfa8mSJbrnnns0adIkPf7446pTp45bYs8sziJFitjv+ZJaQECA/d8NGjRQgwYNdP36df3yyy+aOHGi+vbtq5CQEHXo0EG7d+/W7t27NW3atGyPWZImTpyoe++912mfkJAQl7bVokULTZ06VV9++aUGDRqUaf/Zs2frySefVExMjEP7P//843A/C3cpUqSIjh07lqb9r7/+kvR/r0VuUrRoUfn5+Wn69OnpLs+KRo0aaeHChdq0aZPWrl2rUaNG2ZdFRUXpn3/+0ZYtW/TTTz+5fHymVKRIEV27dk0nT550KCrEx8dneVvOHDt2TL169VJkZKR27typV155Re+//75btu2KJk2a6KuvvtKaNWuUlJSk6OhoBQQEKDw8XCtWrNDKlSvVoEGDNOekjF4TZ8U2q0aMGKHhw4dn2q906dI6ePCgQ9vp06fVtGlTxcXF6fvvv7df9eYK8//vC5P6qhcAAAC4jiILAAAAXLZgwQLde++9Kl68uEN7yqss/Pz87O3JU9EcPXpU7du3z3Dbv/32m/r06aMnn3xSH330kerVq6fHH39csbGxKlSoUJrncacHHnhAn332ma5fv+5yUcfT01N16tRRpUqVNGfOHG3dulUdOnTQggULFB4enm7hw13q16+vggULateuXerdu/dNbatt27aqXr26Ro0apQceeEDVqlVL0+e7775TgwYN5O/vL5vNlubH6CVLlujo0aO64447bioWZ5o0aaJFixbpr7/+sl+9Ikn/+9//5O/vn+2vtRUPPPCAYmJiVKRIEZUpU+amt5c8/de7776rs2fPKjo62r6satWqKlKkiEaNGqXLly9neaqw5O2PHTtWc+bMUZ8+feztc+fOdWn9jI7N69evq2PHjrLZbPr22281Z84cvfLKK4qOjla7du0ctpEdV0JJN6YMmzp1qiZMmKB7773XXjhNfm9t3rw5TdEwWXqvScoxuFnPPfecHnjggUz7pT7ukgssBw4c0IoVK1SzZs0sPe8nn3yifPnyqVatWllaDwAAAP+HIgsAAACcWrNmjZo0aaI33nhDb7zxhq5fv66vvvrK6ZUOyfdWGDNmjFq2bClPT0/VqFFD9evX13PPPaennnpKv/zyixo2bKj8+fPr2LFjWrdunapXr64XXnhBFy5cUPv27VWmTBlNnjxZ3t7emjdvnu666y499dRT+vLLLyXduKKkdOnS+uqrr9SkSRMVLlxYRYsWVURExE3ta4cOHTRnzhy1atVKL730ku655x7ly5dPf/75p1atWqW2bdvq4Ycf1gcffKAffvhBrVu3VqlSpXT58mX7lQrJ93KYP3++2rVr53APhuxQoEABTZw4UV27dtWpU6f06KOPKjg4WCdOnNCvv/6qEydOaMqUKS5ty9PTU4sWLVLz5s1Vt25dvfDCC/b7Sxw6dEjz58/X119/rdOnT0u6UUCYOXOmKlWqpBo1amjLli0aN26cSpQokS37OnToUH3zzTdq1KiR3njjDRUuXFhz5szRkiVLNHbsWAUFBWXL896Mvn37asGCBWrYsKFefvll1ahRQ0lJSTp8+LCWL1+u/v37Z+kqrapVqyo4OFiLFi1SsWLF7Pf1kG5MxdWwYUMtWrRIUtbvxyJJzZs3V8OGDTVgwABduHBBtWvX1vr16/XJJ5+k6Zv63CDdmErPz89Pc+bMUeXKlVWgQAGFh4crPDxcQ4cO1dq1a7V8+XKFhoaqf//+WrNmjZ5++mnVrFnTXoSqXr26Fi5cqClTpqhWrVry8PBQ7dq1s7QfBw8eVJkyZdS1a1fNnDnT3t64cWPZbDYtX77c4YqRpk2bqmvXrvZ/p+bt7a133nlH58+f1913360NGzZo5MiRatmype67774sxZaR5NcqKy5duqQWLVooNjZWEyZM0LVr1/TTTz/ZlxcrVkzlypWTJI0bN067du1SkyZNVKJECR0/flzTpk3T8uXLNWzYsFx5NRgAAEBeQZEFAAAAThljdP36dSUlJUm6cUPtf/75x+F/nifr1KmT1q9fr8mTJ2vEiBEyxiguLk4RERH68MMPde+99+rDDz/U5MmTlZSUpPDwcNWvX99+8/AePXro8OHD2rx5s/3G0WXLltXHH3+sxx57TBMmTFDfvn0lSdOmTdN//vMftWnTRomJiWl+TLXC09NTixcv1nvvvadPPvlEo0aNkpeXl0qUKKGoqCh7ESkyMlLLly/X0KFDFR8frwIFCqhatWpavHixmjdvrv379+vXX3/VhAkTbioeV3Xp0kWlSpXS2LFj9fzzz+vcuXMKDg5WZGSkunXrlqVtlStXTlu3btXEiRO1aNEiTZkyRYmJiQoLC1PDhg21bt06ezHjvffeU758+TRq1CidP39ed911lxYuXKjXX389G/ZSqlixojZs2KBXX31VvXr10qVLl1S5cmXNmDEjy/t5q+TPn19r167V6NGjNXXqVMXFxcnPz0+lSpVS06ZNLRUGo6OjNW/ePIf7sSSLiorSokWLVLx4cUtXE3l4eGjx4sXq16+fxo4dqytXrqh+/fpaunRpmvu7pD43SJK/v7+mT5+u4cOHq3nz5rp69aqGDh2q+vXra9SoURoyZIiaNGli7z9z5kzVrFlTjz/+uNatWydvb2+99NJL2rlzp1599VWdPXtWxhj7dFauOn/+vCSluYdPkSJFFBkZqdjYWIdiSvK/k5enli9fPn3zzTfq06ePRo4cKT8/Pz377LMaN25cluLKDn///bc2b94sSXrppZfSLE95bqxUqZIWL16sJUuW6PTp0/Lz81NkZKQ+/fRTdejQ4VaGDQAA8K9jM1nNWgEAAHBb6tmzpzZt2qQtW7bkdCi51tixY/X222/r2LFj8vT0zOlwgNvO5MmTNWDAAO3fv9/lexKlp1u3bpo/f769cAMAAAA4Q5EFAAAAAPCv8Nhjj6l8+fLp3l8lKyiyAAAAwBVMFwYAAAD8i127di3D5R4eHvLw8LhF0ThKnnYqI56enjd1f5vcvP9JSUkOU2454+XFV7as+OKLL3I6BAAAANxmcubbBAAAAIBsd/DgQeXLly/DvxEjRuRYfLNmzco0vjVr1tzUc2S2/e7du7tpb7Kue/fumcaHnDNz5kyuYgEAAECmmC4MAAAA+Je6cuWKtm/fnmGf8PBwhYeH36KIHJ08eVJxcXEZ9qlYsaICAgIsP8cvv/yS4fKiRYtaugm9Oxw8eFD//PNPhn1q1659i6IBAAAAYAVFFgAAAAAAAAAAAAuYLgwAAAAAAAAAAMAC7qKoGzec/OuvvxQQEHBTN9UEAAAAAAAAAAB5nzFG586dU3h4uDw80r9ehSKLpL/++kslS5bM6TAAAAAAAAAAAEAucuTIEZUoUSLd5RRZJPuNNI8cOaLAwMAcjgYAAAAAAAAAAOSkhIQElSxZ0l4/SA9FFsk+RVhgYCBFFgAAAAAAAAAAIEmZ3mKEG98DAAAAAAAAAABYQJEFAAAAAAAAAADAAoosAAAAAAAAAAAAFlBkAQAAAAAAAAAAsIAiCwAAAAAAAAAAgAUUWQAAAAAAAAAAACygyAIAAAAAAAAAAGABRRYAAAAAAAAAAAALKLIAAAAAAAAAAABYQJEFAAAAAAAAAADAAoosAAAAAAAAAAAAFlBkAQAAAAAAAAAAsMArpwMAgNwiYtCSnA7htnRwdOucDgEAAAAAAACwhCtZAAAAAAAAAAAALKDIAgAAAAAAAAAAYAFFFgAAAAAAAAAAAAsosgAAAAAAAAAAAFhAkQUAAAAAAAAAAMACiiwAAAAAAAAAAAAWUGQBAAAAAAAAAACwgCILAAAAAAAAAACABRRZAAAAAAAAAAAALKDIAgAAAAAAAAAAYAFFFgAAAAAAAAAAAAsosgAAAAAAAAAAAFhAkQUAAAAAAAAAAMACiiwAAAAAAAAAAAAWUGQBAAAAAAAAAACwgCILAAAAAAAAAACABTlaZPnxxx/14IMPKjw8XDabTV9++aXDcmOMhg0bpvDwcPn5+Sk6Olo7d+506JOYmKgXX3xRRYsWVf78+dWmTRv9+eeft3AvAAAAAAAAAADA7ShHiywXLlzQnXfeqUmTJjldPnbsWI0fP16TJk3S5s2bFRoaqmbNmuncuXP2Pn379tWiRYv02Wefad26dTp//rweeOABXb9+/VbtBgAAAAAAAAAAuA155eSTt2zZUi1btnS6zBijCRMm6LXXXlO7du0kSbNmzVJISIjmzp2r559/XmfPntW0adP0ySefqGnTppKk2bNnq2TJklq5cqVatGhxy/YFAAAAAAAAAADcXnLtPVni4uIUHx+v5s2b29t8fHwUFRWlDRs2SJK2bNmiq1evOvQJDw9XtWrV7H2cSUxMVEJCgsMfAAAAAAAAAABAVuTaIkt8fLwkKSQkxKE9JCTEviw+Pl7e3t4qVKhQun2cGTVqlIKCgux/JUuWdHP0AAAAAAAAAADg3y7XFlmS2Ww2h8fGmDRtqWXWZ/DgwTp79qz978iRI26JFQAAAAAAAAAA3D5ybZElNDRUktJckXL8+HH71S2hoaG6cuWKTp8+nW4fZ3x8fBQYGOjwBwAAAAAAAAAAkBW5tshSpkwZhYaGasWKFfa2K1euaM2aNapXr54kqVatWsqXL59Dn2PHjmnHjh32PgAAAAAAAAAAANnBKyef/Pz589q3b5/9cVxcnLZt26bChQurVKlS6tu3r2JiYlS+fHmVL19eMTEx8vf3V6dOnSRJQUFBevrpp9W/f38VKVJEhQsX1iuvvKLq1auradOmObVbAAAAAAAAAADgNpCjRZZffvlFjRo1sj/u16+fJKlr166aOXOmBgwYoEuXLqlnz546ffq06tSpo+XLlysgIMC+zrvvvisvLy+1b99ely5dUpMmTTRz5kx5enre8v0BAAAAAAAAAAC3D5sxxuR0EDktISFBQUFBOnv2LPdnAW5jEYOW5HQIt6WDo1vndAgAAAAAAACAA1frBrn2niwAAAAAAAAAAAC5GUUWAAAAAAAAAAAACyiyAAAAAAAAAAAAWECRBQAAAAAAAAAAwAKKLAAAAAAAAAAAABZQZAEAAAAAAAAAALCAIgsAAAAAAAAAAIAFFFkAAAAAAAAAAAAsoMgCAAAAAAAAAABgAUUWAAAAAAAAAAAACyiyAAAAAAAAAAAAWECRBQAAAAAAAAAAwAKKLAAAAAAAAAAAABZQZAEAAAAAAAAAALCAIgsAAAAAAAAAAIAFFFkAAAAAAAAAAAAsoMgCAAAAAAAAAABgAUUWAAAAAAAAAAAACyiyAAAAAAAAAAAAWECRBQAAAAAAAAAAwAKKLAAAAAAAAAAAABZQZAEAAAAAAAAAALCAIgsAAAAAAAAAAIAFFFkAAAAAAAAAAAAsoMgCAAAAAAAAAABgAUUWAAAAAAAAAAAACyiyAAAAAAAAAAAAWECRBQAAAAAAAAAAwAKKLAAAAAAAAAAAABZQZAEAAAAAAAAAALCAIgsAAAAAAAAAAIAFFFkAAAAAAAAAAAAsoMgCAAAAAAAAAABgAUUWAAAAAAAAAAAACyiyAAAAAAAAAAAAWECRBQAAAAAAAAAAwAKKLAAAAAAAAAAAABZQZAEAAAAAAAAAALCAIgsAAAAAAAAAAIAFFFkAAAAAAAAAAAAsoMgCAAAAAAAAAABgAUUWAAAAAAAAAAAACyiyAAAAAAAAAAAAWECRBQAAAAAAAAAAwAKKLAAAAAAAAAAAABZQZAEAAAAAAAAAALCAIgsAAAAAAAAAAIAFFFkAAAAAAAAAAAAsyNVFlmvXrun1119XmTJl5Ofnp7Jly2rEiBFKSkqy9zHGaNiwYQoPD5efn5+io6O1c+fOHIwaAAAAAAAAAADcDnJ1kWXMmDH64IMPNGnSJO3evVtjx47VuHHjNHHiRHufsWPHavz48Zo0aZI2b96s0NBQNWvWTOfOncvByAEAAAAAAAAAwL9dri6ybNy4UW3btlXr1q0VERGhRx99VM2bN9cvv/wi6cZVLBMmTNBrr72mdu3aqVq1apo1a5YuXryouXPn5nD0AAAAAAAAAADg3yxXF1nuu+8+ff/999q7d68k6ddff9W6devUqlUrSVJcXJzi4+PVvHlz+zo+Pj6KiorShg0b0t1uYmKiEhISHP4AAAAAAAAAAACywiunA8jIwIEDdfbsWVWqVEmenp66fv263nrrLXXs2FGSFB8fL0kKCQlxWC8kJESHDh1Kd7ujRo3S8OHDsy9wAAAAAAAAAADwr5err2T5/PPPNXv2bM2dO1dbt27VrFmz9Pbbb2vWrFkO/Ww2m8NjY0yatpQGDx6ss2fP2v+OHDmSLfEDAAAAAAAAAIB/r1x9Jct//vMfDRo0SB06dJAkVa9eXYcOHdKoUaPUtWtXhYaGSrpxRUtYWJh9vePHj6e5uiUlHx8f+fj4ZG/wAAAAAAAAAADgXy1XX8ly8eJFeXg4hujp6amkpCRJUpkyZRQaGqoVK1bYl1+5ckVr1qxRvXr1bmmsAAAAAAAAAADg9pKrr2R58MEH9dZbb6lUqVKqWrWqYmNjNX78eHXv3l3SjWnC+vbtq5iYGJUvX17ly5dXTEyM/P391alTpxyOHgAAAAAAAAAA/Jvl6iLLxIkTNWTIEPXs2VPHjx9XeHi4nn/+eb3xxhv2PgMGDNClS5fUs2dPnT59WnXq1NHy5csVEBCQg5EDAAAAAAAAAIB/O5sxxuR0EDktISFBQUFBOnv2rAIDA3M6HAA5JGLQkpwO4bZ0cHTrnA4BAAAAAAAAcOBq3SBX35MFAAAAAAAAAAAgt6LIAgAAAAAAAAAAYAFFFgAAAAAAAAAAAAsosgAAAAAAAAAAAFhAkQUAAAAAAAAAAMACiiwAAAAAAAAAAAAWUGQBAAAAAAAAAACwgCILAAAAAAAAAACABRRZAAAAAAAAAAAALKDIAgAAAAAAAAAAYAFFFgAAAAAAAAAAAAsosgAAAAAAAAAAAFhAkQUAAAAAAAAAAMACiiwAAAAAAAAAAAAWUGQBAAAAAAAAAACwgCILAAAAAAAAAACABRRZAAAAAAAAAAAALKDIAgAAAAAAAAAAYAFFFgAAAAAAAAAAAAsosgAAAAAAAAAAAFhAkQUAAAAAAAAAAMACiiwAAAAAAAAAAAAWUGQBAAAAAAAAAACwgCILAAAAAAAAAACABRRZAAAAAAAAAAAALKDIAgAAAAAAAAAAYAFFFgAAAAAAAAAAAAsosgAAAAAAAAAAAFhAkQUAAAAAAAAAAMACiiwAAAAAAAAAAAAWUGQBAAAAAAAAAACwgCILAAAAAAAAAACABRRZAAAAAAAAAAAALKDIAgAAAAAAAAAAYIFXTgcAAABwu4gYtCSnQ7gtHRzdOqdDAAAAAAD8S3ElCwAAAAAAAAAAgAUUWQAAAAAAAAAAACygyAIAAAAAAAAAAGABRRYAAAAAAAAAAAALKLIAAAAAAAAAAABYQJEFAAAAAAAAAADAAoosAAAAAAAAAAAAFlBkAQAAAAAAAAAAsIAiCwAAAAAAAAAAgAUUWQAAAAAAAAAAACygyAIAAAAAAAAAAGCBl5WVGjdurIULF6pgwYIO7QkJCXrooYf0ww8/uCM2AACQTSIGLcnpEAAAAAAAAPI8S1eyrF69WleuXEnTfvnyZa1du/amgwIAAAAAAAAAAMjtslRk2b59u7Zv3y5J2rVrl/3x9u3bFRsbq2nTpql48eJuDfDo0aPq0qWLihQpIn9/f0VGRmrLli325cYYDRs2TOHh4fLz81N0dLR27tzp1hgAAAAAAAAAAABSy9J0YZGRkbLZbLLZbGrcuHGa5X5+fpo4caLbgjt9+rTq16+vRo0a6dtvv1VwcLD279/vME3Z2LFjNX78eM2cOVMVKlTQyJEj1axZM+3Zs0cBAQFuiwW4lZjGBwAAAAAAAAByvywVWeLi4mSMUdmyZfXzzz+rWLFi9mXe3t4KDg6Wp6en24IbM2aMSpYsqRkzZtjbIiIi7P82xmjChAl67bXX1K5dO0nSrFmzFBISorlz5+r55593ut3ExEQlJibaHyckJLgtZgAAAAAAAAAAcHvI0nRhpUuXVkREhJKSklS7dm2VLl3a/hcWFubWAoskLV68WLVr19Zjjz2m4OBg1axZUx999JF9eVxcnOLj49W8eXN7m4+Pj6KiorRhw4Z0tztq1CgFBQXZ/0qWLOnWuAEAAAAAAAAAwL9flq5kSWnv3r1avXq1jh8/rqSkJIdlb7zxxk0HJkkHDhzQlClT1K9fP7366qv6+eef1adPH/n4+OjJJ59UfHy8JCkkJMRhvZCQEB06dCjd7Q4ePFj9+vWzP05ISKDQAgAAAAAAAAAAssRSkeWjjz7SCy+8oKJFiyo0NFQ2m82+zGazua3IknzFTExMjCSpZs2a2rlzp6ZMmaInn3zS4TlTMsakaUvJx8dHPj4+bokRAAAAAAAAAADcniwVWUaOHKm33npLAwcOdHc8DsLCwlSlShWHtsqVK2vBggWSpNDQUElSfHy8wsLC7H2OHz+e5uoWAAAAAAAAAAAAd8rSPVmSnT59Wo899pi7Y0mjfv362rNnj0Pb3r17Vbp0aUlSmTJlFBoaqhUrVtiXX7lyRWvWrFG9evWyPT4AAAAAAAAAAHD7slRkeeyxx7R8+XJ3x5LGyy+/rJ9++kkxMTHat2+f5s6dq6lTp6pXr16SbkwT1rdvX8XExGjRokXasWOHunXrJn9/f3Xq1Cnb4wMAAAAAAAAAALcvS9OF3XHHHRoyZIh++uknVa9eXfny5XNY3qdPH7cEd/fdd2vRokUaPHiwRowYoTJlymjChAnq3Lmzvc+AAQN06dIl9ezZU6dPn1adOnW0fPlyBQQEuCUGAED2ihi0JKdDAAAAAAAAACyxGWNMVlcqU6ZM+hu02XTgwIGbCupWS0hIUFBQkM6ePavAwMCcDgfgR2cAANzo4OjWOR0CAAAAACCPcbVuYOlKlri4OMuBAQAAAAAAAAAA/BtYuicLAAAAAAAAAADA7c7SlSzdu3fPcPn06dMtBQMAAAAAAAAAAJBXWCqynD592uHx1atXtWPHDp05c0aNGzd2S2AAAAAAAAAAAAC5maUiy6JFi9K0JSUlqWfPnipbtuxNBwUAAAAAAAAAAJDbue2eLB4eHnr55Zf17rvvumuTAAAAAAAAAAAAuZZbb3y/f/9+Xbt2zZ2bBAAAAAAAAAAAyJUsTRfWr18/h8fGGB07dkxLlixR165d3RIYAAAAAAAAAABAbmapyBIbG+vw2MPDQ8WKFdM777yj7t27uyUwAAAAAAAAAACA3MxSkWXVqlXujgMAAAAAAAAAACBPsVRkSXbixAnt2bNHNptNFSpUULFixdwVFwAAAAAAAAAAQK5m6cb3Fy5cUPfu3RUWFqaGDRuqQYMGCg8P19NPP62LFy+6O0YAAAAAAAAAAIBcx1KRpV+/flqzZo2+/vprnTlzRmfOnNFXX32lNWvWqH///u6OEQAAAAAAAAAAINexNF3YggULNH/+fEVHR9vbWrVqJT8/P7Vv315TpkxxV3wAAAAAAAAAAAC5kqUrWS5evKiQkJA07cHBwUwXBgAAAAAAAAAAbguWiix169bV0KFDdfnyZXvbpUuXNHz4cNWtW9dtwQEAAAAAAAAAAORWlqYLmzBhglq2bKkSJUrozjvvlM1m07Zt2+Tj46Ply5e7O0YAAAAAAAAAAIBcx1KRpXr16vrjjz80e/Zs/f777zLGqEOHDurcubP8/PzcHSMAAAAAAAAAAECuY6nIMmrUKIWEhOjZZ591aJ8+fbpOnDihgQMHuiU4AAAAAAAAAACA3MrSPVk+/PBDVapUKU171apV9cEHH9x0UAAAAAAAAAAAALmdpSJLfHy8wsLC0rQXK1ZMx44du+mgAAAAAAAAAAAAcjtLRZaSJUtq/fr1adrXr1+v8PDwmw4KAAAAAAAAAAAgt7N0T5ZnnnlGffv21dWrV9W4cWNJ0vfff68BAwaof//+bg0QAAAAAAAAAAAgN7JUZBkwYIBOnTqlnj176sqVK5IkX19fDRw4UIMHD3ZrgAAAAAAAAAAAALmRpSKLzWbTmDFjNGTIEO3evVt+fn4qX768fHx83B0fAAAAAAAAAABArmSpyJKsQIECuvvuu90VCwAAAAAAAAAAQJ5h6cb3AAAAAAAAAAAAtzuKLAAAAAAAAAAAABZQZAEAAAAAAAAAALCAIgsAAAAAAAAAAIAFFFkAAAAAAAAAAAAsoMgCAAAAAAAAAABgAUUWAAAAAAAAAAAACyiyAAAAAAAAAAAAWECRBQAAAAAAAAAAwAKKLAAAAAAAAAAAABZQZAEAAAAAAAAAALCAIgsAAAAAAAAAAIAFFFkAAAAAAAAAAAAsoMgCAAAAAAAAAABgAUUWAAAAAAAAAAAACyiyAAAAAAAAAAAAWECRBQAAAAAAAAAAwAKKLAAAAAAAAAAAABZQZAEAAAAAAAAAALCAIgsAAAAA/L/27js+inp7/P9J7wmhJCSELj0iTSGAhI6KguL9oIBcscIFBAuXC1eUpkFAEIULV5CmUpSmXMHQpIOAIaFDSEKkCKKUAKKh5Pz+4Lv7y2Z3k9lhQ4i+no9HHg8y+97Z9+zJzHvOHOY9AAAAAGACRRYAAAAAAAAAAAATilWRZcyYMeLh4SGvvvqqdZmqyogRIyQ6OloCAgKkZcuWcuDAgaLrJAAAAAAAAAAA+EvwLuoOGLVr1y6ZPn261K1b12b5uHHjZOLEiTJnzhypXr26vPPOO9KuXTs5cuSIhISEFFFv/zwqDVlR1F0AAAAAAAAAAOCuVCzuZLly5Yr06NFDZsyYIeHh4dblqiqTJk2SN998U7p06SKxsbEyd+5cuXr1qsyfP78IewwAAAAAAAAAAP7sikWRpV+/ftKxY0dp27atzfJjx47JmTNnpH379tZlfn5+Eh8fL9u2bXO6vuzsbLl06ZLNDwAAAAAAAAAAgCvu+unCFi5cKLt375Zdu3bZvXbmzBkREYmMjLRZHhkZKT/++KPTdY4ZM0ZGjhzp3o4CAAAAAAAAAIC/lLv6TpYTJ07IwIED5fPPPxd/f3+n7Tw8PGx+V1W7ZbkNHTpUsrKyrD8nTpxwW58BAAAAAAAAAMBfw119J0tSUpKcPXtWGjZsaF128+ZN2bRpk0yZMkWOHDkiIrfuaImKirK2OXv2rN3dLbn5+fmJn59f4XUcAAAAAAAAAAD86d3Vd7K0adNG9u3bJykpKdafRo0aSY8ePSQlJUWqVKkiZcuWlTVr1ljfc+3aNdm4caM0bdq0CHsOAAAAAAAAAAD+7O7qO1lCQkIkNjbWZllQUJCUKlXKuvzVV1+VhIQEqVatmlSrVk0SEhIkMDBQunfvXhRdBgAAAAAAAAAAfxF3dZHFiMGDB8vvv/8uffv2lQsXLkjjxo1l9erVEhISUtRdAwAAAAAAAAAAf2IeqqpF3YmidunSJQkLC5OsrCwJDQ0t6u7cVSoNWVHUXQAAAEAxlPlex6LuAgAAAACYZrRucFc/kwUAAAAAAAAAAOBuRZEFAAAAAAAAAADABIosAAAAAAAAAAAAJlBkAQAAAAAAAAAAMIEiCwAAAAAAAAAAgAkUWQAAAAAAAAAAAEygyAIAAAAAAAAAAGACRRYAAAAAAAAAAAATKLIAAAAAAAAAAACYQJEFAAAAAAAAAADABIosAAAAAAAAAAAAJngXdQcAAAAAAO5RaciKou7CX1Lmex2LugsAAAAoItzJAgAAAAAAAAAAYAJFFgAAAAAAAAAAABMosgAAAAAAAAAAAJhAkQUAAAAAAAAAAMAEiiwAAAAAAAAAAAAmUGQBAAAAAAAAAAAwgSILAAAAAAAAAACACRRZAAAAAAAAAAAATKDIAgAAAAAAAAAAYAJFFgAAAAAAAAAAABMosgAAAAAAAAAAAJhAkQUAAAAAAAAAAMAEiiwAAAAAAAAAAAAmUGQBAAAAAAAAAAAwgSILAAAAAAAAAACACRRZAAAAAAAAAAAATKDIAgAAAAAAAAAAYAJFFgAAAAAAAAAAABMosgAAAAAAAAAAAJhAkQUAAAAAAAAAAMAEiiwAAAAAAAAAAAAmUGQBAAAAAAAAAAAwgSILAAAAAAAAAACACRRZAAAAAAAAAAAATKDIAgAAAAAAAAAAYAJFFgAAAAAAAAAAABMosgAAAAAAAAAAAJhAkQUAAAAAAAAAAMAEiiwAAAAAAAAAAAAmUGQBAAAAAAAAAAAwgSILAAAAAAAAAACACRRZAAAAAAAAAAAATKDIAgAAAAAAAAAAYAJFFgAAAAAAAAAAABMosgAAAAAAAAAAAJhAkQUAAAAAAAAAAMCEu7rIMmbMGLn//vslJCREIiIi5PHHH5cjR47YtFFVGTFihERHR0tAQIC0bNlSDhw4UEQ9BgAAAAAAAAAAfxV3dZFl48aN0q9fP/n+++9lzZo1cuPGDWnfvr389ttv1jbjxo2TiRMnypQpU2TXrl1StmxZadeunVy+fLkIew4AAAAAAAAAAP7svIu6A/lJTEy0+X327NkSEREhSUlJ0qJFC1FVmTRpkrz55pvSpUsXERGZO3euREZGyvz586V3795F0W0AAAAAAAAAAPAXcFffyZJXVlaWiIiULFlSRESOHTsmZ86ckfbt21vb+Pn5SXx8vGzbts3perKzs+XSpUs2PwAAAAAAAAAAAK4oNkUWVZXXX39dmjdvLrGxsSIicubMGRERiYyMtGkbGRlpfc2RMWPGSFhYmPWnfPnyhddxAAAAAAAAAADwp1Rsiiz9+/eXvXv3yoIFC+xe8/DwsPldVe2W5TZ06FDJysqy/pw4ccLt/QUAAAAAAAAAAH9ud/UzWSxeeeUVWb58uWzatEliYmKsy8uWLSsit+5oiYqKsi4/e/as3d0tufn5+Ymfn1/hdRgAAAAAAAAAAPzp3dVFFlWVV155RZYtWyYbNmyQypUr27xeuXJlKVu2rKxZs0bq168vIiLXrl2TjRs3ytixY4uiywAAAACAv5hKQ1YUdRf+kjLf61jUXQAAALi7iyz9+vWT+fPny9dffy0hISHW56yEhYVJQECAeHh4yKuvvioJCQlSrVo1qVatmiQkJEhgYKB07969iHsPAAAAAAAAAAD+zO7qIsu0adNERKRly5Y2y2fPni29evUSEZHBgwfL77//Ln379pULFy5I48aNZfXq1RISEnKHewsAAAAAAAAAAP5K7uoii6oW2MbDw0NGjBghI0aMKPwOAQAAAAAAAAAA/D+eRd0BAAAAAAAAAACA4ogiCwAAAAAAAAAAgAkUWQAAAAAAAAAAAEygyAIAAAAAAAAAAGACRRYAAAAAAAAAAAATvIu6AwAAAAAAAK6qNGRFUXfhLynzvY5F3QUAAO4q3MkCAAAAAAAAAABgAkUWAAAAAAAAAAAAEyiyAAAAAAAAAAAAmECRBQAAAAAAAAAAwASKLAAAAAAAAAAAACZQZAEAAAAAAAAAADCBIgsAAAAAAAAAAIAJFFkAAAAAAAAAAABMoMgCAAAAAAAAAABgAkUWAAAAAAAAAAAAEyiyAAAAAAAAAAAAmECRBQAAAAAAAAAAwASKLAAAAAAAAAAAACZQZAEAAAAAAAAAADCBIgsAAAAAAAAAAIAJFFkAAAAAAAAAAABMoMgCAAAAAAAAAABgAkUWAAAAAAAAAAAAEyiyAAAAAAAAAAAAmECRBQAAAAAAAAAAwASKLAAAAAAAAAAAACZQZAEAAAAAAAAAADCBIgsAAAAAAAAAAIAJFFkAAAAAAAAAAABMoMgCAAAAAAAAAABgAkUWAAAAAAAAAAAAEyiyAAAAAAAAAAAAmECRBQAAAAAAAAAAwASKLAAAAAAAAAAAACZQZAEAAAAAAAAAADCBIgsAAAAAAAAAAIAJFFkAAAAAAAAAAABMoMgCAAAAAAAAAABgAkUWAAAAAAAAAAAAE7yLugMAAAAAAAAoHioNWVHUXfhLynyvY1F3AQDgBHeyAAAAAAAAAAAAmECRBQAAAAAAAAAAwASKLAAAAAAAAAAAACZQZAEAAAAAAAAAADCBIgsAAAAAAAAAAIAJ3kXdAQAAAAAAAADOVRqyoqi7ANwxme91LOouAC7hThYAAAAAAAAAAAAT/jRFlqlTp0rlypXF399fGjZsKJs3by7qLgEAAAAAAAAAgD+xP8V0YV988YW8+uqrMnXqVGnWrJl8/PHH8vDDD8vBgwelQoUKRd09AAAAAAAAAIABTI935zFF2+35U9zJMnHiRHnhhRfkxRdflFq1asmkSZOkfPnyMm3atKLuGgAAAAAAAAAA+JMq9neyXLt2TZKSkmTIkCE2y9u3by/btm1z+J7s7GzJzs62/p6VlSUiIpcuXSq8jhZTOdlXi7oLAAAAKIY4ty4anL8DAADAVZy7O2b5XlQ133bFvsjy66+/ys2bNyUyMtJmeWRkpJw5c8bhe8aMGSMjR460W16+fPlC6SMAAADwVxM2qah7AAAAAMAIzt3zd/nyZQkLC3P6erEvslh4eHjY/K6qdssshg4dKq+//rr195ycHDl//ryUKlXK6Xv+ii5duiTly5eXEydOSGhoaFF3BwYQs+KFeBU/xKx4IV7FC/EqfohZ8UK8ihfiVfwQs+KFeBU/xKx4IV7FC/FyTlXl8uXLEh0dnW+7Yl9kKV26tHh5edndtXL27Fm7u1ss/Pz8xM/Pz2ZZiRIlCquLxV5oaCg7WDFDzIoX4lX8ELPihXgVL8Sr+CFmxQvxKl6IV/FDzIoX4lX8ELPihXgVL8TLsfzuYLEo9g++9/X1lYYNG8qaNWtslq9Zs0aaNm1aRL0CAAAAAAAAAAB/dsX+ThYRkddff1169uwpjRo1kri4OJk+fbocP35c+vTpU9RdAwAAAAAAAAAAf1J/iiLLU089JefOnZNRo0bJ6dOnJTY2VlauXCkVK1Ys6q4Va35+fjJ8+HC7qdVw9yJmxQvxKn6IWfFCvIoX4lX8ELPihXgVL8Sr+CFmxQvxKn6IWfFCvIoX4nX7PFRVi7oTAAAAAAAAAAAAxU2xfyYLAAAAAAAAAABAUaDIAgAAAAAAAAAAYAJFFgAAAAAAAAAAABMostwB586dk4iICMnMzCzqrvxl9OrVSzw8PMTDw0O++uorl95LvO484lW83E68HCGG7jVixAhrfCZNmlQon0HM3MvdMSM+dx7jWPFCvIqX2z3vIGZ3HvtY8cI+VvywjxUvxKt44ZhY/Lj7GpVZFFnugDFjxshjjz0mlSpVsi47fvy4PPbYYxIUFCSlS5eWAQMGyLVr15yu4/z58/LKK69IjRo1JDAwUCpUqCADBgyQrKwsm3adOnWSChUqiL+/v0RFRUnPnj3lp59+crjOc+fOSUxMjHh4eMjFixdd3q4lS5ZI7dq1xc/PT2rXri3Lli0r8D2qKu+//75Ur15d/Pz8pHz58pKQkGB9/fTp09K9e3epUaOGeHp6yquvvupwPZMmTZIaNWpIQECAlC9fXl577TX5448/rK9/+OGHcvr0aZe3ScQ98bLYvn27tG7dWoKCgqREiRLSsmVL+f33362vv/vuu9K0aVMJDAyUEiVKOFzHrl27pE2bNlKiRAkJDw+X9u3bS0pKisvbZSZeX375pdSrV08CAwOlYsWKMn78eLs2//nPf6RWrVoSEBAgNWrUkE8//dTm9Tlz5lgPdrl/7rZ4paenyxNPPCFlypSR0NBQ6dq1q/z88882bXbv3i3t2rWTEiVKSKlSpeTll1+WK1eu2LRxtK3//e9/XdqmAwcOyJNPPimVKlUyfNH1yJEj0qpVK4mMjBR/f3+pUqWKDBs2TK5fv25tk3vgyf1Tp04da5ulS5dKo0aNpESJEhIUFCT16tWTzz77zOazbidejjiK4cCBA6Vhw4bi5+cn9erVM7Se3r17S9WqVSUgIEDKlCkjnTt3lsOHD1tf37Bhg8Pt9/DwkF27donIrePiQw89JNHR0dZjVP/+/eXSpUsubZOZGOa+0J77JygoqMBtyL2dgwYNktOnT0tMTIxLfXaFO2KWmZnpNB6LFi2ytrN8h7l/hgwZ4lJ/ly5dKu3atbPu33FxcbJq1aoC31fQNm3YsEE6d+4sUVFR1v1l3rx5du3mzZsn9913nwQGBkpUVJQ899xzcu7cOevr7o5Z3vjs2bNHunXrJuXLl5eAgACpVauWfPjhhwWuZ/r06dKyZUsJDQ11eK6QmZkpL7zwglSuXFkCAgKkatWqMnz4cLvjrTvGsRkzZsiDDz4o4eHhEh4eLm3btpWdO3fm+x5nf2OJiYk27TZu3CgNGza0HjsdHbMvXrwo/fr1k6ioKPH395datWrJypUrra+7cxwzG6+WLVvabevTTz9t0+bChQvSs2dPCQsLk7CwMOnZs6fDc8A5c+ZI3bp1xd/fX8qWLSv9+/d3aZvMxEtEZNWqVdKkSRMJCQmRMmXKyJNPPinHjh2zaVPQ/lTY45i74nXmzBnp2bOnlC1bVoKCgqRBgwayePFimzapqanSuXNnKV26tISGhkqzZs1k/fr11tfdNWYZ+c7yMnr8y87OljfffFMqVqwofn5+UrVqVZk1a5b1dSPj5e2ed+SNmZnvzWguJiKyYsUKady4sQQEBEjp0qWlS5cuNq+bOcfJy0zMRArOxbZs2SLNmjWTUqVKSUBAgNSsWVM++OADu/XcyVzsdv7OC8rFjOTO7srFLBYuXCgeHh7y+OOPF9h23759Eh8fLwEBAVKuXDkZNWqUqKr1daO5c2GOYSKOzwstXLnmkJ2dLa+88oqULl1agoKCpFOnTnLy5EmbNkbyZ5HbH8dyMxozI/mYSMH5s5HPdnf+bOFKvArKvUSM5c9mPjs/RuNlJPcykj8X9jjmjngZybuM5Moi7hnDjFwjyuuPP/6QXr16yb333ive3t4Fxnfr1q3i7e1t18fr16/LqFGjpGrVquLv7y/33XefXW5QGMdEM9eJCjq3N5qLidz+MdFMzESMXVM0kotZFMYx0a0Uherq1ataokQJ3bZtm3XZjRs3NDY2Vlu1aqW7d+/WNWvWaHR0tPbv39/pevbt26ddunTR5cuXa1pamq5bt06rVaumTz75pE27iRMn6vbt2zUzM1O3bt2qcXFxGhcX53CdnTt31ocfflhFRC9cuODSdm3btk29vLw0ISFBDx06pAkJCert7a3ff/99vu975ZVXtEaNGvr1119rRkaGJicn65o1a6yvHzt2TAcMGKBz587VevXq6cCBA+3W8fnnn6ufn5/OmzdPjx07pqtWrdKoqCh99dVX7dqKiC5btszwdrkrXqq3vqPQ0FAdM2aM7t+/X1NTU3XRokX6xx9/WNu8/fbbOnHiRH399dc1LCzMbh2XLl3S8PBw7dWrlx4+fFj379+vTz75pEZEROi1a9cMb5eZeK1cuVK9vb112rRpmp6ert98842WLVtWJ0+ebG0zdepUDQkJ0YULF2p6erouWLBAg4ODdfny5dY2s2fP1tDQUD19+rTNjyNFFa8rV65olSpV9IknntC9e/fq3r17tXPnznr//ffrzZs3VVX11KlTGh4ern369NHDhw/rzp07tWnTpnb7oIjo7Nmzbbb16tWrhrdJVXXnzp06aNAgXbBggZYtW1Y/+OCDAt+Tnp6us2bN0pSUFM3MzNSvv/5aIyIidOjQodY2Fy9etOnXiRMntGTJkjp8+HBrm/Xr1+vSpUv14MGDmpaWppMmTVIvLy9NTEy0+0xX4+WIoxiq3jpWTJkyRXv27Kn33XefoXV9/PHHunHjRj127JgmJSXpY489puXLl9cbN26oqmp2drbd3+GLL76olSpV0pycHFVVPX/+vE6dOlV37dqlmZmZunbtWq1Ro4Z269bNpe0yE8PLly/b9a927dr67LPPWtusX79eRUSPHDli086yjblVrFjR0Oe6yl0xu3Hjht32jhw5UoOCgvTy5cvWdhUrVtRRo0bZtMv9uhEDBw7UsWPH6s6dOzU1NVWHDh2qPj4+unv37nzfV9A2vfvuuzps2DDdunWrpqWl6Ycffqienp42x8DNmzerp6enfvjhh5qRkaGbN2/WOnXq6OOPP263PnfEzFF8Zs6cqa+88opu2LBB09PT9bPPPtOAgACb47kjH3zwgY4ZM0bHjBnj8Fzh22+/1V69eumqVas0PT3detx54403rG3cNY51795d//Of/2hycrIeOnRIn3vuOQ0LC9OTJ086fc+xY8dURHTt2rU2fz/Z2dnWNhkZGRoYGKgDBw7UgwcP6owZM9THx0cXL15sbZOdna2NGjXSRx55RLds2aKZmZm6efNmTUlJsftMd4xjZuMVHx+vL730ks22Xrx40abNQw89pLGxsbpt2zbdtm2bxsbG6qOPPmrTZsKECRodHa3z5s3TtLQ03b9/v83ftBFm4pWenq5+fn46dOhQTUtL06SkJG3RooXWq1fP2sbI/lSY45g749W2bVu9//77dceOHZqenq6jR49WT09Pm+PSPffco4888oju2bNHU1NTtW/fvhoYGGg9j3LXmOXKd2Zh5PinqtqpUydt3LixrlmzRo8dO6Y7duzQrVu3Wl93Zbw0c97hKGZmvjejudjixYs1PDxcp02bpkeOHNHDhw/rokWLbNqYOcfJy0zMLJ+dXy62e/dunT9/vu7fv1+PHTumn332mQYGBurHH39sbXOnczGzf+dGcrGCcmd3jWEWmZmZWq5cOX3wwQe1c+fO+bbNysrSyMhIffrpp3Xfvn26ZMkSDQkJ0ffff9/axkjuXJhjmKrz80ILV6459OnTR8uVK6dr1qzR3bt3a6tWrfS+++6zOc8tKH9Wdc84ZuFKzIzkY0byZ1c+2x37WG6uxKug3Mto/mzms51xJV5Gci8j+XNhjmPuipeRvMtIrqzqnjHMlWtEFleuXNE+ffro9OnTtUOHDvnG9+LFi1qlShVt3769XR8HDx6s0dHRumLFCk1PT9epU6eqv7+/w7zQncdEM9eJCjq3N5KLqbrnmGgmZkauKRrJxSwK45jobhRZCtmSJUu0dOnSNstWrlypnp6eeurUKeuyBQsWqJ+fn2ZlZRle95dffqm+vr56/fp1p22+/vpr9fDwsDsJnDp1qsbHx+u6detMDWJdu3bVhx56yGZZhw4d9Omnn3b6noMHD6q3t7cePnzY0GfEx8c7PFHs16+ftm7d2mbZ66+/rs2bN7dr6+oO5s54NW7cWIcNG2boc2fPnu3wJHHXrl0qInr8+HHrsr1796qIaFpamqF1q5qLV7du3fRvf/ubzbIPPvhAY2JirINsXFycDho0yKbNwIEDtVmzZgVumyNFFa9Vq1app6enzevnz59XEbEmnh9//LFGRERYiy6qqsnJySoievToUdPbUJDbuej62muvOdwvLJYtW6YeHh6amZmZ73rq16/v8G/ZHdvqKIa5DR8+3PTJ2549e/LdV65du6YRERE6atSofNfz4YcfakxMjKk+qJqPYUpKioqIbtq0ybrMUmQxcswurCJLYcasXr16+vzzz9ssK6ztqF27to4cOdJQW1e26ZFHHtHnnnvO+vv48eO1SpUqNm0++ugjh39T7tjWguJj0bdvX23VqpWhdbrydzdu3DitXLmy9Xd3jWN53bhxQ0NCQnTu3LlO21iKLMnJyU7bDB48WGvWrGmzrHfv3tqkSRPr79OmTdMqVaoYuqDmjnHMESPxcnbeZHHw4EEVEZv/YLF9+3YVEeu52fnz5zUgIEDXrl1rbAMMMhKvRYsWqbe3t804u3z5cpvzWFf2p9zcNY65M15BQUH66aef2iwrWbKkfvLJJ6qq+ssvv9iNAZcuXbIWDp253THLwtl3lp+8x79vv/1Ww8LC9Ny5c4beX9Ax0Mx5h9GYmfne8uZi169f13LlylljWJDbGS8dKShmruZiFk888YQ+88wz1t/vdC7miJF4uZKLWeTNnd05ht24cUObNWumn3zyiT777LMFXgCeOnWqhoWF2RSFxowZo9HR0TYXPC2cjQGFOYap5h8zV645XLx4UX18fHThwoXWZadOnVJPT0+HxUNnOaY7xzFXY+ZI3nzMSP7syme7cx+73WtEeXMvo/mzOz5b9fbj5Sj3yqug/Nnd41hhxstR3pVbQbny7YxhrlwjcqSg+D711FM6bNgwh32MiorSKVOm2Czr3Lmz9ujRw2497jwmmllXQef2juTNxdx1TDQTMyPXFI3kYqqFd0x0N6YLK2SbNm2SRo0a2Szbvn27xMbGSnR0tHVZhw4dJDs7W5KSkgyvOysrS0JDQ8Xb29vh6+fPn5d58+ZJ06ZNxcfHx7r84MGDMmrUKPn000/F09Pcn8D27dulffv2Nss6dOgg27Ztc/qe//3vf1KlShX55ptvpHLlylKpUiV58cUX5fz58y59dvPmzSUpKck67URGRoasXLlSOnbs6PqG5OGueJ09e1Z27NghERER0rRpU4mMjJT4+HjZsmWLS/2pUaOGlC5dWmbOnCnXrl2T33//XWbOnCl16tSRihUrGl6PmXhlZ2eLv7+/zbKAgAA5efKk/Pjjj/m22blzp81t0VeuXJGKFStKTEyMPProo5KcnGy47/lxV7yys7PFw8ND/Pz8rMv8/f3F09PTGrPs7Gzx9fW12WcCAgJEROzi2r9/fyldurTcf//98t///ldycnJub0NNSEtLk8TERImPj3faZubMmdK2bVunf0uqKuvWrZMjR45IixYtCqWfjmLoDr/99pvMnj1bKleuLOXLl3fYZvny5fLrr79Kr169nK7np59+kqVLl+b7PRaWTz75RKpXry4PPvig3Wv169eXqKgoadOmjc3UMXdCYcUsKSlJUlJS5IUXXrB7bezYsVKqVCmpV6+evPvuu4ama8xPTk6OXL58WUqWLHlb63EkKyvLZr1NmzaVkydPysqVK0VV5eeff5bFixe7ZcxyxGh88vbTXfKu113jWF5Xr16V69evG9qGTp06SUREhDRr1sxuOiZn4+MPP/xgHceWL18ucXFx0q9fP4mMjJTY2FhJSEiQmzdvmu6/hbvjNW/ePCldurTUqVNHBg0aJJcvX7a+tn37dgkLC5PGjRtblzVp0kTCwsKs5wNr1qyRnJwcOXXqlNSqVUtiYmKka9eucuLECRNb9/8zEq9GjRqJl5eXzJ49W27evClZWVny2WefSfv27a3nsa7uT+4ex9wZr+bNm8sXX3wh58+fl5ycHFm4cKFkZ2dLy5YtRUSkVKlSUqtWLfn000/lt99+kxs3bsjHH38skZGR0rBhQ4frdMeYdTvfWd7tXr58uTRq1EjGjRsn5cqVk+rVq8ugQYNspmsqbEZiZvZ7y5uL7d69W06dOiWenp7Wcfrhhx+WAwcOmO6/EUZjZiYXS05Olm3bttl8N3c6F8vLSLzM5GKOcmd3jmGjRo2SMmXKODzPcWT79u0SHx9vk5906NBBfvrpJ5fm+S/MMUzEecxcveaQlJQk169ftxmTo6OjJTY2Nt+cNS93jmOuxiwvR/mY0fz5dj/bGXfFKy9HuZfR/Nkd16dEbv87yy/3sigof3a3wopXfnmXhZFc+XYU1jWi2bNnS3p6ugwfPtzh6872QVev1TmT3zhm5jpRfuf2juQ9F3PnMdHVmBm5pmgkFxMpvGOiu1FkKWSZmZk2F3tFbs3BHBkZabMsPDxcfH195cyZM4bWe+7cORk9erT07t3b7rV//etfEhQUJKVKlZLjx4/L119/bX0tOztbunXrJuPHj5cKFSqY2CLn2xAZGZlv/zMyMuTHH3+URYsWyaeffipz5syRpKQk+dvf/ubSZz/99NMyevRoad68ufj4+EjVqlWlVatWLs/R74i74pWRkSEit+b5fOmllyQxMVEaNGggbdq0kaNHjxruT0hIiGzYsEE+//xzCQgIkODgYFm1apWsXLnSaXHNETPx6tChgyxdulTWrVsnOTk5kpqaap1f1DLXYYcOHeSTTz6RpKQkUVX54YcfZNasWXL9+nX59ddfRUSkZs2aMmfOHFm+fLksWLBA/P39pVmzZi59D864K15NmjSRoKAg+de//iVXr16V3377Tf75z39KTk6OdVtbt24tZ86ckfHjx8u1a9fkwoUL8u9//9vm+xARGT16tCxatEjWrl0rTz/9tLzxxhs2c10XtqZNm4q/v79Uq1ZNHnzwQRk1apTDdqdPn5Zvv/1WXnzxRbvXsrKyJDg4WHx9faVjx44yefJkadeuXaH011EMb8fUqVMlODhYgoODJTExUdasWSO+vr4O286cOVM6dOjgsAjTrVs3CQwMlHLlykloaKh88sknbuujEdnZ2TJv3jy7k4ioqCiZPn26LFmyRJYuXSo1atSQNm3ayKZNm+5Y39wdM4uZM2dKrVq1pGnTpjbLBw4cKAsXLpT169dL//79ZdKkSdK3b9/b+qwJEybIb7/9Jl27dr2t9eS1ePFi2bVrlzz33HPWZU2bNpV58+bJU089Jb6+vlK2bFkpUaKETJ482a2fbWEkPtu3b5cvv/zS4TnE7UhPT5fJkydLnz59rMvcNY7lNWTIEClXrpy0bdvWaZvg4GCZOHGiLF68WFauXClt2rSRp556Sj7//HNrG2fj440bN6zjWEZGhixevFhu3rwpK1eulGHDhsmECRPk3XffNd1/C3fGq0ePHrJgwQLZsGGDvPXWW7JkyRKbZ0GcOXNGIiIi7N4XERFhHR8zMjIkJydHEhISZNKkSbJ48WI5f/68tGvX7raKm0biValSJVm9erX8+9//Fj8/PylRooScPHlSFi5caG1jdH8qrHHMnfH64osv5MaNG1KqVCnx8/OT3r17y7Jly6Rq1aoicmvu7jVr1khycrKEhISIv7+/fPDBB5KYmGj3HAJ3jFm3+505Ov5lZGTIli1bZP/+/bJs2TLr31S/fv1c7p9Z+cXsdr43R7lY7vP/YcOGyTfffCPh4eESHx/v8n8qM8LVmLmSi8XExIifn580atRI+vXrZ3O+eKdzMQtX4uVKLpZf7uyuMWzr1q0yc+ZMmTFjhuH3OBufLK8ZVZhjmIjjmJm55nDmzBnx9fWV8PBwm+UF5ax5uWscMxMzi/zyMSP58+18dkHcFS+L/HIvI/mzu65P3e535iz3yi2//LmwuDteFs7yrrxtnOXKt6uwrhEdPXpUhgwZIvPmzXN6jO7QoYNMnDhRjh49Kjk5ObJmzRr5+uuv3fY8D2fjmJnrRAWd2+flKBdz1zHRTMyMXFM0kosV5jHR7YrsHpq/iPbt22vfvn1tlr300kvavn17u7Y+Pj66YMGCAteZlZWljRs31oceesjhbb+//PKLHjlyRFevXq3NmjXTRx55xHor1muvvaZPPfWUta0rU4Dk7ev8+fNtllnm53XmpZdesj5LwCIpKclmmorcnN0at379eo2MjNQZM2bo3r17denSpVq+fHmHtzGKi7eKuSteW7duVRGxmX9VVfXee+/VIUOG2LV3duvd1atX9YEHHtC///3vunPnTt2+fbs++eSTWqdOHZee82EmXjk5OTp48GD19/dXLy8vDQ8P1xEjRqiI6I4dO6z9e+6559Tb21u9vLw0OjpaBw8erCKiP//8s8P13rx5U++77z595ZVX7F4rqnip3poyrEqVKurh4aFeXl76zDPPaIMGDfQf//iHtc28efM0MjJSvby81NfXVwcNGqSRkZE6duxYp+t9//33NTQ01PA25eXq9EHHjx/XAwcO6Pz587VcuXJO+5aQkKClSpWyeTaBxc2bN/Xo0aOanJys77//voaFhen69evt2rkaL0ccxTA3V29DvnjxoqampurGjRv1scce0wYNGujvv/9u1+7EiRPq6enpcK5PVdXTp0/roUOH9KuvvtLatWvb/B24yswUUPPnz1dvb+8C5zlVVX300Uf1sccec8vnGuHumKneOpaEhYXZzDPuzOLFi1VE9Ndff3XpMyzmz5+vgYGBNnPQF8TINq1fv16DgoLspkM6cOCARkVF6bhx43TPnj2amJio9957r8Pb890Rs4Lis3//fi1TpoyOHj3a8DqNnCucOnVK77nnHn3hhRdslrtrHMtt7NixGh4ernv27HH5vf3799d7773X+nu1atU0ISHBps2WLVtURKz7X7Vq1WzmGFe9Nbdx2bJl7dbvjnEsNzPxsvjhhx9URDQpKUlVbz1Do3r16nbt7rnnHh0zZoy1jYjoqlWrrK+fPXvW6XQtRhiN1+nTp7VatWr6z3/+U3fv3q0bN27U+Ph4bdOmjfU81uj+VFjjmDvj1b9/f33ggQd07dq1mpKSoiNGjNCwsDDdu3evqt46D+vUqZM+/PDDumXLFk1KStJ//OMfWq5cOf3pp59s1uWOMcvod+aIs+Nfu3bt1N/f32b+8CVLlqiHh4fD/b8wpgvLL2Zmvzdnudi8efNURGyeX/LHH39o6dKl9b///a/dem53ujBXY+ZKLpaRkaF79+7V6dOna8mSJW3yiDudi1m4Ei9XcrH8cmd3jGGXLl3SSpUq6cqVK63LjExl1K5dO3355Zdtlp08eVJFRLdv327X3lnuXJhjmKrjmJm55jBv3jz19fW1W962bVvt3bu33XJn+bM7xjGzMbPILx8rKH929bPdsY/dzjWignKvgvJnd1yfut14qRrLvfLLny3cPY65O16qxvKugnJlVfdOeZnfNSJHHMX3xo0b2qhRI502bVq+fTx79qx27txZPT091cvLS6tXr659+/bVgIAAu89x93lHbmauE+U9t8/NWS5WGOf2qsZiZuSaYkG5WGEfE92NIksh6969u91D+d566y2tW7euzTLL8x++++67fNd36dIljYuL0zZt2ji8cJjXiRMnVESsD1267777rAcTLy8v9fT0VBFRLy8vffvttw1vV/ny5XXixIk2yyZOnKgVKlRw+p63335bvb29bZZdvXpVRURXr15t197ZiWLz5s3t5jG1PGQ093yfqq7vYO6KV0ZGhoqIfvbZZzbLu3btqt27d7dr7+wk8ZNPPrGbxzQ7O1sDAwMNFeQszMTL4saNG3ry5EnNzs7WlStXOiygXLt2TU+cOKE3btywPswvbyxye/HFF+2eEaNadPHK7ZdffrGeoERGRuq4cePs2pw5c0YvX76sV65cUU9PT/3yyy+drs8yQJw5c8bAFtm7nYuulv0i70PRc3Jy9J577nH4gFJHXnjhBYeFK3cMYI5imNvtnLxZ9pW8BUZV1VGjRmmZMmUMzU+9efNmFRG7i1pGmYlh69atHT4Y3ZF33nnHbh5Ts59rRGHE7NNPP1UfHx89e/ZsgW0tFxhyP1fCqIULF2pAQIB+8803Lr2voG3asGGDBgcH21xYs3jmmWfs5qJ19jfljpjlF58DBw5oRESE/vvf/3ZpnQUlb6dOndLq1atrz5497Y797hrHLMaPH69hYWG6a9cul9+reus/GPj7+1t/f/DBB3XAgAE2bZYuXare3t7W40OLFi20TZs2Nm0s42HeRNsd45iF2XhZ5OTk2MxvP3PmTIfnGmFhYTpr1ixVVZ01a5aKiJ44ccKmTUREhE6fPt3lPrgSr2HDhmnDhg1tllnOYy0XFF3Zn3Jz1zjmrnilpaWpiOj+/fttlrdp08Z6MXHt2rV2z4tTtS2KOXK7Y5aFs+8sr/yOf3//+9+1atWqNssszwZKTU21a18YRZaCxiwLo99bfrnYd999pyKimzdvtln+wAMPOPy7cPczWQqKmau5mMXo0aNtCrR3OhdzpKB4uZqLWeTNnd0xhlmeQWHJv728vNTDw8P6H7ucPdulZ8+e2qlTJ5tlu3fvVhHRjIwMu/bOcufCHMNUHcfMzDUHy3Mlzp8/b7O8bt26Dt/jLH92xzhmNmaOOMvHnOXPrn62O/Yxd10jyi/3cpY/u+Oz3RGvgnIvo/mzu8exwoiXkbzLSK7s7jHM2TUiRxxdZL9w4YLDvwPLsnXr1tm0//333/XkyZPWQkDt2rXtPqcwzzvMXCfKe25vkV8u5u5z+9yMxiy/a4oF5WKFfUx0N6YLK2T169eXgwcP2iyLi4uT/fv329yOtnr1avHz83M6x7KIyKVLl6R9+/bi6+sry5cvt5vbzpFbf2O3bikUEVmyZIns2bNHUlJSJCUlxXqb9ebNm126dT8uLk7WrFljs2z16tX53m7YrFkzuXHjhqSnp1uXpaamioi4NKfl1atX7ead9PLyEr1VNDS8HkfcFa9KlSpJdHS0HDlyxGZ5amqqqW318PCwLrP87spzPszEy8LLy0vKlSsnvr6+smDBAomLi7ObbsTHx0diYmLEy8tLFi5cKI8++qjTuUFVVVJSUiQqKspw/51x5/5lUbp0aSlRooR89913cvbsWenUqZNdm8jISAkODpYvvvhC/P39852aITk5Wfz9/e2m9rgTVFWuX79ut19s3LhR0tLSDM9nqarWY4i7OYqhOznqu6rK7Nmz5e9//7vN86ryW4eIFNp3kNexY8dk/fr1huOTnJzslv3JqMKI2cyZM6VTp05SpkyZAtta5n51dZsXLFggvXr1kvnz57v1eSgbNmyQjh07ynvvvScvv/yy3evOxiwRue0xyxFn8Tlw4IC0atVKnn32WbdNESIicurUKWnZsqU0aNBAZs+ebbet7hrHRETGjx8vo0ePlsTERNPPBcq7vzgbHxs1amQ9PjRr1kzS0tJs+puamipRUVFOpyM0qjDjdeDAAbl+/bp1e+Pi4iQrK8v6HAURkR07dkhWVpb1fKBZs2YiIjbnL+fPn5dff/3V5fnHXY3X1atXrfuGheV3y3dvdn9y1zjmrnhdvXpVRMThtuTeVkdtPD0989133DVmGfnOCjr+NWvWTH766Se5cuWKdVlqaqp4enpKTEzMbfXPKKNjlpHvraBcrGHDhuLn52ez/1y/fl0yMzPvyPz9BcXMbC6Wd713Ohdz1icR5/Eym4vlXa87xrCaNWvKvn37rPl3SkqKdOrUSVq1aiUpKSlOp+KJi4uTTZs22Uznsnr1aomOjpZKlSoZ+myRwh3DRBzHzMw1h4YNG4qPj4/NmHz69GnZv3+/oZzVwh3jmNmYOeIsH3OWP7vzsx1xV7zy215H+6Wz/Nkdn32735mR3MvV/NldCiNeBeVdrubK7uCOa0ShoaF2fwd9+vSRGjVqSEpKis0zCUVuPYO3XLlycuPGDVmyZIl07tz5djdDRIyPY2auE+U9txcpOBdz57l9bq7ELL9rigXlYoV9THS7O1PL+evau3event72/yPjBs3bmhsbKy2adNGd+/erWvXrtWYmBjt37+/tc3Jkye1Ro0a1luoLl26pI0bN9Z7771X09LS9PTp09Yfy/+K2LFjh06ePFmTk5M1MzNTv/vuO23evLlWrVpV//jjD4f9Mztd2NatW9XLy0vfe+89PXTokL733nvq7e1t8z+LJ0+erK1bt7b+fvPmTW3QoIG2aNFCd+/erT/88IM2btxY27VrZ7Pu5ORkTU5O1oYNG2r37t01OTlZDxw4YH19+PDhGhISogsWLNCMjAxdvXq1Vq1aVbt27WrXT3GxiumueKmqfvDBBxoaGqqLFi3So0eP6rBhw9Tf39+m0vrjjz9qcnKyjhw5UoODg63bfvnyZVVVPXTokPr5+ek//vEPPXjwoO7fv1+feeYZDQsLc+l/KJqJ1y+//KLTpk3TQ4cOaXJysg4YMED9/f1ttvHIkSP62WefaWpqqu7YsUOfeuopLVmypB47dszaZsSIEZqYmKjp6emanJxsvT0693osijJes2bN0u3bt2taWpp+9tlnWrJkSX399ddtPm/y5MmalJSkR44c0SlTpmhAQIB++OGH1teXL1+u06dP13379mlaWprOmDFDQ0ND7SrzBcnOzrb+LURFRemgQYM0OTlZjx49atOX3PH6/PPP9YsvvtCDBw9qenq6fvnll1quXDnt0aOH3fqfeeYZbdy4scPPTkhI0NWrV2t6eroeOnRIJ0yYoN7e3jpjxgy7tq7GyxFHMVRV6/QXvXv31urVq1u/D8v/uMsbw/T0dE1ISNAffvhBf/zxR922bZt27txZS5YsaXfn1dq1a1VE9ODBg3b9WbFihc6aNUv37dunx44d0xUrVmidOnW0WbNmLm2XmRhaDBs2TKOjo+3+x5vqrePKsmXLNDU1Vffv369DhgxREdElS5bYtS2sO1ncFbPc7/Pw8NBvv/3W7rO2bdumEydO1OTkZM3IyNAvvvhCo6Oj7f5nZ0EsUwD85z//sRk/c09hs3TpUq1Ro4ZL27R+/XoNDAzUoUOH2qz33Llz1nXMnj1bvb29derUqZqenq5btmzRRo0a6QMPPGDXT3fEzFF8LFMY9ejRw6afuf8Hm6P4nD59WpOTk3XGjBkqIrpp0yZNTk62bp/ltvTWrVvryZMnbdZt4a5xbOzYserr66uLFy+2+RzLeKlqv0/NmTNH582bpwcPHtTDhw/r+PHj1cfHx+bOzoyMDA0MDNTXXntNDx48qDNnzlQfHx+b6RGOHz+uwcHB2r9/fz1y5Ih+8803GhERoe+8845dP90xjpmJV1pamo4cOVJ37dplPXbVrFlT69evb3Mseeihh7Ru3bq6fft23b59u95777366KOP2vSpc+fOWqdOHd26davu27dPH330Ua1du7ahO/8szMRr3bp16uHhoSNHjtTU1FRNSkrSDh06aMWKFa3T8hjZnwpzHHNXvK5du6b33HOPPvjgg7pjxw5NS0vT999/Xz08PHTFihWqeus8rFSpUtqlSxdNSUnRI0eO6KBBg9THx0dTUlJU1X1jlpHvLG+8jBz/Ll++rDExMfq3v/1NDxw4oBs3btRq1arpiy++aG1jZLy0MHPe4ShmRr43M7mYqurAgQO1XLlyumrVKj18+LC+8MILGhERYfP5BY0tRpiJmZFcbMqUKbp8+XJNTU3V1NRUnTVrloaGhuqbb75pbXOnczEz8VItOBczkju7awzLy9H/ws4br4sXL2pkZKR269ZN9+3bp0uXLtXQ0FC7KX4Kyp0LcwxTdX5emJujaw6OYtanTx+NiYnRtWvX6u7du7V169Z633332exjBeXPqu4Zx/IyEjMj+ZiR/NnIZ1u4Yx/Ly0i8jOZeBeXPRj7bDCPxssgv97LIL38uzHHMnfuXav55l0V+ubJlHbc7hhm5RuQoXgcOHNDk5GR97LHHtGXLltbPdsbR3Tbff/+9LlmyRNPT03XTpk3aunVrrVy5ssO/OXcdE41cJzJzbm8kF1N1zzHRTMyMXFM0kovlxXRhf3FNmjSxm4f3xx9/1I4dO2pAQICWLFlS+/fvb1MIOXbsmIqIdV5dy4HT0Y9lQN67d6+2atVKS5YsqX5+flqpUiXt06ePnjx50mnfnA1iIqKzZ8/Od7sWLVqkNWrUUB8fH61Zs6bdRb7hw4drxYoVbZadOnVKu3TposHBwRoZGam9evWyScYsn533J/d6rl+/riNGjNCqVauqv7+/li9fXvv27eu2g6I74mUxZswYjYmJ0cDAQI2Li7ObPuDZZ591uL2512OZHzgsLEzDw8O1devWdvPwFka8fvnlF23SpIkGBQVpYGCgtmnTxm56noMHD2q9evU0ICBAQ0NDtXPnznZzOr/66qtaoUIF9fX11TJlymj79u2tt+DnVZTx+te//qWRkZHq4+Oj1apV0wkTJljnY7bo2bOnlixZUn19fbVu3br66aef2rz+7bffar169TQ4OFgDAwM1NjZWJ02apNevX7fbzvziZelf3p/4+Hhrm7zxWrhwoTZo0ECDg4M1KChIa9eurQkJCXZTWVy8eFEDAgKc3hr65ptv6j333KP+/v4aHh6ucXFxdrej5t4OdwxgjmIYHx+f7/EubwxPnTqlDz/8sEZERKiPj4/GxMRo9+7dHT7vqVu3btq0aVOHffnuu+80Li5Ow8LC1N/fX6tVq6b/+te/XD5Gmomh6q0LIDExMU6nmxk7dqz12BceHq7Nmze3XpDLq7CKLKruiZnF0KFDNSYmxuEUg0lJSdq4cWNrPGrUqKHDhw/X3377zaZdxYoVdfjw4U7766xvzz77rLXN7NmzNe//PSlom5wdw3PHWVX1o48+0tq1a2tAQIBGRUVpjx49HI7N7opZ3vgMHz68wLHVUXycvc/yt2/5zhz95OaOcaxixYoOPyd33PPuU3PmzNFatWppYGCghoSEaMOGDe2mjlG9Nd1R/fr11dfXVytVqmQzl7PFtm3btHHjxurn56dVqlTRd99912Ey7o5xzEy8jh8/ri1atLCOUVWrVtUBAwbYnWOdO3dOe/TooSEhIRoSEqI9evSwO75lZWXp888/ryVKlNCSJUvqE088ocePH7fbTnfHS1V1wYIFWr9+fQ0KCtIyZcpop06d9NChQzZtCtqfCnscc9f+lZqaql26dNGIiAgNDAx0eF6xa9cubd++vZYsWVJDQkK0SZMmNnNSu2vMMvKd5Y2X0ePfoUOHtG3bthoQEKAxMTH6+uuv2zzLwsh4mXs7zJx35I2Zke/NTC6mequA9sYbb2hERISGhIRo27Zt7aaFK2hssWyru2OmWnAu9tFHH2mdOnU0MDBQQ0NDtX79+jp16lSbMfpO52Jm4mWRXy5mNHd2Vy6Wm6MLRI7itXfvXn3wwQfVz89Py5YtqyNGjLDLTwo6/qgW7him6vi8MDdH1xwcxez333/X/v37a8mSJTUgIEAfffRRu/HHSP7sjnEsLyMxM5KPGcmfjXx27u1wR/6cm5F4Gc29CsqfjXy2auHtYwXlXqoF58+FPY65a/9SzT/vssgvV1Z1zxhm5BqRo3g5O790xlGRZcOGDVqrVi318/PTUqVKac+ePfXUqVMO3++uY6KR60Rmzu2N5mLuOCaaiZmRa4qqxnKx3Ciy/MWtWLFCa9Wqle+B7G5y7Ngx9fb2djhXcnFjZgcjXkWHeBUv7hrAiGHhKMwiy90Us6tXr6q/v7+hZy7d7dwVs7spPkYUl33KCMax4oV4FS9mzzuIWdFhHyte2MeKH/ax4oV4FS8cE4ufoi6y8EyWO+CRRx6R3r17y6lTp4q6K4YkJibKyy+/LNWqVSvqrpjWp08fCQ4ONvVe4nXnEa/i5Xbi5QgxdK+EhAQJDg6W48ePF9pn3E0x27hxo7Ru3VpatWpV1F0xzd0xu5viY8Tdvk8ZwThWvBCv4uV2zzuI2Z3HPla8sI8VP+xjxQvxKl44JhY/7r5GZZbH/6v0AH8qZ8+elUuXLonIrYcjBwUFFXGPkB/iVbwQr7vb+fPn5fz58yIiUqZMGQkLCyviHqEgxKz447hYvBCv4oV4FT/ErHghXsUPMSteiFfxQryKn7slZhRZAAAAAAAAAAAATGC6MAAAAAAAAAAAABMosgAAAAAAAAAAAJhAkQUAAAAAAAAAAMAEiiwAAAAAAAAAAAAmUGQBAAAAAAAAAAAwgSILAAAAgGJnzpw5UqJECaevZ2ZmioeHh6SkpNyxPuWnV69e8vjjj7v0nhEjRki9evXcvl4AAAAA7uNd1B0AAAAAgD+LzMxMqVy5siQnJxdYIHGHDz/8UFS10D8HAAAAgGMUWQAAAADcta5duya+vr5F3Y27VlhYWFF3AQAAAPhLY7owAAAAAKb873//kxIlSkhOTo6IiKSkpIiHh4f885//tLbp3bu3dOvWzfr7kiVLpE6dOuLn5yeVKlWSCRMm2KyzUqVK8s4770ivXr0kLCxMXnrpJRG5NT1YhQoVJDAwUJ544gk5d+6cy/09ePCgPPLIIxIcHCyRkZHSs2dP+fXXX62vt2zZUgYMGCCDBw+WkiVLStmyZWXEiBE26zh8+LA0b95c/P39pXbt2rJ27Vrx8PCQr776SkREKleuLCIi9evXFw8PD2nZsqXN+99//32JioqSUqVKSb9+/eT69esF9vvjjz+W8uXLS2BgoPzf//2fXLx40fpa3unCjGwDAAAAAPehyAIAAADAlBYtWsjly5clOTlZREQ2btwopUuXlo0bN1rbbNiwQeLj40VEJCkpSbp27SpPP/207Nu3T0aMGCFvvfWWzJkzx2a948ePl9jYWElKSpK33npLduzYIc8//7z07dtXUlJSpFWrVvLOO++41NfTp09LfHy81KtXT3744QdJTEyUn3/+Wbp27WrTbu7cuRIUFCQ7duyQcePGyahRo2TNmjUiIpKTkyOPP/64BAYGyo4dO2T69Ony5ptv2rx/586dIiKydu1aOX36tCxdutT62vr16yU9PV3Wr18vc+fOlTlz5thte15paWny5Zdfyv/+9z9JTEyUlJQU6devX77vyW8bAAAAALgX04UBAAAAMCUsLEzq1asnGzZskIYNG8qGDRvktddek5EjR8rly5flt99+k9TUVOvdHBMnTpQ2bdrIW2+9JSIi1atXl4MHD8r48eOlV69e1vW2bt1aBg0aZP397bfflg4dOsiQIUOs79u2bZskJiYa7uu0adOkQYMGkpCQYF02a9YsKV++vKSmpkr16tVFRKRu3boyfPhwERGpVq2aTJkyRdatWyft2rWT1atXS3p6umzYsEHKli0rIiLvvvuutGvXzrrOMmXKiIhIqVKlrG0swsPDZcqUKeLl5SU1a9aUjh07yrp166x36zjyxx9/yNy5cyUmJkZERCZPniwdO3aUCRMm2K3fIr9tAAAAAOBe3MkCAAAAwLSWLVvKhg0bRFVl8+bN0rlzZ4mNjZUtW7bI+vXrJTIyUmrWrCkiIocOHZJmzZrZvL9Zs2Zy9OhRuXnzpnVZo0aNbNocOnRI4uLibJbl/b0gSUlJsn79egkODrb+WPqVnp5ubVe3bl2b90VFRcnZs2dFROTIkSNSvnx5m+LGAw88YLgPderUES8vL4frdqZChQrWAovIre3OycmRI0eOOH1PftsAAAAAwL24kwUAAACAaS1btpSZM2fKnj17xNPTU2rXri3x8fGyceNGuXDhgnWqMBERVRUPDw+b96uq3TqDgoIKbOOqnJwceeyxx2Ts2LF2r0VFRVn/7ePjY/Oah4eH9ZkzjvrvivzWbZTl8/Prhzs+BwAAAIAxFFkAAAAAmGZ5LsukSZMkPj5ePDw8JD4+XsaMGSMXLlyQgQMHWtvWrl1btmzZYvP+bdu2SfXq1W3u8Mirdu3a8v3339ssy/t7QRo0aCBLliyRSpUqibe3uTSoZs2acvz4cfn5558lMjJSRER27dpl08bX11dExObOnNtx/Phx+emnnyQ6OlpERLZv3y6enp7W6c0AAAAAFC2mCwMAAABgmuW5LJ9//rn12SstWrSQ3bt32zyPRUTkjTfekHXr1sno0aMlNTVV5s6dK1OmTLF5/oojAwYMkMTERBk3bpykpqbKlClTXHoei4hIv3795Pz589KtWzfZuXOnZGRkyOrVq+X55583XBBp166dVK1aVZ599lnZu3evbN261frge8udJRERERIQECCJiYny888/S1ZWlkv9zMvf31+effZZ2bNnj2zevFkGDBggXbt2dfo8FgAAAAB3FkUWAAAAALelVatWcvPmTWtBJTw8XGrXri1lypSRWrVqWds1aNBAvvzyS1m4cKHExsbK22+/LaNGjbJ56L0jTZo0kU8++UQmT54s9erVk9WrV8uwYcNc6mN0dLRs3bpVbt68KR06dJDY2FgZOHCghIWFiaensbTIy8tLvvrqK7ly5Yrcf//98uKLL1r74e/vLyIi3t7e8tFHH8nHH38s0dHR0rlzZ5f6mdc999wjXbp0kUceeUTat28vsbGxMnXq1NtaJwAAAAD38VB3THAMAAAAAH9BW7dulebNm0taWppUrVq1qLsDAAAA4A6jyAIAAAAABi1btkyCg4OlWrVqkpaWJgMHDpTw8HC7Z80AAAAA+GvgwfcAAAAAYNDly5dl8ODBcuLECSldurS0bdtWJkyYUNTdAgAAAFBEuJMFAAAAAAAAAADABB58DwAAAAAAAAAAYAJFFgAAAAAAAAAAABMosgAAAAAAAAAAAJhAkQUAAAAAAAAAAMAEiiwAAAAAAAAAAAAmUGQBAAAAAAAAAAAwgSILAAAAAAAAAACACRRZAAAAAAAAAAAATPj/AKO9N9EOR6WPAAAAAElFTkSuQmCC\n",
      "text/plain": [
       "<Figure size 2000x3000 with 6 Axes>"
      ]
     },
     "metadata": {},
     "output_type": "display_data"
    }
   ],
   "source": [
    "# YOUR CODE HERE\n",
    "\n",
    "import os\n",
    "import matplotlib.pyplot as plt\n",
    "\n",
    "# to draw 6 histograms, create 6 axes\n",
    "fig,ax=plt.subplots(6,1,figsize=(20,30))\n",
    "\n",
    "# assign variables for source folder path \n",
    "source_dir = \"./textfiles/\"\n",
    "# assign names of files of source directory\n",
    "files = os.listdir(source_dir)\n",
    "\n",
    "idx = 0\n",
    "cnt = 0\n",
    "# iterate all files in the directory \"./textfiles/\"\n",
    "for f in files:\n",
    "    # assing full name of file to f1\n",
    "    f1 = source_dir+f\n",
    "\n",
    "    # assign the return value of MoreFileStats() to ax1 (file:textfiles/The_Call_of_The_Wild.txt, wpm=15, N=15bins)\n",
    "    # the return value is the bins of Morse Code word lengths and counts for each bin\n",
    "    # create a list for histogram which has bins corresponding to counts\n",
    "    # e.g. if return value ax1 is ([2,1...],['(0.391, 1.029]','(1.029, 1.659]',....]),\n",
    "    # then add ['(0.391, 1.029]','(0.391, 1.029]','(1.029, 1.659]',....] to list (hist1)\n",
    "    ax1 = MorseFileStats(f1, 15, 15)\n",
    "    hist1 = list()\n",
    "    for i in range(len(ax1[0])):\n",
    "        for j in range(ax1[0][i]):\n",
    "            hist1.append(ax1[1][i])\n",
    "    \n",
    "    # do same logic above for wpm=20\n",
    "    ax2 = MorseFileStats(f1, 20, 15)\n",
    "    hist2 = list()\n",
    "    for i in range(len(ax2[0])):\n",
    "        for j in range(ax2[0][i]):\n",
    "            hist2.append(ax2[1][i])\n",
    "    \n",
    "    # do same logic above for wpm=25\n",
    "    ax3 = MorseFileStats(f1, 25, 15)\n",
    "    hist3 = list()\n",
    "    for i in range(len(ax3[0])):\n",
    "        for j in range(ax3[0][i]):\n",
    "            hist3.append(ax3[1][i])\n",
    "               \n",
    "    # if file is changed, then add 1 to idx (not to draw redundant ax)\n",
    "    if cnt >= 1:\n",
    "        idx += 1\n",
    "    # plot each histogram to each ax\n",
    "    ax[idx].hist(hist1,bins=15);\n",
    "    ax[idx].set_title(f1+\"  ,wpm=15\");\n",
    "    ax[idx].set_xlabel('word length bin');\n",
    "    ax[idx].set_ylabel('count');\n",
    "    idx += 1\n",
    "    ax[idx].hist(hist2,bins=15);\n",
    "    ax[idx].set_title(f1+\"  ,wpm=20\");\n",
    "    ax[idx].set_xlabel('word length bin');\n",
    "    ax[idx].set_ylabel('count');\n",
    "    idx += 1\n",
    "    ax[idx].hist(hist3,bins=15);\n",
    "    ax[idx].set_title(f1+\"  ,wpm=25\");\n",
    "    ax[idx].set_xlabel('word length bin');\n",
    "    ax[idx].set_ylabel('count');\n",
    "    \n",
    "    # the flag if file is changed or not\n",
    "    cnt += 1\n",
    "    \n",
    "#raise NotImplementedError()"
   ]
  },
  {
   "cell_type": "code",
   "execution_count": null,
   "metadata": {},
   "outputs": [],
   "source": []
  }
 ],
 "metadata": {
  "kernelspec": {
   "display_name": "Python 3 (ipykernel)",
   "language": "python",
   "name": "python3"
  },
  "language_info": {
   "codemirror_mode": {
    "name": "ipython",
    "version": 3
   },
   "file_extension": ".py",
   "mimetype": "text/x-python",
   "name": "python",
   "nbconvert_exporter": "python",
   "pygments_lexer": "ipython3",
   "version": "3.9.13"
  }
 },
 "nbformat": 4,
 "nbformat_minor": 2
}
